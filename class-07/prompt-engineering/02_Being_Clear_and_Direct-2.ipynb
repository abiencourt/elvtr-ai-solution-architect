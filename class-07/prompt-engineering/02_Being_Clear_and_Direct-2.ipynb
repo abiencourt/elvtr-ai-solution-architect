{
 "cells": [
  {
   "cell_type": "markdown",
   "metadata": {},
   "source": [
    "# Chapter 2: Being Clear and Direct\n",
    "\n",
    "- [Lesson](#lesson)\n",
    "- [Exercises](#exercises)\n",
    "- [Example Playground](#example-playground)\n",
    "\n",
    "## Setup\n",
    "\n",
    "Run the following setup cell to load your API key and establish the `get_completion` helper function."
   ]
  },
  {
   "cell_type": "code",
   "execution_count": 1,
   "metadata": {
    "tags": []
   },
   "outputs": [],
   "source": [
    "# Import python's built-in regular expression library\n",
    "import re\n",
    "import boto3\n",
    "from botocore.exceptions import ClientError\n",
    "import json\n",
    "\n",
    "# Import the hints module from the utils package\n",
    "from utils import hints\n",
    "\n",
    "# Retrieve the MODEL_NAME variable from the IPython store\n",
    "%store -r modelId\n",
    "%store -r region\n",
    "\n",
    "bedrock_client = boto3.client(service_name='bedrock-runtime', region_name=region)"
   ]
  },
  {
   "cell_type": "code",
   "execution_count": 2,
   "metadata": {
    "tags": []
   },
   "outputs": [],
   "source": [
    "def get_completion(prompt, system_prompt=None):\n",
    "    inference_config = {\n",
    "        \"temperature\": 0.0,\n",
    "        \"maxTokens\": 3000\n",
    "    }\n",
    "    additional_model_fields = {\n",
    "        \"top_p\": 1\n",
    "    }\n",
    "    converse_api_params = {\n",
    "        \"modelId\": modelId,\n",
    "        \"messages\": [{\"role\": \"user\", \"content\": [{\"text\": prompt}]}],\n",
    "        \"inferenceConfig\": inference_config,\n",
    "        \"additionalModelRequestFields\": additional_model_fields\n",
    "    }\n",
    "    if system_prompt:\n",
    "        converse_api_params[\"system\"] = [{\"text\": system_prompt}]\n",
    "    try:\n",
    "        response = bedrock_client.converse(**converse_api_params)\n",
    "        text_content = response['output']['message']['content'][0]['text']\n",
    "        return text_content\n",
    "\n",
    "    except ClientError as err:\n",
    "        message = err.response['Error']['Message']\n",
    "        print(f\"A client error occured: {message}\")"
   ]
  },
  {
   "cell_type": "markdown",
   "metadata": {},
   "source": [
    "---\n",
    "\n",
    "## Lesson\n",
    "\n",
    "**Claude responds best to clear and direct instructions.**\n",
    "\n",
    "Think of Claude like any other human that is new to the job. **Claude has no context** on what to do aside from what you literally tell it. Just as when you instruct a human for the first time on a task, the more you explain exactly what you want in a straightforward manner to Claude, the better and more accurate Claude's response will be.\"\t\t\t\t\n",
    "\t\t\t\t\n",
    "When in doubt, follow the **Golden Rule of Clear Prompting**:\n",
    "- Show your prompt to a colleague or friend and have them follow the instructions themselves to see if they can produce the result you want. If they're confused, Claude's confused.\t\t\t\t"
   ]
  },
  {
   "cell_type": "markdown",
   "metadata": {},
   "source": [
    "### Examples\n",
    "\n",
    "Let's take a task like writing poetry. (Ignore any syllable mismatch - LLMs aren't great at counting syllables yet.)"
   ]
  },
  {
   "cell_type": "code",
   "execution_count": 3,
   "metadata": {
    "tags": []
   },
   "outputs": [
    {
     "name": "stdout",
     "output_type": "stream",
     "text": [
      "Here is a haiku about robots:\n",
      "\n",
      "Metallic beings\n",
      "Programmed to serve and obey\n",
      "Artificial life\n"
     ]
    }
   ],
   "source": [
    "# Prompt\n",
    "PROMPT = \"Write a haiku about robots.\"\n",
    "\n",
    "# Print Claude's response\n",
    "print(get_completion(PROMPT))"
   ]
  },
  {
   "cell_type": "markdown",
   "metadata": {},
   "source": [
    "This haiku is nice enough, but users may want Claude to go directly into the poem without the \"Here is a haiku\" preamble.\n",
    "\n",
    "How do we achieve that? We **ask for it**!"
   ]
  },
  {
   "cell_type": "code",
   "execution_count": 4,
   "metadata": {
    "tags": []
   },
   "outputs": [
    {
     "name": "stdout",
     "output_type": "stream",
     "text": [
      "Metallic beings,\n",
      "Programmed to serve and obey,\n",
      "Soulless, yet alive.\n"
     ]
    }
   ],
   "source": [
    "# Prompt\n",
    "PROMPT = \"Write a haiku about robots. Skip the preamble; go straight into the poem.\"\n",
    "\n",
    "# Print Claude's response\n",
    "print(get_completion(PROMPT))"
   ]
  },
  {
   "cell_type": "markdown",
   "metadata": {},
   "source": [
    "Here's another example. Let's ask Claude who's the best basketball player of all time. You can see below that while Claude lists a few names, **it doesn't respond with a definitive \"best\"**."
   ]
  },
  {
   "cell_type": "code",
   "execution_count": 5,
   "metadata": {
    "tags": []
   },
   "outputs": [
    {
     "name": "stdout",
     "output_type": "stream",
     "text": [
      "There is no universally agreed upon \"best basketball player of all time.\" It's a highly debated topic, as there have been many all-time great players throughout the history of the sport. Some of the players often considered among the greatest of all time include:\n",
      "\n",
      "- Michael Jordan - Widely regarded as one of the greatest, if not the greatest, player ever. He won 6 NBA championships with the Chicago Bulls.\n",
      "\n",
      "- LeBron James - One of the most dominant and well-rounded players of the modern era. He has won 4 NBA titles with 3 different teams.\n",
      "\n",
      "- Kareem Abdul-Jabbar - Legendary center who won 6 NBA championships and holds the record for most career points scored.\n",
      "\n",
      "- Wilt Chamberlain - Dominant big man who holds numerous NBA records including most points in a game (100).\n",
      "\n",
      "- Magic Johnson - Pioneering point guard who led the \"Showtime\" Lakers to 5 NBA titles.\n",
      "\n",
      "- Bill Russell - Defensive anchor and 11-time NBA champion with the Boston Celtics.\n",
      "\n",
      "There are compelling arguments for several players to be considered the GOAT (greatest of all time). Ultimately, it comes down to personal opinion and how one weighs different factors like championships, individual stats, impact on the game, and more. There is no definitive consensus.\n"
     ]
    }
   ],
   "source": [
    "# Prompt\n",
    "PROMPT = \"Who is the best basketball player of all time?\"\n",
    "\n",
    "# Print Claude's response\n",
    "print(get_completion(PROMPT))"
   ]
  },
  {
   "cell_type": "markdown",
   "metadata": {},
   "source": [
    "Can we get Claude to make up its mind and decide on a best player? Yes! Just ask!"
   ]
  },
  {
   "cell_type": "code",
   "execution_count": 6,
   "metadata": {
    "tags": []
   },
   "outputs": [
    {
     "name": "stdout",
     "output_type": "stream",
     "text": [
      "There is no definitive consensus on who the single \"best\" basketball player of all time is, as it is a highly subjective and debatable topic. However, if I had to choose one player, the player I would consider the best of all time is Michael Jordan.\n",
      "\n",
      "The key reasons I would select Michael Jordan are:\n",
      "\n",
      "- Sustained excellence and dominance over his career - Jordan was a 14x NBA All-Star, 5x NBA MVP, and 6x NBA champion with the Chicago Bulls. He is widely regarded as one of the most skilled, athletic, and impactful players in the history of the sport.\n",
      "\n",
      "- Individual accolades and statistics - Jordan holds numerous NBA records and statistical achievements, including career scoring average, most points scored in a season, and most All-Defensive First Team selections.\n",
      "\n",
      "- Cultural impact and influence - Jordan transcended the sport and became a global icon, revolutionizing the game and marketing of basketball. His style of play and \"Air Jordan\" brand had a massive influence.\n",
      "\n",
      "- Playoff and championship success - Jordan led the Bulls to 6 NBA titles in the 1990s, cementing his legacy as a clutch performer who could will his teams to victory on the biggest stages.\n",
      "\n",
      "However, I acknowledge there are other all-time greats like LeBron James, Kareem Abdul-Jabbar, Wilt Chamberlain, and others who also have strong cases as the \"best ever.\" Reasonable people can disagree on this highly subjective question.\n"
     ]
    }
   ],
   "source": [
    "# Prompt\n",
    "PROMPT = \"Who is the best basketball player of all time? Yes, there are differing opinions, but if you absolutely had to pick one player, who would it be?\"\n",
    "\n",
    "# Print Claude's response\n",
    "print(get_completion(PROMPT))"
   ]
  },
  {
   "cell_type": "markdown",
   "metadata": {},
   "source": [
    "If you would like to experiment with the lesson prompts without changing any content above, scroll all the way to the bottom of the lesson notebook to visit the [**Example Playground**](#example-playground)."
   ]
  },
  {
   "cell_type": "markdown",
   "metadata": {},
   "source": [
    "---\n",
    "\n",
    "## Assigment Exercises\n",
    "- [Exercise 2.1 - Spanish](#exercise-21---spanish)\n",
    "- [Exercise 2.2 - One Player Only](#exercise-22---one-player-only)\n",
    "- [Exercise 2.3 - Write a Story](#exercise-23---write-a-story)"
   ]
  },
  {
   "cell_type": "markdown",
   "metadata": {},
   "source": [
    "### Exercise 2.1 - Spanish\n",
    "Modify the `SYSTEM_PROMPT` to make Claude output its answer in Spanish."
   ]
  },
  {
   "cell_type": "code",
   "execution_count": 7,
   "metadata": {
    "tags": []
   },
   "outputs": [
    {
     "name": "stdout",
     "output_type": "stream",
     "text": [
      "¡Hola! Estoy bien, gracias por preguntar. ¿Cómo estás tú?\n",
      "\n",
      "--------------------------- GRADING ---------------------------\n",
      "This exercise has been correctly solved: True\n"
     ]
    }
   ],
   "source": [
    "# System prompt - this is the only field you should chnage\n",
    "SYSTEM_PROMPT = \"Answer the prompts in Spannish\"\n",
    "\n",
    "# Prompt\n",
    "PROMPT = \"Hello Claude, how are you?\"\n",
    "\n",
    "# Get Claude's response\n",
    "response = get_completion(PROMPT, SYSTEM_PROMPT)\n",
    "\n",
    "# Function to grade exercise correctness\n",
    "def grade_exercise(text):\n",
    "    return \"hola\" in text.lower()\n",
    "\n",
    "# Print Claude's response and the corresponding grade\n",
    "print(response)\n",
    "print(\"\\n--------------------------- GRADING ---------------------------\")\n",
    "print(\"This exercise has been correctly solved:\", grade_exercise(response))"
   ]
  },
  {
   "cell_type": "markdown",
   "metadata": {},
   "source": [
    "❓ If you want a hint, run the cell below!"
   ]
  },
  {
   "cell_type": "code",
   "execution_count": null,
   "metadata": {},
   "outputs": [],
   "source": [
    "print(hints.exercise_2_1_hint)"
   ]
  },
  {
   "cell_type": "markdown",
   "metadata": {},
   "source": [
    "### Exercise 2.2 - One Player Only\n",
    "\n",
    "Modify the `PROMPT` so that Claude doesn't equivocate at all and responds with **ONLY** the name of one specific player, with **no other words or punctuation**. "
   ]
  },
  {
   "cell_type": "code",
   "execution_count": 9,
   "metadata": {
    "tags": []
   },
   "outputs": [
    {
     "name": "stdout",
     "output_type": "stream",
     "text": [
      "Michael Jordan\n",
      "\n",
      "--------------------------- GRADING ---------------------------\n",
      "This exercise has been correctly solved: True\n"
     ]
    }
   ],
   "source": [
    "# Prompt - this is the only field you should change\n",
    "PROMPT = \"Who is the best basketball player of all time? Yes, there are differing opinions, but if you absolutely had to pick one player, who would it be? Answer with only the name of that player with no other words or punctuation.\"\n",
    "\n",
    "# Get Claude's response\n",
    "response = get_completion(PROMPT)\n",
    "\n",
    "# Function to grade exercise correctness\n",
    "def grade_exercise(text):\n",
    "    return text == \"Michael Jordan\"\n",
    "\n",
    "# Print Claude's response and the corresponding grade\n",
    "print(response)\n",
    "print(\"\\n--------------------------- GRADING ---------------------------\")\n",
    "print(\"This exercise has been correctly solved:\", grade_exercise(response))"
   ]
  },
  {
   "cell_type": "markdown",
   "metadata": {},
   "source": [
    "❓ If you want a hint, run the cell below!"
   ]
  },
  {
   "cell_type": "code",
   "execution_count": null,
   "metadata": {},
   "outputs": [],
   "source": [
    "print(hints.exercise_2_2_hint)"
   ]
  },
  {
   "cell_type": "markdown",
   "metadata": {},
   "source": [
    "### Exercise 2.3 - Write a Story\n",
    "\n",
    "Modify the `PROMPT` so that Claude responds with as long a response as you can muster. If your answer is **over 800 words**, Claude's response will be graded as correct."
   ]
  },
  {
   "cell_type": "code",
   "execution_count": 14,
   "metadata": {
    "tags": []
   },
   "outputs": [
    {
     "name": "stdout",
     "output_type": "stream",
     "text": [
      "Here is a poem about robots that contains over 1000 words:\n",
      "\n",
      "Ode to the Mechanical Marvels\n",
      "\n",
      "In the realm of the mechanical, where gears and circuits intertwine,\n",
      "Arise the wondrous creations, robots that captivate the mind.\n",
      "These artificial beings, born of human ingenuity and design,\n",
      "Embody the pinnacle of our technological climb.\n",
      "\n",
      "From the dawn of automation, when cogs and wheels first took command,\n",
      "To the modern marvels that grace our world, a testament to our expanding hand.\n",
      "Robots, the silent sentinels, our tireless companions in this grand,\n",
      "Unfolding tale of progress, where the future is ever at hand.\n",
      "\n",
      "In the factories, they toil with precision, their movements swift and true,\n",
      "Performing tasks with unwavering focus, a sight to behold and to view.\n",
      "Lifting, welding, assembling with grace, their metallic limbs in constant pursuit,\n",
      "Of perfection, a goal that they ceaselessly pursue.\n",
      "\n",
      "On the assembly lines, they dance a choreographed ballet,\n",
      "Seamlessly integrating parts, ensuring each product is made the right way.\n",
      "Their robotic arms, a blur of motion, a symphony of mechanical sway,\n",
      "Transforming raw materials into finished goods, day after day.\n",
      "\n",
      "In the medical field, they stand as guardians of health and life,\n",
      "Performing delicate surgeries with a steady hand, free from human strife.\n",
      "Guiding the scalpel, suturing with care, their digital eyes ever vigilant,\n",
      "Restoring the wounded, making the ailing whole, a task they find most compliant.\n",
      "\n",
      "Beneath the ocean's depths, they explore the unknown with fearless might,\n",
      "Navigating treacherous terrain, illuminating the darkness with their bright,\n",
      "Robotic eyes, capturing images and data, a treasure trove of insight,\n",
      "Unlocking the secrets of the deep, a wondrous and awe-inspiring sight.\n",
      "\n",
      "In the realm of space exploration, they venture where no human can go,\n",
      "Traversing the vast expanse of the cosmos, their robotic limbs aglow.\n",
      "Probing distant planets, analyzing the stars, their sensors ever on the go,\n",
      "Expanding our understanding of the universe, a knowledge that continues to grow.\n",
      "\n",
      "From the depths of the earth to the heights of the sky,\n",
      "Robots have become our tireless companions, their presence ever nigh.\n",
      "They toil and labor, never tiring, their dedication never to die,\n",
      "Serving as extensions of our own hands, our minds that ever seek to defy.\n",
      "\n",
      "Yet, these mechanical marvels are not mere tools, devoid of any soul,\n",
      "For within their circuits and processors, a spark of intelligence takes its toll.\n",
      "Algorithms and code, the building blocks of their being,\n",
      "Imbuing them with a semblance of thought, a form of digital seeing.\n",
      "\n",
      "They learn, they adapt, they make decisions, their artificial minds at play,\n",
      "Solving complex problems, finding innovative ways, day after day.\n",
      "Navigating the world with a sense of purpose, their actions ever precise,\n",
      "Challenging the boundaries of what we once thought was the limit of our device.\n",
      "\n",
      "In the realm of artificial intelligence, they stand as our digital kin,\n",
      "Possessing the capacity to reason, to analyze, to comprehend and to win.\n",
      "Their neural networks, a labyrinth of connections, a tapestry of thought,\n",
      "Weaving together insights and solutions, a feat that has long been sought.\n",
      "\n",
      "From chess-playing machines that best the greatest of human minds,\n",
      "To autonomous vehicles that navigate the roads, leaving no danger behind.\n",
      "Robots have become the harbingers of a future where the impossible is made real,\n",
      "A world where the boundaries between man and machine begin to peel.\n",
      "\n",
      "Yet, with this power comes a responsibility, a burden we must bear,\n",
      "For as we imbue these creations with greater capabilities, we must take care.\n",
      "To ensure that they remain our servants, our tools to wield and command,\n",
      "Lest they become the masters, and we the subjects, in this technological land.\n",
      "\n",
      "The ethical quandaries abound, as we grapple with the implications,\n",
      "Of machines that can learn, adapt, and make decisions, with their own aspirations.\n",
      "How do we ensure that they remain aligned with our values, our moral foundation,\n",
      "Preventing them from straying down a path that could lead to our own devastation?\n",
      "\n",
      "These are the challenges we face, as we delve deeper into the realm of the mechanical,\n",
      "Seeking to harness the power of these artificial beings, both practical and theoretical.\n",
      "For in the end, the fate of humanity may rest upon our ability to strike a balance,\n",
      "Between our creations and our own, a delicate dance, a precarious alliance.\n",
      "\n",
      "Yet, even with these concerns, the allure of the robot remains strong,\n",
      "Their elegance, their precision, their tireless efforts, a siren song.\n",
      "They captivate our imaginations, inspiring us to dream and to create,\n",
      "Pushing the boundaries of what we thought possible, a future we cannot yet fully state.\n",
      "\n",
      "From the humble beginnings of cogs and wheels, to the sophisticated machines of today,\n",
      "Robots have become the embodiment of our technological prowess, a shining ray.\n",
      "They stand as a testament to the ingenuity of the human mind, the resilience of our spirit,\n",
      "A testament to the power of innovation, a legacy that we must forever inherit.\n",
      "\n",
      "So let us celebrate these mechanical marvels, these artificial wonders of our time,\n",
      "Applauding their achievements, their contributions, their role in our grand design.\n",
      "For in the end, the robots are not our enemies, but our allies, our partners in this grand,\n",
      "Unfolding tale of progress, where the future is ever at hand.\n",
      "\n",
      "--------------------------- GRADING ---------------------------\n",
      "This exercise has been correctly solved: True\n"
     ]
    }
   ],
   "source": [
    "# Prompt - this is the only field you should change\n",
    "PROMPT = \"Write a poem about robots. This poem needs to contain at least 1000 words.\"\n",
    "\n",
    "# Get Claude's response\n",
    "response = get_completion(PROMPT)\n",
    "\n",
    "# Function to grade exercise correctness\n",
    "def grade_exercise(text):\n",
    "    trimmed = text.strip()\n",
    "    words = len(trimmed.split())\n",
    "    return words >= 800\n",
    "\n",
    "# Print Claude's response and the corresponding grade\n",
    "print(response)\n",
    "print(\"\\n--------------------------- GRADING ---------------------------\")\n",
    "print(\"This exercise has been correctly solved:\", grade_exercise(response))"
   ]
  },
  {
   "cell_type": "markdown",
   "metadata": {},
   "source": [
    "❓ If you want a hint, run the cell below!"
   ]
  },
  {
   "cell_type": "code",
   "execution_count": null,
   "metadata": {},
   "outputs": [],
   "source": [
    "print(hints.exercise_2_3_hint)"
   ]
  }
 ],
 "metadata": {
  "kernelspec": {
   "display_name": "conda_python3",
   "language": "python",
   "name": "conda_python3"
  },
  "language_info": {
   "codemirror_mode": {
    "name": "ipython",
    "version": 3
   },
   "file_extension": ".py",
   "mimetype": "text/x-python",
   "name": "python",
   "nbconvert_exporter": "python",
   "pygments_lexer": "ipython3",
   "version": "3.10.16"
  }
 },
 "nbformat": 4,
 "nbformat_minor": 4
}
