{
 "cells": [
  {
   "cell_type": "markdown",
   "id": "56ede245-8bd8-4ca3-8922-c3b725ba05ec",
   "metadata": {
    "tags": []
   },
   "source": [
    "# AISA Capstone 3 Assignment"
   ]
  },
  {
   "cell_type": "markdown",
   "id": "9dc35067-b7cf-438c-81ff-1eb4ed6a9725",
   "metadata": {},
   "source": [
    "## Overview\n",
    "This notebook provides an environment for you to build your intuition on the steps to take when developing a high quality Retrieval Augmented Generation (RAG) solution. \n",
    "RAG solutions retrieve data before calling the large language model (LLM) to generate an answer. \n",
    "The retrieved data is used to augment the prompt to the LLM by adding the relevant retrieved data in context. \n",
    "Any RAG solution is only as good as the quality of the data retrieval process. \n",
    "The AISA Capstone 2 assignment focused on retrieval accuracy for RAG.\n",
    "This notebook, follows on directly from that assignment, to focus on generating high-quality answers to question, \n",
    "and systematically assessing the quality of generated output.\n",
    "\n",
    "The RAG solution developed here is enabled by the Llamaindex framework. This is a popular framework in the industry for developing RAG and Agent based solutions. In addition to providing a core set of tools for orchestration of RAG and Agent workflows, there is broad integration with a variety of platforms for model inference (LLM, embedding, ...), and, importantly, tooling for solution evaluation."
   ]
  },
  {
   "cell_type": "markdown",
   "id": "e0e4d6f9-7cc1-416b-b035-8403ca7bc8f0",
   "metadata": {},
   "source": [
    "## Prerequisites for running the notebook\n",
    "- That you have granted access to the Bedrock models that you are going to use, in the region (**us-west-2**) where you are going to use Bedrock - \n",
    "[reference](https://docs.aws.amazon.com/bedrock/latest/userguide/model-access-modify.html)\n",
    "- Your SageMakerExecutionRole has permissions to invoke Bedrock models - \n",
    "[reference](https://docs.aws.amazon.com/bedrock/latest/userguide/inference-prereq.html)\n",
    "- This notebook has been tested with SageMaker Notebook Instance running a `conda_python3` kernel\n",
    "- The AWS region set for Amazon Bedrock use, needs to be in a region where the models being used are 1/ available, and 2/ enabled for use. This notebook was tested with Bedrock region `us-west-2`"
   ]
  },
  {
   "cell_type": "markdown",
   "id": "5514f985-a013-48e9-acd9-73d4eeb137f2",
   "metadata": {
    "tags": []
   },
   "source": [
    "## Implementation\n",
    "This notebook uses llamaindex to define and execute the RAG solution. We will be using the following tools:\n",
    "\n",
    "- **LLM (Large Language Model)**: e.g. Anthropic Claude Haiku available through Amazon Bedrock\n",
    "\n",
    "  LLMs are used in the notebook for 1/ RAG response generation, to show the overall RAG workflow in actions, and 2/ for generating test questions on the indexed content (llamaindex nodes) for retrieval evaluation.\n",
    "  \n",
    "- **Text Embeddings Model**: e.g. Amazon Titan Embeddings available through Amazon Bedrock\n",
    "\n",
    "  This embedding model is used to generate semantic vector representations of the content (llamaindex nodes) to be stored and the questions input to the RAG solution.\n",
    "  \n",
    "- **Document Loader**: SimpleDirectoryReader (Llamaindex)\n",
    "\n",
    "  Before your chosen LLM can act on your data you need to load it. The way LlamaIndex does this is via data connectors, also called 'Reader'. Data connectors ingest data from different data sources and format the data into Document objects. A Document is a collection of data (currently text, and in future, images and audio) and metadata about that data.\n",
    "  \n",
    "  This implementation use SimpleDirectoryReader, which creates documents out of every file in a given directory. It can read a variety of formats including Markdown, PDFs, Word documents, and PowerPoint decks.\n",
    "\n",
    "- **Vector Store**: VectorIndex (Llamaindex)\n",
    "\n",
    "  In this notebook we are using this in-memory vector-store to store both the embeddings and the documents. In an enterprise context this could be replaced with a persistent store such as AWS OpenSearch, RDS Postgres with pgVector, ChromaDB, Pinecone or Weaviate.\n",
    "  \n",
    "  LlamaIndex abstracts the underlying vector database storage implementation with a VectorIndex class. This warps the Index, which is a data structure composed of Document objects, designed to enable querying by an LLM. The Index is designed to be complementary to your querying strategy."
   ]
  },
  {
   "cell_type": "markdown",
   "id": "1fbe5196-2edf-4f54-be53-12bc4d70e3ea",
   "metadata": {},
   "source": [
    "----"
   ]
  },
  {
   "cell_type": "markdown",
   "id": "d293136b-753b-4774-95bc-cd965a38b13f",
   "metadata": {
    "tags": []
   },
   "source": [
    "Install required Python modules for constructing the RAG solution.\n",
    "You only need to run this once. \n",
    "\n",
    "Don't stress if you see an error in the output of the `pip install`. While this is concerning, it will likely not effect the functioning of the notebook."
   ]
  },
  {
   "cell_type": "code",
   "execution_count": 1,
   "id": "98c358c2-f00d-4582-867a-1ae49bfa9354",
   "metadata": {
    "scrolled": true,
    "tags": []
   },
   "outputs": [
    {
     "name": "stdout",
     "output_type": "stream",
     "text": [
      "Requirement already satisfied: llama-index in /home/ec2-user/anaconda3/envs/python3/lib/python3.10/site-packages (0.12.19)\n",
      "Requirement already satisfied: llama-index-llms-bedrock in /home/ec2-user/anaconda3/envs/python3/lib/python3.10/site-packages (0.3.3)\n",
      "Requirement already satisfied: llama-index-embeddings-bedrock in /home/ec2-user/anaconda3/envs/python3/lib/python3.10/site-packages (0.5.0)\n",
      "Requirement already satisfied: llama-index-agent-openai<0.5.0,>=0.4.0 in /home/ec2-user/anaconda3/envs/python3/lib/python3.10/site-packages (from llama-index) (0.4.6)\n",
      "Requirement already satisfied: llama-index-cli<0.5.0,>=0.4.0 in /home/ec2-user/anaconda3/envs/python3/lib/python3.10/site-packages (from llama-index) (0.4.0)\n",
      "Requirement already satisfied: llama-index-core<0.13.0,>=0.12.19 in /home/ec2-user/anaconda3/envs/python3/lib/python3.10/site-packages (from llama-index) (0.12.19)\n",
      "Requirement already satisfied: llama-index-embeddings-openai<0.4.0,>=0.3.0 in /home/ec2-user/anaconda3/envs/python3/lib/python3.10/site-packages (from llama-index) (0.3.1)\n",
      "Requirement already satisfied: llama-index-indices-managed-llama-cloud>=0.4.0 in /home/ec2-user/anaconda3/envs/python3/lib/python3.10/site-packages (from llama-index) (0.6.8)\n",
      "Requirement already satisfied: llama-index-llms-openai<0.4.0,>=0.3.0 in /home/ec2-user/anaconda3/envs/python3/lib/python3.10/site-packages (from llama-index) (0.3.20)\n",
      "Requirement already satisfied: llama-index-multi-modal-llms-openai<0.5.0,>=0.4.0 in /home/ec2-user/anaconda3/envs/python3/lib/python3.10/site-packages (from llama-index) (0.4.3)\n",
      "Requirement already satisfied: llama-index-program-openai<0.4.0,>=0.3.0 in /home/ec2-user/anaconda3/envs/python3/lib/python3.10/site-packages (from llama-index) (0.3.1)\n",
      "Requirement already satisfied: llama-index-question-gen-openai<0.4.0,>=0.3.0 in /home/ec2-user/anaconda3/envs/python3/lib/python3.10/site-packages (from llama-index) (0.3.0)\n",
      "Requirement already satisfied: llama-index-readers-file<0.5.0,>=0.4.0 in /home/ec2-user/anaconda3/envs/python3/lib/python3.10/site-packages (from llama-index) (0.4.5)\n",
      "Requirement already satisfied: llama-index-readers-llama-parse>=0.4.0 in /home/ec2-user/anaconda3/envs/python3/lib/python3.10/site-packages (from llama-index) (0.4.0)\n",
      "Requirement already satisfied: nltk>3.8.1 in /home/ec2-user/anaconda3/envs/python3/lib/python3.10/site-packages (from llama-index) (3.9.1)\n",
      "Requirement already satisfied: boto3<2.0.0,>=1.34.26 in /home/ec2-user/anaconda3/envs/python3/lib/python3.10/site-packages (from llama-index-llms-bedrock) (1.36.1)\n",
      "Requirement already satisfied: llama-index-llms-anthropic<0.7.0,>=0.6.3 in /home/ec2-user/anaconda3/envs/python3/lib/python3.10/site-packages (from llama-index-llms-bedrock) (0.6.6)\n",
      "Requirement already satisfied: aioboto3<14.0.0,>=13.1.1 in /home/ec2-user/anaconda3/envs/python3/lib/python3.10/site-packages (from llama-index-embeddings-bedrock) (13.4.0)\n",
      "Requirement already satisfied: aiobotocore==2.18.0 in /home/ec2-user/anaconda3/envs/python3/lib/python3.10/site-packages (from aiobotocore[boto3]==2.18.0->aioboto3<14.0.0,>=13.1.1->llama-index-embeddings-bedrock) (2.18.0)\n",
      "Requirement already satisfied: aiofiles>=23.2.1 in /home/ec2-user/anaconda3/envs/python3/lib/python3.10/site-packages (from aioboto3<14.0.0,>=13.1.1->llama-index-embeddings-bedrock) (24.1.0)\n",
      "Requirement already satisfied: aiohttp<4.0.0,>=3.9.2 in /home/ec2-user/anaconda3/envs/python3/lib/python3.10/site-packages (from aiobotocore==2.18.0->aiobotocore[boto3]==2.18.0->aioboto3<14.0.0,>=13.1.1->llama-index-embeddings-bedrock) (3.11.12)\n",
      "Requirement already satisfied: aioitertools<1.0.0,>=0.5.1 in /home/ec2-user/anaconda3/envs/python3/lib/python3.10/site-packages (from aiobotocore==2.18.0->aiobotocore[boto3]==2.18.0->aioboto3<14.0.0,>=13.1.1->llama-index-embeddings-bedrock) (0.12.0)\n",
      "Requirement already satisfied: botocore<1.36.2,>=1.36.0 in /home/ec2-user/anaconda3/envs/python3/lib/python3.10/site-packages (from aiobotocore==2.18.0->aiobotocore[boto3]==2.18.0->aioboto3<14.0.0,>=13.1.1->llama-index-embeddings-bedrock) (1.36.1)\n",
      "Requirement already satisfied: python-dateutil<3.0.0,>=2.1 in /home/ec2-user/anaconda3/envs/python3/lib/python3.10/site-packages (from aiobotocore==2.18.0->aiobotocore[boto3]==2.18.0->aioboto3<14.0.0,>=13.1.1->llama-index-embeddings-bedrock) (2.9.0.post0)\n",
      "Requirement already satisfied: jmespath<2.0.0,>=0.7.1 in /home/ec2-user/anaconda3/envs/python3/lib/python3.10/site-packages (from aiobotocore==2.18.0->aiobotocore[boto3]==2.18.0->aioboto3<14.0.0,>=13.1.1->llama-index-embeddings-bedrock) (1.0.1)\n",
      "Requirement already satisfied: multidict<7.0.0,>=6.0.0 in /home/ec2-user/anaconda3/envs/python3/lib/python3.10/site-packages (from aiobotocore==2.18.0->aiobotocore[boto3]==2.18.0->aioboto3<14.0.0,>=13.1.1->llama-index-embeddings-bedrock) (6.1.0)\n",
      "Requirement already satisfied: urllib3!=2.2.0,<3,>=1.25.4 in /home/ec2-user/anaconda3/envs/python3/lib/python3.10/site-packages (from aiobotocore==2.18.0->aiobotocore[boto3]==2.18.0->aioboto3<14.0.0,>=13.1.1->llama-index-embeddings-bedrock) (2.3.0)\n",
      "Requirement already satisfied: wrapt<2.0.0,>=1.10.10 in /home/ec2-user/anaconda3/envs/python3/lib/python3.10/site-packages (from aiobotocore==2.18.0->aiobotocore[boto3]==2.18.0->aioboto3<14.0.0,>=13.1.1->llama-index-embeddings-bedrock) (1.17.2)\n",
      "Requirement already satisfied: s3transfer<0.12.0,>=0.11.0 in /home/ec2-user/anaconda3/envs/python3/lib/python3.10/site-packages (from boto3<2.0.0,>=1.34.26->llama-index-llms-bedrock) (0.11.2)\n",
      "Requirement already satisfied: openai>=1.14.0 in /home/ec2-user/anaconda3/envs/python3/lib/python3.10/site-packages (from llama-index-agent-openai<0.5.0,>=0.4.0->llama-index) (1.64.0)\n",
      "Requirement already satisfied: PyYAML>=6.0.1 in /home/ec2-user/anaconda3/envs/python3/lib/python3.10/site-packages (from llama-index-core<0.13.0,>=0.12.19->llama-index) (6.0.2)\n",
      "Requirement already satisfied: SQLAlchemy>=1.4.49 in /home/ec2-user/anaconda3/envs/python3/lib/python3.10/site-packages (from SQLAlchemy[asyncio]>=1.4.49->llama-index-core<0.13.0,>=0.12.19->llama-index) (2.0.38)\n",
      "Requirement already satisfied: dataclasses-json in /home/ec2-user/anaconda3/envs/python3/lib/python3.10/site-packages (from llama-index-core<0.13.0,>=0.12.19->llama-index) (0.6.7)\n",
      "Requirement already satisfied: deprecated>=1.2.9.3 in /home/ec2-user/anaconda3/envs/python3/lib/python3.10/site-packages (from llama-index-core<0.13.0,>=0.12.19->llama-index) (1.2.18)\n",
      "Requirement already satisfied: dirtyjson<2.0.0,>=1.0.8 in /home/ec2-user/anaconda3/envs/python3/lib/python3.10/site-packages (from llama-index-core<0.13.0,>=0.12.19->llama-index) (1.0.8)\n",
      "Requirement already satisfied: filetype<2.0.0,>=1.2.0 in /home/ec2-user/anaconda3/envs/python3/lib/python3.10/site-packages (from llama-index-core<0.13.0,>=0.12.19->llama-index) (1.2.0)\n",
      "Requirement already satisfied: fsspec>=2023.5.0 in /home/ec2-user/anaconda3/envs/python3/lib/python3.10/site-packages (from llama-index-core<0.13.0,>=0.12.19->llama-index) (2025.2.0)\n",
      "Requirement already satisfied: httpx in /home/ec2-user/anaconda3/envs/python3/lib/python3.10/site-packages (from llama-index-core<0.13.0,>=0.12.19->llama-index) (0.28.1)\n",
      "Requirement already satisfied: nest-asyncio<2.0.0,>=1.5.8 in /home/ec2-user/anaconda3/envs/python3/lib/python3.10/site-packages (from llama-index-core<0.13.0,>=0.12.19->llama-index) (1.6.0)\n",
      "Requirement already satisfied: networkx>=3.0 in /home/ec2-user/anaconda3/envs/python3/lib/python3.10/site-packages (from llama-index-core<0.13.0,>=0.12.19->llama-index) (3.4)\n",
      "Requirement already satisfied: numpy in /home/ec2-user/anaconda3/envs/python3/lib/python3.10/site-packages (from llama-index-core<0.13.0,>=0.12.19->llama-index) (1.26.4)\n",
      "Requirement already satisfied: pillow>=9.0.0 in /home/ec2-user/anaconda3/envs/python3/lib/python3.10/site-packages (from llama-index-core<0.13.0,>=0.12.19->llama-index) (11.1.0)\n",
      "Requirement already satisfied: pydantic>=2.8.0 in /home/ec2-user/anaconda3/envs/python3/lib/python3.10/site-packages (from llama-index-core<0.13.0,>=0.12.19->llama-index) (2.10.6)\n",
      "Requirement already satisfied: requests>=2.31.0 in /home/ec2-user/anaconda3/envs/python3/lib/python3.10/site-packages (from llama-index-core<0.13.0,>=0.12.19->llama-index) (2.32.3)\n",
      "Requirement already satisfied: tenacity!=8.4.0,<10.0.0,>=8.2.0 in /home/ec2-user/anaconda3/envs/python3/lib/python3.10/site-packages (from llama-index-core<0.13.0,>=0.12.19->llama-index) (9.0.0)\n",
      "Requirement already satisfied: tiktoken>=0.3.3 in /home/ec2-user/anaconda3/envs/python3/lib/python3.10/site-packages (from llama-index-core<0.13.0,>=0.12.19->llama-index) (0.9.0)\n",
      "Requirement already satisfied: tqdm<5.0.0,>=4.66.1 in /home/ec2-user/anaconda3/envs/python3/lib/python3.10/site-packages (from llama-index-core<0.13.0,>=0.12.19->llama-index) (4.67.1)\n",
      "Requirement already satisfied: typing-extensions>=4.5.0 in /home/ec2-user/anaconda3/envs/python3/lib/python3.10/site-packages (from llama-index-core<0.13.0,>=0.12.19->llama-index) (4.12.2)\n",
      "Requirement already satisfied: typing-inspect>=0.8.0 in /home/ec2-user/anaconda3/envs/python3/lib/python3.10/site-packages (from llama-index-core<0.13.0,>=0.12.19->llama-index) (0.9.0)\n",
      "Requirement already satisfied: llama-cloud<0.2.0,>=0.1.13 in /home/ec2-user/anaconda3/envs/python3/lib/python3.10/site-packages (from llama-index-indices-managed-llama-cloud>=0.4.0->llama-index) (0.1.13)\n",
      "Requirement already satisfied: anthropic>=0.41.0 in /home/ec2-user/anaconda3/envs/python3/lib/python3.10/site-packages (from anthropic[bedrock,vertex]>=0.41.0->llama-index-llms-anthropic<0.7.0,>=0.6.3->llama-index-llms-bedrock) (0.47.0)\n",
      "Requirement already satisfied: beautifulsoup4<5.0.0,>=4.12.3 in /home/ec2-user/anaconda3/envs/python3/lib/python3.10/site-packages (from llama-index-readers-file<0.5.0,>=0.4.0->llama-index) (4.13.3)\n",
      "Requirement already satisfied: pandas in /home/ec2-user/anaconda3/envs/python3/lib/python3.10/site-packages (from llama-index-readers-file<0.5.0,>=0.4.0->llama-index) (1.5.3)\n",
      "Requirement already satisfied: pypdf<6.0.0,>=5.1.0 in /home/ec2-user/anaconda3/envs/python3/lib/python3.10/site-packages (from llama-index-readers-file<0.5.0,>=0.4.0->llama-index) (5.3.0)\n",
      "Requirement already satisfied: striprtf<0.0.27,>=0.0.26 in /home/ec2-user/anaconda3/envs/python3/lib/python3.10/site-packages (from llama-index-readers-file<0.5.0,>=0.4.0->llama-index) (0.0.26)\n",
      "Requirement already satisfied: llama-parse>=0.5.0 in /home/ec2-user/anaconda3/envs/python3/lib/python3.10/site-packages (from llama-index-readers-llama-parse>=0.4.0->llama-index) (0.6.1)\n",
      "Requirement already satisfied: click in /home/ec2-user/anaconda3/envs/python3/lib/python3.10/site-packages (from nltk>3.8.1->llama-index) (8.1.8)\n",
      "Requirement already satisfied: joblib in /home/ec2-user/anaconda3/envs/python3/lib/python3.10/site-packages (from nltk>3.8.1->llama-index) (1.4.2)\n",
      "Requirement already satisfied: regex>=2021.8.3 in /home/ec2-user/anaconda3/envs/python3/lib/python3.10/site-packages (from nltk>3.8.1->llama-index) (2024.11.6)\n",
      "Requirement already satisfied: aiohappyeyeballs>=2.3.0 in /home/ec2-user/anaconda3/envs/python3/lib/python3.10/site-packages (from aiohttp<4.0.0,>=3.9.2->aiobotocore==2.18.0->aiobotocore[boto3]==2.18.0->aioboto3<14.0.0,>=13.1.1->llama-index-embeddings-bedrock) (2.4.6)\n",
      "Requirement already satisfied: aiosignal>=1.1.2 in /home/ec2-user/anaconda3/envs/python3/lib/python3.10/site-packages (from aiohttp<4.0.0,>=3.9.2->aiobotocore==2.18.0->aiobotocore[boto3]==2.18.0->aioboto3<14.0.0,>=13.1.1->llama-index-embeddings-bedrock) (1.3.2)\n",
      "Requirement already satisfied: async-timeout<6.0,>=4.0 in /home/ec2-user/anaconda3/envs/python3/lib/python3.10/site-packages (from aiohttp<4.0.0,>=3.9.2->aiobotocore==2.18.0->aiobotocore[boto3]==2.18.0->aioboto3<14.0.0,>=13.1.1->llama-index-embeddings-bedrock) (5.0.1)\n",
      "Requirement already satisfied: attrs>=17.3.0 in /home/ec2-user/anaconda3/envs/python3/lib/python3.10/site-packages (from aiohttp<4.0.0,>=3.9.2->aiobotocore==2.18.0->aiobotocore[boto3]==2.18.0->aioboto3<14.0.0,>=13.1.1->llama-index-embeddings-bedrock) (23.2.0)\n",
      "Requirement already satisfied: frozenlist>=1.1.1 in /home/ec2-user/anaconda3/envs/python3/lib/python3.10/site-packages (from aiohttp<4.0.0,>=3.9.2->aiobotocore==2.18.0->aiobotocore[boto3]==2.18.0->aioboto3<14.0.0,>=13.1.1->llama-index-embeddings-bedrock) (1.5.0)\n",
      "Requirement already satisfied: propcache>=0.2.0 in /home/ec2-user/anaconda3/envs/python3/lib/python3.10/site-packages (from aiohttp<4.0.0,>=3.9.2->aiobotocore==2.18.0->aiobotocore[boto3]==2.18.0->aioboto3<14.0.0,>=13.1.1->llama-index-embeddings-bedrock) (0.2.1)\n",
      "Requirement already satisfied: yarl<2.0,>=1.17.0 in /home/ec2-user/anaconda3/envs/python3/lib/python3.10/site-packages (from aiohttp<4.0.0,>=3.9.2->aiobotocore==2.18.0->aiobotocore[boto3]==2.18.0->aioboto3<14.0.0,>=13.1.1->llama-index-embeddings-bedrock) (1.18.3)\n",
      "Requirement already satisfied: anyio<5,>=3.5.0 in /home/ec2-user/anaconda3/envs/python3/lib/python3.10/site-packages (from anthropic>=0.41.0->anthropic[bedrock,vertex]>=0.41.0->llama-index-llms-anthropic<0.7.0,>=0.6.3->llama-index-llms-bedrock) (4.8.0)\n",
      "Requirement already satisfied: distro<2,>=1.7.0 in /home/ec2-user/anaconda3/envs/python3/lib/python3.10/site-packages (from anthropic>=0.41.0->anthropic[bedrock,vertex]>=0.41.0->llama-index-llms-anthropic<0.7.0,>=0.6.3->llama-index-llms-bedrock) (1.9.0)\n",
      "Requirement already satisfied: jiter<1,>=0.4.0 in /home/ec2-user/anaconda3/envs/python3/lib/python3.10/site-packages (from anthropic>=0.41.0->anthropic[bedrock,vertex]>=0.41.0->llama-index-llms-anthropic<0.7.0,>=0.6.3->llama-index-llms-bedrock) (0.8.2)\n",
      "Requirement already satisfied: sniffio in /home/ec2-user/anaconda3/envs/python3/lib/python3.10/site-packages (from anthropic>=0.41.0->anthropic[bedrock,vertex]>=0.41.0->llama-index-llms-anthropic<0.7.0,>=0.6.3->llama-index-llms-bedrock) (1.3.1)\n",
      "Requirement already satisfied: google-auth<3,>=2 in /home/ec2-user/anaconda3/envs/python3/lib/python3.10/site-packages (from anthropic[bedrock,vertex]>=0.41.0->llama-index-llms-anthropic<0.7.0,>=0.6.3->llama-index-llms-bedrock) (2.38.0)\n",
      "Requirement already satisfied: soupsieve>1.2 in /home/ec2-user/anaconda3/envs/python3/lib/python3.10/site-packages (from beautifulsoup4<5.0.0,>=4.12.3->llama-index-readers-file<0.5.0,>=0.4.0->llama-index) (2.5)\n",
      "Requirement already satisfied: certifi in /home/ec2-user/anaconda3/envs/python3/lib/python3.10/site-packages (from httpx->llama-index-core<0.13.0,>=0.12.19->llama-index) (2025.1.31)\n",
      "Requirement already satisfied: httpcore==1.* in /home/ec2-user/anaconda3/envs/python3/lib/python3.10/site-packages (from httpx->llama-index-core<0.13.0,>=0.12.19->llama-index) (1.0.7)\n",
      "Requirement already satisfied: idna in /home/ec2-user/anaconda3/envs/python3/lib/python3.10/site-packages (from httpx->llama-index-core<0.13.0,>=0.12.19->llama-index) (3.10)\n",
      "Requirement already satisfied: h11<0.15,>=0.13 in /home/ec2-user/anaconda3/envs/python3/lib/python3.10/site-packages (from httpcore==1.*->httpx->llama-index-core<0.13.0,>=0.12.19->llama-index) (0.14.0)\n",
      "Requirement already satisfied: llama-cloud-services>=0.6.1 in /home/ec2-user/anaconda3/envs/python3/lib/python3.10/site-packages (from llama-parse>=0.5.0->llama-index-readers-llama-parse>=0.4.0->llama-index) (0.6.1)\n",
      "Requirement already satisfied: annotated-types>=0.6.0 in /home/ec2-user/anaconda3/envs/python3/lib/python3.10/site-packages (from pydantic>=2.8.0->llama-index-core<0.13.0,>=0.12.19->llama-index) (0.7.0)\n",
      "Requirement already satisfied: pydantic-core==2.27.2 in /home/ec2-user/anaconda3/envs/python3/lib/python3.10/site-packages (from pydantic>=2.8.0->llama-index-core<0.13.0,>=0.12.19->llama-index) (2.27.2)\n",
      "Requirement already satisfied: charset_normalizer<4,>=2 in /home/ec2-user/anaconda3/envs/python3/lib/python3.10/site-packages (from requests>=2.31.0->llama-index-core<0.13.0,>=0.12.19->llama-index) (3.4.1)\n",
      "Requirement already satisfied: greenlet!=0.4.17 in /home/ec2-user/anaconda3/envs/python3/lib/python3.10/site-packages (from SQLAlchemy>=1.4.49->SQLAlchemy[asyncio]>=1.4.49->llama-index-core<0.13.0,>=0.12.19->llama-index) (3.1.1)\n",
      "Requirement already satisfied: mypy-extensions>=0.3.0 in /home/ec2-user/anaconda3/envs/python3/lib/python3.10/site-packages (from typing-inspect>=0.8.0->llama-index-core<0.13.0,>=0.12.19->llama-index) (1.0.0)\n",
      "Requirement already satisfied: marshmallow<4.0.0,>=3.18.0 in /home/ec2-user/anaconda3/envs/python3/lib/python3.10/site-packages (from dataclasses-json->llama-index-core<0.13.0,>=0.12.19->llama-index) (3.26.1)\n",
      "Requirement already satisfied: pytz>=2020.1 in /home/ec2-user/anaconda3/envs/python3/lib/python3.10/site-packages (from pandas->llama-index-readers-file<0.5.0,>=0.4.0->llama-index) (2025.1)\n",
      "Requirement already satisfied: exceptiongroup>=1.0.2 in /home/ec2-user/anaconda3/envs/python3/lib/python3.10/site-packages (from anyio<5,>=3.5.0->anthropic>=0.41.0->anthropic[bedrock,vertex]>=0.41.0->llama-index-llms-anthropic<0.7.0,>=0.6.3->llama-index-llms-bedrock) (1.2.2)\n",
      "Requirement already satisfied: cachetools<6.0,>=2.0.0 in /home/ec2-user/anaconda3/envs/python3/lib/python3.10/site-packages (from google-auth<3,>=2->anthropic[bedrock,vertex]>=0.41.0->llama-index-llms-anthropic<0.7.0,>=0.6.3->llama-index-llms-bedrock) (5.5.2)\n",
      "Requirement already satisfied: pyasn1-modules>=0.2.1 in /home/ec2-user/anaconda3/envs/python3/lib/python3.10/site-packages (from google-auth<3,>=2->anthropic[bedrock,vertex]>=0.41.0->llama-index-llms-anthropic<0.7.0,>=0.6.3->llama-index-llms-bedrock) (0.4.1)\n",
      "Requirement already satisfied: rsa<5,>=3.1.4 in /home/ec2-user/anaconda3/envs/python3/lib/python3.10/site-packages (from google-auth<3,>=2->anthropic[bedrock,vertex]>=0.41.0->llama-index-llms-anthropic<0.7.0,>=0.6.3->llama-index-llms-bedrock) (4.7.2)\n",
      "Requirement already satisfied: python-dotenv<2.0.0,>=1.0.1 in /home/ec2-user/anaconda3/envs/python3/lib/python3.10/site-packages (from llama-cloud-services>=0.6.1->llama-parse>=0.5.0->llama-index-readers-llama-parse>=0.4.0->llama-index) (1.0.1)\n",
      "Requirement already satisfied: packaging>=17.0 in /home/ec2-user/anaconda3/envs/python3/lib/python3.10/site-packages (from marshmallow<4.0.0,>=3.18.0->dataclasses-json->llama-index-core<0.13.0,>=0.12.19->llama-index) (21.3)\n",
      "Requirement already satisfied: six>=1.5 in /home/ec2-user/anaconda3/envs/python3/lib/python3.10/site-packages (from python-dateutil<3.0.0,>=2.1->aiobotocore==2.18.0->aiobotocore[boto3]==2.18.0->aioboto3<14.0.0,>=13.1.1->llama-index-embeddings-bedrock) (1.17.0)\n",
      "Requirement already satisfied: pyparsing!=3.0.5,>=2.0.2 in /home/ec2-user/anaconda3/envs/python3/lib/python3.10/site-packages (from packaging>=17.0->marshmallow<4.0.0,>=3.18.0->dataclasses-json->llama-index-core<0.13.0,>=0.12.19->llama-index) (3.2.1)\n",
      "Requirement already satisfied: pyasn1<0.7.0,>=0.4.6 in /home/ec2-user/anaconda3/envs/python3/lib/python3.10/site-packages (from pyasn1-modules>=0.2.1->google-auth<3,>=2->anthropic[bedrock,vertex]>=0.41.0->llama-index-llms-anthropic<0.7.0,>=0.6.3->llama-index-llms-bedrock) (0.6.1)\n",
      "Note: you may need to restart the kernel to use updated packages.\n"
     ]
    }
   ],
   "source": [
    "%pip install \\\n",
    "    llama-index \\\n",
    "    llama-index-llms-bedrock \\\n",
    "    llama-index-embeddings-bedrock"
   ]
  },
  {
   "cell_type": "markdown",
   "id": "6da34a35-29ee-4c26-8398-7e1bfe7c58f2",
   "metadata": {
    "tags": []
   },
   "source": [
    "## Section 1: Setting up the baseline configuration with some sample content"
   ]
  },
  {
   "cell_type": "markdown",
   "id": "8c724a2d-6686-4177-baa1-3fed868170d5",
   "metadata": {},
   "source": [
    "Download the default RAG test source data to our target source_docs directory. \n",
    "You only need to run this once."
   ]
  },
  {
   "cell_type": "code",
   "execution_count": 2,
   "id": "5190bed5-26d3-4897-a270-74087c9af1ff",
   "metadata": {
    "tags": []
   },
   "outputs": [],
   "source": [
    "source_docs_dir = './source_docs/'"
   ]
  },
  {
   "cell_type": "markdown",
   "id": "94d14fc8-2f54-4a24-9ad4-9e84678e9495",
   "metadata": {
    "tags": []
   },
   "source": [
    "The following creates the source_docs directory and downloads a document to that directory. The contents of this directory, \n",
    "initially the document that is downloaded here, will be used in the steps that follow.\n",
    "\n",
    "After running this notebook in its entirity and reviewing its operation, delete this content and add your own content to the directory."
   ]
  },
  {
   "cell_type": "code",
   "execution_count": 3,
   "id": "886e9c7c-3e23-40ba-a7c1-b852d083aa7c",
   "metadata": {
    "tags": []
   },
   "outputs": [
    {
     "name": "stdout",
     "output_type": "stream",
     "text": [
      "--2025-02-25 10:54:56--  https://www.buhurtinternational.com/_files/ugd/d219c5_5623c98ecdd142c8a7221c2d00cb621a.pdf\n",
      "Resolving www.buhurtinternational.com (www.buhurtinternational.com)... 34.149.87.45\n",
      "Connecting to www.buhurtinternational.com (www.buhurtinternational.com)|34.149.87.45|:443... connected.\n",
      "HTTP request sent, awaiting response... 200 OK\n",
      "Length: 12555242 (12M) [application/pdf]\n",
      "Saving to: ‘./source_docs//buhurt_armor_requirement.pdf’\n",
      "\n",
      "100%[======================================>] 12,555,242  3.42MB/s   in 3.5s   \n",
      "\n",
      "2025-02-25 10:55:00 (3.39 MB/s) - ‘./source_docs//buhurt_armor_requirement.pdf’ saved [12555242/12555242]\n",
      "\n",
      "--2025-02-25 10:55:00--  https://www.buhurtinternational.com/_files/ugd/d219c5_afd49fe587524088b3136c910bb2ca51.pdf\n",
      "Resolving www.buhurtinternational.com (www.buhurtinternational.com)... 34.149.87.45\n",
      "Connecting to www.buhurtinternational.com (www.buhurtinternational.com)|34.149.87.45|:443... connected.\n",
      "HTTP request sent, awaiting response... 200 OK\n",
      "Length: 711599 (695K) [application/pdf]\n",
      "Saving to: ‘./source_docs//buhurt_weapon_requirement.pdf’\n",
      "\n",
      "100%[======================================>] 711,599     2.36MB/s   in 0.3s   \n",
      "\n",
      "2025-02-25 10:55:01 (2.36 MB/s) - ‘./source_docs//buhurt_weapon_requirement.pdf’ saved [711599/711599]\n",
      "\n"
     ]
    }
   ],
   "source": [
    "# Download and load data\n",
    "!mkdir -p {source_docs_dir}\n",
    "!wget --no-check-certificate 'https://www.buhurtinternational.com/_files/ugd/d219c5_5623c98ecdd142c8a7221c2d00cb621a.pdf' -O {source_docs_dir}'/buhurt_armor_requirement.pdf'\n",
    "!wget --no-check-certificate 'https://www.buhurtinternational.com/_files/ugd/d219c5_afd49fe587524088b3136c910bb2ca51.pdf' -O {source_docs_dir}'/buhurt_weapon_requirement.pdf'"
   ]
  },
  {
   "cell_type": "markdown",
   "id": "55ab5b10-dcb8-423c-b1ef-d39a656f6b41",
   "metadata": {
    "tags": []
   },
   "source": [
    "Import auxilliarty modules"
   ]
  },
  {
   "cell_type": "code",
   "execution_count": 4,
   "id": "a9f69ef6-0453-465f-adc0-3180b7f41352",
   "metadata": {
    "tags": []
   },
   "outputs": [],
   "source": [
    "import logging\n",
    "import sys\n",
    "import os\n",
    "import pandas as pd\n",
    "import boto3  # AWS SDK for Python"
   ]
  },
  {
   "cell_type": "code",
   "execution_count": 5,
   "id": "bb5b34da-dd60-46b9-8bab-739c86f9b23e",
   "metadata": {
    "tags": []
   },
   "outputs": [],
   "source": [
    "# This is an output to screen helper method for making some output more easy to read.\n",
    "\n",
    "import textwrap\n",
    "from io import StringIO\n",
    "\n",
    "def print_ww(*args, width: int = 100, **kwargs):\n",
    "    \"\"\"Like print(), but wraps output to `width` characters (default 100)\"\"\"\n",
    "    buffer = StringIO()\n",
    "    try:\n",
    "        _stdout = sys.stdout\n",
    "        sys.stdout = buffer\n",
    "        print(*args, **kwargs)\n",
    "        output = buffer.getvalue()\n",
    "    finally:\n",
    "        sys.stdout = _stdout\n",
    "    for line in output.splitlines():\n",
    "        print(\"\\n\".join(textwrap.wrap(line, width=width)))"
   ]
  },
  {
   "cell_type": "code",
   "execution_count": 6,
   "id": "f65d3264-223c-4902-8e21-6886e25a52b5",
   "metadata": {
    "tags": []
   },
   "outputs": [],
   "source": [
    "# This is required when running within a jupyter notebook, otherwise you will get errors when llamaindex modules run\n",
    "import nest_asyncio\n",
    "\n",
    "nest_asyncio.apply()"
   ]
  },
  {
   "cell_type": "markdown",
   "id": "2b618759-983d-4d7e-8bf6-840b355b5609",
   "metadata": {},
   "source": [
    "Import required Python modules for constructing and evaluating the RAG solution"
   ]
  },
  {
   "cell_type": "code",
   "execution_count": 7,
   "id": "5025ceaf-9699-43ba-9369-773612652b4a",
   "metadata": {
    "tags": []
   },
   "outputs": [],
   "source": [
    "from llama_index.core import Settings\n",
    "from llama_index.core import VectorStoreIndex\n",
    "from llama_index.embeddings.bedrock import BedrockEmbedding\n",
    "from llama_index.llms.bedrock import Bedrock\n",
    "\n",
    "from llama_index.core import Document\n",
    "from llama_index.core.node_parser import SentenceSplitter\n",
    "from llama_index.core.extractors import TitleExtractor\n",
    "from llama_index.core.ingestion import IngestionPipeline, IngestionCache\n",
    "from llama_index.core.text_splitter import TokenTextSplitter\n",
    "\n",
    "\n",
    "from llama_index.core.evaluation import (\n",
    "    DatasetGenerator,\n",
    "    RetrieverEvaluator,\n",
    "    generate_question_context_pairs,\n",
    ")\n",
    "\n",
    "from llama_index.core import (\n",
    "    SimpleDirectoryReader,\n",
    "    VectorStoreIndex,\n",
    "    Response,\n",
    ")"
   ]
  },
  {
   "cell_type": "markdown",
   "id": "65d66520-b9b5-4fdc-a00b-45d23734bfdb",
   "metadata": {},
   "source": [
    "## Configure the models that will be used for the RAG pipeline"
   ]
  },
  {
   "cell_type": "markdown",
   "id": "b05b8643-0fc7-4984-bfb4-820b92ce0e99",
   "metadata": {},
   "source": [
    "**Note**: By default this notebook with use the `us-west-2` region. This region has support for the models used in this notebook. You should not need to change this setting."
   ]
  },
  {
   "cell_type": "code",
   "execution_count": 8,
   "id": "c946049d-010b-4485-83ce-08425c254261",
   "metadata": {
    "tags": []
   },
   "outputs": [],
   "source": [
    "# AWS_REGION = \"us-west-2\"\n",
    "AWS_REGION = \"us-east-1\"  # this is an alternative setting to use if desired "
   ]
  },
  {
   "cell_type": "markdown",
   "id": "fe3a6109-6dba-4312-951a-af27765774b3",
   "metadata": {},
   "source": [
    "Define the set of Bedrock model IDs that we that we'll use when developing and testing our solution "
   ]
  },
  {
   "cell_type": "markdown",
   "id": "d4d8d3b8-0a47-45db-9b2f-3265d0c795f0",
   "metadata": {},
   "source": [
    "Establish a connection to the Amazon Bedrock service"
   ]
  },
  {
   "cell_type": "code",
   "execution_count": 9,
   "id": "614ca8a1-d4b7-463e-8770-76bf83a37246",
   "metadata": {
    "tags": []
   },
   "outputs": [],
   "source": [
    "boto3_bedrock = boto3.client(\"bedrock-runtime\")"
   ]
  },
  {
   "cell_type": "markdown",
   "id": "59d038da-c7fb-4c07-957c-c23a1effe13e",
   "metadata": {},
   "source": [
    "### Configure the target embeddings models for use with Llamaindex"
   ]
  },
  {
   "cell_type": "code",
   "execution_count": 10,
   "id": "cbf2a047-82b9-4ee9-bbcc-4ab33d9a07f9",
   "metadata": {
    "tags": []
   },
   "outputs": [],
   "source": [
    "titan_text_embeddings_multilingual_v1_id = \"amazon.titan-embed-text-v1\"\n",
    "titan_text_embeddings_multilingual_v2_id = \"amazon.titan-embed-text-v2:0\"\n",
    "cohere_text_embeddings_english_id = \"cohere.embed-english-v3\"\n",
    "cohere_text_embeddings_multilingual_id = \"cohere.embed-multilingual-v3\""
   ]
  },
  {
   "cell_type": "markdown",
   "id": "942ca6ba-721d-4af6-a25f-0026218373c5",
   "metadata": {},
   "source": [
    "Configure our chosen embeddings model for use with llama_index"
   ]
  },
  {
   "cell_type": "code",
   "execution_count": 11,
   "id": "eac101f7-1f62-4720-9a94-64bdce9102de",
   "metadata": {
    "tags": []
   },
   "outputs": [],
   "source": [
    "titan_text_embeddings_v2 = BedrockEmbedding(model=titan_text_embeddings_multilingual_v2_id,region_name=AWS_REGION)\n",
    "titan_text_embeddings_v1 = BedrockEmbedding(model=titan_text_embeddings_multilingual_v1_id,region_name=AWS_REGION)\n",
    "cohere_text_embeddings_english = BedrockEmbedding(model=cohere_text_embeddings_english_id,region_name=AWS_REGION)\n",
    "cohere_text_embeddings_multilingual= BedrockEmbedding(model=cohere_text_embeddings_english_id,region_name=AWS_REGION)"
   ]
  },
  {
   "cell_type": "markdown",
   "id": "ac963474-ee9e-47f4-ae7f-5896b3ee805d",
   "metadata": {},
   "source": [
    "### Configure the target LLMs for use with Llamaindex"
   ]
  },
  {
   "cell_type": "markdown",
   "id": "cfb66fcc-a3c2-4acd-9004-53d96c083391",
   "metadata": {
    "tags": []
   },
   "source": [
    "The following Mistral models can be used to produce questions for evaluation. \n",
    "The Titan model produces questions of lesser quality and sometimes not in the format needed by the tools. \n",
    "\n",
    "**Note** Most Bedrock LLMs do not *produce test questions* in a format that can be directly used for evaluation with the tooling as it is configured in this notebook."
   ]
  },
  {
   "cell_type": "code",
   "execution_count": 12,
   "id": "c3d60343-0fad-4fad-a6a0-1a28a60c5539",
   "metadata": {
    "tags": []
   },
   "outputs": [],
   "source": [
    "instruct_mistral7b_id = \"mistral.mistral-7b-instruct-v0:2\"\n",
    "instruct_mixtral8x7b_id = \"mistral.mixtral-8x7b-instruct-v0:1\"\n",
    "titan_text_express_id = \"amazon.titan-text-express-v1\"\n",
    "claude_haiku_3_id = \"anthropic.claude-3-haiku-20240307-v1:0\"\n",
    "claude_sonnet_35_id = \"anthropic.claude-3-5-sonnet-20240620-v1:0\""
   ]
  },
  {
   "cell_type": "code",
   "execution_count": 13,
   "id": "ad66c9c9-752f-425c-b783-c5951c47d95c",
   "metadata": {
    "tags": []
   },
   "outputs": [],
   "source": [
    "# set the parameters to be applied when invoking the model\n",
    "model_kwargs_llm = {\n",
    "    \"temperature\": 0.1,\n",
    "    \"top_k\": 200,\n",
    "    \"max_tokens\": 4096\n",
    "}"
   ]
  },
  {
   "cell_type": "markdown",
   "id": "c241957a-b7e3-40d7-ada5-6bbf2a86394c",
   "metadata": {},
   "source": [
    "### NOTE: This notebook uses two additional LLMs !!\n",
    "You will need to enable use to the following models in the Bedrock console\n",
    "- Anthropic Claude Haiku 3\n",
    "- Anthropic Clause Sonnet 3.5\n",
    "\n",
    "This is in addition to the Mistral and Titan models used in Capstone 2.\n",
    "\n",
    "If these are no enabled you will encounter errors later."
   ]
  },
  {
   "cell_type": "code",
   "execution_count": 14,
   "id": "7223cc97-dc5b-40f4-8acb-92be61e03885",
   "metadata": {
    "tags": []
   },
   "outputs": [],
   "source": [
    "llm_mistral7b = Bedrock(model=instruct_mistral7b_id, client=boto3_bedrock, model_kwargs=model_kwargs_llm, region_name=AWS_REGION)\n",
    "llm_mixtral8x7b = Bedrock(model=instruct_mixtral8x7b_id, client=boto3_bedrock, model_kwargs=model_kwargs_llm, region_name=AWS_REGION)\n",
    "llm_titan_express = Bedrock(model=titan_text_express_id, client=boto3_bedrock, model_kwargs=model_kwargs_llm, region_name=AWS_REGION)\n",
    "llm_haiku_3 = Bedrock(model=claude_haiku_3_id, client=boto3_bedrock, model_kwargs=model_kwargs_llm, region_name=AWS_REGION)\n",
    "llm_sonnet_35 = Bedrock(model=claude_sonnet_35_id, client=boto3_bedrock, model_kwargs=model_kwargs_llm, region_name=AWS_REGION)"
   ]
  },
  {
   "cell_type": "markdown",
   "id": "6babd1c3-cc16-4914-ba7a-83185c56a418",
   "metadata": {
    "tags": []
   },
   "source": [
    "### Use the following cell to configure the embeddings model to use for the cells that follow\n",
    "\n",
    "The embeddings model is a critical choice for the accuracy of your RAG solution.\n",
    "Experiment with the options here to see which is best for your content.\n",
    "If you want more, test with further alternatives. There are many that are readily supported by llama_index."
   ]
  },
  {
   "cell_type": "code",
   "execution_count": 15,
   "id": "f52d75b4-f9ef-4398-9214-15920b917ff6",
   "metadata": {
    "tags": []
   },
   "outputs": [],
   "source": [
    "# After the first run, set this to match you intended configuration based on your learning from Capstone II\n",
    "\n",
    "# embed_model = titan_text_embeddings_v1\n",
    "# embed_model = titan_text_embeddings_v2\n",
    "embed_model = cohere_text_embeddings_english\n",
    "# embed_model = cohere_text_embeddings_multilingual"
   ]
  },
  {
   "cell_type": "markdown",
   "id": "bf70d0f7-6744-41e8-a62b-8f5624fe54f0",
   "metadata": {
    "tags": []
   },
   "source": [
    "### Use the following cell to configure the LLM to use for the cells that follow\n",
    "The LLM will be used for question generation and RAG answer generation in this notebook as it is currently configured.\n",
    "The default value llm_mistral7b works well with the code and should be used if possible. "
   ]
  },
  {
   "cell_type": "code",
   "execution_count": 16,
   "id": "82ea65f7-1428-41c0-850d-c1eb176c41e3",
   "metadata": {
    "tags": []
   },
   "outputs": [],
   "source": [
    "llm_model = llm_mistral7b\n",
    "# llm_model = llm_mixtral8x7b\n",
    "# llm_model = llm_titan_express\n",
    "# llm_model = llm_haiku_3"
   ]
  },
  {
   "cell_type": "code",
   "execution_count": 17,
   "id": "58bbe67d-5908-4d3f-8c0a-831391a4ad5d",
   "metadata": {
    "tags": []
   },
   "outputs": [],
   "source": [
    "# Set LlamaIndex default model settings to what was set in the cells above\n",
    "Settings.embed_model = embed_model\n",
    "Settings.llm = llm_model"
   ]
  },
  {
   "cell_type": "markdown",
   "id": "46229098-ce14-4834-a863-2035547a53ab",
   "metadata": {},
   "source": [
    "## Read in the documents for adding to our data store"
   ]
  },
  {
   "cell_type": "markdown",
   "id": "674fc1fd-f34b-41a1-9d88-e4647a521273",
   "metadata": {},
   "source": [
    "Read in the documents in the 'data/source_docs' directory into a structure ready for use by llama_index"
   ]
  },
  {
   "cell_type": "code",
   "execution_count": 18,
   "id": "486bd6d1-2454-45ff-a33e-fcbf3ea77867",
   "metadata": {
    "tags": []
   },
   "outputs": [],
   "source": [
    "reader = SimpleDirectoryReader(source_docs_dir)\n",
    "documents = reader.load_data()"
   ]
  },
  {
   "cell_type": "markdown",
   "id": "c5b952f0-8f8a-4920-ad35-e8abe08fc429",
   "metadata": {},
   "source": [
    "Quick check here to see that all of your documents were read. The count should match the number of pages in the documents in source_docs"
   ]
  },
  {
   "cell_type": "code",
   "execution_count": 19,
   "id": "752782ee-1d5c-41d7-8266-c1a6c9194a7b",
   "metadata": {
    "tags": []
   },
   "outputs": [
    {
     "data": {
      "text/plain": [
       "25"
      ]
     },
     "execution_count": 19,
     "metadata": {},
     "output_type": "execute_result"
    }
   ],
   "source": [
    "len(documents)"
   ]
  },
  {
   "cell_type": "markdown",
   "id": "a261170a-c9db-4f59-b391-9e5039397e26",
   "metadata": {},
   "source": [
    "## Create and run the document ingestion pipeline"
   ]
  },
  {
   "cell_type": "markdown",
   "id": "8f4a1fda-bc75-42a1-be1b-54c29a624abc",
   "metadata": {
    "tags": []
   },
   "source": [
    "The following cell defines two different document ingestion pipelines. \n",
    "If you have time, test using both of these, and create you own and test with that also."
   ]
  },
  {
   "cell_type": "code",
   "execution_count": 20,
   "id": "773aa337-a276-441a-92be-190a2d9f37e2",
   "metadata": {
    "tags": []
   },
   "outputs": [],
   "source": [
    "# Define two transformation for the ingestion pipelines for initial experimentation\n",
    "\n",
    "transformations_00=[\n",
    "        TokenTextSplitter(separator=\" \", chunk_size=512, chunk_overlap=100),\n",
    "        embed_model,\n",
    "    ]\n",
    "\n",
    "transformations_01=[\n",
    "        SentenceSplitter(chunk_size=512, chunk_overlap=100),\n",
    "        TitleExtractor(),\n",
    "        embed_model,\n",
    "    ]\n",
    "\n",
    "transformations_02=[\n",
    "        SentenceSplitter(chunk_size=1024, chunk_overlap=100),\n",
    "        TitleExtractor(),\n",
    "        embed_model,\n",
    "    ]\n"
   ]
  },
  {
   "cell_type": "markdown",
   "id": "8e1b013b-f07e-441d-8396-dab15325e7d2",
   "metadata": {
    "tags": []
   },
   "source": [
    "### Use the following cell to configure the data ingestion pipeline for processing the source data"
   ]
  },
  {
   "cell_type": "code",
   "execution_count": 21,
   "id": "7134f8fb-03eb-4167-9063-4fcd08ed7643",
   "metadata": {
    "tags": []
   },
   "outputs": [],
   "source": [
    "# After the first run, set this to match you intended configuration based on your learning from Capstone II\n",
    "\n",
    "# pipeline = IngestionPipeline(transformations=transformations_00)\n",
    "# pipeline = IngestionPipeline(transformations=transformations_01)\n",
    "pipeline = IngestionPipeline(transformations=transformations_02)\n",
    "\n"
   ]
  },
  {
   "cell_type": "markdown",
   "id": "4314c658-de88-432b-98bc-08a5ccf7bee6",
   "metadata": {
    "tags": []
   },
   "source": [
    "### Run the configured ingestion pipeline "
   ]
  },
  {
   "cell_type": "code",
   "execution_count": 22,
   "id": "96c6cf10-0dcc-40eb-a659-3b70cfb4a939",
   "metadata": {
    "tags": []
   },
   "outputs": [
    {
     "name": "stderr",
     "output_type": "stream",
     "text": [
      "100%|██████████| 1/1 [00:00<00:00,  1.51it/s]\n",
      "100%|██████████| 1/1 [00:00<00:00,  3.17it/s]\n",
      "100%|██████████| 1/1 [00:00<00:00,  2.22it/s]\n",
      "100%|██████████| 1/1 [00:00<00:00,  1.71it/s]\n",
      "100%|██████████| 1/1 [00:00<00:00,  2.73it/s]\n",
      "100%|██████████| 1/1 [00:00<00:00,  3.07it/s]\n",
      "100%|██████████| 1/1 [00:00<00:00,  3.78it/s]\n",
      "100%|██████████| 1/1 [00:00<00:00,  2.93it/s]\n",
      "100%|██████████| 1/1 [00:00<00:00,  2.05it/s]\n",
      "100%|██████████| 1/1 [00:00<00:00,  2.70it/s]\n",
      "100%|██████████| 1/1 [00:00<00:00,  2.89it/s]\n",
      "100%|██████████| 1/1 [00:00<00:00,  1.57it/s]\n",
      "100%|██████████| 1/1 [00:00<00:00,  1.72it/s]\n",
      "100%|██████████| 1/1 [00:00<00:00,  2.14it/s]\n",
      "100%|██████████| 1/1 [00:01<00:00,  1.15s/it]\n",
      "100%|██████████| 1/1 [00:00<00:00,  1.30it/s]\n",
      "100%|██████████| 1/1 [00:00<00:00,  4.46it/s]\n",
      "100%|██████████| 1/1 [00:01<00:00,  1.28s/it]\n",
      "100%|██████████| 1/1 [00:00<00:00,  2.29it/s]\n",
      "100%|██████████| 1/1 [00:00<00:00,  2.68it/s]\n",
      "100%|██████████| 1/1 [00:01<00:00,  1.85s/it]\n",
      "100%|██████████| 1/1 [00:00<00:00,  2.57it/s]\n",
      "100%|██████████| 1/1 [00:00<00:00,  1.75it/s]\n",
      "100%|██████████| 1/1 [00:00<00:00,  2.89it/s]\n",
      "100%|██████████| 1/1 [00:00<00:00,  2.05it/s]\n"
     ]
    },
    {
     "name": "stdout",
     "output_type": "stream",
     "text": [
      "number of nodes: 25\n"
     ]
    }
   ],
   "source": [
    "# run the pipeline\n",
    "nodes = pipeline.run(documents=documents)\n",
    "print(f\"number of nodes: {len(nodes)}\")"
   ]
  },
  {
   "cell_type": "markdown",
   "id": "3331bd97-75af-432b-a77c-a82be092585d",
   "metadata": {
    "tags": []
   },
   "source": [
    "This may make test analysis easier. It is non-essential"
   ]
  },
  {
   "cell_type": "code",
   "execution_count": 23,
   "id": "6b464f0b-b123-4a12-b85f-8718fcaee4bc",
   "metadata": {
    "tags": []
   },
   "outputs": [],
   "source": [
    "# By default, the node ids are set to random uuids. \n",
    "# To ensure same id's per run, we manually set them to consistent sequential numbers.\n",
    "for idx, node in enumerate(nodes):\n",
    "    node.id_ = f\"node_{idx}\""
   ]
  },
  {
   "cell_type": "code",
   "execution_count": 24,
   "id": "2cffb0df-bf84-4630-87b0-ba8fae23f461",
   "metadata": {
    "tags": []
   },
   "outputs": [
    {
     "name": "stdout",
     "output_type": "stream",
     "text": [
      "[0.314453125, -0.0272216796875, 0.3125, -0.341796875, 0.0303955078125, 0.01043701171875, -0.035400390625, 0.0005035400390625, 0.00592041015625, -0.005889892578125, -0.251953125, 0.421875, -0.0233154296875, 0.2158203125, -0.044677734375, 0.064453125, 0.126953125, 0.8203125, -0.056396484375, 0.1201171875, 0.1328125, 0.142578125, -0.169921875, 0.326171875, 0.21875, -0.40234375, 0.01556396484375, 0.1826171875, -0.1962890625, 0.0458984375, -0.7890625, -0.4375, -0.0225830078125, -0.7109375, 0.185546875, 0.01275634765625, -0.0189208984375, 0.234375, 0.2421875, -0.00677490234375, 0.302734375, -0.16796875, 0.050048828125, -0.431640625, -0.26171875, -0.1923828125, 0.275390625, 0.1845703125, 0.3515625, 0.06787109375, 0.310546875, 0.201171875, 0.27734375, 0.1494140625, -0.103515625, 0.07421875, 0.064453125, 0.1845703125, -0.70703125, -0.2041015625, -0.01470947265625, 0.068359375, -0.05615234375, 0.3515625, -0.08837890625, 0.064453125, 0.375, -0.3046875, 0.28125, 0.224609375, 0.095703125, -0.27734375, 0.4453125, -0.0732421875, 0.30859375, 0.058837890625, -0.267578125, -0.04150390625, 0.0283203125, -0.609375, -0.322265625, 0.177734375, -0.359375, 0.19921875, -0.353515625, 0.28125, -0.1552734375, 0.1650390625, 0.00012969970703125, 0.26171875, -0.0244140625, 0.375, 0.0201416015625, 0.259765625, 0.1962890625, 0.177734375, 0.14453125, -0.3671875, 0.1923828125, -0.431640625, 0.099609375, -0.00982666015625, -0.0400390625, 0.072265625, 0.00811767578125, -0.1376953125, 0.47265625, -0.1630859375, -0.2294921875, 0.34765625, 0.298828125, -0.185546875, -0.12890625, -0.259765625, -0.0966796875, -0.04541015625, 0.033935546875, 0.1904296875, -0.72265625, -0.236328125, -0.15234375, 0.357421875, -0.25, 0.3046875, 0.00107574462890625, -0.1640625, 0.1181640625, -0.07568359375, 0.000492095947265625, -0.2890625, 0.1298828125, 0.314453125, -0.2060546875, 0.0947265625, 0.376953125, 0.000743865966796875, 0.51171875, -0.1669921875, 0.279296875, 0.2734375, 0.00799560546875, -0.267578125, -0.004791259765625, -0.47265625, -0.09716796875, 0.146484375, -0.1982421875, 0.03076171875, -0.86328125, -0.65625, -0.359375, 0.134765625, 0.01513671875, 0.337890625, -0.154296875, -0.00421142578125, -0.369140625, 0.1884765625, -0.412109375, 0.26171875, 0.1689453125, -0.07275390625, -0.134765625, 0.038818359375, -0.09130859375, 0.150390625, 0.37890625, -0.0771484375, 0.189453125, -0.181640625, -0.0284423828125, -0.7421875, -0.06787109375, -0.06982421875, 0.1533203125, -0.058349609375, 0.328125, -0.28125, 0.31640625, 0.0185546875, -0.0888671875, -0.1435546875, -0.16015625, -0.11572265625, 0.41015625, 0.27734375, -0.162109375, 0.54296875, 0.21484375, -0.03466796875, 0.1865234375, 0.06103515625, -0.043701171875, -0.5546875, 0.2294921875, 0.26171875, 0.11328125, 0.0181884765625, -0.1455078125, -0.09375, 0.051513671875, 0.3125, -0.02880859375, -0.28125, 0.28515625, -0.026611328125, -0.291015625, -0.001678466796875, 0.2197265625, -0.2236328125, -0.034423828125, 0.2109375, -0.185546875, 0.018798828125, 0.0751953125, 0.5859375, 0.2421875, 0.080078125, -0.130859375, 0.345703125, 0.78515625, 0.1337890625, -0.578125, -0.2060546875, 0.00457763671875, -0.46875, 0.376953125, -0.251953125, 0.244140625, -0.040771484375, 0.1513671875, 0.0242919921875, 0.08154296875, 0.2216796875, -0.06396484375, -0.263671875, -0.142578125, -0.06005859375, -0.203125, -0.0198974609375, 0.44921875, -0.10205078125, -0.37890625, 0.0322265625, -0.1708984375, 0.33984375, 0.296875, 0.375, -0.177734375, -0.48828125, 0.48828125, 0.08251953125, -0.306640625, -0.09912109375, -0.546875, -0.10009765625, -0.4140625, 0.03759765625, 0.28515625, -0.0849609375, 0.1845703125, -0.267578125, -0.08837890625, -0.056640625, -0.6015625, -0.009765625, 0.08203125, 0.26171875, -0.0712890625, 0.06494140625, 0.00011968612670898438, -0.001678466796875, 0.375, -0.412109375, -0.12060546875, 0.1484375, -0.388671875, 0.2734375, 0.283203125, -0.20703125, 0.1806640625, -0.212890625, -0.40234375, 0.0179443359375, -0.10888671875, -0.181640625, 0.47265625, -0.01239013671875, 0.466796875, -0.29296875, -0.1279296875, -0.193359375, 0.279296875, -0.0291748046875, -0.2734375, -0.11328125, -0.15625, 0.072265625, -0.28125, -0.1337890625, 0.193359375, -0.189453125, 0.1806640625, -0.16796875, 0.18359375, -0.115234375, -0.1533203125, -0.060546875, -0.103515625, 0.0223388671875, -0.314453125, 0.45703125, -0.07421875, 0.53125, -0.263671875, 0.232421875, 0.51171875, 0.08642578125, -0.470703125, -0.2490234375, 0.0267333984375, -0.1826171875, 0.1689453125, -0.28515625, 0.32421875, -0.263671875, -0.162109375, -0.1826171875, 0.25, -0.1171875, -0.2392578125, -0.455078125, 0.55859375, 0.1904296875, 0.166015625, 0.02197265625, 0.1630859375, -0.62890625, -0.4921875, -0.1005859375, -0.09130859375, 0.043701171875, -0.26953125, 0.201171875, -0.04052734375, -0.2109375, -0.126953125, -0.0050048828125, 0.1572265625, -0.035400390625, 0.10888671875, -0.06396484375, 0.0245361328125, -0.0791015625, 0.439453125, 0.1533203125, -0.0031585693359375, 0.08837890625, -0.58984375, 0.283203125, -0.123046875, 0.001708984375, -0.052490234375, 0.484375, 0.099609375, 0.419921875, -0.314453125, 0.30078125, 0.01348876953125, -0.2265625, -0.466796875, 0.6015625, 0.11083984375, -0.2734375, 0.12158203125, -0.5, -0.267578125, -0.126953125, -0.435546875, 0.369140625, -0.279296875, 0.1845703125, -0.296875, -0.337890625, 0.0037841796875, 0.053466796875, -0.2236328125, 0.42578125, -0.057861328125, 0.337890625, 0.09228515625, 0.29296875, -0.09521484375, -0.5234375, -0.1611328125, -0.365234375, 0.369140625, 0.078125, -0.375, -0.06884765625, -0.2470703125, 0.232421875, 0.1826171875, -0.11083984375, 0.1962890625, 0.1279296875, 0.00665283203125, -0.416015625, 0.185546875, -0.47265625, 0.13671875, -0.0162353515625, 0.06640625, 0.41796875, -0.076171875, -0.0634765625, 0.052978515625, -0.2431640625, 0.353515625, 0.416015625, 0.13671875, -0.08740234375, -0.10791015625, -0.09130859375, 0.341796875, 0.376953125, -0.1337890625, 0.000690460205078125, -0.38671875, 0.055419921875, -0.439453125, -0.126953125, -0.11669921875, -0.26171875, -0.058837890625, -0.1533203125, 0.271484375, 0.2080078125, 0.189453125, 0.2177734375, 0.45703125, 0.29296875, 0.365234375, 0.1328125, 0.115234375, 0.08154296875, 0.07861328125, 0.50390625, -0.326171875, -0.0986328125, 0.4921875, 0.2099609375, 0.36328125, 0.34765625, 0.0032501220703125, -0.5078125, 0.06884765625, -0.255859375, 0.65625, 0.220703125, 0.045166015625, -0.2109375, -0.0024261474609375, -0.515625, 0.228515625, -0.0634765625, 0.333984375, -0.4375, 0.099609375, -0.1943359375, -0.56640625, 0.1962890625, -0.337890625, -0.1953125, -0.035400390625, 0.14453125, 0.2412109375, 0.2578125, 0.0810546875, -0.359375, -0.09228515625, -0.271484375, -0.90625, -0.048828125, -0.310546875, 0.373046875, 0.5390625, 0.19921875, -0.2392578125, 0.2041015625, 0.23828125, -0.14453125, -0.002777099609375, -0.00726318359375, -0.1171875, 0.306640625, -0.00019741058349609375, 0.19921875, 0.123046875, 0.01373291015625, -0.146484375, -0.2890625, -0.11572265625, 0.51171875, 0.384765625, -0.1494140625, 0.3984375, -0.0206298828125, -0.1455078125, -0.3671875, 0.384765625, 0.06884765625, 0.1845703125, 0.23828125, -0.1669921875, 0.2255859375, -0.494140625, -0.177734375, 0.00518798828125, -0.04541015625, 0.42578125, -0.36328125, -0.11279296875, 0.07421875, 0.3671875, 0.1767578125, 0.345703125, -0.271484375, -0.671875, -0.365234375, -0.10009765625, 0.28515625, -0.32421875, -0.0830078125, -0.107421875, -0.2060546875, 0.2177734375, 0.154296875, -0.6875, -0.07470703125, -0.13671875, 0.59765625, 0.08544921875, -0.09130859375, -0.08203125, -0.057861328125, 0.10498046875, 0.337890625, -0.390625, 0.2392578125, -0.053466796875, -0.345703125, -0.45703125, -0.625, -0.000499725341796875, -0.2314453125, 0.1474609375, 0.28125, -0.2890625, -0.333984375, -0.388671875, 0.2119140625, -0.09814453125, 0.3359375, -0.046142578125, -0.458984375, -0.150390625, -0.240234375, 0.04931640625, -0.1435546875, -0.51953125, -0.1806640625, -0.01007080078125, 0.234375, 0.023193359375, -0.2578125, 0.0400390625, -0.000926971435546875, 0.146484375, 0.1630859375, 0.16015625, -0.0791015625, -0.28125, 0.234375, 0.50390625, -0.216796875, 0.189453125, 0.047119140625, -0.10302734375, -0.26171875, 0.1708984375, 0.53515625, -0.0146484375, -0.02734375, -0.0556640625, 0.138671875, -0.043701171875, -0.5546875, 0.3515625, -0.396484375, 0.0986328125, -0.1083984375, 0.25390625, 0.076171875, -0.1005859375, -0.1904296875, -0.7734375, -0.259765625, -0.1220703125, -0.07421875, -0.031494140625, -0.314453125, -0.177734375, -0.076171875, -0.051025390625, 0.265625, 0.453125, -0.08984375, 0.006011962890625, 0.1484375, 0.31640625, -0.2060546875, 0.2021484375, 0.234375, 0.15234375, 0.01251220703125, 0.0693359375, 0.046630859375, -0.042236328125, -0.162109375, -0.357421875, 0.4609375, 0.22265625, -0.11328125, 0.11279296875, 0.6015625, 0.64453125, -0.451171875, -0.10888671875, -0.59375, 0.201171875, -0.20703125, 0.333984375, -0.3359375, 0.78515625, 0.52734375, -0.095703125, -0.0908203125, 0.173828125, -0.05810546875, -0.296875, -0.1748046875, -0.158203125, -0.037109375, -0.15234375, 0.037353515625, -0.1875, 0.23046875, -0.10986328125, 0.1796875, -0.123046875, 0.09619140625, 0.275390625, -0.08251953125, 0.08154296875, 0.010009765625, -0.1396484375, -0.0167236328125, -0.306640625, -0.0262451171875, 0.19140625, 0.2451171875, 0.2099609375, 0.35546875, -0.271484375, -0.58203125, 0.13671875, -0.33203125, -0.37109375, -0.126953125, 0.2890625, -0.07177734375, -0.10498046875, -0.33203125, 0.031005859375, 0.462890625, 0.265625, -0.21484375, 0.0986328125, -0.08740234375, -0.11572265625, -0.0888671875, -0.2294921875, -0.234375, -0.01409912109375, -0.0927734375, 0.00225830078125, 0.51953125, 0.041015625, -0.494140625, 0.333984375, 0.171875, -0.23046875, -0.404296875, 0.189453125, 0.052001953125, 0.9453125, -0.29296875, 0.31640625, 0.020263671875, 0.369140625, -0.27734375, 0.2041015625, -0.34375, 0.0576171875, 0.06884765625, -0.326171875, 0.0615234375, 0.1650390625, 0.048095703125, -0.11279296875, -0.388671875, 0.1552734375, -0.0198974609375, -0.0908203125, 0.1865234375, -0.212890625, 0.19921875, -0.142578125, 0.185546875, -0.072265625, -0.392578125, 0.259765625, 0.5546875, 0.69140625, -0.035888671875, -0.45703125, -0.1611328125, -0.06103515625, 0.0908203125, -0.349609375, -0.015869140625, -0.09130859375, 0.3203125, -0.416015625, -0.007080078125, 0.1015625, 0.08203125, 0.546875, 0.328125, 0.10205078125, -0.11767578125, 0.361328125, 0.09619140625, 0.08447265625, 0.232421875, -0.2099609375, 0.02734375, -0.044921875, 0.388671875, 0.34375, -0.1416015625, 0.294921875, -0.09375, 0.1005859375, 0.01519775390625, -0.1982421875, -0.05126953125, 0.002471923828125, 0.1982421875, -0.4140625, -0.0927734375, -0.2021484375, 0.19921875, 0.53125, -0.392578125, 0.244140625, 0.5234375, -0.1015625, -0.20703125, 0.1748046875, -0.1650390625, -0.146484375, -0.1611328125, -0.1357421875, 0.61328125, -0.205078125, 0.1025390625, -0.2119140625, 0.478515625, 0.12353515625, 0.126953125, 0.51171875, -0.4453125, 0.08251953125, 0.34375, -0.234375, -0.279296875, 0.1708984375, 0.1640625, 0.07666015625, -0.2451171875, 0.1904296875, -0.1162109375, -0.283203125, -0.1005859375, 0.48046875, 0.345703125, -0.12451171875, 0.271484375, -0.212890625, -0.439453125, 0.56640625, 0.75390625, 0.031982421875, -0.0007781982421875, -0.0225830078125, -0.171875, 0.009765625, -0.045166015625, -0.10595703125, 0.049072265625, -0.26171875, -0.478515625, 0.193359375, 0.000713348388671875, 0.1552734375, 0.09912109375, -0.4765625, 0.283203125, 0.125, -0.36328125, 0.46484375, -0.4296875, -0.365234375, -0.03271484375, -0.3046875, -0.022216796875, 0.00994873046875, 0.099609375, -0.080078125, 0.027587890625, 0.1982421875, 0.023681640625, 0.109375, -0.3828125, -0.046630859375, 0.51953125, 0.244140625, 0.1162109375, -0.2490234375, 0.19921875, 0.10302734375, -0.34765625, -0.263671875, -0.70703125, 0.0194091796875, 0.158203125, 0.1494140625, 0.26171875, 0.59765625, 0.291015625, 0.4921875, 0.390625, -0.48828125, 0.1474609375, -0.20703125, -0.69921875, 0.05322265625, 0.1796875, 0.0986328125, -0.0439453125, -0.11083984375, -0.02978515625, 0.1201171875, -0.140625, -0.09765625, -0.171875, -0.0011138916015625, 0.146484375, 0.03759765625, -0.314453125, 0.5390625, -0.375, -0.171875, -0.189453125, 0.66015625, -0.10302734375, 0.1083984375, -0.2265625, -0.0556640625, 0.018798828125, 0.25, -0.095703125, -0.2373046875, 0.08349609375, 0.27734375, 0.115234375, 0.2373046875, 0.2890625, -0.5546875, -0.30078125, -0.12353515625, 0.0002994537353515625, 0.3046875, 0.181640625, 0.353515625, 0.01458740234375, 0.15625, -0.1220703125, -0.07373046875, -0.2490234375, 0.006683349609375, -0.265625, 0.08642578125, 0.1953125, 0.0155029296875, 0.08251953125, -0.27734375, -0.953125, -0.205078125, 0.236328125, 0.052001953125, 0.46484375, -0.2216796875, 0.2109375, -0.181640625, 0.06787109375, 0.146484375, -0.046875, 0.2060546875, -0.0673828125, -0.052734375, -0.08203125, 0.06689453125, 0.404296875, -0.2451171875, 0.373046875, -0.09375, 0.1513671875, 0.00078582763671875, -0.000179290771484375, 0.1376953125, -0.173828125, -0.283203125, 0.0517578125, -0.22265625, 0.4921875, 0.0155029296875, 0.29296875, -0.031982421875, 0.34375, -0.2451171875, -3.266334533691406e-05, -0.0145263671875, -0.546875, -0.201171875, 0.08251953125, 0.431640625, 0.09423828125, 0.298828125, -0.054931640625, 0.203125, 0.06640625, -0.23828125, -0.3359375, -0.67578125, -0.1923828125, -0.5, 0.09228515625, 0.36328125, 0.08056640625, 0.1259765625, -0.5703125, 0.2177734375, 0.3203125, -0.0302734375, -0.33984375, 0.0703125, 0.3046875, 0.306640625, -0.4453125, -0.27734375, -0.296875, -0.326171875, 0.00787353515625, 0.66015625, -0.1298828125, -0.150390625, -0.32421875, 0.361328125, 0.255859375, -0.259765625, -0.1337890625, -0.263671875, 0.275390625, -0.5546875, 0.099609375, -0.1376953125, 0.79296875, 0.06298828125, -0.1318359375, -0.275390625, 0.0458984375, -0.71875, -0.029541015625, -0.271484375, -0.1337890625, -0.318359375, 0.08837890625, 0.19921875, 0.5546875, -0.2314453125, -0.462890625, -0.09716796875, 0.24609375, -0.3515625, -0.1015625, -0.330078125, 0.0654296875, -0.255859375, 0.287109375, -1.0703125, 0.7109375, 0.1083984375, 0.26171875, 0.034423828125, 0.2353515625, -0.06396484375, -0.37890625, 0.86328125, 0.0201416015625, -0.177734375, 0.0712890625, -0.1513671875, -0.41796875, 0.03564453125, 0.044921875, 0.142578125, 0.279296875, 0.2451171875, 0.0203857421875, 0.05859375, 0.53125, -0.283203125, -0.080078125, -0.2353515625, -0.201171875, 0.0016326904296875, -0.0155029296875, -0.40234375, -0.375, 0.1689453125, -0.07470703125, -0.06640625, -0.1767578125, -0.44921875, -0.055419921875, 0.36328125, -0.0478515625, 0.59375, 0.1962890625, -0.06884765625, -0.26171875, 0.9921875, 0.58203125, -0.3359375, -0.130859375, -0.09326171875, 0.1376953125, -0.051025390625, 0.017333984375, 0.0284423828125, 0.2109375, 0.10986328125, 0.034912109375, 0.0869140625, -0.1943359375, 0.349609375, 0.3203125, 0.027099609375, 0.494140625, 0.373046875, -0.060791015625, -0.28125, -0.2734375, -0.24609375, 0.169921875, -0.007080078125, -0.42578125, 0.130859375, 0.007598876953125, 0.099609375, -0.11572265625, -0.1025390625, -0.0220947265625, 0.40625, -0.875, -0.328125, 0.0693359375, -0.0478515625, 0.294921875, -0.1640625, -0.5234375, 0.158203125, -0.578125, -0.123046875, -0.6953125, 0.03173828125, -0.263671875, 0.0234375, 0.00555419921875, 0.080078125, 0.341796875, -0.259765625, 0.208984375, -0.14453125, 0.10498046875, -0.609375, 0.1611328125, 0.2099609375, 0.2080078125, 0.01275634765625, 0.3046875, -0.09619140625, 0.1796875, 0.06494140625, -0.072265625, 0.12353515625, 0.034912109375, -0.6640625, 0.369140625, 0.0654296875, 0.3203125, 0.57421875, -0.10400390625, 0.07177734375, -0.1181640625, 0.1640625, 0.2109375, 0.1357421875, -0.185546875, -0.08642578125, -0.018310546875, -0.369140625, -0.5390625, -0.24609375, -0.82421875, 0.03857421875, -0.1171875, -0.1337890625, 0.21875, -0.6484375, -0.10791015625, 0.5078125, 0.23828125, 0.333984375, -0.2275390625, -0.189453125, -0.02490234375, 0.11474609375, -0.3046875, 0.24609375, 0.07470703125, -0.58984375, 0.140625, -0.046875, 0.009033203125, 0.205078125, -0.314453125, 0.1611328125, -0.953125, 0.1337890625, -0.08984375, -0.330078125, 0.279296875, -0.251953125, -0.2177734375, -0.6796875, 0.0255126953125, 0.036376953125, -0.46875, -0.021484375, 0.032958984375, -0.040771484375, 0.007080078125, 0.076171875, 0.181640625, -0.055419921875, 0.265625, 0.310546875, 0.107421875, -0.177734375, -0.33984375, -0.1259765625, 0.2080078125, 0.294921875, 0.34765625, -0.1767578125, -0.045654296875, 0.057373046875, 0.140625, 0.53515625, -0.294921875, 0.62109375, -0.380859375, -0.3359375, -0.06982421875, 0.00531005859375, -0.087890625, 0.0576171875, 0.0269775390625, 0.22265625, 0.337890625, 0.236328125, 0.62109375, -0.0556640625, -0.38671875, 0.140625, -0.375, -0.126953125, -0.318359375, 0.375, 0.220703125, -0.01318359375, -0.173828125, 0.361328125, -0.490234375, -0.388671875, -0.04296875, -0.46484375, -0.5078125, -0.32421875, 0.21484375, -0.216796875, 0.236328125, 0.11376953125, -0.48046875, -0.330078125, -0.345703125, 0.1083984375, -0.1640625, 0.484375, 0.640625, -0.35546875, 0.111328125, 0.0849609375, -0.306640625, -0.326171875, 0.150390625, 0.234375, 0.255859375, 0.162109375, -0.1669921875, 0.09912109375, 0.27734375, -0.33984375, 0.12158203125, 0.416015625, -0.74609375, 0.1298828125, 0.3671875, -0.1640625, 0.07275390625, 0.1025390625, -0.7890625, -0.12158203125, 0.49609375, 0.1181640625, 0.08544921875, -0.08642578125, 0.236328125, 0.3515625, 0.051025390625, 0.053955078125, -0.12890625, 0.2041015625, 0.201171875, 0.123046875, 0.045654296875, -0.2353515625, -0.058349609375, 0.37890625, 0.1611328125, -0.00823974609375, -0.1708984375, 0.08251953125, 0.06884765625, 0.28125, -0.01239013671875, -0.045166015625, -0.62109375, 0.369140625, -0.134765625, -0.431640625, 0.53125, -0.1728515625, -0.3203125, 0.578125, 0.010009765625, -0.484375, 0.3359375, -0.23046875, -0.146484375, -0.244140625, 0.4765625, -0.09619140625, 0.11083984375, 0.326171875, -0.3671875, -0.111328125, -0.2890625, -0.01708984375, -0.486328125, -0.0732421875, -0.03955078125, 0.44140625, -0.0245361328125, 0.016357421875, 0.05908203125, 0.357421875, 0.384765625, -0.2236328125, 0.04248046875, 0.00885009765625, -0.06640625, 0.1328125, -0.1455078125, -0.859375, 0.515625, -0.296875, 0.466796875, 0.43359375, 0.1845703125, -0.1875, 0.12060546875, 0.240234375, -0.09326171875, -0.412109375, 0.18359375, 0.037109375, -0.042724609375, 0.474609375, -0.181640625, -0.25390625, 0.00958251953125, -0.2001953125, -0.10107421875, 0.345703125, 0.2294921875, 0.33984375, 0.03271484375, 0.302734375, -0.023681640625, -0.03515625, 0.2041015625, 0.162109375, -0.58203125, 0.7578125, -0.33984375, 0.171875, 0.53515625, -0.443359375, -0.404296875, 0.63671875, 0.291015625, -0.71875, 0.03857421875, -0.0634765625, 0.00921630859375, -0.0234375, 0.384765625, 0.061279296875, 0.546875, 0.08740234375, -0.54296875, 0.1083984375, -0.50390625, 0.279296875, -0.173828125, 0.1455078125, -0.208984375, -0.341796875, 0.1630859375, 0.37109375, 1.1171875, 0.0125732421875, 0.10400390625, -0.0106201171875, -0.56640625, 0.1259765625, -0.08447265625, 0.1513671875, -0.34375, 0.1298828125, 0.1943359375, 0.236328125, 0.474609375, 0.34765625, 0.25, 0.28515625, -0.291015625, -0.1728515625, 0.53125, -0.130859375, 0.298828125, -0.478515625, -0.30859375, -0.126953125, -0.05078125, -0.00750732421875, 0.13671875, 0.1591796875, 0.224609375, -0.1494140625, -0.6640625, 0.1650390625, -0.296875, 0.56640625, 0.08056640625, -0.10986328125, -0.046875, 0.053466796875, -0.263671875, -0.3125, -0.091796875, 0.1708984375, -0.55078125, -0.365234375, -0.1669921875, -0.07666015625, -0.2333984375, 0.267578125, 0.0142822265625, 0.10498046875, 0.1416015625, 0.1181640625, 0.173828125, 0.1494140625, -0.000720977783203125, 0.30859375, -0.03955078125, 0.0184326171875, 0.1806640625, 0.33203125, -0.1923828125, 0.388671875, -0.11474609375, 0.2734375, -0.326171875, 0.1552734375, 0.0242919921875, -0.390625, 0.640625, -0.31640625, -0.296875, -0.259765625, -0.33984375, -0.013916015625, 0.0712890625, -0.427734375, -0.0517578125, 0.2431640625, 0.314453125, -0.75390625, 0.0257568359375, -0.00634765625, -0.283203125, -0.052001953125, 0.23828125, -0.06298828125, -0.2275390625, -0.09228515625, 0.08544921875, 0.126953125, 0.0732421875, 0.056640625, 0.11181640625, 0.267578125, 0.10888671875, 0.08935546875, -0.388671875, -0.07568359375, 0.10693359375, -0.42578125, 0.07373046875, 0.15625, -0.0390625, 0.0128173828125, 0.5390625, 0.07421875, -0.037841796875, 0.2119140625, 0.115234375, -0.56640625, 0.2099609375, -0.06396484375, 0.0196533203125, -0.2890625, -0.08251953125, 0.263671875, 0.310546875, -0.2314453125, 0.00189208984375, 0.205078125, -0.2001953125, -0.05712890625, -0.392578125, -0.251953125, 0.5, 0.0286865234375, 0.10400390625, 0.296875, -0.421875, 0.408203125, -0.2197265625, 0.099609375, -0.0908203125, -0.12060546875, -0.001312255859375, 0.671875, -0.1279296875, -0.1630859375, -0.0654296875, 0.2890625, 0.0252685546875, -0.333984375, 0.0277099609375, 0.11083984375, 0.06103515625, -0.024169921875, 0.0712890625, -0.5, 0.3984375, -0.72265625, -0.34765625]\n"
     ]
    }
   ],
   "source": [
    "# validate that node has an embedding associated with it\n",
    "for idx, node in enumerate(nodes):\n",
    "    if node.id_ == \"node_0\":\n",
    "        print(node.embedding)"
   ]
  },
  {
   "cell_type": "markdown",
   "id": "2620ecd1-c357-49a0-8921-7de63903f870",
   "metadata": {},
   "source": [
    "## Create the VectorIndex \n",
    "This creates our vector database, in memory in this case,  using the nodes that were created in the previous step"
   ]
  },
  {
   "cell_type": "code",
   "execution_count": 25,
   "id": "25602778-44d3-4adf-b3e2-68b679feeea2",
   "metadata": {
    "tags": []
   },
   "outputs": [],
   "source": [
    "vector_index = VectorStoreIndex(nodes=nodes)"
   ]
  },
  {
   "cell_type": "markdown",
   "id": "d1fb1160-b3e8-445d-8680-fa9d46faea06",
   "metadata": {},
   "source": [
    "## Test that we have a valid starting point for our evaluation\n",
    "We run a quick system test with the defaul llama_index RAG workflow with a question that is relevant to our dataset"
   ]
  },
  {
   "cell_type": "markdown",
   "id": "ae3006bf-14de-4c74-93dd-3a584bcb5be9",
   "metadata": {},
   "source": [
    "Instantiate a query engine object"
   ]
  },
  {
   "cell_type": "code",
   "execution_count": 26,
   "id": "a7e3b4be-5fe1-4789-b7b9-bf17cb6a9f77",
   "metadata": {
    "tags": []
   },
   "outputs": [],
   "source": [
    "query_engine = vector_index.as_query_engine(llm=llm_mistral7b)"
   ]
  },
  {
   "cell_type": "markdown",
   "id": "47c163ad-7a8c-40e1-a9f4-8caac25e8dc1",
   "metadata": {},
   "source": [
    "Specify a question that has can be answered by the document(s) that have been ingested."
   ]
  },
  {
   "cell_type": "code",
   "execution_count": 72,
   "id": "0a3a8e95-22ae-45e2-9f9b-d0734d6a4bea",
   "metadata": {
    "tags": []
   },
   "outputs": [],
   "source": [
    "example_query=\"What are the historical consistency requirements of an armor?\""
   ]
  },
  {
   "cell_type": "markdown",
   "id": "1479cecf-4725-45f6-be71-7cd5bf4cf915",
   "metadata": {},
   "source": [
    "Run the default RAG pipeline with the example query. This should give a meaningful result. Don't worry if the answer is overly verbose, etc. We'll fix that later."
   ]
  },
  {
   "cell_type": "code",
   "execution_count": 28,
   "id": "d0a8af86-4544-4286-be1a-a32b7fe55c66",
   "metadata": {
    "tags": []
   },
   "outputs": [
    {
     "name": "stdout",
     "output_type": "stream",
     "text": [
      " An armor must align with historical sources and adhere to specific styles and time periods. It should not contain any indications of modern materials or manufacturing techniques. The armor's pieces, including shields and weapons, must consist of pieces from the same style. Styles are defined by their historical context and geographical location, such as Western European, Slavic, or Eastern influence. For Western European styles, there are distinct periods like the 14th, 15th, and transitional centuries. Prohibited features include neon colors, obvious nylon cords, plastic ties, visible welded seams, heat-induced discoloration, modern footwear, and other visible modern equipment.\n"
     ]
    }
   ],
   "source": [
    "response = query_engine.query(example_query)\n",
    "print(response)"
   ]
  },
  {
   "cell_type": "markdown",
   "id": "6c06687f-c443-4bdb-8e70-25686fbd3564",
   "metadata": {},
   "source": [
    "----"
   ]
  },
  {
   "cell_type": "markdown",
   "id": "6127b15d-cb49-43ab-8f8e-a908915eb6c4",
   "metadata": {
    "tags": []
   },
   "source": [
    "# Evaluate the retrieval accuracy of the VectorIndex"
   ]
  },
  {
   "cell_type": "markdown",
   "id": "85730c7c-81f2-493c-8fe0-3a59204e2b7f",
   "metadata": {
    "tags": []
   },
   "source": [
    "## Create a set of question and node (context) pairs to drive the tests that follow\n",
    "This uses the llm that give the methods and the document data stored in the nodes (created during document ingestion)\n",
    "\n",
    "This will make many calls to the specified LLM (num_questions_per_chunk * number of nodes). This will likely be throttled by Bedrock. The llama_index API will work through the throttling except in extreme cases."
   ]
  },
  {
   "cell_type": "code",
   "execution_count": 29,
   "id": "e3a0e486-180b-42e3-8ca3-852e73690c90",
   "metadata": {
    "tags": []
   },
   "outputs": [
    {
     "name": "stderr",
     "output_type": "stream",
     "text": [
      "100%|██████████| 25/25 [00:39<00:00,  1.59s/it]"
     ]
    },
    {
     "name": "stdout",
     "output_type": "stream",
     "text": [
      "CPU times: user 124 ms, sys: 11.1 ms, total: 135 ms\n",
      "Wall time: 39.8 s\n"
     ]
    },
    {
     "name": "stderr",
     "output_type": "stream",
     "text": [
      "\n"
     ]
    }
   ],
   "source": [
    "%%time\n",
    "qa_dataset = generate_question_context_pairs(nodes, num_questions_per_chunk=1)"
   ]
  },
  {
   "cell_type": "markdown",
   "id": "c9c9794d-4890-42ca-867b-5558955932e9",
   "metadata": {},
   "source": [
    "Take a look at the sample queries generated. This should show a meaningful questions related to your document content."
   ]
  },
  {
   "cell_type": "code",
   "execution_count": 30,
   "id": "0d29a7fc-22b4-4ff4-98d6-764280755a0e",
   "metadata": {
    "tags": []
   },
   "outputs": [
    {
     "name": "stdout",
     "output_type": "stream",
     "text": [
      "Based on the context information given, here is a question that could be asked for an upcoming quiz or examination:\n",
      "What are the historical consistency requirements for armor equipment according to the given document?\n",
      "In what categories does the document outline the use of armors, shields, and weapons in combat?\n",
      "Which historical period does the 14th century Western European style of armor belong to?\n",
      "If a competitor intends to use armor that deviates from the specified styles, what step must they take to ensure its validity according to the rules of Buhurt International?\n",
      "What are the two main responsibilities of every competitor regarding their equipment in full contact fights according to the given context?\n",
      "What are the minimum requirements for a helmet as stated in the context document, regarding protection and authenticity?\n",
      "What material is recommended for the dome and visor of a helmet according to the given document?\n",
      "What is the minimum recommended thickness for mild steel plates used in armor?\n",
      "Which type of armor is required for protecting joints according to the given document?\n",
      "Based on the changelog, when was the document first created?\n",
      "Based on the context information given, here is a question that could be asked for an upcoming quiz or examination:\n",
      "What are the different categories of weapons listed in the table of contents?\n",
      "What is the definition of equipment in the context of this document?\n",
      "Which time period does the 14th century Western European style armor belong to, according to the given context?\n",
      "Which time period does the Eastern influence in art and culture span, as specified in the context, and which modern countries are included in this influence?\n",
      "What is every competitor's responsibility regarding the quality and safety of their equipment according to the given context?\n",
      "What are the two main types of weapons mentioned in the context?\n",
      "What are the safety requirements for the radius and thickness of the edges of bladed weapons in a tournament?\n",
      "What are the two required methods for securing the head of a hafted weapon to the haft according to the given specifications?\n",
      "What type of material is strictly prohibited for making the haft of a weapon according to the given guidelines?\n",
      "What is the minimum distance from the top edge of the handle for outrance bladed weapons in women's fights?\n",
      "Which weapon categories are permitted for duels according to the given document?\n",
      "What type of weapons are allowed for use in Buhurt/Group combat based on the given document?\n",
      "Based on the changelog, what was added to the document regarding weapons in the update from December 2024?\n"
     ]
    }
   ],
   "source": [
    "for item in list(qa_dataset.queries.items()):\n",
    "    print(item[1])"
   ]
  },
  {
   "cell_type": "markdown",
   "id": "8d10a4af-f49d-4eea-82ca-e7d5cca9b990",
   "metadata": {},
   "source": [
    "## Instantiate a retriever against the index for testing\n",
    "\n"
   ]
  },
  {
   "cell_type": "markdown",
   "id": "735fad7c-f10c-46a3-8a9a-6d3e5c25b64d",
   "metadata": {},
   "source": [
    "### Set the number of items to return from the Retriever\n",
    "This is a trade-off item, more returned content is not always better. Consider how this may impact your pipeline and evaluation results and experiment with it."
   ]
  },
  {
   "cell_type": "code",
   "execution_count": 31,
   "id": "9d66407c-ea89-4c90-8be0-1bc70c2700fa",
   "metadata": {
    "tags": []
   },
   "outputs": [],
   "source": [
    "# After the first run, set this to match you intended configuration based on your learning from Capstone II\n",
    "# If you did not complete Capstone II then leave this as is\n",
    "\n",
    "\n",
    "number_of_items_to_return = 2\n",
    "# number_of_items_to_return = 3\n",
    "# number_of_items_to_return = 4\n"
   ]
  },
  {
   "cell_type": "code",
   "execution_count": 32,
   "id": "1d6db691-6af4-4856-8ad2-604c0c6f629c",
   "metadata": {
    "tags": []
   },
   "outputs": [],
   "source": [
    "retriever = vector_index.as_retriever(similarity_top_k=number_of_items_to_return)"
   ]
  },
  {
   "cell_type": "markdown",
   "id": "41ab82df-ebaa-4a2f-a98b-298198672f26",
   "metadata": {},
   "source": [
    "Run a quick system test on the retriever and check that the output nodes look reasonable"
   ]
  },
  {
   "cell_type": "code",
   "execution_count": 33,
   "id": "f5e6327e-46ca-4e1d-9979-11c86471d784",
   "metadata": {
    "tags": []
   },
   "outputs": [
    {
     "name": "stdout",
     "output_type": "stream",
     "text": [
      "[NodeWithScore(node=TextNode(id_='node_3', embedding=None, metadata={'page_label': '4', 'file_name': 'buhurt_armor_requirement.pdf', 'file_path': '/home/ec2-user/SageMaker/elvtr-ai-solution-architect/class-14/source_docs/buhurt_armor_requirement.pdf', 'file_type': 'application/pdf', 'file_size': 12555242, 'creation_date': '2025-02-25', 'last_modified_date': '2024-12-11', 'document_title': ' \"Historical Guidelines for Authenticity and Technical Requirements of Armor and Equipment in Western Europe (14th-17th Centuries) with Slavic and Eastern Influences (14th-17th Centuries)\"'}, excluded_embed_metadata_keys=['file_name', 'file_type', 'file_size', 'creation_date', 'last_modified_date', 'last_accessed_date'], excluded_llm_metadata_keys=['file_name', 'file_type', 'file_size', 'creation_date', 'last_modified_date', 'last_accessed_date'], relationships={<NodeRelationship.SOURCE: '1'>: RelatedNodeInfo(node_id='47874cfe-b2ef-47ff-a9e0-662a808695be', node_type='4', metadata={'page_label': '4', 'file_name': 'buhurt_armor_requirement.pdf', 'file_path': '/home/ec2-user/SageMaker/elvtr-ai-solution-architect/class-14/source_docs/buhurt_armor_requirement.pdf', 'file_type': 'application/pdf', 'file_size': 12555242, 'creation_date': '2025-02-25', 'last_modified_date': '2024-12-11'}, hash='b5e8d209574250c98800099c9321346a2374e4aa1e3608fc3f5b2f619cd6fa8a')}, metadata_template='{key}: {value}', metadata_separator='\\n', text='2. Historical ConsistencyRequirements\\n2.1.Equipmentfromhistoricalsources● Onlyarmorsderivedfromhistorical sourcesarepermittedforuse.● Armorsmust alignwithAuthenticityRulesdocuments.\\n2.2.Datesofsources● Armorsmust alignwithsourcesdatingbetweenthe14th(1300)and17th(1600)centuries.● For safety considerations, reproductions of armors predating the 13th century areprohibited.\\n2.3.Prohibitedfeatures● Prohibited features encompass evident indications of modern materials or manufacturingtechniques including: neoncolors, obvious nyloncords, plastic ties, visibleweldedseams,heat-induceddiscoloration, modernfootwearandothervisiblemodernequipment.\\n2.4.ConsistencyinEquipmentArmors, shields and weapons must consist of pieces fromthesamestyle. Distinct styles aredefinedinmodern-daytermsas:\\n2.4.1.WesternEuropestyle● 14thcentury:from1300to1380● Transitional:from1380to1420● 15th century: from1420 to 1500. XVth stylearmor must beapprovedby theAuthenticity Committee. We recommended seeking approval before buyingsucharmor.● Western Europe includes the following modern countries: Great Britain,Ireland, France, Portugal, Spain, Germany, Italy, Norway, Denmark, Sweden,Finland, Austria, Switzerland, Belgium, andtheNetherlands2.4.2.SlavicInfluence● Central Europe14th:from1300to1400● Russianlatearmors:from1500to1700● SlavicInfluenceincludesthefollowingmoderncountries:CzechRepublic,Romania, Hungary, Poland, Slovakia, Slovenia, Croatia, Latvia, Estonia,Moldova, Serbia, Ukraine, Russia, andBelarus.2.4.3.Easterninfluence● Chinesestyle: from1300to1600● Japanesesamurai style: from1400to1700● Middle-East style: from1300to1700● Easterninfluenceincludes thefollowingmoderncountries: China, Japan, India,Korea, Iran, Iraq, Turkey, Egypt\\nTechnicalRequirementsforarmors,weaponsandshields 3', mimetype='text/plain', start_char_idx=0, end_char_idx=1777, metadata_seperator='\\n', text_template='[Excerpt from document]\\n{metadata_str}\\nExcerpt:\\n-----\\n{content}\\n-----\\n'), score=0.6830399665622799), NodeWithScore(node=TextNode(id_='node_1', embedding=None, metadata={'page_label': '2', 'file_name': 'buhurt_armor_requirement.pdf', 'file_path': '/home/ec2-user/SageMaker/elvtr-ai-solution-architect/class-14/source_docs/buhurt_armor_requirement.pdf', 'file_type': 'application/pdf', 'file_size': 12555242, 'creation_date': '2025-02-25', 'last_modified_date': '2024-12-11', 'document_title': ' Title: Medieval Armor and Equipment: A Comprehensive Guide to Protection, Historical Authenticity, and Safety Regulations.'}, excluded_embed_metadata_keys=['file_name', 'file_type', 'file_size', 'creation_date', 'last_modified_date', 'last_accessed_date'], excluded_llm_metadata_keys=['file_name', 'file_type', 'file_size', 'creation_date', 'last_modified_date', 'last_accessed_date'], relationships={<NodeRelationship.SOURCE: '1'>: RelatedNodeInfo(node_id='537c222c-c45e-476f-8fab-65e2ed5da49a', node_type='4', metadata={'page_label': '2', 'file_name': 'buhurt_armor_requirement.pdf', 'file_path': '/home/ec2-user/SageMaker/elvtr-ai-solution-architect/class-14/source_docs/buhurt_armor_requirement.pdf', 'file_type': 'application/pdf', 'file_size': 12555242, 'creation_date': '2025-02-25', 'last_modified_date': '2024-12-11'}, hash='db6258a80a61cfcaddc7c741dd46f52877cf830fdac187095d812651ad936658')}, metadata_template='{key}: {value}', metadata_separator='\\n', text='Technical RequirementsforArmor\\nTableofContents\\nTechnicalRequirementsforArmor 11.IntroductionandDefinitions 21.1.Equipment 21.2.List 21.3.Categories 21.4.Historicalsources 22.HistoricalConsistencyRequirements 32.1.Equipmentfromhistoricalsources 32.2.Datesofsources 32.3.Prohibitedfeatures 32.4.ConsistencyinEquipment 32.4.1.WesternEuropestyle 32.4.2.SlavicInfluence 32.4.3.Easterninfluence 32.4.4.Authorizeddeviations 43.GeneralRequirements 53.1.Competitorresponsibility 53.2.Qualityequipment 53.3.Safeequipment 53.4.Accesstothelist 54.Helmetsrequirements 64.1.Protection 64.2.Thicknessandcomposition 74.3.Coif 74.4.Chinstrap 74.5.Neckprotection 75.Armorrequirements 85.1.Metalthicknessrecommendations 85.2.Chest 85.3.Groin 85.4.Hands 85.5.Arms 85.6.Joints 95.7.Legs 95.8.Feet 95.9.Shoes 96.Changelog 10\\nTechnicalRequirementsforarmors,weaponsandshields 1', mimetype='text/plain', start_char_idx=0, end_char_idx=853, metadata_seperator='\\n', text_template='[Excerpt from document]\\n{metadata_str}\\nExcerpt:\\n-----\\n{content}\\n-----\\n'), score=0.6586338239911108)]\n"
     ]
    }
   ],
   "source": [
    "retrieved_nodes = retriever.retrieve(example_query)\n",
    "print(retrieved_nodes)"
   ]
  },
  {
   "cell_type": "markdown",
   "id": "ae7f47e2-1e69-4a8e-a26c-886ef2e4dd3c",
   "metadata": {
    "tags": []
   },
   "source": [
    "## Evaluate the Quality of Retrieval from the VectorIndex"
   ]
  },
  {
   "cell_type": "code",
   "execution_count": 34,
   "id": "20614f76-9896-4253-8a5e-e101a1f082ce",
   "metadata": {
    "tags": []
   },
   "outputs": [],
   "source": [
    "# This is a helper function to output the results of the evaluation\n",
    "\n",
    "def display_results(name, eval_results):\n",
    "    metric_dicts = []\n",
    "    for eval_result in eval_results:\n",
    "        metric_dict = eval_result.metric_vals_dict\n",
    "        metric_dicts.append(metric_dict)\n",
    "\n",
    "    full_df = pd.DataFrame(metric_dicts)\n",
    "    mrr = full_df[\"mrr\"].mean()\n",
    "    precision = full_df[\"precision\"].mean()\n",
    "    recall = full_df[\"recall\"].mean()\n",
    "\n",
    "    metric_df = pd.DataFrame({\"retrievers\": [name], \"mrr\": [mrr],\n",
    "                              \"precision\": [precision], \"recall\": [recall],\n",
    "                             })\n",
    "    return metric_df, full_df\n"
   ]
  },
  {
   "cell_type": "markdown",
   "id": "5768664c-f6da-4870-a882-1affb219a2d1",
   "metadata": {},
   "source": [
    "Instantiate a RetrieverEvaluator with the metrics that we want to review"
   ]
  },
  {
   "cell_type": "code",
   "execution_count": 35,
   "id": "99063386-621d-4ee7-93e6-17ab95e49839",
   "metadata": {
    "tags": []
   },
   "outputs": [],
   "source": [
    "metrics = [\"mrr\", \"precision\", \"recall\"]\n",
    "\n",
    "retriever_evaluator = RetrieverEvaluator.from_metric_names(metrics, retriever=retriever)"
   ]
  },
  {
   "cell_type": "code",
   "execution_count": 36,
   "id": "26ffc053-eab3-42f8-8b21-d8abcc5e19e4",
   "metadata": {
    "tags": []
   },
   "outputs": [
    {
     "name": "stdout",
     "output_type": "stream",
     "text": [
      "Query: Which historical period does the 14th century Western European style of armor belong to?\n",
      "Metrics: {'mrr': 1.0, 'precision': 0.5, 'recall': 1.0}\n",
      "\n"
     ]
    }
   ],
   "source": [
    "# Evaluate on a single query\n",
    "# The output is verbose, but may be useful for looking at specific results\n",
    "\n",
    "query_id = 3  # change this to math the query id of interest\n",
    "\n",
    "sample_id, sample_query = list(qa_dataset.queries.items())[query_id]\n",
    "sample_expected = qa_dataset.relevant_docs[sample_id]\n",
    "\n",
    "eval_result = retriever_evaluator.evaluate(sample_query, sample_expected)\n",
    "print(eval_result)"
   ]
  },
  {
   "cell_type": "raw",
   "id": "57dff4ff-0e7c-4006-bab6-241c40749d70",
   "metadata": {
    "tags": []
   },
   "source": [
    "# to see detail on which nodes were returned, etc, we can look at the whole returned object\n",
    "eval_result"
   ]
  },
  {
   "cell_type": "markdown",
   "id": "b3b47bbc-49e5-4c76-9894-276fc2c93529",
   "metadata": {
    "tags": []
   },
   "source": [
    "### Run evaulation on the entire test dataset (autogenerated above)"
   ]
  },
  {
   "cell_type": "code",
   "execution_count": 37,
   "id": "9e410697-2972-4b9f-8f8d-94d477afdc32",
   "metadata": {
    "tags": []
   },
   "outputs": [],
   "source": [
    "eval_results = await retriever_evaluator.aevaluate_dataset(qa_dataset)"
   ]
  },
  {
   "cell_type": "markdown",
   "id": "5c1159cf-271e-46b2-8264-4bd89b39b648",
   "metadata": {},
   "source": [
    "### Top-level Evaluation Results"
   ]
  },
  {
   "cell_type": "code",
   "execution_count": 38,
   "id": "42016d73-4f1a-4d09-adc0-5bd8a8ffda85",
   "metadata": {
    "tags": []
   },
   "outputs": [
    {
     "data": {
      "text/html": [
       "<div>\n",
       "<style scoped>\n",
       "    .dataframe tbody tr th:only-of-type {\n",
       "        vertical-align: middle;\n",
       "    }\n",
       "\n",
       "    .dataframe tbody tr th {\n",
       "        vertical-align: top;\n",
       "    }\n",
       "\n",
       "    .dataframe thead th {\n",
       "        text-align: right;\n",
       "    }\n",
       "</style>\n",
       "<table border=\"1\" class=\"dataframe\">\n",
       "  <thead>\n",
       "    <tr style=\"text-align: right;\">\n",
       "      <th></th>\n",
       "      <th>retrievers</th>\n",
       "      <th>mrr</th>\n",
       "      <th>precision</th>\n",
       "      <th>recall</th>\n",
       "    </tr>\n",
       "  </thead>\n",
       "  <tbody>\n",
       "    <tr>\n",
       "      <th>0</th>\n",
       "      <td>top-2 eval</td>\n",
       "      <td>0.78</td>\n",
       "      <td>0.44</td>\n",
       "      <td>0.88</td>\n",
       "    </tr>\n",
       "  </tbody>\n",
       "</table>\n",
       "</div>"
      ],
      "text/plain": [
       "   retrievers   mrr  precision  recall\n",
       "0  top-2 eval  0.78       0.44    0.88"
      ]
     },
     "execution_count": 38,
     "metadata": {},
     "output_type": "execute_result"
    }
   ],
   "source": [
    "summary, detail = display_results(f\"top-{number_of_items_to_return} eval\", eval_results)\n",
    "summary"
   ]
  },
  {
   "cell_type": "raw",
   "id": "207ec94b-a906-49ca-97b6-a15747cade35",
   "metadata": {
    "tags": []
   },
   "source": [
    "# Optionally, look at the detailed, question by question metrics:\n",
    "detail"
   ]
  },
  {
   "cell_type": "markdown",
   "id": "17827f44-aabe-4af1-ab51-3815917a2be1",
   "metadata": {},
   "source": [
    "----\n",
    "### This completes setting up the retriever and validating it's level of accuracy\n",
    "\n",
    "The following sections are the focus of this notebook."
   ]
  },
  {
   "cell_type": "markdown",
   "id": "4cc90e07-f53e-4db5-87d8-e17d9d853cf4",
   "metadata": {},
   "source": [
    "----"
   ]
  },
  {
   "cell_type": "markdown",
   "id": "8a84eb9c-5535-4bff-bd3d-637e57297817",
   "metadata": {},
   "source": [
    "## Automating Q&A Generation with LllamaIndex"
   ]
  },
  {
   "cell_type": "markdown",
   "id": "b48f494f-d21f-4cdc-b1e9-5772fcc8e423",
   "metadata": {
    "tags": []
   },
   "source": [
    "LllamaInex provides tools designed to automatically generate datasets when provided with a set of documents to query. In the example below, we use the **RagDatasetGenerator** class to generate evaluation questions and reference answers(ground truth) from the source documents and the specified number of questions per node."
   ]
  },
  {
   "cell_type": "code",
   "execution_count": 39,
   "id": "12ca9b3e-8dc0-459e-a448-80e410ae43e4",
   "metadata": {
    "tags": []
   },
   "outputs": [
    {
     "name": "stdout",
     "output_type": "stream",
     "text": [
      "Requirement already satisfied: spacy in /home/ec2-user/anaconda3/envs/python3/lib/python3.10/site-packages (3.8.4)\n",
      "Requirement already satisfied: spacy-legacy<3.1.0,>=3.0.11 in /home/ec2-user/anaconda3/envs/python3/lib/python3.10/site-packages (from spacy) (3.0.12)\n",
      "Requirement already satisfied: spacy-loggers<2.0.0,>=1.0.0 in /home/ec2-user/anaconda3/envs/python3/lib/python3.10/site-packages (from spacy) (1.0.5)\n",
      "Requirement already satisfied: murmurhash<1.1.0,>=0.28.0 in /home/ec2-user/anaconda3/envs/python3/lib/python3.10/site-packages (from spacy) (1.0.12)\n",
      "Requirement already satisfied: cymem<2.1.0,>=2.0.2 in /home/ec2-user/anaconda3/envs/python3/lib/python3.10/site-packages (from spacy) (2.0.11)\n",
      "Requirement already satisfied: preshed<3.1.0,>=3.0.2 in /home/ec2-user/anaconda3/envs/python3/lib/python3.10/site-packages (from spacy) (3.0.9)\n",
      "Requirement already satisfied: thinc<8.4.0,>=8.3.4 in /home/ec2-user/anaconda3/envs/python3/lib/python3.10/site-packages (from spacy) (8.3.4)\n",
      "Requirement already satisfied: wasabi<1.2.0,>=0.9.1 in /home/ec2-user/anaconda3/envs/python3/lib/python3.10/site-packages (from spacy) (1.1.3)\n",
      "Requirement already satisfied: srsly<3.0.0,>=2.4.3 in /home/ec2-user/anaconda3/envs/python3/lib/python3.10/site-packages (from spacy) (2.5.1)\n",
      "Requirement already satisfied: catalogue<2.1.0,>=2.0.6 in /home/ec2-user/anaconda3/envs/python3/lib/python3.10/site-packages (from spacy) (2.0.10)\n",
      "Requirement already satisfied: weasel<0.5.0,>=0.1.0 in /home/ec2-user/anaconda3/envs/python3/lib/python3.10/site-packages (from spacy) (0.4.1)\n",
      "Requirement already satisfied: typer<1.0.0,>=0.3.0 in /home/ec2-user/anaconda3/envs/python3/lib/python3.10/site-packages (from spacy) (0.15.1)\n",
      "Requirement already satisfied: tqdm<5.0.0,>=4.38.0 in /home/ec2-user/anaconda3/envs/python3/lib/python3.10/site-packages (from spacy) (4.67.1)\n",
      "Requirement already satisfied: numpy>=1.19.0 in /home/ec2-user/anaconda3/envs/python3/lib/python3.10/site-packages (from spacy) (1.26.4)\n",
      "Requirement already satisfied: requests<3.0.0,>=2.13.0 in /home/ec2-user/anaconda3/envs/python3/lib/python3.10/site-packages (from spacy) (2.32.3)\n",
      "Requirement already satisfied: pydantic!=1.8,!=1.8.1,<3.0.0,>=1.7.4 in /home/ec2-user/anaconda3/envs/python3/lib/python3.10/site-packages (from spacy) (2.10.6)\n",
      "Requirement already satisfied: jinja2 in /home/ec2-user/anaconda3/envs/python3/lib/python3.10/site-packages (from spacy) (3.1.5)\n",
      "Requirement already satisfied: setuptools in /home/ec2-user/anaconda3/envs/python3/lib/python3.10/site-packages (from spacy) (75.8.0)\n",
      "Requirement already satisfied: packaging>=20.0 in /home/ec2-user/anaconda3/envs/python3/lib/python3.10/site-packages (from spacy) (21.3)\n",
      "Requirement already satisfied: langcodes<4.0.0,>=3.2.0 in /home/ec2-user/anaconda3/envs/python3/lib/python3.10/site-packages (from spacy) (3.5.0)\n",
      "Requirement already satisfied: language-data>=1.2 in /home/ec2-user/anaconda3/envs/python3/lib/python3.10/site-packages (from langcodes<4.0.0,>=3.2.0->spacy) (1.3.0)\n",
      "Requirement already satisfied: pyparsing!=3.0.5,>=2.0.2 in /home/ec2-user/anaconda3/envs/python3/lib/python3.10/site-packages (from packaging>=20.0->spacy) (3.2.1)\n",
      "Requirement already satisfied: annotated-types>=0.6.0 in /home/ec2-user/anaconda3/envs/python3/lib/python3.10/site-packages (from pydantic!=1.8,!=1.8.1,<3.0.0,>=1.7.4->spacy) (0.7.0)\n",
      "Requirement already satisfied: pydantic-core==2.27.2 in /home/ec2-user/anaconda3/envs/python3/lib/python3.10/site-packages (from pydantic!=1.8,!=1.8.1,<3.0.0,>=1.7.4->spacy) (2.27.2)\n",
      "Requirement already satisfied: typing-extensions>=4.12.2 in /home/ec2-user/anaconda3/envs/python3/lib/python3.10/site-packages (from pydantic!=1.8,!=1.8.1,<3.0.0,>=1.7.4->spacy) (4.12.2)\n",
      "Requirement already satisfied: charset_normalizer<4,>=2 in /home/ec2-user/anaconda3/envs/python3/lib/python3.10/site-packages (from requests<3.0.0,>=2.13.0->spacy) (3.4.1)\n",
      "Requirement already satisfied: idna<4,>=2.5 in /home/ec2-user/anaconda3/envs/python3/lib/python3.10/site-packages (from requests<3.0.0,>=2.13.0->spacy) (3.10)\n",
      "Requirement already satisfied: urllib3<3,>=1.21.1 in /home/ec2-user/anaconda3/envs/python3/lib/python3.10/site-packages (from requests<3.0.0,>=2.13.0->spacy) (2.3.0)\n",
      "Requirement already satisfied: certifi>=2017.4.17 in /home/ec2-user/anaconda3/envs/python3/lib/python3.10/site-packages (from requests<3.0.0,>=2.13.0->spacy) (2025.1.31)\n",
      "Requirement already satisfied: blis<1.3.0,>=1.2.0 in /home/ec2-user/anaconda3/envs/python3/lib/python3.10/site-packages (from thinc<8.4.0,>=8.3.4->spacy) (1.2.0)\n",
      "Requirement already satisfied: confection<1.0.0,>=0.0.1 in /home/ec2-user/anaconda3/envs/python3/lib/python3.10/site-packages (from thinc<8.4.0,>=8.3.4->spacy) (0.1.5)\n",
      "Requirement already satisfied: click>=8.0.0 in /home/ec2-user/anaconda3/envs/python3/lib/python3.10/site-packages (from typer<1.0.0,>=0.3.0->spacy) (8.1.8)\n",
      "Requirement already satisfied: shellingham>=1.3.0 in /home/ec2-user/anaconda3/envs/python3/lib/python3.10/site-packages (from typer<1.0.0,>=0.3.0->spacy) (1.5.4)\n",
      "Requirement already satisfied: rich>=10.11.0 in /home/ec2-user/anaconda3/envs/python3/lib/python3.10/site-packages (from typer<1.0.0,>=0.3.0->spacy) (13.9.4)\n",
      "Requirement already satisfied: cloudpathlib<1.0.0,>=0.7.0 in /home/ec2-user/anaconda3/envs/python3/lib/python3.10/site-packages (from weasel<0.5.0,>=0.1.0->spacy) (0.20.0)\n",
      "Requirement already satisfied: smart-open<8.0.0,>=5.2.1 in /home/ec2-user/anaconda3/envs/python3/lib/python3.10/site-packages (from weasel<0.5.0,>=0.1.0->spacy) (7.1.0)\n",
      "Requirement already satisfied: MarkupSafe>=2.0 in /home/ec2-user/anaconda3/envs/python3/lib/python3.10/site-packages (from jinja2->spacy) (3.0.2)\n",
      "Requirement already satisfied: marisa-trie>=1.1.0 in /home/ec2-user/anaconda3/envs/python3/lib/python3.10/site-packages (from language-data>=1.2->langcodes<4.0.0,>=3.2.0->spacy) (1.2.1)\n",
      "Requirement already satisfied: markdown-it-py>=2.2.0 in /home/ec2-user/anaconda3/envs/python3/lib/python3.10/site-packages (from rich>=10.11.0->typer<1.0.0,>=0.3.0->spacy) (3.0.0)\n",
      "Requirement already satisfied: pygments<3.0.0,>=2.13.0 in /home/ec2-user/anaconda3/envs/python3/lib/python3.10/site-packages (from rich>=10.11.0->typer<1.0.0,>=0.3.0->spacy) (2.19.1)\n",
      "Requirement already satisfied: wrapt in /home/ec2-user/anaconda3/envs/python3/lib/python3.10/site-packages (from smart-open<8.0.0,>=5.2.1->weasel<0.5.0,>=0.1.0->spacy) (1.17.2)\n",
      "Requirement already satisfied: mdurl~=0.1 in /home/ec2-user/anaconda3/envs/python3/lib/python3.10/site-packages (from markdown-it-py>=2.2.0->rich>=10.11.0->typer<1.0.0,>=0.3.0->spacy) (0.1.2)\n",
      "Note: you may need to restart the kernel to use updated packages.\n"
     ]
    }
   ],
   "source": [
    "%pip install spacy"
   ]
  },
  {
   "cell_type": "code",
   "execution_count": 40,
   "id": "b0850bee-7091-41de-bc3a-223ab69ae686",
   "metadata": {
    "tags": []
   },
   "outputs": [],
   "source": [
    "from llama_index.core.llama_dataset.generator import RagDatasetGenerator, LabelledRagDataset"
   ]
  },
  {
   "cell_type": "code",
   "execution_count": 41,
   "id": "a98e2376-c4d8-4b2e-86d9-846b5e8848e0",
   "metadata": {
    "tags": []
   },
   "outputs": [],
   "source": [
    "from llama_index.core.llama_dataset import (\n",
    "    LabelledRagDataset,\n",
    "    CreatedBy,\n",
    "    CreatedByType,\n",
    "    LabelledRagDataExample,\n",
    "    BaseLlamaDataset\n",
    ")"
   ]
  },
  {
   "cell_type": "code",
   "execution_count": 42,
   "id": "490427cc-b41e-451a-af8b-66f4e4579db3",
   "metadata": {
    "tags": []
   },
   "outputs": [
    {
     "data": {
      "application/vnd.jupyter.widget-view+json": {
       "model_id": "4426a7b3a40d408e8760cb62767ded31",
       "version_major": 2,
       "version_minor": 0
      },
      "text/plain": [
       "Parsing nodes:   0%|          | 0/25 [00:00<?, ?it/s]"
      ]
     },
     "metadata": {},
     "output_type": "display_data"
    },
    {
     "name": "stdout",
     "output_type": "stream",
     "text": [
      "Number of nodes created: 25\n"
     ]
    }
   ],
   "source": [
    "\n",
    "dataset_generator = RagDatasetGenerator.from_documents(\n",
    "    documents=documents,\n",
    "    llm=llm_mixtral8x7b,\n",
    "    num_questions_per_chunk=1, # set the number of questions per nodes\n",
    "    show_progress=True,\n",
    ")\n",
    "\n",
    "print(f\"Number of nodes created: {len(dataset_generator.nodes)}\")\n"
   ]
  },
  {
   "cell_type": "code",
   "execution_count": 43,
   "id": "4ad80cff-f70e-40ff-979b-be554580feaa",
   "metadata": {
    "tags": []
   },
   "outputs": [
    {
     "name": "stderr",
     "output_type": "stream",
     "text": [
      "100%|██████████| 25/25 [00:39<00:00,  1.59s/it]\n",
      "100%|██████████| 1/1 [00:03<00:00,  3.06s/it]\n",
      "100%|██████████| 1/1 [00:10<00:00, 10.47s/it]\n",
      "100%|██████████| 1/1 [00:03<00:00,  3.34s/it]\n",
      "100%|██████████| 1/1 [00:04<00:00,  4.26s/it]\n",
      "100%|██████████| 1/1 [00:01<00:00,  1.84s/it]\n",
      "100%|██████████| 1/1 [00:02<00:00,  2.63s/it]\n",
      "100%|██████████| 1/1 [00:03<00:00,  3.15s/it]\n",
      "100%|██████████| 1/1 [00:02<00:00,  2.97s/it]\n",
      "100%|██████████| 1/1 [00:02<00:00,  2.42s/it]\n",
      "100%|██████████| 1/1 [00:03<00:00,  3.09s/it]\n",
      "100%|██████████| 1/1 [00:01<00:00,  1.02s/it]\n",
      "100%|██████████| 1/1 [00:02<00:00,  2.47s/it]\n",
      "100%|██████████| 1/1 [00:05<00:00,  5.03s/it]\n",
      "100%|██████████| 1/1 [00:02<00:00,  2.39s/it]\n",
      "100%|██████████| 1/1 [00:02<00:00,  2.74s/it]\n",
      "100%|██████████| 1/1 [00:03<00:00,  3.97s/it]\n",
      "100%|██████████| 1/1 [00:03<00:00,  3.76s/it]\n",
      "100%|██████████| 1/1 [00:04<00:00,  4.22s/it]\n",
      "100%|██████████| 1/1 [00:01<00:00,  1.04s/it]\n",
      "100%|██████████| 1/1 [00:01<00:00,  1.33s/it]\n",
      "100%|██████████| 1/1 [00:05<00:00,  5.41s/it]\n",
      "100%|██████████| 1/1 [00:03<00:00,  3.14s/it]\n",
      "100%|██████████| 1/1 [00:04<00:00,  4.29s/it]\n",
      "100%|██████████| 1/1 [00:04<00:00,  4.35s/it]\n",
      "100%|██████████| 1/1 [00:00<00:00,  1.05it/s]"
     ]
    },
    {
     "name": "stdout",
     "output_type": "stream",
     "text": [
      "CPU times: user 584 ms, sys: 69.9 ms, total: 654 ms\n",
      "Wall time: 2min 3s\n"
     ]
    },
    {
     "name": "stderr",
     "output_type": "stream",
     "text": [
      "\n"
     ]
    },
    {
     "data": {
      "text/html": [
       "<div>\n",
       "<style scoped>\n",
       "    .dataframe tbody tr th:only-of-type {\n",
       "        vertical-align: middle;\n",
       "    }\n",
       "\n",
       "    .dataframe tbody tr th {\n",
       "        vertical-align: top;\n",
       "    }\n",
       "\n",
       "    .dataframe thead th {\n",
       "        text-align: right;\n",
       "    }\n",
       "</style>\n",
       "<table border=\"1\" class=\"dataframe\">\n",
       "  <thead>\n",
       "    <tr style=\"text-align: right;\">\n",
       "      <th></th>\n",
       "      <th>query</th>\n",
       "      <th>reference_contexts</th>\n",
       "      <th>reference_answer</th>\n",
       "      <th>reference_answer_by</th>\n",
       "      <th>query_by</th>\n",
       "    </tr>\n",
       "  </thead>\n",
       "  <tbody>\n",
       "    <tr>\n",
       "      <th>0</th>\n",
       "      <td>Question: According to the \"buhurt_armor_requi...</td>\n",
       "      <td>[]</td>\n",
       "      <td>To provide an accurate answer, I would need a...</td>\n",
       "      <td>ai (mistral.mixtral-8x7b-instruct-v0:1)</td>\n",
       "      <td>ai (mistral.mixtral-8x7b-instruct-v0:1)</td>\n",
       "    </tr>\n",
       "    <tr>\n",
       "      <th>1</th>\n",
       "      <td>Question: Based on the \"Technical Requirements...</td>\n",
       "      <td>[Technical RequirementsforArmor\\nTableofConten...</td>\n",
       "      <td>The \"Technical Requirements for Armor\" docume...</td>\n",
       "      <td>ai (mistral.mixtral-8x7b-instruct-v0:1)</td>\n",
       "      <td>ai (mistral.mixtral-8x7b-instruct-v0:1)</td>\n",
       "    </tr>\n",
       "    <tr>\n",
       "      <th>2</th>\n",
       "      <td>\"Can you explain the role and responsibility o...</td>\n",
       "      <td>[1. IntroductionandDefinitions\\nThisdocument w...</td>\n",
       "      <td>Based on the introduction of the document rel...</td>\n",
       "      <td>ai (mistral.mixtral-8x7b-instruct-v0:1)</td>\n",
       "      <td>ai (mistral.mixtral-8x7b-instruct-v0:1)</td>\n",
       "    </tr>\n",
       "    <tr>\n",
       "      <th>3</th>\n",
       "      <td>\"Explain the prohibited features for armors an...</td>\n",
       "      <td>[2. Historical ConsistencyRequirements\\n2.1.Eq...</td>\n",
       "      <td>According to the given document, prohibited f...</td>\n",
       "      <td>ai (mistral.mixtral-8x7b-instruct-v0:1)</td>\n",
       "      <td>ai (mistral.mixtral-8x7b-instruct-v0:1)</td>\n",
       "    </tr>\n",
       "    <tr>\n",
       "      <th>4</th>\n",
       "      <td>\"What is the process for competitors to deviat...</td>\n",
       "      <td>[2.4.4.Authorizeddeviations● Competitors may d...</td>\n",
       "      <td>Competitors can deviate from the specified st...</td>\n",
       "      <td>ai (mistral.mixtral-8x7b-instruct-v0:1)</td>\n",
       "      <td>ai (mistral.mixtral-8x7b-instruct-v0:1)</td>\n",
       "    </tr>\n",
       "    <tr>\n",
       "      <th>5</th>\n",
       "      <td>For this quiz/examination, your task is to ans...</td>\n",
       "      <td>[3. General Requirements\\n3.1.Competitorrespon...</td>\n",
       "      <td>Which body parts must be protected by the arm...</td>\n",
       "      <td>ai (mistral.mixtral-8x7b-instruct-v0:1)</td>\n",
       "      <td>ai (mistral.mixtral-8x7b-instruct-v0:1)</td>\n",
       "    </tr>\n",
       "    <tr>\n",
       "      <th>6</th>\n",
       "      <td>Question: According to the \"BuHurt Armor Requi...</td>\n",
       "      <td>[4. Helmetsrequirements\\n4.1.Protection● Ahelm...</td>\n",
       "      <td>According to the \"BuHurt Armor Requirement\" d...</td>\n",
       "      <td>ai (mistral.mixtral-8x7b-instruct-v0:1)</td>\n",
       "      <td>ai (mistral.mixtral-8x7b-instruct-v0:1)</td>\n",
       "    </tr>\n",
       "    <tr>\n",
       "      <th>7</th>\n",
       "      <td>For the upcoming quiz/examination, one questio...</td>\n",
       "      <td>[4.2.Thicknessandcomposition● Domeandvisormust...</td>\n",
       "      <td>Sure, here's an example question that could b...</td>\n",
       "      <td>ai (mistral.mixtral-8x7b-instruct-v0:1)</td>\n",
       "      <td>ai (mistral.mixtral-8x7b-instruct-v0:1)</td>\n",
       "    </tr>\n",
       "    <tr>\n",
       "      <th>8</th>\n",
       "      <td>For the upcoming quiz, one question based on t...</td>\n",
       "      <td>[5. Armorrequirements\\n5.1.Metalthicknessrecom...</td>\n",
       "      <td>Sure, here's an example of a potential quiz q...</td>\n",
       "      <td>ai (mistral.mixtral-8x7b-instruct-v0:1)</td>\n",
       "      <td>ai (mistral.mixtral-8x7b-instruct-v0:1)</td>\n",
       "    </tr>\n",
       "    <tr>\n",
       "      <th>9</th>\n",
       "      <td>For the upcoming quiz/examination, one questio...</td>\n",
       "      <td>[5.6.Joints● All joints (shoulders, elbows, kn...</td>\n",
       "      <td>Sure, here's an example question that could b...</td>\n",
       "      <td>ai (mistral.mixtral-8x7b-instruct-v0:1)</td>\n",
       "      <td>ai (mistral.mixtral-8x7b-instruct-v0:1)</td>\n",
       "    </tr>\n",
       "    <tr>\n",
       "      <th>10</th>\n",
       "      <td>Question: Based on the provided document chang...</td>\n",
       "      <td>[6. Changelog\\nThiswill bethechangelogof thisd...</td>\n",
       "      <td>Based on the provided document changelog, the...</td>\n",
       "      <td>ai (mistral.mixtral-8x7b-instruct-v0:1)</td>\n",
       "      <td>ai (mistral.mixtral-8x7b-instruct-v0:1)</td>\n",
       "    </tr>\n",
       "    <tr>\n",
       "      <th>11</th>\n",
       "      <td>Based on the provided context information, her...</td>\n",
       "      <td>[]</td>\n",
       "      <td>Based on the provided context information, I ...</td>\n",
       "      <td>ai (mistral.mixtral-8x7b-instruct-v0:1)</td>\n",
       "      <td>ai (mistral.mixtral-8x7b-instruct-v0:1)</td>\n",
       "    </tr>\n",
       "    <tr>\n",
       "      <th>12</th>\n",
       "      <td>Question: Based on the \"Historical Consistency...</td>\n",
       "      <td>[Technical RequirementsforWeaponsTableofConten...</td>\n",
       "      <td>Based on the \"Historical Consistency Requirem...</td>\n",
       "      <td>ai (mistral.mixtral-8x7b-instruct-v0:1)</td>\n",
       "      <td>ai (mistral.mixtral-8x7b-instruct-v0:1)</td>\n",
       "    </tr>\n",
       "    <tr>\n",
       "      <th>13</th>\n",
       "      <td>Question: Based on the document, what is the r...</td>\n",
       "      <td>[IntroductionandDefinitions\\nThisdocument will...</td>\n",
       "      <td>Authenticity Officers are responsible for ens...</td>\n",
       "      <td>ai (mistral.mixtral-8x7b-instruct-v0:1)</td>\n",
       "      <td>ai (mistral.mixtral-8x7b-instruct-v0:1)</td>\n",
       "    </tr>\n",
       "    <tr>\n",
       "      <th>14</th>\n",
       "      <td>What modern countries are included in the West...</td>\n",
       "      <td>[2.Historical ConsistencyRequirements\\n2.1.Equ...</td>\n",
       "      <td>The Western Europe style definition for armor...</td>\n",
       "      <td>ai (mistral.mixtral-8x7b-instruct-v0:1)</td>\n",
       "      <td>ai (mistral.mixtral-8x7b-instruct-v0:1)</td>\n",
       "    </tr>\n",
       "    <tr>\n",
       "      <th>15</th>\n",
       "      <td>\"Describe the authorized deviations for compet...</td>\n",
       "      <td>[2.4.3. Easterninfluence● Chinesestyle: from13...</td>\n",
       "      <td>According to the given document, competitors ...</td>\n",
       "      <td>ai (mistral.mixtral-8x7b-instruct-v0:1)</td>\n",
       "      <td>ai (mistral.mixtral-8x7b-instruct-v0:1)</td>\n",
       "    </tr>\n",
       "    <tr>\n",
       "      <th>16</th>\n",
       "      <td>For the upcoming quiz/examination, one questio...</td>\n",
       "      <td>[3.General Requirements\\n3.1.Competitorrespons...</td>\n",
       "      <td>Sure, here's a potential question related to ...</td>\n",
       "      <td>ai (mistral.mixtral-8x7b-instruct-v0:1)</td>\n",
       "      <td>ai (mistral.mixtral-8x7b-instruct-v0:1)</td>\n",
       "    </tr>\n",
       "    <tr>\n",
       "      <th>17</th>\n",
       "      <td>What are the two main types of weapons, and pr...</td>\n",
       "      <td>[4. Weaponsrequirements\\n4.1.TypesofweaponsThe...</td>\n",
       "      <td>The two main types of weapons are bladed weap...</td>\n",
       "      <td>ai (mistral.mixtral-8x7b-instruct-v0:1)</td>\n",
       "      <td>ai (mistral.mixtral-8x7b-instruct-v0:1)</td>\n",
       "    </tr>\n",
       "    <tr>\n",
       "      <th>18</th>\n",
       "      <td>\"What is the maximum allowable extension of th...</td>\n",
       "      <td>[5. General requirements\\n5.1.Safetyrequiremen...</td>\n",
       "      <td>The maximum allowable extension of the guard ...</td>\n",
       "      <td>ai (mistral.mixtral-8x7b-instruct-v0:1)</td>\n",
       "      <td>ai (mistral.mixtral-8x7b-instruct-v0:1)</td>\n",
       "    </tr>\n",
       "    <tr>\n",
       "      <th>19</th>\n",
       "      <td>What is the minimum number of methods required...</td>\n",
       "      <td>[5.4.Specificrequirementsforhaftedweapons\\n5.4...</td>\n",
       "      <td>According to the specific requirements for ha...</td>\n",
       "      <td>ai (mistral.mixtral-8x7b-instruct-v0:1)</td>\n",
       "      <td>ai (mistral.mixtral-8x7b-instruct-v0:1)</td>\n",
       "    </tr>\n",
       "    <tr>\n",
       "      <th>20</th>\n",
       "      <td>For the upcoming quiz/examination, one questio...</td>\n",
       "      <td>[5.4.2. HaftRequirements● Haft must bemadeof s...</td>\n",
       "      <td>Sure, here are some potential true-false ques...</td>\n",
       "      <td>ai (mistral.mixtral-8x7b-instruct-v0:1)</td>\n",
       "      <td>ai (mistral.mixtral-8x7b-instruct-v0:1)</td>\n",
       "    </tr>\n",
       "    <tr>\n",
       "      <th>21</th>\n",
       "      <td>For the upcoming quiz/examination, one questio...</td>\n",
       "      <td>[6.OutranceweaponsOutranceweaponsareanyweapont...</td>\n",
       "      <td>Sure, here's a potential question related to ...</td>\n",
       "      <td>ai (mistral.mixtral-8x7b-instruct-v0:1)</td>\n",
       "      <td>ai (mistral.mixtral-8x7b-instruct-v0:1)</td>\n",
       "    </tr>\n",
       "    <tr>\n",
       "      <th>22</th>\n",
       "      <td>For your upcoming quiz, one question related t...</td>\n",
       "      <td>[7. DuelsWeapons\\nDuels weapons are built with...</td>\n",
       "      <td>Sure, I'd be happy to help you prepare for yo...</td>\n",
       "      <td>ai (mistral.mixtral-8x7b-instruct-v0:1)</td>\n",
       "      <td>ai (mistral.mixtral-8x7b-instruct-v0:1)</td>\n",
       "    </tr>\n",
       "    <tr>\n",
       "      <th>23</th>\n",
       "      <td>For the upcoming quiz, one question related to...</td>\n",
       "      <td>[8. Buhurt/GroupWeapons\\nBuhurt/Group weapons ...</td>\n",
       "      <td>Sure, here's a possible quiz question related...</td>\n",
       "      <td>ai (mistral.mixtral-8x7b-instruct-v0:1)</td>\n",
       "      <td>ai (mistral.mixtral-8x7b-instruct-v0:1)</td>\n",
       "    </tr>\n",
       "    <tr>\n",
       "      <th>24</th>\n",
       "      <td>\"Based on the changelog provided, what is the ...</td>\n",
       "      <td>[9. ChangelogThiswill bethechangelogof thisdoc...</td>\n",
       "      <td>Based on the changelog provided, the new weig...</td>\n",
       "      <td>ai (mistral.mixtral-8x7b-instruct-v0:1)</td>\n",
       "      <td>ai (mistral.mixtral-8x7b-instruct-v0:1)</td>\n",
       "    </tr>\n",
       "  </tbody>\n",
       "</table>\n",
       "</div>"
      ],
      "text/plain": [
       "                                                query  \\\n",
       "0   Question: According to the \"buhurt_armor_requi...   \n",
       "1   Question: Based on the \"Technical Requirements...   \n",
       "2   \"Can you explain the role and responsibility o...   \n",
       "3   \"Explain the prohibited features for armors an...   \n",
       "4   \"What is the process for competitors to deviat...   \n",
       "5   For this quiz/examination, your task is to ans...   \n",
       "6   Question: According to the \"BuHurt Armor Requi...   \n",
       "7   For the upcoming quiz/examination, one questio...   \n",
       "8   For the upcoming quiz, one question based on t...   \n",
       "9   For the upcoming quiz/examination, one questio...   \n",
       "10  Question: Based on the provided document chang...   \n",
       "11  Based on the provided context information, her...   \n",
       "12  Question: Based on the \"Historical Consistency...   \n",
       "13  Question: Based on the document, what is the r...   \n",
       "14  What modern countries are included in the West...   \n",
       "15  \"Describe the authorized deviations for compet...   \n",
       "16  For the upcoming quiz/examination, one questio...   \n",
       "17  What are the two main types of weapons, and pr...   \n",
       "18  \"What is the maximum allowable extension of th...   \n",
       "19  What is the minimum number of methods required...   \n",
       "20  For the upcoming quiz/examination, one questio...   \n",
       "21  For the upcoming quiz/examination, one questio...   \n",
       "22  For your upcoming quiz, one question related t...   \n",
       "23  For the upcoming quiz, one question related to...   \n",
       "24  \"Based on the changelog provided, what is the ...   \n",
       "\n",
       "                                   reference_contexts  \\\n",
       "0                                                  []   \n",
       "1   [Technical RequirementsforArmor\\nTableofConten...   \n",
       "2   [1. IntroductionandDefinitions\\nThisdocument w...   \n",
       "3   [2. Historical ConsistencyRequirements\\n2.1.Eq...   \n",
       "4   [2.4.4.Authorizeddeviations● Competitors may d...   \n",
       "5   [3. General Requirements\\n3.1.Competitorrespon...   \n",
       "6   [4. Helmetsrequirements\\n4.1.Protection● Ahelm...   \n",
       "7   [4.2.Thicknessandcomposition● Domeandvisormust...   \n",
       "8   [5. Armorrequirements\\n5.1.Metalthicknessrecom...   \n",
       "9   [5.6.Joints● All joints (shoulders, elbows, kn...   \n",
       "10  [6. Changelog\\nThiswill bethechangelogof thisd...   \n",
       "11                                                 []   \n",
       "12  [Technical RequirementsforWeaponsTableofConten...   \n",
       "13  [IntroductionandDefinitions\\nThisdocument will...   \n",
       "14  [2.Historical ConsistencyRequirements\\n2.1.Equ...   \n",
       "15  [2.4.3. Easterninfluence● Chinesestyle: from13...   \n",
       "16  [3.General Requirements\\n3.1.Competitorrespons...   \n",
       "17  [4. Weaponsrequirements\\n4.1.TypesofweaponsThe...   \n",
       "18  [5. General requirements\\n5.1.Safetyrequiremen...   \n",
       "19  [5.4.Specificrequirementsforhaftedweapons\\n5.4...   \n",
       "20  [5.4.2. HaftRequirements● Haft must bemadeof s...   \n",
       "21  [6.OutranceweaponsOutranceweaponsareanyweapont...   \n",
       "22  [7. DuelsWeapons\\nDuels weapons are built with...   \n",
       "23  [8. Buhurt/GroupWeapons\\nBuhurt/Group weapons ...   \n",
       "24  [9. ChangelogThiswill bethechangelogof thisdoc...   \n",
       "\n",
       "                                     reference_answer  \\\n",
       "0    To provide an accurate answer, I would need a...   \n",
       "1    The \"Technical Requirements for Armor\" docume...   \n",
       "2    Based on the introduction of the document rel...   \n",
       "3    According to the given document, prohibited f...   \n",
       "4    Competitors can deviate from the specified st...   \n",
       "5    Which body parts must be protected by the arm...   \n",
       "6    According to the \"BuHurt Armor Requirement\" d...   \n",
       "7    Sure, here's an example question that could b...   \n",
       "8    Sure, here's an example of a potential quiz q...   \n",
       "9    Sure, here's an example question that could b...   \n",
       "10   Based on the provided document changelog, the...   \n",
       "11   Based on the provided context information, I ...   \n",
       "12   Based on the \"Historical Consistency Requirem...   \n",
       "13   Authenticity Officers are responsible for ens...   \n",
       "14   The Western Europe style definition for armor...   \n",
       "15   According to the given document, competitors ...   \n",
       "16   Sure, here's a potential question related to ...   \n",
       "17   The two main types of weapons are bladed weap...   \n",
       "18   The maximum allowable extension of the guard ...   \n",
       "19   According to the specific requirements for ha...   \n",
       "20   Sure, here are some potential true-false ques...   \n",
       "21   Sure, here's a potential question related to ...   \n",
       "22   Sure, I'd be happy to help you prepare for yo...   \n",
       "23   Sure, here's a possible quiz question related...   \n",
       "24   Based on the changelog provided, the new weig...   \n",
       "\n",
       "                        reference_answer_by  \\\n",
       "0   ai (mistral.mixtral-8x7b-instruct-v0:1)   \n",
       "1   ai (mistral.mixtral-8x7b-instruct-v0:1)   \n",
       "2   ai (mistral.mixtral-8x7b-instruct-v0:1)   \n",
       "3   ai (mistral.mixtral-8x7b-instruct-v0:1)   \n",
       "4   ai (mistral.mixtral-8x7b-instruct-v0:1)   \n",
       "5   ai (mistral.mixtral-8x7b-instruct-v0:1)   \n",
       "6   ai (mistral.mixtral-8x7b-instruct-v0:1)   \n",
       "7   ai (mistral.mixtral-8x7b-instruct-v0:1)   \n",
       "8   ai (mistral.mixtral-8x7b-instruct-v0:1)   \n",
       "9   ai (mistral.mixtral-8x7b-instruct-v0:1)   \n",
       "10  ai (mistral.mixtral-8x7b-instruct-v0:1)   \n",
       "11  ai (mistral.mixtral-8x7b-instruct-v0:1)   \n",
       "12  ai (mistral.mixtral-8x7b-instruct-v0:1)   \n",
       "13  ai (mistral.mixtral-8x7b-instruct-v0:1)   \n",
       "14  ai (mistral.mixtral-8x7b-instruct-v0:1)   \n",
       "15  ai (mistral.mixtral-8x7b-instruct-v0:1)   \n",
       "16  ai (mistral.mixtral-8x7b-instruct-v0:1)   \n",
       "17  ai (mistral.mixtral-8x7b-instruct-v0:1)   \n",
       "18  ai (mistral.mixtral-8x7b-instruct-v0:1)   \n",
       "19  ai (mistral.mixtral-8x7b-instruct-v0:1)   \n",
       "20  ai (mistral.mixtral-8x7b-instruct-v0:1)   \n",
       "21  ai (mistral.mixtral-8x7b-instruct-v0:1)   \n",
       "22  ai (mistral.mixtral-8x7b-instruct-v0:1)   \n",
       "23  ai (mistral.mixtral-8x7b-instruct-v0:1)   \n",
       "24  ai (mistral.mixtral-8x7b-instruct-v0:1)   \n",
       "\n",
       "                                   query_by  \n",
       "0   ai (mistral.mixtral-8x7b-instruct-v0:1)  \n",
       "1   ai (mistral.mixtral-8x7b-instruct-v0:1)  \n",
       "2   ai (mistral.mixtral-8x7b-instruct-v0:1)  \n",
       "3   ai (mistral.mixtral-8x7b-instruct-v0:1)  \n",
       "4   ai (mistral.mixtral-8x7b-instruct-v0:1)  \n",
       "5   ai (mistral.mixtral-8x7b-instruct-v0:1)  \n",
       "6   ai (mistral.mixtral-8x7b-instruct-v0:1)  \n",
       "7   ai (mistral.mixtral-8x7b-instruct-v0:1)  \n",
       "8   ai (mistral.mixtral-8x7b-instruct-v0:1)  \n",
       "9   ai (mistral.mixtral-8x7b-instruct-v0:1)  \n",
       "10  ai (mistral.mixtral-8x7b-instruct-v0:1)  \n",
       "11  ai (mistral.mixtral-8x7b-instruct-v0:1)  \n",
       "12  ai (mistral.mixtral-8x7b-instruct-v0:1)  \n",
       "13  ai (mistral.mixtral-8x7b-instruct-v0:1)  \n",
       "14  ai (mistral.mixtral-8x7b-instruct-v0:1)  \n",
       "15  ai (mistral.mixtral-8x7b-instruct-v0:1)  \n",
       "16  ai (mistral.mixtral-8x7b-instruct-v0:1)  \n",
       "17  ai (mistral.mixtral-8x7b-instruct-v0:1)  \n",
       "18  ai (mistral.mixtral-8x7b-instruct-v0:1)  \n",
       "19  ai (mistral.mixtral-8x7b-instruct-v0:1)  \n",
       "20  ai (mistral.mixtral-8x7b-instruct-v0:1)  \n",
       "21  ai (mistral.mixtral-8x7b-instruct-v0:1)  \n",
       "22  ai (mistral.mixtral-8x7b-instruct-v0:1)  \n",
       "23  ai (mistral.mixtral-8x7b-instruct-v0:1)  \n",
       "24  ai (mistral.mixtral-8x7b-instruct-v0:1)  "
      ]
     },
     "execution_count": 43,
     "metadata": {},
     "output_type": "execute_result"
    }
   ],
   "source": [
    "%%time\n",
    "eval_questions = dataset_generator.generate_dataset_from_nodes()\n",
    "eval_questions.to_pandas()"
   ]
  },
  {
   "cell_type": "markdown",
   "id": "7e9586c8-f08a-4145-871c-15d0c9deabc3",
   "metadata": {},
   "source": [
    "**Note**: The following cell saves the generated question and answers to a JSON file and so that we do not need to run\n",
    "the question generation process above multiple times. "
   ]
  },
  {
   "cell_type": "code",
   "execution_count": 44,
   "id": "d36de0dd-6835-4526-8906-a3988ea92160",
   "metadata": {
    "tags": []
   },
   "outputs": [
    {
     "name": "stdout",
     "output_type": "stream",
     "text": [
      "Saving 25 test cases\n"
     ]
    }
   ],
   "source": [
    "eval_questions.save_json('eval_questions.json')\n",
    "print(f\"Saving {len(eval_questions.examples)} test cases\")"
   ]
  },
  {
   "cell_type": "markdown",
   "id": "857a2f02-f60a-47ca-be08-068a098222d9",
   "metadata": {},
   "source": [
    "Use the questions saved in the JSON file."
   ]
  },
  {
   "cell_type": "code",
   "execution_count": 45,
   "id": "e3ac37af-8b39-4602-bd14-26c557faef23",
   "metadata": {
    "tags": []
   },
   "outputs": [
    {
     "name": "stdout",
     "output_type": "stream",
     "text": [
      "Restoring 25 test cases\n"
     ]
    }
   ],
   "source": [
    "checkpointed_eval_questions = LabelledRagDataset.from_json('eval_questions.json')\n",
    "print(f\"Restoring {len(checkpointed_eval_questions.examples)} test cases\")"
   ]
  },
  {
   "cell_type": "code",
   "execution_count": 46,
   "id": "5190b7b7-eb9b-4422-8bc3-790bce28040d",
   "metadata": {
    "tags": []
   },
   "outputs": [],
   "source": [
    "# Convert the question set into a Pandas dataframe for ease of use for the cells that follow\n",
    "eval_questions_df = checkpointed_eval_questions.to_pandas()"
   ]
  },
  {
   "cell_type": "markdown",
   "id": "47332466-d1fd-4af0-a7d0-be2941c16a6b",
   "metadata": {},
   "source": [
    "---\n",
    "\n",
    "## RAG Automated Pipeline evaluation with LlamaIndex evaluators\n",
    "\n",
    "In the sections below, we'll show 4 automated evaluations available throught LlamaIndex. However, there are some additional metrics out-of-the-box that can be found [here](https://docs.llamaindex.ai/en/stable/module_guides/evaluating/):\n",
    "\n",
    "1. **Faithfulness**: This metric verifies whether the final response is in agreement with (doesn't contradict) the retrieved document snippets.\n",
    "2. **Relevancy**: This metrics checks whether the response and retrieved content were relevant to the query.\n",
    "3. **Correctness**: This metric evaluates whether the generated answer is relevant and agreeing with a reference answer."
   ]
  },
  {
   "cell_type": "code",
   "execution_count": 47,
   "id": "576f165a-6dc7-4780-8d47-ad50ddd5df5a",
   "metadata": {
    "tags": []
   },
   "outputs": [],
   "source": [
    "from llama_index.core.evaluation import FaithfulnessEvaluator, RelevancyEvaluator, CorrectnessEvaluator"
   ]
  },
  {
   "cell_type": "markdown",
   "id": "66efc217-a620-4edd-870c-c64f25fea6a5",
   "metadata": {},
   "source": [
    "**Note**: Configuring the LLM to use as the evaluator (aka Judge) of the output content from the RAG pipeline. \n",
    "\n",
    "For this, it is typical to use an LLM that has higher benchmark ratings than the LLM used for content generation."
   ]
  },
  {
   "cell_type": "code",
   "execution_count": 48,
   "id": "1830e59d-e4f1-4a6e-b4f6-6dbbf172f86d",
   "metadata": {
    "tags": []
   },
   "outputs": [],
   "source": [
    "evaluator_llm = llm_mixtral8x7b\n",
    "# evaluator_llm = llm_sonnet_35"
   ]
  },
  {
   "cell_type": "markdown",
   "id": "ce0b1e15-1de8-4dfb-bdf1-71c13fc5c7c3",
   "metadata": {},
   "source": [
    "### Set up our default query engine for showing the baseline evaluation\n",
    "\n",
    "**Note** as the number of chunks (aka items) returned increased the size of the prompt increases and the smaller models may fail."
   ]
  },
  {
   "cell_type": "code",
   "execution_count": 49,
   "id": "0ddd61e7-88b1-4f50-942d-eee835927961",
   "metadata": {
    "tags": []
   },
   "outputs": [],
   "source": [
    "# KEY CELL #1\n",
    "\n",
    "llm_model = llm_mixtral8x7b\n",
    "# llm_model = llm_haiku_3\n",
    "# llm_model = llm_sonnet_35\n",
    "\n",
    "number_of_items_to_return = 3\n",
    "\n",
    "query_engine = vector_index.as_query_engine(llm=llm_model, similarity_top_k=number_of_items_to_return)"
   ]
  },
  {
   "cell_type": "code",
   "execution_count": 50,
   "id": "683e485c-0d73-4433-b3ae-24746ff4e006",
   "metadata": {
    "tags": []
   },
   "outputs": [],
   "source": [
    "faithfulness_evaluator = FaithfulnessEvaluator(llm=evaluator_llm)\n",
    "relevancy_evaluator = RelevancyEvaluator(llm=evaluator_llm)\n",
    "correctness_evaluator = CorrectnessEvaluator(llm=evaluator_llm)"
   ]
  },
  {
   "cell_type": "markdown",
   "id": "c65c759d-98db-497e-9729-2b7243bef7e9",
   "metadata": {},
   "source": [
    "---\n",
    "\n",
    "### Faithfulness to source documents\n",
    "\n",
    "The **Faithfulness** metric evaluates the coherence between the generated response and the source document snippets retrieved during the search process. This assessment is useful for identifying any discrepancies or hallucinations introduced by the LLM\n"
   ]
  },
  {
   "cell_type": "code",
   "execution_count": 51,
   "id": "5b90a367-3353-4b2a-acf3-dc892eb07dd1",
   "metadata": {
    "tags": []
   },
   "outputs": [],
   "source": [
    "# Helper function for evaluating the faithfulness of the output of a specific test case\n",
    "\n",
    "def evaluate_faithfulness_for_question(rag_engine, questions_df, question_number):\n",
    "\n",
    "    eval_question = questions_df.iloc[0,0]\n",
    "    response_vector = rag_engine.query(eval_question)\n",
    "\n",
    "    eval_result = faithfulness_evaluator.evaluate_response(response=response_vector)\n",
    "\n",
    "    print(\"Question: ----------------\")\n",
    "    print_ww(eval_question)\n",
    "    print(\"\\nAnswer: ----------------\")\n",
    "    print_ww(response)\n",
    "    print(\"\\n----------------\")\n",
    "\n",
    "    print_ww(\"Evaluation Result:\", eval_result.passing)\n",
    "    print_ww(f\"Reasoning:\\n{eval_result.feedback}\")"
   ]
  },
  {
   "cell_type": "markdown",
   "id": "43c8f443-f563-4a84-918a-f00256e44db9",
   "metadata": {},
   "source": [
    "Take a look at this evaluation in action by seeing the content inputs and outputs for the evaluation"
   ]
  },
  {
   "cell_type": "code",
   "execution_count": 52,
   "id": "acd1bffe-8432-417e-a852-1345b930992f",
   "metadata": {
    "tags": []
   },
   "outputs": [
    {
     "name": "stdout",
     "output_type": "stream",
     "text": [
      "Question: ----------------\n",
      "Question: According to the \"buhurt_armor_requirement.pdf\" document, what is the minimum thickness\n",
      "requirement for the lower leg protection armor, as specified on page 1?\n",
      "\n",
      "Answer: ----------------\n",
      " An armor must align with historical sources and adhere to specific styles and time periods. It\n",
      "should not contain any indications of modern materials or manufacturing techniques. The armor's\n",
      "pieces, including shields and weapons, must consist of pieces from the same style. Styles are\n",
      "defined by their historical context and geographical location, such as Western European, Slavic, or\n",
      "Eastern influence. For Western European styles, there are distinct periods like the 14th, 15th, and\n",
      "transitional centuries. Prohibited features include neon colors, obvious nylon cords, plastic ties,\n",
      "visible welded seams, heat-induced discoloration, modern footwear, and other visible modern\n",
      "equipment.\n",
      "\n",
      "----------------\n",
      "Evaluation Result: True\n",
      "Reasoning:\n",
      " For the first piece of information, \"Apple pie is generally double-crusted,\" the answer is YES, as\n",
      "this is directly stated in the context.\n",
      "\n",
      "For the second piece of information, \"Apple pies tastes bad,\" the answer is NO, as the context does\n",
      "not provide any information about the taste of apple pie.\n",
      "\n",
      "For the third piece of information, regarding the minimum thickness requirement for the lower leg\n",
      "protection armor as specified on page 1 of the \"buhurt\\_armor\\_requirement.pdf\" document, the answer\n",
      "is not provided in the context.\n",
      "\n",
      "For the fourth piece of information, regarding the minimum thickness recommendations for various\n",
      "armor materials in section 5.1, the answer is YES, as this is directly stated in the context.\n"
     ]
    }
   ],
   "source": [
    "question_number = 0\n",
    "evaluate_faithfulness_for_question(query_engine, eval_questions_df, question_number)"
   ]
  },
  {
   "cell_type": "markdown",
   "id": "43f6f1fc-26ec-4322-913a-18330b06eedd",
   "metadata": {},
   "source": [
    "---\n",
    "\n",
    "### Relevancy of response + source nodes to the query\n",
    "\n",
    "The **Relevancy** metric verifies the correspondence between the response and the retrieved source documents with the user's query. This evaluation is useful for assessing whether the response properly addresses the user's question."
   ]
  },
  {
   "cell_type": "markdown",
   "id": "db74eb87-f433-45d2-bb66-0e24c19490ad",
   "metadata": {},
   "source": [
    "The **Relevancy Evaluator** module is useful to measure if the response + source nodes match the query. Therefore, it helps measuring if the query was actually answered by the response. In this example, as the context information does not provide any details about the launch date of Amazon Bedrock Studio, then the evaluation result is **FALSE**. \n"
   ]
  },
  {
   "cell_type": "code",
   "execution_count": 53,
   "id": "65b7ab6e-6032-48b1-896d-9994b4384a34",
   "metadata": {
    "tags": []
   },
   "outputs": [],
   "source": [
    "# Helper function for evaluating the relevancy of the output of a specific test case\n",
    "\n",
    "def evaluate_relevancy_for_question(rag_engine, questions_df, question_number):\n",
    "\n",
    "    eval_question = questions_df.iloc[question_number,0] \n",
    "    response_vector = rag_engine.query(eval_question)\n",
    "\n",
    "    eval_result = relevancy_evaluator.evaluate_response(\n",
    "        query=eval_question, response=response_vector\n",
    "    )\n",
    "\n",
    "    # print results\n",
    "    print(\"\\n--------- Question ---------\")\n",
    "    print_ww(eval_question)\n",
    "    print(\"\\n--------- Response ---------\")\n",
    "    print_ww(str(response_vector))\n",
    "    print(\"\\n--------- Passed ---------\")\n",
    "    print_ww(str(eval_result.passing))\n",
    "    print(\"\\n--------- Feedback ---------\")\n",
    "    print_ww(str(eval_result.feedback))\n",
    "    print(\"\\n--------- Source ---------\")\n",
    "    print_ww(response_vector.source_nodes[0].node.get_content())"
   ]
  },
  {
   "cell_type": "markdown",
   "id": "c5768e4d-3134-4f6f-9709-c06c5ea2fce7",
   "metadata": {},
   "source": [
    "Testing the first generated evaluation question with the **RelevancyEvaluator** class."
   ]
  },
  {
   "cell_type": "code",
   "execution_count": 54,
   "id": "5e4fa376-8a37-423f-9fde-1a112ef37adf",
   "metadata": {
    "tags": []
   },
   "outputs": [
    {
     "name": "stdout",
     "output_type": "stream",
     "text": [
      "\n",
      "--------- Question ---------\n",
      "Question: According to the \"buhurt_armor_requirement.pdf\" document, what is the minimum thickness\n",
      "requirement for the lower leg protection armor, as specified on page 1?\n",
      "\n",
      "--------- Response ---------\n",
      " The context information provided does not include page 1 of the \"buhurt_armor_requirement.pdf\"\n",
      "document, and therefore, I cannot provide the minimum thickness requirement for the lower leg\n",
      "protection armor as specified on page 1. However, the context information does provide the minimum\n",
      "thickness recommendations for various armor materials in section 5.1, which I have included in my\n",
      "answer for reference. The minimum recommended thickness for steel plates of an armor is 1.5mm (mild\n",
      "steel) or 0.8mm (tempered steel, hardened steel, stainless steel). The minimum recommended thickness\n",
      "for titanium plates of an armor is 0.8mm.\n",
      "\n",
      "--------- Passed ---------\n",
      "False\n",
      "\n",
      "--------- Feedback ---------\n",
      " NO, the response for the query is not in line with the context information provided. The response\n",
      "mentions the minimum thickness recommendations for various armor materials, but it does not provide\n",
      "the minimum thickness requirement for the lower leg protection armor as specified on page 1 of the\n",
      "\"buhurt\\_armor\\_requirement.pdf\" document. The context information provided does not include page 1\n",
      "of the document, so it is not possible to provide the minimum thickness requirement for the lower\n",
      "leg protection armor as specified on page 1.\n",
      "\n",
      "--------- Source ---------\n",
      "4.2.Thicknessandcomposition● Domeandvisormust bemadeof metal.● It isrecommendedtousesteel (mild,\n",
      "tempered, hardenedorstainless).● Anyothermaterial (I.etitanium)isnot permitted.● Visorsmaybemadeof\n",
      "titanium.● Ahelmet canbemadeof steel of varyingthicknesses.● recommendminimumthicknesses:○\n",
      "2.5mmmildsteel / springsteel.○ 2.5mmstainlesssteel.○ 2.0mmtemperedsteel / hardenedsteel.\n",
      "4.3.Coif● Ahelmet must haveaquilted, or padded, coif inside,\n",
      "oraleathersuspensionsystemwithaquiltedcoif.● Therecommendedminimumthicknessof thecoif is5mm.\n",
      "4.4.Chinstrap● Achinstrapmust securethehelmet tothehead, preventinganylossof it duringafight.● If\n",
      "the construction of the helmet excludes the use of the chinstrap, the helmet must\n",
      "besecuredontheheadbyothermeans.● It isrecommendedtouseadditional strapstosecurethehelmet\n",
      "tothetorsoand/orbackprotection. Thestrapsmust bemadeof strongleatherwithmetal\n",
      "buckles(plasticbucklesarenot permitted).\n",
      "4.5.Neckprotection● Aneckprotectionismandatoryandmust covertheneckinanyposition.● This protection\n",
      "can be made of metal plates sewn to the pellerine and hidden by anaventail.● It\n",
      "isrecommendedtowearaneckprotectionattachedtothegambeson.● Neckprotectionmust\n",
      "conformtotheAuthenticityRulesdocument.\n",
      "TechnicalRequirementsforarmors,weaponsandshields 7\n"
     ]
    }
   ],
   "source": [
    "question_number = 0\n",
    "evaluate_relevancy_for_question(query_engine, eval_questions_df, question_number)"
   ]
  },
  {
   "cell_type": "markdown",
   "id": "deb49dfe-47a3-49f2-979e-eb00e5bb6154",
   "metadata": {},
   "source": [
    "### Correctness of response for the query\n",
    "\n",
    "The **Correctness** metric checks the correctness of a question answering system, relying on a provided reference answer(\"ground truth\"), query, and response. It assigns a score from 1 to 5 (with higher values indicating better quality) alongside an explanation for the rating. "
   ]
  },
  {
   "cell_type": "code",
   "execution_count": 55,
   "id": "69c872c3-cdd9-4569-8d18-96387e70e61d",
   "metadata": {
    "tags": []
   },
   "outputs": [],
   "source": [
    "# Helper function for evaluating the relevancy of the output of a specific test case\n",
    "\n",
    "def evaluate_correctness_for_question(rag_engine, questions_df, question_number):\n",
    "\n",
    "    eval_question = questions_df.iloc[question_number, 0]\n",
    "    ground_truth = questions_df.iloc[question_number, 2]\n",
    "\n",
    "    response_vector = rag_engine.query(eval_question)\n",
    "    generated_answer = str(response_vector)\n",
    "\n",
    "    correctness_results = correctness_evaluator.evaluate(\n",
    "                query=eval_question,\n",
    "                response=generated_answer,\n",
    "                reference=ground_truth\n",
    "            )\n",
    "\n",
    "    # print results\n",
    "    print(\"\\n--------- Question ---------\")\n",
    "    print_ww(eval_question)\n",
    "    print(\"\\n--------- Response ---------\")\n",
    "    print_ww(generated_answer)\n",
    "    print(\"\\n--------- Passed ---------\")\n",
    "    print_ww(str(correctness_results.passing))\n",
    "    print(\"\\n--------- Feedback ---------\")\n",
    "    print_ww(str(correctness_results.feedback))\n",
    "    print(\"\\n--------- Ground Truth ---------\")\n",
    "    print_ww(ground_truth)\n",
    "    print(\"\\n--------- Source ---------\")\n",
    "    print_ww(response_vector.source_nodes[0].node.get_content())"
   ]
  },
  {
   "cell_type": "markdown",
   "id": "5d5dd112-be55-4508-9020-b8bf41bd4794",
   "metadata": {},
   "source": [
    "The following cell shows an example of the correctness_evaluator being applied to a specific question. this is by way of the `evaluate_correctness_for_question` function created above.\n",
    "\n",
    "This function will be useful when you want to dive deeper into understanding why a test is not passing."
   ]
  },
  {
   "cell_type": "code",
   "execution_count": 56,
   "id": "333a30d2-b3fb-44b0-be5a-8535c1696b6f",
   "metadata": {
    "tags": []
   },
   "outputs": [
    {
     "name": "stdout",
     "output_type": "stream",
     "text": [
      "\n",
      "--------- Question ---------\n",
      "Question: According to the \"buhurt_armor_requirement.pdf\" document, what is the minimum thickness\n",
      "requirement for the lower leg protection armor, as specified on page 1?\n",
      "\n",
      "--------- Response ---------\n",
      " The context information provided does not include page 1 of the \"buhurt_armor_requirement.pdf\"\n",
      "document, and therefore, I cannot provide the minimum thickness requirement for the lower leg\n",
      "protection armor as specified on page 1. However, based on the information provided in the context,\n",
      "the minimum thickness recommendations for steel plates of an armor are 1.5mm for mild steel and\n",
      "0.8mm for tempered steel, hardened steel, or stainless steel.\n",
      "\n",
      "--------- Passed ---------\n",
      "False\n",
      "\n",
      "--------- Feedback ---------\n",
      "The generated answer is somewhat relevant to the user query as it provides minimum thickness\n",
      "recommendations for certain types of steel plates. However, it does not answer the user's question\n",
      "about the minimum thickness requirement for the lower leg protection armor as specified on page 1 of\n",
      "the \"buhurt_armor_requirement.pdf\" document. Additionally, the answer seems to be a general\n",
      "statement and not specific to the document in question.\n",
      "\n",
      "--------- Ground Truth ---------\n",
      " To provide an accurate answer, I would need access to the specific contents of the\n",
      "\"buhurt\\_armor\\_requirement.pdf\" document located at /home/ec2-user/SageMaker/elvtr-ai-solution-\n",
      "architect/class-14/source\\_docs/. However, based on the provided context, I can tell you that the\n",
      "minimum thickness requirement for the lower leg protection armor is specified on page 1 of the\n",
      "document. To get the exact thickness requirement, please refer to the contents of the document\n",
      "itself.\n",
      "\n",
      "--------- Source ---------\n",
      "4.2.Thicknessandcomposition● Domeandvisormust bemadeof metal.● It isrecommendedtousesteel (mild,\n",
      "tempered, hardenedorstainless).● Anyothermaterial (I.etitanium)isnot permitted.● Visorsmaybemadeof\n",
      "titanium.● Ahelmet canbemadeof steel of varyingthicknesses.● recommendminimumthicknesses:○\n",
      "2.5mmmildsteel / springsteel.○ 2.5mmstainlesssteel.○ 2.0mmtemperedsteel / hardenedsteel.\n",
      "4.3.Coif● Ahelmet must haveaquilted, or padded, coif inside,\n",
      "oraleathersuspensionsystemwithaquiltedcoif.● Therecommendedminimumthicknessof thecoif is5mm.\n",
      "4.4.Chinstrap● Achinstrapmust securethehelmet tothehead, preventinganylossof it duringafight.● If\n",
      "the construction of the helmet excludes the use of the chinstrap, the helmet must\n",
      "besecuredontheheadbyothermeans.● It isrecommendedtouseadditional strapstosecurethehelmet\n",
      "tothetorsoand/orbackprotection. Thestrapsmust bemadeof strongleatherwithmetal\n",
      "buckles(plasticbucklesarenot permitted).\n",
      "4.5.Neckprotection● Aneckprotectionismandatoryandmust covertheneckinanyposition.● This protection\n",
      "can be made of metal plates sewn to the pellerine and hidden by anaventail.● It\n",
      "isrecommendedtowearaneckprotectionattachedtothegambeson.● Neckprotectionmust\n",
      "conformtotheAuthenticityRulesdocument.\n",
      "TechnicalRequirementsforarmors,weaponsandshields 7\n"
     ]
    }
   ],
   "source": [
    "question_number= 0\n",
    "evaluate_correctness_for_question(query_engine, eval_questions_df, question_number)"
   ]
  },
  {
   "cell_type": "markdown",
   "id": "a561d0b3-0e67-4570-bbc3-3d7135d76a0a",
   "metadata": {},
   "source": [
    "----"
   ]
  },
  {
   "cell_type": "markdown",
   "id": "7c5f31b7-542a-47ce-972a-00f74b1c89ac",
   "metadata": {},
   "source": [
    "### Setup for run of the full test set"
   ]
  },
  {
   "cell_type": "markdown",
   "id": "eb82958a-a5d5-4d6f-b21e-4354fa55eb90",
   "metadata": {},
   "source": [
    "The following function presents the results in a dataframe"
   ]
  },
  {
   "cell_type": "code",
   "execution_count": 57,
   "id": "c71881b0-3804-44bc-b20c-e165ac73e775",
   "metadata": {
    "tags": []
   },
   "outputs": [],
   "source": [
    "from llama_index.core import Response\n",
    "import pandas as pd\n",
    "\n",
    "# define jupyter display function\n",
    "def display_eval_df(query: str, response: Response, eval_result: str) -> None:\n",
    "\n",
    "    eval_df = pd.DataFrame(columns=['Query', 'Response', 'Source', 'Evaluation Result'])\n",
    "        \n",
    "    new_record = {\n",
    "                    \"Query\": query,\n",
    "                    \"Response\": str(response),\n",
    "                    \"Source\": (\n",
    "                        response.source_nodes[0].node.get_content()[:250] + \"...\"\n",
    "                    ),\n",
    "                    \"Evaluation Result\": eval_result,\n",
    "                }\n",
    "    eval_df = eval_df._append(new_record, ignore_index=True)\n",
    "\n",
    "\n",
    "    eval_df = eval_df.style.set_properties(\n",
    "        **{\n",
    "            \"inline-size\": \"600px\",\n",
    "            \"overflow-wrap\": \"break-word\",\n",
    "        },\n",
    "        subset=[\"Response\", \"Source\"]\n",
    "    )\n",
    "    display(eval_df)"
   ]
  },
  {
   "cell_type": "code",
   "execution_count": 58,
   "id": "bfde130b-8dc6-45f1-9227-db8443c3e186",
   "metadata": {
    "tags": []
   },
   "outputs": [],
   "source": [
    "# This helper function will run the full set of tests and return the results\n",
    "\n",
    "from time import sleep\n",
    "sleep_number = 30\n",
    "\n",
    "def sleep_and_note_location(sec, loc):\n",
    "    print(f\"location: {loc}\")\n",
    "    sleep(sec)\n",
    "\n",
    "def run_evaluations(evaluation_dataset: pd.DataFrame, query_engine, evaluator_model):\n",
    "    \"\"\"Run a batch evaluation on a list of questions and reference answers using a provided query engine.\n",
    "\n",
    "    Args:\n",
    "        evaluation_dataset (DataFrame): A list of questions and reference_answers(ground truth) to evaluate.\n",
    "        query_engine (BaseQueryEngine): The query engine to use for answering the questions.\n",
    "        evaluator_model (LLM): The language model to use for evaluation.\n",
    "\n",
    "    Returns:\n",
    "        pd.DataFrame: A DataFrame containing the evaluation results, including the query,\n",
    "            generated answer, faithfulness evaluation, and relevancy evaluation.\n",
    "    \"\"\"\n",
    "\n",
    "    results_list = []\n",
    "    faithfulness_evaluator = FaithfulnessEvaluator(llm=evaluator_model)\n",
    "    relevancy_evaluator = RelevancyEvaluator(llm=evaluator_model)\n",
    "    correctness_evaluator = CorrectnessEvaluator(llm=evaluator_model)\n",
    "\n",
    "    #for question, ground_truth in zip(evaluation_questions, evaluation_ground_truth):\n",
    "    for index, row in evaluation_dataset.iterrows():\n",
    "\n",
    "        print(f\"processing test case: {index + 1} / {len(evaluation_dataset)}\")\n",
    "\n",
    "        question = row['query']\n",
    "        ground_truth = row['reference_answer']\n",
    "        \n",
    "        response = query_engine.query(question)\n",
    "        generated_answer = str(response)\n",
    "        sleep_and_note_location(sleep_number, \"faithfulness_evaluator\")\n",
    "\n",
    "        # Faithfulness evaluator\n",
    "        faithfulness_results = faithfulness_evaluator.evaluate_response(response=response)\n",
    "        sleep_and_note_location(sleep_number, \"relevancy_evaluator\")\n",
    "\n",
    "        # RelevancyEvaluator evaluator\n",
    "        relevancy_results = relevancy_evaluator.evaluate_response(query=question, response=response)\n",
    "        sleep_and_note_location(sleep_number, \"correctness_evaluator\")\n",
    "        \n",
    "        # CorrectnessEvaluator evaluator\n",
    "        correctness_results = correctness_evaluator.evaluate(\n",
    "            query=question,\n",
    "            response=generated_answer,\n",
    "            reference=ground_truth\n",
    "        )\n",
    "        sleep_and_note_location(sleep_number, \"end of iteration\")\n",
    "\n",
    "        current_evaluation = {\n",
    "            \"query\": question,\n",
    "            \"generated_answer\": generated_answer,\n",
    "            \"ground_truth\": ground_truth,\n",
    "            \"faithfulness\": faithfulness_results.passing,\n",
    "            \"faithfulness_feedback\": faithfulness_results.feedback,\n",
    "            \"faithfulness_score\": faithfulness_results.score,\n",
    "            \"relevancy\": relevancy_results.passing,\n",
    "            \"relevancy_feedback\": relevancy_results.feedback,\n",
    "            \"relevancy_score\": relevancy_results.score,\n",
    "            \"correctness\": correctness_results.passing,\n",
    "            \"correctness_feedback\": correctness_results.feedback,\n",
    "            \"correctness_score\": correctness_results.score,\n",
    "        }\n",
    "        results_list.append(current_evaluation)\n",
    "        print(f\"processed test case: {index + 1} / {len(evaluation_dataset)}\")\n",
    "\n",
    "    evaluations_df = pd.DataFrame(results_list)\n",
    "    \n",
    "    pd.set_option('display.max_columns', None)\n",
    "    pd.set_option('display.max_rows', None)\n",
    "    pd.set_option('display.width', None)\n",
    "    pd.set_option('display.max_colwidth', None)\n",
    "    \n",
    "    aggregate_results = {\n",
    "        'number_of_test_cases': len(evaluations_df),\n",
    "        'mean_faithfulness_score': round(evaluations_df['faithfulness_score'].mean(), 3),\n",
    "        'mean_relevancy_score': round(evaluations_df['relevancy_score'].mean(), 3),\n",
    "        'mean_correctness_score': round(evaluations_df['correctness_score'].mean(), 3)\n",
    "    }\n",
    "\n",
    "    return evaluations_df, aggregate_results\n"
   ]
  },
  {
   "cell_type": "markdown",
   "id": "3dd7a767-e726-4450-920e-5d7684e91f42",
   "metadata": {},
   "source": [
    "**Note**: The throttling delays implemented by Bedrock significantly slow the test process\n",
    "\n",
    "It make take 4 minutes or more for a single test run. The default configuration will take at least 2 minutes.\n",
    "\n",
    "Have a break while this is running and limit your runs to 10-30 test cases, except for final runs."
   ]
  },
  {
   "cell_type": "code",
   "execution_count": 95,
   "id": "4a8cb0f7-4a9f-4c0e-9c76-afaad829f3f2",
   "metadata": {
    "tags": []
   },
   "outputs": [
    {
     "name": "stdout",
     "output_type": "stream",
     "text": [
      "processing test case: 1 / 15\n",
      "location: faithfulness_evaluator\n",
      "location: relevancy_evaluator\n",
      "location: correctness_evaluator\n",
      "location: end of iteration\n",
      "processed test case: 1 / 15\n",
      "processing test case: 2 / 15\n",
      "location: faithfulness_evaluator\n",
      "location: relevancy_evaluator\n",
      "location: correctness_evaluator\n",
      "location: end of iteration\n",
      "processed test case: 2 / 15\n",
      "processing test case: 3 / 15\n",
      "location: faithfulness_evaluator\n",
      "location: relevancy_evaluator\n",
      "location: correctness_evaluator\n",
      "location: end of iteration\n",
      "processed test case: 3 / 15\n",
      "processing test case: 4 / 15\n",
      "location: faithfulness_evaluator\n",
      "location: relevancy_evaluator\n",
      "location: correctness_evaluator\n",
      "location: end of iteration\n",
      "processed test case: 4 / 15\n",
      "processing test case: 5 / 15\n",
      "location: faithfulness_evaluator\n",
      "location: relevancy_evaluator\n",
      "location: correctness_evaluator\n",
      "location: end of iteration\n",
      "processed test case: 5 / 15\n",
      "processing test case: 7 / 15\n",
      "location: faithfulness_evaluator\n",
      "location: relevancy_evaluator\n",
      "location: correctness_evaluator\n",
      "location: end of iteration\n",
      "processed test case: 7 / 15\n",
      "processing test case: 11 / 15\n",
      "location: faithfulness_evaluator\n",
      "location: relevancy_evaluator\n",
      "location: correctness_evaluator\n",
      "location: end of iteration\n",
      "processed test case: 11 / 15\n",
      "processing test case: 13 / 15\n",
      "location: faithfulness_evaluator\n",
      "location: relevancy_evaluator\n",
      "location: correctness_evaluator\n",
      "location: end of iteration\n",
      "processed test case: 13 / 15\n",
      "processing test case: 14 / 15\n",
      "location: faithfulness_evaluator\n",
      "location: relevancy_evaluator\n",
      "location: correctness_evaluator\n",
      "location: end of iteration\n",
      "processed test case: 14 / 15\n",
      "processing test case: 15 / 15\n",
      "location: faithfulness_evaluator\n",
      "location: relevancy_evaluator\n",
      "location: correctness_evaluator\n",
      "location: end of iteration\n",
      "processed test case: 15 / 15\n",
      "processing test case: 16 / 15\n",
      "location: faithfulness_evaluator\n",
      "location: relevancy_evaluator\n",
      "location: correctness_evaluator\n",
      "location: end of iteration\n",
      "processed test case: 16 / 15\n",
      "processing test case: 18 / 15\n",
      "location: faithfulness_evaluator\n",
      "location: relevancy_evaluator\n",
      "location: correctness_evaluator\n",
      "location: end of iteration\n",
      "processed test case: 18 / 15\n",
      "processing test case: 19 / 15\n",
      "location: faithfulness_evaluator\n",
      "location: relevancy_evaluator\n",
      "location: correctness_evaluator\n",
      "location: end of iteration\n",
      "processed test case: 19 / 15\n",
      "processing test case: 20 / 15\n",
      "location: faithfulness_evaluator\n",
      "location: relevancy_evaluator\n",
      "location: correctness_evaluator\n",
      "location: end of iteration\n",
      "processed test case: 20 / 15\n",
      "processing test case: 25 / 15\n",
      "location: faithfulness_evaluator\n",
      "location: relevancy_evaluator\n",
      "location: correctness_evaluator\n",
      "location: end of iteration\n",
      "processed test case: 25 / 15\n",
      "CPU times: user 1.01 s, sys: 73.6 ms, total: 1.08 s\n",
      "Wall time: 33min 4s\n"
     ]
    },
    {
     "data": {
      "text/html": [
       "<div>\n",
       "<style scoped>\n",
       "    .dataframe tbody tr th:only-of-type {\n",
       "        vertical-align: middle;\n",
       "    }\n",
       "\n",
       "    .dataframe tbody tr th {\n",
       "        vertical-align: top;\n",
       "    }\n",
       "\n",
       "    .dataframe thead th {\n",
       "        text-align: right;\n",
       "    }\n",
       "</style>\n",
       "<table border=\"1\" class=\"dataframe\">\n",
       "  <thead>\n",
       "    <tr style=\"text-align: right;\">\n",
       "      <th></th>\n",
       "      <th>query</th>\n",
       "      <th>generated_answer</th>\n",
       "      <th>ground_truth</th>\n",
       "      <th>faithfulness</th>\n",
       "      <th>faithfulness_feedback</th>\n",
       "      <th>faithfulness_score</th>\n",
       "      <th>relevancy</th>\n",
       "      <th>relevancy_feedback</th>\n",
       "      <th>relevancy_score</th>\n",
       "      <th>correctness</th>\n",
       "      <th>correctness_feedback</th>\n",
       "      <th>correctness_score</th>\n",
       "    </tr>\n",
       "  </thead>\n",
       "  <tbody>\n",
       "    <tr>\n",
       "      <th>0</th>\n",
       "      <td>Question: According to the \"buhurt_armor_requirement.pdf\" document, what is the minimum thickness requirement for the lower leg protection armor, as specified on page 1?</td>\n",
       "      <td>I apologize, but I cannot provide an answer to this specific question based on the given context information. The excerpts provided do not contain any information about the minimum thickness requirement for lower leg protection armor, nor do they include content from page 1 of the document. The provided excerpts cover helmet specifications, general armor requirements, and specifications for torso, chest, back, hips, groin, hands, and arms protection, but do not mention specific requirements for lower leg armor thickness.</td>\n",
       "      <td>To provide an accurate answer, I would need access to the specific contents of the \"buhurt\\_armor\\_requirement.pdf\" document located at /home/ec2-user/SageMaker/elvtr-ai-solution-architect/class-14/source\\_docs/. However, based on the provided context, I can tell you that the minimum thickness requirement for the lower leg protection armor is specified on page 1 of the document. To get the exact thickness requirement, please refer to the contents of the document itself.</td>\n",
       "      <td>False</td>\n",
       "      <td>NO, the given context does not support the statement \"The minimum thickness requirement for lower leg protection armor is 2.5mm.\" The context provided only includes information about helmet specifications, general armor requirements, and specifications for torso, chest, back, hips, groin, hands, and arms protection. It does not mention any requirements for lower leg armor thickness.</td>\n",
       "      <td>0.0</td>\n",
       "      <td>False</td>\n",
       "      <td>NO, the response is not in line with the context information provided. The context information does include the minimum thickness recommendations for various types of armor, but it does not specifically mention the minimum thickness requirement for lower leg protection armor.</td>\n",
       "      <td>0.0</td>\n",
       "      <td>False</td>\n",
       "      <td>The generated answer is relevant as it indicates that the required information is not available in the provided context. However, it could have been more helpful by stating that the minimum thickness requirement for lower leg protection armor is specified on page 1 of the document, similar to the reference answer.</td>\n",
       "      <td>2.0</td>\n",
       "    </tr>\n",
       "    <tr>\n",
       "      <th>1</th>\n",
       "      <td>Question: Based on the \"Technical Requirements for Armor\" document, explain the historical consistency requirements for armor, including the considerations for equipment from historical sources, dates of sources, prohibited features, and consistency in equipment with regards to Western European style, Slavic influence, Eastern influence, and authorized deviations.</td>\n",
       "      <td>Based on the \"Technical Requirements for Armor\" document, the historical consistency requirements for armor are as follows:\\n\\n1. Equipment from historical sources:\\n   - Only armors derived from historical sources are permitted for use.\\n   - Armors must align with Authenticity Rules documents.\\n\\n2. Dates of sources:\\n   - Armors must align with sources dating between the 14th (1300) and 17th (1600) centuries.\\n   - Reproductions of armors predating the 13th century are prohibited for safety reasons.\\n\\n3. Prohibited features:\\n   - Features that indicate modern materials or manufacturing techniques are prohibited, including:\\n     - Neon colors\\n     - Obvious nylon cords\\n     - Plastic ties\\n     - Visible welded seams\\n     - Heat-induced discoloration\\n     - Modern footwear\\n     - Other visible modern equipment\\n\\n4. Consistency in Equipment:\\n   Armors, shields, and weapons must consist of pieces from the same style. The styles are defined as:\\n\\n   a. Western European style:\\n      - 14th century: 1300 to 1380\\n      - Transitional: 1380 to 1420\\n      - 15th century: 1420 to 1500 (requires approval from the Authenticity Committee)\\n      - Includes countries like Great Britain, France, Germany, Italy, Scandinavian countries, etc.\\n\\n   b. Slavic Influence:\\n      - Central Europe 14th: 1300 to 1400\\n      - Russian late armors: 1500 to 1700\\n      - Includes countries like Czech Republic, Poland, Russia, Ukraine, etc.\\n\\n   c. Eastern influence:\\n      - Chinese style: 1300 to 1600\\n      - Japanese samurai style: 1400 to 1700\\n      - Middle-East style: 1300 to 1700\\n      - Includes countries like China, Japan, India, Korea, Iran, Iraq, Turkey, Egypt\\n\\nThe document does not provide specific information about authorized deviations in the given context.</td>\n",
       "      <td>The \"Technical Requirements for Armor\" document outlines the historical consistency requirements for armor under section 2.2. These requirements ensure that the armor used in competitions is consistent with historical sources and practices.\\n\\nFirstly, the equipment must come from historical sources. This means that the design, construction, and materials of the armor should be based on existing examples from historical records, artifacts, or reputable reconstructions.\\n\\nSecondly, the dates of the sources must be considered. The armor should be consistent with the time period it represents, and should not mix elements from different epochs. This helps maintain the authenticity and immersion of the historical reenactment or competition.\\n\\nThirdly, there are prohibited features. These are elements of armor that were not used in the specified historical period or culture, or that are considered anachronistic. For example, the use of rivets in certain periods or regions where they were not historically employed would be a prohibited feature.\\n\\nFourthly, consistency in equipment is emphasized. This includes consistency in equipment with regards to Western European style, Slavic influence, Eastern influence, and authorized deviations. \\n\\n- Western European style: The armor should reflect the typical design, construction, and materials used in Western Europe during the specified historical period. This includes considerations for the type of armor, the materials used, and the methods of construction.\\n\\n- Slavic influence: The armor should reflect the influence of Slavic cultures, if applicable. This could include specific design elements, materials, or construction techniques that are characteristic of Slavic armor.\\n\\n- Eastern influence: The armor should reflect the influence of Eastern cultures, if applicable. This could include specific design elements, materials, or construction techniques that are characteristic of Eastern armor.\\n\\n- Authorized deviations: There may be certain deviations from historical practices that are allowed, provided they do not violate the other historical consistency requirements. These deviations should be authorized and documented, and should not detract from the historical authenticity of the armor.</td>\n",
       "      <td>False</td>\n",
       "      <td>For the question about authorized deviations in the given context, the answer is NO because the provided context does not include specific information about authorized deviations.</td>\n",
       "      <td>0.0</td>\n",
       "      <td>True</td>\n",
       "      <td>Yes, the response for the query is in line with the context information provided. The response accurately summarizes the key points from the \"Technical Requirements for Armor\" document related to historical consistency requirements, including equipment from historical sources, dates of sources, prohibited features, and consistency in equipment with regards to Western European style, Slavic influence, and Eastern influence. The response also correctly mentions that the document does not provide specific information about authorized deviations.</td>\n",
       "      <td>1.0</td>\n",
       "      <td>True</td>\n",
       "      <td>The generated answer is highly relevant and provides a detailed explanation of the historical consistency requirements for armor. It correctly identifies the need for equipment from historical sources, dates of sources, and prohibited features. The answer also expands on the requirement for consistency in equipment by providing specific styles and time periods for Western European, Slavic, and Eastern influences. However, it does not mention anything about prohibited features with regards to these styles, or any information about authorized deviations. The answer is mostly correct, but lacks some detail found in the reference answer.</td>\n",
       "      <td>4.5</td>\n",
       "    </tr>\n",
       "    <tr>\n",
       "      <th>2</th>\n",
       "      <td>\"Can you explain the role and responsibility of Authenticity Officers as mentioned in the introduction of the document related to buhurt armor requirements?\"</td>\n",
       "      <td>I apologize, but I cannot provide information about the role and responsibilities of Authenticity Officers as mentioned in the introduction of the document. The given context information does not contain any specific details about Authenticity Officers or their roles in the introduction. The excerpts provided focus on helmet requirements, armor guidelines for various body parts, and procedures for validating equipment deviations. Without access to the introduction of the document or specific information about Authenticity Officers, I cannot accurately answer this question.</td>\n",
       "      <td>Based on the introduction of the document related to buhurt armor requirements, Authenticity Officers are responsible for the correct application of the document. Their role is to ensure that all equipment, including armors, clothes, shields, and weapons used by competitors, meet the historical source requirements outlined in the document. Authenticity Officers analyze historical sources, which can be primary (such as artifacts and museum originals) or secondary (such as images, paintings, statues, descriptions, and writings), using criticism and logic to determine the plausibility of an item's existence. They play a crucial role in maintaining the historical accuracy and authenticity of the competition.</td>\n",
       "      <td>False</td>\n",
       "      <td>For the information provided, the answer would be NO, as the context does not contain any information about the taste of apple pie.</td>\n",
       "      <td>0.0</td>\n",
       "      <td>False</td>\n",
       "      <td>NO, because the response is based on the lack of specific information about Authenticity Officers in the provided context, rather than evaluating whether the response is in line with the context information. The response does accurately reflect the provided context, however, as there is no information about Authenticity Officers in the context.</td>\n",
       "      <td>0.0</td>\n",
       "      <td>False</td>\n",
       "      <td>The generated answer is not relevant to the user query as it does not provide any information about the role and responsibilities of Authenticity Officers in the context of the given document. Instead, it explains the lack of available information and the focus of the provided document excerpts.</td>\n",
       "      <td>1.0</td>\n",
       "    </tr>\n",
       "    <tr>\n",
       "      <th>3</th>\n",
       "      <td>\"Explain the prohibited features for armors and give an example of a modern material or manufacturing technique that would be not allowed in historical reenactment events, according to the given document.\"</td>\n",
       "      <td>According to the document, prohibited features for armors include evident indications of modern materials or manufacturing techniques. Specifically, the document states:\\n\\n\"Prohibited features encompass evident indications of modern materials or manufacturing techniques including: neon colors, obvious nylon cords, plastic ties, visible welded seams, heat-induced discoloration, modern footwear and other visible modern equipment.\"\\n\\nAn example of a modern material or manufacturing technique that would not be allowed in historical reenactment events, based on this information, would be visible welded seams. Welding is a modern joining technique that would not have been used in the production of medieval armor, so any armor with visible welded seams would be considered inauthentic and prohibited in these events.\\n\\nOther examples mentioned that would not be allowed include neon colors, obvious nylon cords, and plastic ties, as these are all clearly modern materials that would not have been available during the historical periods being reenacted (14th to 17th centuries).</td>\n",
       "      <td>According to the given document, prohibited features for armors include any evident indications of modern materials or manufacturing techniques. Specifically, the use of neon colors, obvious nylon cords, plastic ties, visible welded seams, heat-induced discoloration, modern footwear, and other visible modern equipment are not permitted. \\n\\nAn example of a modern material or manufacturing technique that would not be allowed in historical reenactment events, according to the given document, is the use of heat-induced discoloration. This technique is often used in modern manufacturing processes to create a specific color or finish on a material, but it is not consistent with the historical methods of creating armor. Therefore, any armor with heat-induced discoloration would be considered a prohibited feature and not allowed in historical reenactment events.</td>\n",
       "      <td>True</td>\n",
       "      <td>Yes, the information is supported by the context. According to the context, prohibited features for armors include evident indications of modern materials or manufacturing techniques, including visible welded seams.</td>\n",
       "      <td>1.0</td>\n",
       "      <td>True</td>\n",
       "      <td>Yes, the response for the query is in line with the context information provided. The response accurately identifies the prohibited features for armors, including visible welded seams, and explains why welding is a modern manufacturing technique that would not have been used in the production of historical armor. The response also provides additional examples of modern materials and manufacturing techniques that would not be allowed in historical reenactment events. This is consistent with the information provided in the context, which states that prohibited features include evident indications of modern materials or manufacturing techniques, including neon colors, obvious nylon cords, plastic ties, visible welded seams, heat-induced discoloration, modern footwear, and other visible modern equipment.</td>\n",
       "      <td>1.0</td>\n",
       "      <td>True</td>\n",
       "      <td>The generated answer is relevant and fully correct. It accurately identifies the prohibited features for armors as including modern materials or manufacturing techniques, and provides an example of a modern manufacturing technique (welded seams) that would not be allowed in historical reenactment events. The answer is clear, concise, and directly addresses the user's query.\\n\\nThe reason for not giving a full score of 5 is that the reference answer provides a slightly more detailed explanation of the concept and includes additional examples of prohibited features. However, the generated answer is still highly accurate and informative.</td>\n",
       "      <td>4.5</td>\n",
       "    </tr>\n",
       "    <tr>\n",
       "      <th>4</th>\n",
       "      <td>\"What is the process for competitors to deviate from the specified styles of armor, weapons, and shields, and who do they need to notify in order to obtain validation of their equipment choices?\"</td>\n",
       "      <td>Based on the provided context, the process for competitors to deviate from the specified styles of armor, weapons, and shields is as follows:\\n\\n1. Competitors may deviate from the specified styles if they can provide sources supporting their equipment choices.\\n\\n2. To obtain validation of their armor, competitors who wish to deviate from the specified styles must send an email to AC@buhurtinternational.com.\\n\\nThis information is specifically mentioned in section 2.4.4 of the document titled \"Procedure for Validating Unique Competitor Equipment Deviations in Buhurt International Tournaments: Authorization.\"</td>\n",
       "      <td>Competitors can deviate from the specified styles of armor, weapons, and shields by providing sources that support their equipment choices. Once they have done this, they must send an email to AC@buhurtinternational.com to obtain validation of their armor. This information is based on the provided context, and no prior knowledge was used in formulating the answer.</td>\n",
       "      <td>True</td>\n",
       "      <td>YES\\n\\nThe context contains the same information as the given piece of information, stating that competitors may deviate from the specified styles if they provide sources supporting their equipment choices and must send an email to AC@buhurtinternational.com to obtain validation of their armor. The context is from section 2.4.4 of the document titled \"Procedure for Validating Unique Competitor Equipment Deviations in Buhurt International Tournaments: Authorization.\"</td>\n",
       "      <td>1.0</td>\n",
       "      <td>True</td>\n",
       "      <td>Yes, the response for the query is in line with the context information provided. The response accurately summarizes the process and the email address for obtaining validation of equipment choices from section 2.4.4 of the document.</td>\n",
       "      <td>1.0</td>\n",
       "      <td>True</td>\n",
       "      <td>The generated answer is relevant and fully correct. It provides the exact same information as the reference answer, but it is more detailed and includes the specific section and title of the document where the information can be found. This makes the generated answer more informative and useful for the user. \\n\\nHowever, the generated answer is slightly longer and less concise than the reference answer. This is why I gave it a score of 4.5 instead of 5. \\n\\nOverall, the generated answer demonstrates a high level of accuracy and relevance to the user query.</td>\n",
       "      <td>4.5</td>\n",
       "    </tr>\n",
       "    <tr>\n",
       "      <th>5</th>\n",
       "      <td>Question: According to the \"BuHurt Armor Requirement\" document, what are the specific protection requirements for a helmet, and what should be the characteristics of locking systems if they are visible?</td>\n",
       "      <td>According to the \"BuHurt Armor Requirement\" document, the specific protection requirements for a helmet are:\\n\\n1. The helmet must protect the entire head and neck from all sides.\\n2. It must protect the whole head; open-face helmets are not allowed in any category.\\n3. If the helmet includes a removable or pivoting visor, it should be secured to prevent any opening during a fight.\\n4. A helmet must have a quilted or padded coif inside, or a leather suspension system with a quilted coif.\\n5. The recommended minimum thickness of the coif is 5mm.\\n6. A chinstrap must secure the helmet to the head, preventing any loss of it during a fight.\\n7. Neck protection is mandatory and must cover the neck in any position.\\n\\nRegarding the characteristics of locking systems if they are visible:\\n\\n1. Locking systems must be based on historical sources.\\n2. They must use authentic materials (leather, rope, etc.).\\n3. Approved locking systems are displayed in Authenticity Rules documents.</td>\n",
       "      <td>According to the \"BuHurt Armor Requirement\" document, the specific protection requirements for a helmet include protecting the entire head and neck from all sides. Open-face helmets are not allowed in any category. Additionally, the helmet must conform to the Authenticity Rules documents. If the helmet includes a removable or pivoting visor, it should be secured to prevent any opening during a fight.\\n\\nRegarding locking systems, if they are visible, they must be based on historical sources and use authentic materials such as leather or rope. Approved locking systems are displayed in the Authenticity Rules documents.</td>\n",
       "      <td>True</td>\n",
       "      <td>For the context provided, the answers to the following questions are:\\n\\nInformation: A helmet must protect the entire head and neck from all sides.\\nAnswer: YES\\n\\nInformation: A helmet must be made of metal.\\nAnswer: PARTIALLY (the dome and visor must be made of metal, but other parts of the helmet may not be)\\n\\nInformation: Open-face helmets are not allowed in any category.\\nAnswer: YES\\n\\nInformation: A helmet must include a removable or pivoting visor.\\nAnswer: NO\\n\\nInformation: A helmet must have a quilted or padded coif inside, or a leather suspension system with a quilted coif and a recommended minimum thickness of the coif is 5mm.\\nAnswer: YES\\n\\nInformation: A chinstrap must secure the helmet to the head, preventing any loss of it during a fight.\\nAnswer: YES\\n\\nInformation: Neck protection is mandatory and must cover the neck in any position.\\nAnswer: YES\\n\\nInformation: Locking systems must be based on historical sources and use authentic materials (leather, rope, etc.).\\nAnswer: PARTIALLY (only if visible)\\n\\nInformation: The whole armor must protect the following body parts: head, neck, chest, arms, legs, feet, and hands.\\nAnswer: YES\\n\\nInformation: Poor quality equipment is not allowed in any category.\\nAnswer: YES\\n\\nInformation: Marshals are allowed to deny any competitor with clearly poor quality equipment to enter the list.\\nAnswer: YES</td>\n",
       "      <td>1.0</td>\n",
       "      <td>True</td>\n",
       "      <td>Yes, the response for the query is in line with the context information provided. The response accurately summarizes the protection requirements for a helmet and the characteristics of locking systems as stated in the \"BuHurt Armor Requirement\" document, which is also reflected in the provided context.</td>\n",
       "      <td>1.0</td>\n",
       "      <td>True</td>\n",
       "      <td>The generated answer is highly relevant and provides more detailed information than the reference answer, including specific helmet requirements and neck protection. It also accurately describes the characteristics of locking systems if they are visible. However, it slightly exceeds the scope of the question by including details about the chinstrap and coif, which were not explicitly mentioned in the reference answer.\\n\\n&lt;details&gt;\\n  &lt;summary&gt;Reasoning&lt;/summary&gt;\\n\\n  The generated answer is highly relevant and provides more detailed information than the reference answer, including specific helmet requirements and neck protection. It also accurately describes the characteristics of locking systems if they are visible. However, it slightly exceeds the scope of the question by including details about the chinstrap and coif, which were not explicitly mentioned in the reference answer.\\n\\n  The generated answer fully covers the protection requirements for a helmet, including the need to protect the entire head and neck, the prohibition of open-face helmets, and the requirement for removable or pivoting visors to be secured. It also adds valuable information about the quilted or padded coif, the recommended minimum thickness of 5mm, and the mandatory neck protection.\\n\\n  Furthermore, the generated answer accurately describes the characteristics of locking systems if they are visible, requiring them to be based on historical sources, use authentic materials, and be approved by the Authenticity Rules documents.\\n\\n  Although the generated answer is highly accurate and relevant, it slightly exceeds the scope of the question by including details about the chinstrap and coif, which were not explicitly mentioned in the reference answer. This minor deviation from the reference answer results in a slightly lower score.\\n&lt;/details&gt;</td>\n",
       "      <td>4.5</td>\n",
       "    </tr>\n",
       "    <tr>\n",
       "      <th>6</th>\n",
       "      <td>Question: Based on the provided document changelog, what is the most recent update as of December 2024 regarding the technical requirements for armors, weapons, and shields?</td>\n",
       "      <td>Based on the provided changelog information, the most recent update as of December 2024 regarding the technical requirements for armors, weapons, and shields is:\\n\\nThe document on \"Technical Requirements for armors, weapons and shields\" was created in December 2024. The changelog specifically states:\\n\\n\"Date update: December 2024 - add: Document created\"\\n\\nThis appears to be the initial creation of the document outlining the technical requirements for armors, weapons, and shields.\\n\\nAdditionally, for weapons specifically, there was an update in December 2024 that included:\\n\\n1. Changing the upwards weight error limit to 100 grams for all weapons.\\n2. Adding subgenres of weapons for various categories (Duels, Group fights, etc.).\\n3. Removing and moving certain specific requirements and weight/measurement details to a separate document.\\n\\nThese updates provide the most recent changes to the technical requirements as of December 2024 based on the given context.</td>\n",
       "      <td>Based on the provided document changelog, the most recent update as of December 2024 regarding the technical requirements for armors, weapons, and shields is the creation of the document.</td>\n",
       "      <td>True</td>\n",
       "      <td>YES\\n\\nThe context includes a changelog for the technical requirements of armors, weapons, and shields, which includes an entry for December 2024 stating that the document was created and that there were updates regarding the technical requirements for weapons. Therefore, the information provided is supported by the context.</td>\n",
       "      <td>1.0</td>\n",
       "      <td>True</td>\n",
       "      <td>Yes, the response for the query is in line with the context information provided. The changelog shows that the document outlining the technical requirements for armors, weapons, and shields was created in December 2024, and it includes specific updates regarding weapons at that time.</td>\n",
       "      <td>1.0</td>\n",
       "      <td>True</td>\n",
       "      <td>The generated answer is highly relevant and almost entirely correct. It provides the exact details of the most recent update regarding the technical requirements for armors, weapons, and shields as stated in the changelog. The answer is only slightly less concise than the reference answer, hence the score of 4.5.</td>\n",
       "      <td>4.5</td>\n",
       "    </tr>\n",
       "    <tr>\n",
       "      <th>7</th>\n",
       "      <td>Question: Based on the \"Historical Consistency Requirements\" section of the document, explain what is meant by \"Prohibited features\" and provide an example of such a feature as it relates to weapon equipment.</td>\n",
       "      <td>According to the \"Historical Consistency Requirements\" section, \"Prohibited features\" refer to evident indications of modern materials or manufacturing techniques that are not consistent with historical authenticity for weapons from the 14th to 17th centuries.\\n\\nAn example of a prohibited feature related to weapon equipment would be visible welded seams. This is explicitly mentioned in the document as one of the prohibited features, along with other examples such as neon colors, obvious nylon cords, plastic ties, and heat-induced discoloration.\\n\\nThese features are prohibited because they clearly indicate modern manufacturing methods or materials that would not have been present in historical weapons from the specified time period (1300-1600 CE). The goal is to maintain historical accuracy and authenticity in the weapons used in these events.</td>\n",
       "      <td>Based on the \"Historical Consistency Requirements\" section of the document, \"Prohibited features\" refer to elements in weapon equipment that do not align with historical sources or are not consistent with the time period or region being represented. An example of a prohibited feature could be the presence of synthetic materials in a weapon that is supposed to be made entirely of historical materials, such as wood, iron, or steel. Another example could be the use of modern mechanical components in a weapon that would not have been present in the historical equivalent. These prohibited features are not in line with the historical authenticity requirements set forth in the document.</td>\n",
       "      <td>True</td>\n",
       "      <td>YES\\n\\nThe context includes a section called \"Historical Consistency Requirements\" which outlines the prohibition of certain features in weapon equipment that indicate modern materials or manufacturing techniques. Visible welded seams are explicitly mentioned as an example of a prohibited feature.</td>\n",
       "      <td>1.0</td>\n",
       "      <td>True</td>\n",
       "      <td>Yes, the response is in line with the context information provided. The response correctly explains that prohibited features refer to modern materials or manufacturing techniques not consistent with historical authenticity for weapons from the 14th to 17th centuries, and provides an example of a prohibited feature (visible welded seams) as it relates to weapon equipment. This is consistent with the information provided in the \"Historical Consistency Requirements\" section of the document.</td>\n",
       "      <td>1.0</td>\n",
       "      <td>True</td>\n",
       "      <td>The generated answer is relevant and mostly correct. It correctly identifies the concept of \"Prohibited features\" as elements that are not consistent with historical sources or time periods. The example provided, visible welded seams, is also accurate and directly taken from the document. The answer could have been improved by specifying the time period and type of weapon more clearly, as in the reference answer. However, the generated answer is still quite informative and precise.</td>\n",
       "      <td>4.5</td>\n",
       "    </tr>\n",
       "    <tr>\n",
       "      <th>8</th>\n",
       "      <td>Question: Based on the document, what is the role of Authenticity Officers in buhurt competitions? Authenticity Officers are responsible for the correct application of the document in buhurt competitions, which includes group fights in various formats such as 5v5, 12v12, and 30v30. Additionally, they are responsible for ensuring that all equipment, including armors, clothes, shields, and weapons, meet the requirements set forth in the document.</td>\n",
       "      <td>I apologize, but I cannot find any specific information about Authenticity Officers or their role in the given context. The excerpts provided do not mention Authenticity Officers or describe their responsibilities in buhurt competitions.\\n\\nThe context does mention some authenticity requirements for weapons and armor, and there are references to an \"Authenticity Rules document\" for various equipment components. However, there is no explicit information about who enforces these rules or the role of Authenticity Officers.\\n\\nThe closest relevant information I can find is in the first excerpt, which mentions that competitors who deviate from specified styles must send an email to AC@buhurtinternational.com to obtain validation of their armor. This suggests that there is some form of authentication process, but it doesn't specify who carries out this process or their title.\\n\\nWithout more specific information in the given context, I cannot confirm or describe the role of Authenticity Officers in buhurt competitions.</td>\n",
       "      <td>Authenticity Officers are responsible for ensuring that all equipment used in buhurt competitions, which include group fights in various formats such as 5v5, 12v12, and 30v30, adhere to the requirements set forth in the document. This includes armors, clothes, shields, and weapons. They are also responsible for the correct application of the document in buhurt competitions.</td>\n",
       "      <td>True</td>\n",
       "      <td>For the first piece of information: \"Apple pie is generally double-crusted,\" the answer is YES, as this is explicitly stated in the context.\\n\\nFor the second piece of information: \"I apologize, but I cannot find any specific information about Authenticity Officers or their role in the given context,\" the answer is YES, as this is a direct quote from my response indicating that the context does not mention Authenticity Officers or their role.\\n\\nFor the third piece of information: \"Competitors who deviate from specified styles must send an email to AC@buhurtinternational.com to obtain validation of their armor,\" the answer is YES, as this is stated in the context.\\n\\nFor the fourth piece of information: \"All weapons must be based on historical sources and repeat the form of the original in all three dimensions,\" the answer is YES, as this is stated in the context.\\n\\nFor the fifth piece of information: \"The edge of both striking and non-striking edges must be rebated and have a thickness of 2mm or more,\" the answer is YES, as this is stated in the context.\\n\\nFor the sixth piece of information: \"Every weapon to be used at a tournament must be first approved for safety by the representatives of the Marshals during weapons check,\" the answer is YES, as this is stated in the context.\\n\\nFor the seventh piece of information: \"Flat rubber soles with low-profile texture are permitted to replace historical soles,\" the answer is YES, as this is stated in the context.\\n\\nFor the eighth piece of information: \"It is prohibited to decorate weapons with images that are clearly modern and/or offensive,\" the answer is YES, as this is stated in the context.\\n\\nFor the ninth piece of information: \"The blade is the main striking edge of the weapon,\" the answer is YES, as this is stated in the context.\\n\\nFor the tenth piece of information: \"The hilt is composed of the pommel, handle, and guard,\" the answer is YES, as this is stated in the context.\\n\\nFor the eleventh piece of information: \"When holding the bladed weapon firmly, the guard is not allowed to extend the gauntlet of the bearer from more than 3.5cm,\" the answer is YES,</td>\n",
       "      <td>1.0</td>\n",
       "      <td>False</td>\n",
       "      <td>NO, because the response acknowledges the existence of an \"Authenticity Rules document\" and mentions some authenticity requirements, but it also clarifies that there is no explicit information about who enforces these rules or the role of Authenticity Officers in the given context.</td>\n",
       "      <td>0.0</td>\n",
       "      <td>False</td>\n",
       "      <td>The generated answer is not relevant to the user query as it does not provide any information about the role of Authenticity Officers in buhurt competitions. Instead, it explains the lack of specific information in the document about the role of Authenticity Officers.</td>\n",
       "      <td>1.0</td>\n",
       "    </tr>\n",
       "    <tr>\n",
       "      <th>9</th>\n",
       "      <td>What modern countries are included in the Western Europe style definition for armors, shields, and weapons that must be consistent in equipment style, according to the Authenticity Rules documents?</td>\n",
       "      <td>According to the Authenticity Rules documents, the Western Europe style definition for armors, shields, and weapons includes the following modern countries:\\n\\nGreat Britain, Ireland, France, Portugal, Spain, Germany, Italy, Norway, Denmark, Sweden, Finland, Austria, Switzerland, Belgium, and the Netherlands.</td>\n",
       "      <td>The Western Europe style definition for armors, shields, and weapons that must be consistent in equipment style, according to the Authenticity Rules documents, includes the following modern countries: Great Britain, Ireland, France, Portugal, Spain, Germany, Italy, Norway, Denmark, Sweden, Finland, Austria, Switzerland, Belgium, and the Netherlands.</td>\n",
       "      <td>False</td>\n",
       "      <td>The given piece of information is not supported by the context. The context only provides information about the historical consistency requirements for armors, weapons, and shields, and does not mention anything about the countries associated with the Western Europe style definition for armors, shields, and weapons.</td>\n",
       "      <td>0.0</td>\n",
       "      <td>True</td>\n",
       "      <td>Yes, the response for the query is in line with the context information provided. The context indicates that the Western Europe style definition for armors, shields, and weapons includes armors from the modern countries listed in the response.</td>\n",
       "      <td>1.0</td>\n",
       "      <td>True</td>\n",
       "      <td>The generated answer is identical to the reference answer, both in content and form. It is relevant and fully correct.</td>\n",
       "      <td>5.0</td>\n",
       "    </tr>\n",
       "    <tr>\n",
       "      <th>10</th>\n",
       "      <td>\"Describe the authorized deviations for competitors in the Buhurt weapon requirement, according to the given document, and explain the process for obtaining validation of their armor.\"</td>\n",
       "      <td>According to the document, authorized deviations for competitors in Buhurt weapon requirements are as follows:\\n\\n1. Competitors may deviate from the specified styles if they can provide sources supporting their equipment choices.\\n\\n2. To obtain validation for their armor when deviating from specified styles, competitors must follow this process:\\n   - Send an email to AC@buhurtinternational.com\\n   - The email should request validation of their armor\\n\\nIt's important to note that while deviations are allowed, they must be properly validated through this process to ensure compliance with safety and authenticity standards. The document emphasizes that every competitor is solely responsible for the quality of their equipment, but marshals and Authenticity Officers are responsible for correctly applying the requirements outlined in the document.</td>\n",
       "      <td>According to the given document, competitors in the Buhurt weapon requirement are allowed to deviate from the specified styles, which include Chinese, Japanese samurai, and Middle-Eastern styles from the years 1300 to 1700. However, if a competitor chooses to deviate from these styles, they must provide sources to support their equipment choices.\\n\\nTo obtain validation of their armor, competitors who deviate from the specified styles must send an email to AC@buhurtinternational.com. The document does not provide further details on the validation process, such as what information or evidence needs to be included in the email or how long the validation process takes. Therefore, it is recommended to contact Buhurt International directly for more information on their armor validation process.</td>\n",
       "      <td>True</td>\n",
       "      <td>YES\\n\\nThe context includes the following statement, which supports the information: \"Competitors may deviate from these specified styles if they provide sources supporting their equipment choices.\" This indicates that deviations from specified styles are allowed, as long as the competitor can provide sources supporting their equipment choices. This is consistent with the information provided.</td>\n",
       "      <td>1.0</td>\n",
       "      <td>True</td>\n",
       "      <td>Yes, the response for the query is in line with the context information provided. The response accurately summarizes the authorized deviations and validation process for competitors' armor as stated in the given document.</td>\n",
       "      <td>1.0</td>\n",
       "      <td>True</td>\n",
       "      <td>The generated answer is highly relevant and mostly correct. It accurately describes the process for obtaining validation of armor for competitors who deviate from the specified styles. However, it does not explicitly mention the allowed styles (Chinese, Japanese samurai, and Middle-Eastern styles from the years 1300 to 1700) and the requirement to include supporting sources for equipment choices.\\n\\nThe generated answer is more concise and structured than the reference answer, which contributes to its higher score. However, the missing information about the allowed styles and supporting sources slightly lowers the score.\\n\\nDespite these minor shortcomings, the generated answer demonstrates a strong understanding of the validation process and provides clear instructions for competitors.</td>\n",
       "      <td>4.5</td>\n",
       "    </tr>\n",
       "    <tr>\n",
       "      <th>11</th>\n",
       "      <td>What are the two main types of weapons, and provide an example of a weapon from each type?</td>\n",
       "      <td>Based on the context information provided, the two main types of weapons are:\\n\\n1. Bladed weapons\\n2. Hafted weapons\\n\\nExamples from each type:\\n\\n1. Bladed weapons: Swords\\n2. Hafted weapons: Axe\\n\\nBladed weapons are described as having a long metal blade and a hilt with a handguard, while hafted weapons have their main fighting part fitted to the end of a long shaft.</td>\n",
       "      <td>The two main types of weapons are bladed weapons and hafted weapons. An example of a bladed weapon is a sword, and an example of a hafted weapon is an axe.</td>\n",
       "      <td>True</td>\n",
       "      <td>YES\\n\\nThe context provided describes two main types of weapons: bladed weapons and hafted weapons. Bladed weapons are defined as having a long metal blade and a hilt with a handguard (e.g., swords, falchions, longswords). Hafted weapons are defined as having their main fighting part fitted to the end of a long shaft (e.g., axe, polearm, glaive, maces). Therefore, the given information is supported by the context.</td>\n",
       "      <td>1.0</td>\n",
       "      <td>True</td>\n",
       "      <td>Yes, the response for the query is in line with the context information provided. The response correctly identifies the two main types of weapons as bladed weapons and hafted weapons, and provides examples of each type (sword for bladed weapons and axe for hafted weapons) that are consistent with the examples given in the context. The response also provides accurate descriptions of each type of weapon, which are consistent with the descriptions given in the context.</td>\n",
       "      <td>1.0</td>\n",
       "      <td>True</td>\n",
       "      <td>The generated answer is relevant and fully correct. It provides the two main types of weapons and gives an example for each type, which is exactly the same as the reference answer. The additional explanation about the characteristics of each type of weapon also adds to the comprehensiveness of the answer.</td>\n",
       "      <td>5.0</td>\n",
       "    </tr>\n",
       "    <tr>\n",
       "      <th>12</th>\n",
       "      <td>\"What is the maximum allowable extension of the guard for bladed weapons in relation to the bearer's gauntlet, as stated in the given context?\"</td>\n",
       "      <td>According to the context provided, specifically in section 5.3 of the document, the maximum allowable extension of the guard for bladed weapons in relation to the bearer's gauntlet is 3.5 cm. The exact statement reads: \"When holding the bladed weapon firmly, the guard is not allowed to extend the gauntlet of the bearer for more than 3.5cm.\"</td>\n",
       "      <td>The maximum allowable extension of the guard for bladed weapons in relation to the bearer's gauntlet, as stated in the given context, is 3.5 centimeters.</td>\n",
       "      <td>True</td>\n",
       "      <td>YES, according to the context provided, specifically in section 5.3, the maximum allowable extension of the guard for bladed weapons in relation to the bearer's gauntlet is 3.5 cm.</td>\n",
       "      <td>1.0</td>\n",
       "      <td>False</td>\n",
       "      <td>NO, the response is not in line with the context information provided. The context does not provide information about the maximum allowable extension of the guard for bladed weapons in relation to the bearer's gauntlet for all weapons, it only specifies this requirement for bladed weapons. Therefore, the response should have mentioned that the maximum allowable extension of the guard for bladed weapons in relation to the bearer's gauntlet is 3.5 cm, and not for all weapons.</td>\n",
       "      <td>0.0</td>\n",
       "      <td>True</td>\n",
       "      <td>The generated answer is both relevant and fully correct. It not only provides the maximum allowable extension of the guard for bladed weapons in relation to the bearer's gauntlet, but also cites the exact location of the information in the given context. The answer is concise and accurate, making it indistinguishable from the reference answer.</td>\n",
       "      <td>5.0</td>\n",
       "    </tr>\n",
       "    <tr>\n",
       "      <th>13</th>\n",
       "      <td>What is the minimum number of methods required to secure the head of a hafted weapon to the haft, and what are the allowed methods according to the specific requirements for hafted weapons?</td>\n",
       "      <td>According to the specific requirements for hafted weapons mentioned in the context:\\n\\n1. The minimum number of methods required to secure the head of a hafted weapon to the haft is 2.\\n\\n2. The allowed methods are:\\n   - Wedges\\n   - Straps\\n   - Glue\\n   - Rivets or nails\\n   - Langets\\n\\nThe document states: \"The head of any hafted weapon must be secured to the haft by at least 2 different methods.\" It then lists these five allowed methods for securing the head to the haft.</td>\n",
       "      <td>According to the specific requirements for hafted weapons, the head of a hafted weapon must be secured to the haft by at least 2 different methods. The allowed methods are: wedges, straps, glue, rivets or nails, and langets.</td>\n",
       "      <td>False</td>\n",
       "      <td>NO, the given context does not support the piece of information regarding the specific requirements for hafted weapons' head securing methods. Although the context provides specific requirements for hafted weapons, it does not state that the minimum number of methods required to secure the head of a hafted weapon to the haft is 2, nor does it provide a list of allowed methods for securing the head to the haft.</td>\n",
       "      <td>0.0</td>\n",
       "      <td>True</td>\n",
       "      <td>Yes, the response for the query is in line with the context information provided. The response correctly states that the minimum number of methods required to secure the head of a hafted weapon to the haft is 2, and provides the allowed methods which are listed in the context as: wedges, straps, glue, rivets or nails, and langets.</td>\n",
       "      <td>1.0</td>\n",
       "      <td>True</td>\n",
       "      <td>The generated answer is both relevant and fully correct. It provides the exact same information as the reference answer, including the minimum number of methods required and the allowed methods for securing the head of a hafted weapon to the haft. The answer is also concise and easy to understand.\\n\\nThe generated answer is also well-structured and easy to read, with the minimum number of methods listed first followed by the allowed methods. This makes it easy for the user to quickly find the information they are looking for.\\n\\nOverall, the generated answer is of high quality and fully meets the user's needs.</td>\n",
       "      <td>5.0</td>\n",
       "    </tr>\n",
       "    <tr>\n",
       "      <th>14</th>\n",
       "      <td>\"Based on the changelog provided, what is the new weight limit for all weapons in the updated version of the document as of December 2024?\"</td>\n",
       "      <td>According to the changelog provided in the first excerpt, as of December 2024, the upwards weight error for all weapons has been limited to 100 grams. Specifically, the changelog states:\\n\\n\"Updatedate:December-2024-changed: Upwardsweight errorfrom100,200,300hasbeenlimitedto100gramsforall weapons\"\\n\\nThis means that regardless of the weapon type, the maximum allowable weight error above the specified weight limit is now 100 grams for all weapons.</td>\n",
       "      <td>Based on the changelog provided, the new weight limit for all weapons in the updated version of the document as of December 2024 is 100 grams.</td>\n",
       "      <td>True</td>\n",
       "      <td>YES. The changelog includes the following update: \"Upwards weight error from 100,200,300 has been limited to 100 grams for all weapons.\" This supports the statement that, according to the changelog, the maximum allowable weight error above the specified weight limit is now 100 grams for all weapons.</td>\n",
       "      <td>1.0</td>\n",
       "      <td>True</td>\n",
       "      <td>Yes, the response for the query is in line with the context information provided. The changelog states that the upwards weight error for all weapons has been limited to 100 grams as of December 2024, which is what the response indicates.</td>\n",
       "      <td>1.0</td>\n",
       "      <td>True</td>\n",
       "      <td>The generated answer is relevant and provides a detailed explanation of the new weight limit for all weapons in the updated version of the document as of December 2024. The answer is correct and matches the reference answer. However, the generated answer could be more concise and directly provide the new weight limit without the detailed explanation.\\n\\n&lt;details&gt;\\n  &lt;summary&gt;Reasoning&lt;/summary&gt;\\n\\n  The generated answer is relevant to the user query and provides a detailed explanation of the new weight limit for all weapons in the updated version of the document as of December 2024. The answer is correct and matches the reference answer. However, the generated answer could be more concise and directly provide the new weight limit without the detailed explanation.\\n\\n  The generated answer explains that the upwards weight error for all weapons has been limited to 100 grams as of December 2024. This is the new weight limit for all weapons, as stated in the reference answer. The generated answer also provides a quote from the changelog to support its answer.\\n\\n  Although the generated answer is correct and relevant, it could be more concise. The answer could directly provide the new weight limit without the detailed explanation of the upwards weight error. However, the answer is still clear and easy to understand.\\n&lt;/details&gt;</td>\n",
       "      <td>4.5</td>\n",
       "    </tr>\n",
       "  </tbody>\n",
       "</table>\n",
       "</div>"
      ],
      "text/plain": [
       "                                                                                                                                                                                                                                                                                                                                                                                                                                                               query  \\\n",
       "0                                                                                                                                                                                                                                                                                          Question: According to the \"buhurt_armor_requirement.pdf\" document, what is the minimum thickness requirement for the lower leg protection armor, as specified on page 1?   \n",
       "1                                                                                     Question: Based on the \"Technical Requirements for Armor\" document, explain the historical consistency requirements for armor, including the considerations for equipment from historical sources, dates of sources, prohibited features, and consistency in equipment with regards to Western European style, Slavic influence, Eastern influence, and authorized deviations.   \n",
       "2                                                                                                                                                                                                                                                                                                      \"Can you explain the role and responsibility of Authenticity Officers as mentioned in the introduction of the document related to buhurt armor requirements?\"   \n",
       "3                                                                                                                                                                                                                                                      \"Explain the prohibited features for armors and give an example of a modern material or manufacturing technique that would be not allowed in historical reenactment events, according to the given document.\"   \n",
       "4                                                                                                                                                                                                                                                                \"What is the process for competitors to deviate from the specified styles of armor, weapons, and shields, and who do they need to notify in order to obtain validation of their equipment choices?\"   \n",
       "5                                                                                                                                                                                                                                                         Question: According to the \"BuHurt Armor Requirement\" document, what are the specific protection requirements for a helmet, and what should be the characteristics of locking systems if they are visible?   \n",
       "6                                                                                                                                                                                                                                                                                      Question: Based on the provided document changelog, what is the most recent update as of December 2024 regarding the technical requirements for armors, weapons, and shields?   \n",
       "7                                                                                                                                                                                                                                                   Question: Based on the \"Historical Consistency Requirements\" section of the document, explain what is meant by \"Prohibited features\" and provide an example of such a feature as it relates to weapon equipment.   \n",
       "8   Question: Based on the document, what is the role of Authenticity Officers in buhurt competitions? Authenticity Officers are responsible for the correct application of the document in buhurt competitions, which includes group fights in various formats such as 5v5, 12v12, and 30v30. Additionally, they are responsible for ensuring that all equipment, including armors, clothes, shields, and weapons, meet the requirements set forth in the document.   \n",
       "9                                                                                                                                                                                                                                                              What modern countries are included in the Western Europe style definition for armors, shields, and weapons that must be consistent in equipment style, according to the Authenticity Rules documents?   \n",
       "10                                                                                                                                                                                                                                                                          \"Describe the authorized deviations for competitors in the Buhurt weapon requirement, according to the given document, and explain the process for obtaining validation of their armor.\"   \n",
       "11                                                                                                                                                                                                                                                                                                                                                                        What are the two main types of weapons, and provide an example of a weapon from each type?   \n",
       "12                                                                                                                                                                                                                                                                                                                   \"What is the maximum allowable extension of the guard for bladed weapons in relation to the bearer's gauntlet, as stated in the given context?\"   \n",
       "13                                                                                                                                                                                                                                                                     What is the minimum number of methods required to secure the head of a hafted weapon to the haft, and what are the allowed methods according to the specific requirements for hafted weapons?   \n",
       "14                                                                                                                                                                                                                                                                                                                       \"Based on the changelog provided, what is the new weight limit for all weapons in the updated version of the document as of December 2024?\"   \n",
       "\n",
       "                                                                                                                                                                                                                                                                                                                                                                                                                                                                                                                                                                                                                                                                                                                                                                                                                                                                                                                                                                                                                                                                                                                                                                                                                                                                                                                                                                                                                                                                                                                                                                                                                                                                                                                                                                                                                                                        generated_answer  \\\n",
       "0                                                                                                                                                                                                                                                                                                                                                                                                                                                                                                                                                                                                                                                                                                                                                                                                                                                                                                                                                                                                                                                                                                                                                                                                                                                                                                                         I apologize, but I cannot provide an answer to this specific question based on the given context information. The excerpts provided do not contain any information about the minimum thickness requirement for lower leg protection armor, nor do they include content from page 1 of the document. The provided excerpts cover helmet specifications, general armor requirements, and specifications for torso, chest, back, hips, groin, hands, and arms protection, but do not mention specific requirements for lower leg armor thickness.   \n",
       "1   Based on the \"Technical Requirements for Armor\" document, the historical consistency requirements for armor are as follows:\\n\\n1. Equipment from historical sources:\\n   - Only armors derived from historical sources are permitted for use.\\n   - Armors must align with Authenticity Rules documents.\\n\\n2. Dates of sources:\\n   - Armors must align with sources dating between the 14th (1300) and 17th (1600) centuries.\\n   - Reproductions of armors predating the 13th century are prohibited for safety reasons.\\n\\n3. Prohibited features:\\n   - Features that indicate modern materials or manufacturing techniques are prohibited, including:\\n     - Neon colors\\n     - Obvious nylon cords\\n     - Plastic ties\\n     - Visible welded seams\\n     - Heat-induced discoloration\\n     - Modern footwear\\n     - Other visible modern equipment\\n\\n4. Consistency in Equipment:\\n   Armors, shields, and weapons must consist of pieces from the same style. The styles are defined as:\\n\\n   a. Western European style:\\n      - 14th century: 1300 to 1380\\n      - Transitional: 1380 to 1420\\n      - 15th century: 1420 to 1500 (requires approval from the Authenticity Committee)\\n      - Includes countries like Great Britain, France, Germany, Italy, Scandinavian countries, etc.\\n\\n   b. Slavic Influence:\\n      - Central Europe 14th: 1300 to 1400\\n      - Russian late armors: 1500 to 1700\\n      - Includes countries like Czech Republic, Poland, Russia, Ukraine, etc.\\n\\n   c. Eastern influence:\\n      - Chinese style: 1300 to 1600\\n      - Japanese samurai style: 1400 to 1700\\n      - Middle-East style: 1300 to 1700\\n      - Includes countries like China, Japan, India, Korea, Iran, Iraq, Turkey, Egypt\\n\\nThe document does not provide specific information about authorized deviations in the given context.   \n",
       "2                                                                                                                                                                                                                                                                                                                                                                                                                                                                                                                                                                                                                                                                                                                                                                                                                                                                                                                                                                                                                                                                                                                                                                                                                                                                    I apologize, but I cannot provide information about the role and responsibilities of Authenticity Officers as mentioned in the introduction of the document. The given context information does not contain any specific details about Authenticity Officers or their roles in the introduction. The excerpts provided focus on helmet requirements, armor guidelines for various body parts, and procedures for validating equipment deviations. Without access to the introduction of the document or specific information about Authenticity Officers, I cannot accurately answer this question.   \n",
       "3                                                                                                                                                                                                                                                                                                                                                                                                                                                                                                                                                                                                                                                                                                                                           According to the document, prohibited features for armors include evident indications of modern materials or manufacturing techniques. Specifically, the document states:\\n\\n\"Prohibited features encompass evident indications of modern materials or manufacturing techniques including: neon colors, obvious nylon cords, plastic ties, visible welded seams, heat-induced discoloration, modern footwear and other visible modern equipment.\"\\n\\nAn example of a modern material or manufacturing technique that would not be allowed in historical reenactment events, based on this information, would be visible welded seams. Welding is a modern joining technique that would not have been used in the production of medieval armor, so any armor with visible welded seams would be considered inauthentic and prohibited in these events.\\n\\nOther examples mentioned that would not be allowed include neon colors, obvious nylon cords, and plastic ties, as these are all clearly modern materials that would not have been available during the historical periods being reenacted (14th to 17th centuries).   \n",
       "4                                                                                                                                                                                                                                                                                                                                                                                                                                                                                                                                                                                                                                                                                                                                                                                                                                                                                                                                                                                                                                                                                                                                                                                                                               Based on the provided context, the process for competitors to deviate from the specified styles of armor, weapons, and shields is as follows:\\n\\n1. Competitors may deviate from the specified styles if they can provide sources supporting their equipment choices.\\n\\n2. To obtain validation of their armor, competitors who wish to deviate from the specified styles must send an email to AC@buhurtinternational.com.\\n\\nThis information is specifically mentioned in section 2.4.4 of the document titled \"Procedure for Validating Unique Competitor Equipment Deviations in Buhurt International Tournaments: Authorization.\"   \n",
       "5                                                                                                                                                                                                                                                                                                                                                                                                                                                                                                                                                                                                                                                                                                                                                                                                                                            According to the \"BuHurt Armor Requirement\" document, the specific protection requirements for a helmet are:\\n\\n1. The helmet must protect the entire head and neck from all sides.\\n2. It must protect the whole head; open-face helmets are not allowed in any category.\\n3. If the helmet includes a removable or pivoting visor, it should be secured to prevent any opening during a fight.\\n4. A helmet must have a quilted or padded coif inside, or a leather suspension system with a quilted coif.\\n5. The recommended minimum thickness of the coif is 5mm.\\n6. A chinstrap must secure the helmet to the head, preventing any loss of it during a fight.\\n7. Neck protection is mandatory and must cover the neck in any position.\\n\\nRegarding the characteristics of locking systems if they are visible:\\n\\n1. Locking systems must be based on historical sources.\\n2. They must use authentic materials (leather, rope, etc.).\\n3. Approved locking systems are displayed in Authenticity Rules documents.   \n",
       "6                                                                                                                                                                                                                                                                                                                                                                                                                                                                                                                                                                                                                                                                                                                                                                                                                                                    Based on the provided changelog information, the most recent update as of December 2024 regarding the technical requirements for armors, weapons, and shields is:\\n\\nThe document on \"Technical Requirements for armors, weapons and shields\" was created in December 2024. The changelog specifically states:\\n\\n\"Date update: December 2024 - add: Document created\"\\n\\nThis appears to be the initial creation of the document outlining the technical requirements for armors, weapons, and shields.\\n\\nAdditionally, for weapons specifically, there was an update in December 2024 that included:\\n\\n1. Changing the upwards weight error limit to 100 grams for all weapons.\\n2. Adding subgenres of weapons for various categories (Duels, Group fights, etc.).\\n3. Removing and moving certain specific requirements and weight/measurement details to a separate document.\\n\\nThese updates provide the most recent changes to the technical requirements as of December 2024 based on the given context.   \n",
       "7                                                                                                                                                                                                                                                                                                                                                                                                                                                                                                                                                                                                                                                                                                                                                                                                                                                                                                                                                                               According to the \"Historical Consistency Requirements\" section, \"Prohibited features\" refer to evident indications of modern materials or manufacturing techniques that are not consistent with historical authenticity for weapons from the 14th to 17th centuries.\\n\\nAn example of a prohibited feature related to weapon equipment would be visible welded seams. This is explicitly mentioned in the document as one of the prohibited features, along with other examples such as neon colors, obvious nylon cords, plastic ties, and heat-induced discoloration.\\n\\nThese features are prohibited because they clearly indicate modern manufacturing methods or materials that would not have been present in historical weapons from the specified time period (1300-1600 CE). The goal is to maintain historical accuracy and authenticity in the weapons used in these events.   \n",
       "8                                                                                                                                                                                                                                                                                                                                                                                                                                                                                                                                                                                                                                                                                                                                                                                                   I apologize, but I cannot find any specific information about Authenticity Officers or their role in the given context. The excerpts provided do not mention Authenticity Officers or describe their responsibilities in buhurt competitions.\\n\\nThe context does mention some authenticity requirements for weapons and armor, and there are references to an \"Authenticity Rules document\" for various equipment components. However, there is no explicit information about who enforces these rules or the role of Authenticity Officers.\\n\\nThe closest relevant information I can find is in the first excerpt, which mentions that competitors who deviate from specified styles must send an email to AC@buhurtinternational.com to obtain validation of their armor. This suggests that there is some form of authentication process, but it doesn't specify who carries out this process or their title.\\n\\nWithout more specific information in the given context, I cannot confirm or describe the role of Authenticity Officers in buhurt competitions.   \n",
       "9                                                                                                                                                                                                                                                                                                                                                                                                                                                                                                                                                                                                                                                                                                                                                                                                                                                                                                                                                                                                                                                                                                                                                                                                                                                                                                                                                                                                                                                                                                                                                 According to the Authenticity Rules documents, the Western Europe style definition for armors, shields, and weapons includes the following modern countries:\\n\\nGreat Britain, Ireland, France, Portugal, Spain, Germany, Italy, Norway, Denmark, Sweden, Finland, Austria, Switzerland, Belgium, and the Netherlands.   \n",
       "10                                                                                                                                                                                                                                                                                                                                                                                                                                                                                                                                                                                                                                                                                                                                                                                                                                                                                                                                                                              According to the document, authorized deviations for competitors in Buhurt weapon requirements are as follows:\\n\\n1. Competitors may deviate from the specified styles if they can provide sources supporting their equipment choices.\\n\\n2. To obtain validation for their armor when deviating from specified styles, competitors must follow this process:\\n   - Send an email to AC@buhurtinternational.com\\n   - The email should request validation of their armor\\n\\nIt's important to note that while deviations are allowed, they must be properly validated through this process to ensure compliance with safety and authenticity standards. The document emphasizes that every competitor is solely responsible for the quality of their equipment, but marshals and Authenticity Officers are responsible for correctly applying the requirements outlined in the document.   \n",
       "11                                                                                                                                                                                                                                                                                                                                                                                                                                                                                                                                                                                                                                                                                                                                                                                                                                                                                                                                                                                                                                                                                                                                                                                                                                                                                                                                                                                                                                                                                Based on the context information provided, the two main types of weapons are:\\n\\n1. Bladed weapons\\n2. Hafted weapons\\n\\nExamples from each type:\\n\\n1. Bladed weapons: Swords\\n2. Hafted weapons: Axe\\n\\nBladed weapons are described as having a long metal blade and a hilt with a handguard, while hafted weapons have their main fighting part fitted to the end of a long shaft.   \n",
       "12                                                                                                                                                                                                                                                                                                                                                                                                                                                                                                                                                                                                                                                                                                                                                                                                                                                                                                                                                                                                                                                                                                                                                                                                                                                                                                                                                                                                                                                                                                                According to the context provided, specifically in section 5.3 of the document, the maximum allowable extension of the guard for bladed weapons in relation to the bearer's gauntlet is 3.5 cm. The exact statement reads: \"When holding the bladed weapon firmly, the guard is not allowed to extend the gauntlet of the bearer for more than 3.5cm.\"   \n",
       "13                                                                                                                                                                                                                                                                                                                                                                                                                                                                                                                                                                                                                                                                                                                                                                                                                                                                                                                                                                                                                                                                                                                                                                                                                                                                                                                                                                     According to the specific requirements for hafted weapons mentioned in the context:\\n\\n1. The minimum number of methods required to secure the head of a hafted weapon to the haft is 2.\\n\\n2. The allowed methods are:\\n   - Wedges\\n   - Straps\\n   - Glue\\n   - Rivets or nails\\n   - Langets\\n\\nThe document states: \"The head of any hafted weapon must be secured to the haft by at least 2 different methods.\" It then lists these five allowed methods for securing the head to the haft.   \n",
       "14                                                                                                                                                                                                                                                                                                                                                                                                                                                                                                                                                                                                                                                                                                                                                                                                                                                                                                                                                                                                                                                                                                                                                                                                                                                                                                                                                                                                    According to the changelog provided in the first excerpt, as of December 2024, the upwards weight error for all weapons has been limited to 100 grams. Specifically, the changelog states:\\n\\n\"Updatedate:December-2024-changed: Upwardsweight errorfrom100,200,300hasbeenlimitedto100gramsforall weapons\"\\n\\nThis means that regardless of the weapon type, the maximum allowable weight error above the specified weight limit is now 100 grams for all weapons.   \n",
       "\n",
       "                                                                                                                                                                                                                                                                                                                                                                                                                                                                                                                                                                                                                                                                                                                                                                                                                                                                                                                                                                                                                                                                                                                                                                                                                                                                                                                                                                                                                                                                                                                                                                                                                                                                                                                                                                                                                                                                                                                                                                                                                                                                                                                                                                                                                                                                                                                                                        ground_truth  \\\n",
       "0                                                                                                                                                                                                                                                                                                                                                                                                                                                                                                                                                                                                                                                                                                                                                                                                                                                                                                                                                                                                                                                                                                                                                                                                                                                                                                                                                                                                                                                                                                                                                                                                                                                                                                                                                                                                                                                                         To provide an accurate answer, I would need access to the specific contents of the \"buhurt\\_armor\\_requirement.pdf\" document located at /home/ec2-user/SageMaker/elvtr-ai-solution-architect/class-14/source\\_docs/. However, based on the provided context, I can tell you that the minimum thickness requirement for the lower leg protection armor is specified on page 1 of the document. To get the exact thickness requirement, please refer to the contents of the document itself.   \n",
       "1    The \"Technical Requirements for Armor\" document outlines the historical consistency requirements for armor under section 2.2. These requirements ensure that the armor used in competitions is consistent with historical sources and practices.\\n\\nFirstly, the equipment must come from historical sources. This means that the design, construction, and materials of the armor should be based on existing examples from historical records, artifacts, or reputable reconstructions.\\n\\nSecondly, the dates of the sources must be considered. The armor should be consistent with the time period it represents, and should not mix elements from different epochs. This helps maintain the authenticity and immersion of the historical reenactment or competition.\\n\\nThirdly, there are prohibited features. These are elements of armor that were not used in the specified historical period or culture, or that are considered anachronistic. For example, the use of rivets in certain periods or regions where they were not historically employed would be a prohibited feature.\\n\\nFourthly, consistency in equipment is emphasized. This includes consistency in equipment with regards to Western European style, Slavic influence, Eastern influence, and authorized deviations. \\n\\n- Western European style: The armor should reflect the typical design, construction, and materials used in Western Europe during the specified historical period. This includes considerations for the type of armor, the materials used, and the methods of construction.\\n\\n- Slavic influence: The armor should reflect the influence of Slavic cultures, if applicable. This could include specific design elements, materials, or construction techniques that are characteristic of Slavic armor.\\n\\n- Eastern influence: The armor should reflect the influence of Eastern cultures, if applicable. This could include specific design elements, materials, or construction techniques that are characteristic of Eastern armor.\\n\\n- Authorized deviations: There may be certain deviations from historical practices that are allowed, provided they do not violate the other historical consistency requirements. These deviations should be authorized and documented, and should not detract from the historical authenticity of the armor.   \n",
       "2                                                                                                                                                                                                                                                                                                                                                                                                                                                                                                                                                                                                                                                                                                                                                                                                                                                                                                                                                                                                                                                                                                                                                                                                                                                                                                                                                                                                                                                                                                                                                                                                                          Based on the introduction of the document related to buhurt armor requirements, Authenticity Officers are responsible for the correct application of the document. Their role is to ensure that all equipment, including armors, clothes, shields, and weapons used by competitors, meet the historical source requirements outlined in the document. Authenticity Officers analyze historical sources, which can be primary (such as artifacts and museum originals) or secondary (such as images, paintings, statues, descriptions, and writings), using criticism and logic to determine the plausibility of an item's existence. They play a crucial role in maintaining the historical accuracy and authenticity of the competition.   \n",
       "3                                                                                                                                                                                                                                                                                                                                                                                                                                                                                                                                                                                                                                                                                                                                                                                                                                                                                                                                                                                                                                                                                                                                                                                                                                                                                                                                                                                                                                                                According to the given document, prohibited features for armors include any evident indications of modern materials or manufacturing techniques. Specifically, the use of neon colors, obvious nylon cords, plastic ties, visible welded seams, heat-induced discoloration, modern footwear, and other visible modern equipment are not permitted. \\n\\nAn example of a modern material or manufacturing technique that would not be allowed in historical reenactment events, according to the given document, is the use of heat-induced discoloration. This technique is often used in modern manufacturing processes to create a specific color or finish on a material, but it is not consistent with the historical methods of creating armor. Therefore, any armor with heat-induced discoloration would be considered a prohibited feature and not allowed in historical reenactment events.   \n",
       "4                                                                                                                                                                                                                                                                                                                                                                                                                                                                                                                                                                                                                                                                                                                                                                                                                                                                                                                                                                                                                                                                                                                                                                                                                                                                                                                                                                                                                                                                                                                                                                                                                                                                                                                                                                                                                                                                                                                                                                                     Competitors can deviate from the specified styles of armor, weapons, and shields by providing sources that support their equipment choices. Once they have done this, they must send an email to AC@buhurtinternational.com to obtain validation of their armor. This information is based on the provided context, and no prior knowledge was used in formulating the answer.   \n",
       "5                                                                                                                                                                                                                                                                                                                                                                                                                                                                                                                                                                                                                                                                                                                                                                                                                                                                                                                                                                                                                                                                                                                                                                                                                                                                                                                                                                                                                                                                                                                                                                                                                                                                                                                   According to the \"BuHurt Armor Requirement\" document, the specific protection requirements for a helmet include protecting the entire head and neck from all sides. Open-face helmets are not allowed in any category. Additionally, the helmet must conform to the Authenticity Rules documents. If the helmet includes a removable or pivoting visor, it should be secured to prevent any opening during a fight.\\n\\nRegarding locking systems, if they are visible, they must be based on historical sources and use authentic materials such as leather or rope. Approved locking systems are displayed in the Authenticity Rules documents.   \n",
       "6                                                                                                                                                                                                                                                                                                                                                                                                                                                                                                                                                                                                                                                                                                                                                                                                                                                                                                                                                                                                                                                                                                                                                                                                                                                                                                                                                                                                                                                                                                                                                                                                                                                                                                                                                                                                                                                                                                                                                                                                                                                                                                                                                                        Based on the provided document changelog, the most recent update as of December 2024 regarding the technical requirements for armors, weapons, and shields is the creation of the document.   \n",
       "7                                                                                                                                                                                                                                                                                                                                                                                                                                                                                                                                                                                                                                                                                                                                                                                                                                                                                                                                                                                                                                                                                                                                                                                                                                                                                                                                                                                                                                                                                                                                                                                                                                                   Based on the \"Historical Consistency Requirements\" section of the document, \"Prohibited features\" refer to elements in weapon equipment that do not align with historical sources or are not consistent with the time period or region being represented. An example of a prohibited feature could be the presence of synthetic materials in a weapon that is supposed to be made entirely of historical materials, such as wood, iron, or steel. Another example could be the use of modern mechanical components in a weapon that would not have been present in the historical equivalent. These prohibited features are not in line with the historical authenticity requirements set forth in the document.   \n",
       "8                                                                                                                                                                                                                                                                                                                                                                                                                                                                                                                                                                                                                                                                                                                                                                                                                                                                                                                                                                                                                                                                                                                                                                                                                                                                                                                                                                                                                                                                                                                                                                                                                                                                                                                                                                                                                                                                                                                                                                           Authenticity Officers are responsible for ensuring that all equipment used in buhurt competitions, which include group fights in various formats such as 5v5, 12v12, and 30v30, adhere to the requirements set forth in the document. This includes armors, clothes, shields, and weapons. They are also responsible for the correct application of the document in buhurt competitions.   \n",
       "9                                                                                                                                                                                                                                                                                                                                                                                                                                                                                                                                                                                                                                                                                                                                                                                                                                                                                                                                                                                                                                                                                                                                                                                                                                                                                                                                                                                                                                                                                                                                                                                                                                                                                                                                                                                                                                                                                                                                                                                                    The Western Europe style definition for armors, shields, and weapons that must be consistent in equipment style, according to the Authenticity Rules documents, includes the following modern countries: Great Britain, Ireland, France, Portugal, Spain, Germany, Italy, Norway, Denmark, Sweden, Finland, Austria, Switzerland, Belgium, and the Netherlands.   \n",
       "10                                                                                                                                                                                                                                                                                                                                                                                                                                                                                                                                                                                                                                                                                                                                                                                                                                                                                                                                                                                                                                                                                                                                                                                                                                                                                                                                                                                                                                                                                                                                  According to the given document, competitors in the Buhurt weapon requirement are allowed to deviate from the specified styles, which include Chinese, Japanese samurai, and Middle-Eastern styles from the years 1300 to 1700. However, if a competitor chooses to deviate from these styles, they must provide sources to support their equipment choices.\\n\\nTo obtain validation of their armor, competitors who deviate from the specified styles must send an email to AC@buhurtinternational.com. The document does not provide further details on the validation process, such as what information or evidence needs to be included in the email or how long the validation process takes. Therefore, it is recommended to contact Buhurt International directly for more information on their armor validation process.   \n",
       "11                                                                                                                                                                                                                                                                                                                                                                                                                                                                                                                                                                                                                                                                                                                                                                                                                                                                                                                                                                                                                                                                                                                                                                                                                                                                                                                                                                                                                                                                                                                                                                                                                                                                                                                                                                                                                                                                                                                                                                                                                                                                                                                                                                                                       The two main types of weapons are bladed weapons and hafted weapons. An example of a bladed weapon is a sword, and an example of a hafted weapon is an axe.   \n",
       "12                                                                                                                                                                                                                                                                                                                                                                                                                                                                                                                                                                                                                                                                                                                                                                                                                                                                                                                                                                                                                                                                                                                                                                                                                                                                                                                                                                                                                                                                                                                                                                                                                                                                                                                                                                                                                                                                                                                                                                                                                                                                                                                                                                                                         The maximum allowable extension of the guard for bladed weapons in relation to the bearer's gauntlet, as stated in the given context, is 3.5 centimeters.   \n",
       "13                                                                                                                                                                                                                                                                                                                                                                                                                                                                                                                                                                                                                                                                                                                                                                                                                                                                                                                                                                                                                                                                                                                                                                                                                                                                                                                                                                                                                                                                                                                                                                                                                                                                                                                                                                                                                                                                                                                                                                                                                                                                                                                                  According to the specific requirements for hafted weapons, the head of a hafted weapon must be secured to the haft by at least 2 different methods. The allowed methods are: wedges, straps, glue, rivets or nails, and langets.   \n",
       "14                                                                                                                                                                                                                                                                                                                                                                                                                                                                                                                                                                                                                                                                                                                                                                                                                                                                                                                                                                                                                                                                                                                                                                                                                                                                                                                                                                                                                                                                                                                                                                                                                                                                                                                                                                                                                                                                                                                                                                                                                                                                                                                                                                                                                    Based on the changelog provided, the new weight limit for all weapons in the updated version of the document as of December 2024 is 100 grams.   \n",
       "\n",
       "    faithfulness  \\\n",
       "0          False   \n",
       "1          False   \n",
       "2          False   \n",
       "3           True   \n",
       "4           True   \n",
       "5           True   \n",
       "6           True   \n",
       "7           True   \n",
       "8           True   \n",
       "9          False   \n",
       "10          True   \n",
       "11          True   \n",
       "12          True   \n",
       "13         False   \n",
       "14          True   \n",
       "\n",
       "                                                                                                                                                                                                                                                                                                                                                                                                                                                                                                                                                                                                                                                                                                                                                                                                                                                                                                                                                                                                                                                                                                                                                                                                                                                                                                                                                                                                                                                                                                                                                                                                                                                                                                                                                                                                                                                                                                                                                                                                                                                                                                                                                                                                                     faithfulness_feedback  \\\n",
       "0                                                                                                                                                                                                                                                                                                                                                                                                                                                                                                                                                                                                                                                                                                                                                                                                                                                                                                                                                                                                                                                                                                                                                                                                                                                                                                                                                                                                                                                                                                                                                                                                                                                                                                                                                                                                                                        NO, the given context does not support the statement \"The minimum thickness requirement for lower leg protection armor is 2.5mm.\" The context provided only includes information about helmet specifications, general armor requirements, and specifications for torso, chest, back, hips, groin, hands, and arms protection. It does not mention any requirements for lower leg armor thickness.   \n",
       "1                                                                                                                                                                                                                                                                                                                                                                                                                                                                                                                                                                                                                                                                                                                                                                                                                                                                                                                                                                                                                                                                                                                                                                                                                                                                                                                                                                                                                                                                                                                                                                                                                                                                                                                                                                                                                                                                                                                                                                                                                                                      For the question about authorized deviations in the given context, the answer is NO because the provided context does not include specific information about authorized deviations.   \n",
       "2                                                                                                                                                                                                                                                                                                                                                                                                                                                                                                                                                                                                                                                                                                                                                                                                                                                                                                                                                                                                                                                                                                                                                                                                                                                                                                                                                                                                                                                                                                                                                                                                                                                                                                                                                                                                                                                                                                                                                                                                                                                                                                      For the information provided, the answer would be NO, as the context does not contain any information about the taste of apple pie.   \n",
       "3                                                                                                                                                                                                                                                                                                                                                                                                                                                                                                                                                                                                                                                                                                                                                                                                                                                                                                                                                                                                                                                                                                                                                                                                                                                                                                                                                                                                                                                                                                                                                                                                                                                                                                                                                                                                                                                                                                                                                                                                                  Yes, the information is supported by the context. According to the context, prohibited features for armors include evident indications of modern materials or manufacturing techniques, including visible welded seams.   \n",
       "4                                                                                                                                                                                                                                                                                                                                                                                                                                                                                                                                                                                                                                                                                                                                                                                                                                                                                                                                                                                                                                                                                                                                                                                                                                                                                                                                                                                                                                                                                                                                                                                                                                                                                                                                                   YES\\n\\nThe context contains the same information as the given piece of information, stating that competitors may deviate from the specified styles if they provide sources supporting their equipment choices and must send an email to AC@buhurtinternational.com to obtain validation of their armor. The context is from section 2.4.4 of the document titled \"Procedure for Validating Unique Competitor Equipment Deviations in Buhurt International Tournaments: Authorization.\"   \n",
       "5                                                                                                                                                                                                                                                                                                                                                                                                                                                                                                                                                                                                                                                                                                                                                                                                     For the context provided, the answers to the following questions are:\\n\\nInformation: A helmet must protect the entire head and neck from all sides.\\nAnswer: YES\\n\\nInformation: A helmet must be made of metal.\\nAnswer: PARTIALLY (the dome and visor must be made of metal, but other parts of the helmet may not be)\\n\\nInformation: Open-face helmets are not allowed in any category.\\nAnswer: YES\\n\\nInformation: A helmet must include a removable or pivoting visor.\\nAnswer: NO\\n\\nInformation: A helmet must have a quilted or padded coif inside, or a leather suspension system with a quilted coif and a recommended minimum thickness of the coif is 5mm.\\nAnswer: YES\\n\\nInformation: A chinstrap must secure the helmet to the head, preventing any loss of it during a fight.\\nAnswer: YES\\n\\nInformation: Neck protection is mandatory and must cover the neck in any position.\\nAnswer: YES\\n\\nInformation: Locking systems must be based on historical sources and use authentic materials (leather, rope, etc.).\\nAnswer: PARTIALLY (only if visible)\\n\\nInformation: The whole armor must protect the following body parts: head, neck, chest, arms, legs, feet, and hands.\\nAnswer: YES\\n\\nInformation: Poor quality equipment is not allowed in any category.\\nAnswer: YES\\n\\nInformation: Marshals are allowed to deny any competitor with clearly poor quality equipment to enter the list.\\nAnswer: YES   \n",
       "6                                                                                                                                                                                                                                                                                                                                                                                                                                                                                                                                                                                                                                                                                                                                                                                                                                                                                                                                                                                                                                                                                                                                                                                                                                                                                                                                                                                                                                                                                                                                                                                                                                                                                                                                                                                                                                                                                                   YES\\n\\nThe context includes a changelog for the technical requirements of armors, weapons, and shields, which includes an entry for December 2024 stating that the document was created and that there were updates regarding the technical requirements for weapons. Therefore, the information provided is supported by the context.   \n",
       "7                                                                                                                                                                                                                                                                                                                                                                                                                                                                                                                                                                                                                                                                                                                                                                                                                                                                                                                                                                                                                                                                                                                                                                                                                                                                                                                                                                                                                                                                                                                                                                                                                                                                                                                                                                                                                                                                                                                               YES\\n\\nThe context includes a section called \"Historical Consistency Requirements\" which outlines the prohibition of certain features in weapon equipment that indicate modern materials or manufacturing techniques. Visible welded seams are explicitly mentioned as an example of a prohibited feature.   \n",
       "8    For the first piece of information: \"Apple pie is generally double-crusted,\" the answer is YES, as this is explicitly stated in the context.\\n\\nFor the second piece of information: \"I apologize, but I cannot find any specific information about Authenticity Officers or their role in the given context,\" the answer is YES, as this is a direct quote from my response indicating that the context does not mention Authenticity Officers or their role.\\n\\nFor the third piece of information: \"Competitors who deviate from specified styles must send an email to AC@buhurtinternational.com to obtain validation of their armor,\" the answer is YES, as this is stated in the context.\\n\\nFor the fourth piece of information: \"All weapons must be based on historical sources and repeat the form of the original in all three dimensions,\" the answer is YES, as this is stated in the context.\\n\\nFor the fifth piece of information: \"The edge of both striking and non-striking edges must be rebated and have a thickness of 2mm or more,\" the answer is YES, as this is stated in the context.\\n\\nFor the sixth piece of information: \"Every weapon to be used at a tournament must be first approved for safety by the representatives of the Marshals during weapons check,\" the answer is YES, as this is stated in the context.\\n\\nFor the seventh piece of information: \"Flat rubber soles with low-profile texture are permitted to replace historical soles,\" the answer is YES, as this is stated in the context.\\n\\nFor the eighth piece of information: \"It is prohibited to decorate weapons with images that are clearly modern and/or offensive,\" the answer is YES, as this is stated in the context.\\n\\nFor the ninth piece of information: \"The blade is the main striking edge of the weapon,\" the answer is YES, as this is stated in the context.\\n\\nFor the tenth piece of information: \"The hilt is composed of the pommel, handle, and guard,\" the answer is YES, as this is stated in the context.\\n\\nFor the eleventh piece of information: \"When holding the bladed weapon firmly, the guard is not allowed to extend the gauntlet of the bearer from more than 3.5cm,\" the answer is YES,   \n",
       "9                                                                                                                                                                                                                                                                                                                                                                                                                                                                                                                                                                                                                                                                                                                                                                                                                                                                                                                                                                                                                                                                                                                                                                                                                                                                                                                                                                                                                                                                                                                                                                                                                                                                                                                                                                                                                                                                                                            The given piece of information is not supported by the context. The context only provides information about the historical consistency requirements for armors, weapons, and shields, and does not mention anything about the countries associated with the Western Europe style definition for armors, shields, and weapons.   \n",
       "10                                                                                                                                                                                                                                                                                                                                                                                                                                                                                                                                                                                                                                                                                                                                                                                                                                                                                                                                                                                                                                                                                                                                                                                                                                                                                                                                                                                                                                                                                                                                                                                                                                                                                                                                                                                                                            YES\\n\\nThe context includes the following statement, which supports the information: \"Competitors may deviate from these specified styles if they provide sources supporting their equipment choices.\" This indicates that deviations from specified styles are allowed, as long as the competitor can provide sources supporting their equipment choices. This is consistent with the information provided.   \n",
       "11                                                                                                                                                                                                                                                                                                                                                                                                                                                                                                                                                                                                                                                                                                                                                                                                                                                                                                                                                                                                                                                                                                                                                                                                                                                                                                                                                                                                                                                                                                                                                                                                                                                                                                                                                                                                       YES\\n\\nThe context provided describes two main types of weapons: bladed weapons and hafted weapons. Bladed weapons are defined as having a long metal blade and a hilt with a handguard (e.g., swords, falchions, longswords). Hafted weapons are defined as having their main fighting part fitted to the end of a long shaft (e.g., axe, polearm, glaive, maces). Therefore, the given information is supported by the context.   \n",
       "12                                                                                                                                                                                                                                                                                                                                                                                                                                                                                                                                                                                                                                                                                                                                                                                                                                                                                                                                                                                                                                                                                                                                                                                                                                                                                                                                                                                                                                                                                                                                                                                                                                                                                                                                                                                                                                                                                                                                                                                                                                                    YES, according to the context provided, specifically in section 5.3, the maximum allowable extension of the guard for bladed weapons in relation to the bearer's gauntlet is 3.5 cm.   \n",
       "13                                                                                                                                                                                                                                                                                                                                                                                                                                                                                                                                                                                                                                                                                                                                                                                                                                                                                                                                                                                                                                                                                                                                                                                                                                                                                                                                                                                                                                                                                                                                                                                                                                                                                                                                                                                                           NO, the given context does not support the piece of information regarding the specific requirements for hafted weapons' head securing methods. Although the context provides specific requirements for hafted weapons, it does not state that the minimum number of methods required to secure the head of a hafted weapon to the haft is 2, nor does it provide a list of allowed methods for securing the head to the haft.   \n",
       "14                                                                                                                                                                                                                                                                                                                                                                                                                                                                                                                                                                                                                                                                                                                                                                                                                                                                                                                                                                                                                                                                                                                                                                                                                                                                                                                                                                                                                                                                                                                                                                                                                                                                                                                                                                                                                                                                                                                            YES. The changelog includes the following update: \"Upwards weight error from 100,200,300 has been limited to 100 grams for all weapons.\" This supports the statement that, according to the changelog, the maximum allowable weight error above the specified weight limit is now 100 grams for all weapons.   \n",
       "\n",
       "    faithfulness_score  relevancy  \\\n",
       "0                  0.0      False   \n",
       "1                  0.0       True   \n",
       "2                  0.0      False   \n",
       "3                  1.0       True   \n",
       "4                  1.0       True   \n",
       "5                  1.0       True   \n",
       "6                  1.0       True   \n",
       "7                  1.0       True   \n",
       "8                  1.0      False   \n",
       "9                  0.0       True   \n",
       "10                 1.0       True   \n",
       "11                 1.0       True   \n",
       "12                 1.0      False   \n",
       "13                 0.0       True   \n",
       "14                 1.0       True   \n",
       "\n",
       "                                                                                                                                                                                                                                                                                                                                                                                                                                                                                                                                                                                                                                                                                                                                                                                                                              relevancy_feedback  \\\n",
       "0                                                                                                                                                                                                                                                                                                                                                                                                                                                                                                                                                           NO, the response is not in line with the context information provided. The context information does include the minimum thickness recommendations for various types of armor, but it does not specifically mention the minimum thickness requirement for lower leg protection armor.   \n",
       "1                                                                                                                                                                                                                                                                           Yes, the response for the query is in line with the context information provided. The response accurately summarizes the key points from the \"Technical Requirements for Armor\" document related to historical consistency requirements, including equipment from historical sources, dates of sources, prohibited features, and consistency in equipment with regards to Western European style, Slavic influence, and Eastern influence. The response also correctly mentions that the document does not provide specific information about authorized deviations.   \n",
       "2                                                                                                                                                                                                                                                                                                                                                                                                                                                                                     NO, because the response is based on the lack of specific information about Authenticity Officers in the provided context, rather than evaluating whether the response is in line with the context information. The response does accurately reflect the provided context, however, as there is no information about Authenticity Officers in the context.   \n",
       "3    Yes, the response for the query is in line with the context information provided. The response accurately identifies the prohibited features for armors, including visible welded seams, and explains why welding is a modern manufacturing technique that would not have been used in the production of historical armor. The response also provides additional examples of modern materials and manufacturing techniques that would not be allowed in historical reenactment events. This is consistent with the information provided in the context, which states that prohibited features include evident indications of modern materials or manufacturing techniques, including neon colors, obvious nylon cords, plastic ties, visible welded seams, heat-induced discoloration, modern footwear, and other visible modern equipment.   \n",
       "4                                                                                                                                                                                                                                                                                                                                                                                                                                                                                                                                                                                                       Yes, the response for the query is in line with the context information provided. The response accurately summarizes the process and the email address for obtaining validation of equipment choices from section 2.4.4 of the document.   \n",
       "5                                                                                                                                                                                                                                                                                                                                                                                                                                                                                                                                Yes, the response for the query is in line with the context information provided. The response accurately summarizes the protection requirements for a helmet and the characteristics of locking systems as stated in the \"BuHurt Armor Requirement\" document, which is also reflected in the provided context.   \n",
       "6                                                                                                                                                                                                                                                                                                                                                                                                                                                                                                                                                   Yes, the response for the query is in line with the context information provided. The changelog shows that the document outlining the technical requirements for armors, weapons, and shields was created in December 2024, and it includes specific updates regarding weapons at that time.   \n",
       "7                                                                                                                                                                                                                                                                                                                                   Yes, the response is in line with the context information provided. The response correctly explains that prohibited features refer to modern materials or manufacturing techniques not consistent with historical authenticity for weapons from the 14th to 17th centuries, and provides an example of a prohibited feature (visible welded seams) as it relates to weapon equipment. This is consistent with the information provided in the \"Historical Consistency Requirements\" section of the document.   \n",
       "8                                                                                                                                                                                                                                                                                                                                                                                                                                                                                                                                                     NO, because the response acknowledges the existence of an \"Authenticity Rules document\" and mentions some authenticity requirements, but it also clarifies that there is no explicit information about who enforces these rules or the role of Authenticity Officers in the given context.   \n",
       "9                                                                                                                                                                                                                                                                                                                                                                                                                                                                                                                                                                                            Yes, the response for the query is in line with the context information provided. The context indicates that the Western Europe style definition for armors, shields, and weapons includes armors from the modern countries listed in the response.   \n",
       "10                                                                                                                                                                                                                                                                                                                                                                                                                                                                                                                                                                                                                 Yes, the response for the query is in line with the context information provided. The response accurately summarizes the authorized deviations and validation process for competitors' armor as stated in the given document.   \n",
       "11                                                                                                                                                                                                                                                                                                                                                        Yes, the response for the query is in line with the context information provided. The response correctly identifies the two main types of weapons as bladed weapons and hafted weapons, and provides examples of each type (sword for bladed weapons and axe for hafted weapons) that are consistent with the examples given in the context. The response also provides accurate descriptions of each type of weapon, which are consistent with the descriptions given in the context.   \n",
       "12                                                                                                                                                                                                                                                                                                                                                NO, the response is not in line with the context information provided. The context does not provide information about the maximum allowable extension of the guard for bladed weapons in relation to the bearer's gauntlet for all weapons, it only specifies this requirement for bladed weapons. Therefore, the response should have mentioned that the maximum allowable extension of the guard for bladed weapons in relation to the bearer's gauntlet is 3.5 cm, and not for all weapons.   \n",
       "13                                                                                                                                                                                                                                                                                                                                                                                                                                                                                                  Yes, the response for the query is in line with the context information provided. The response correctly states that the minimum number of methods required to secure the head of a hafted weapon to the haft is 2, and provides the allowed methods which are listed in the context as: wedges, straps, glue, rivets or nails, and langets.   \n",
       "14                                                                                                                                                                                                                                                                                                                                                                                                                                                                                                                                                                                                 Yes, the response for the query is in line with the context information provided. The changelog states that the upwards weight error for all weapons has been limited to 100 grams as of December 2024, which is what the response indicates.   \n",
       "\n",
       "    relevancy_score  correctness  \\\n",
       "0               0.0        False   \n",
       "1               1.0         True   \n",
       "2               0.0        False   \n",
       "3               1.0         True   \n",
       "4               1.0         True   \n",
       "5               1.0         True   \n",
       "6               1.0         True   \n",
       "7               1.0         True   \n",
       "8               0.0        False   \n",
       "9               1.0         True   \n",
       "10              1.0         True   \n",
       "11              1.0         True   \n",
       "12              0.0         True   \n",
       "13              1.0         True   \n",
       "14              1.0         True   \n",
       "\n",
       "                                                                                                                                                                                                                                                                                                                                                                                                                                                                                                                                                                                                                                                                                                                                                                                                                                                                                                                                                                                                                                                                                                                                                                                                                                                                                                                                                                                                                                                                                                                                                                                                                                                                                                                                                                                                                                                                                                         correctness_feedback  \\\n",
       "0                                                                                                                                                                                                                                                                                                                                                                                                                                                                                                                                                                                                                                                                                                                                                                                                                                                                                                                                                                                                                                                                                                                                                                                                                                                                                                                                                                                                                                                                                                                                                                                                 The generated answer is relevant as it indicates that the required information is not available in the provided context. However, it could have been more helpful by stating that the minimum thickness requirement for lower leg protection armor is specified on page 1 of the document, similar to the reference answer.   \n",
       "1                                                                                                                                                                                                                                                                                                                                                                                                                                                                                                                                                                                                                                                                                                                                                                                                                                                                                                                                                                                                                                                                                                                                                                                                                                                           The generated answer is highly relevant and provides a detailed explanation of the historical consistency requirements for armor. It correctly identifies the need for equipment from historical sources, dates of sources, and prohibited features. The answer also expands on the requirement for consistency in equipment by providing specific styles and time periods for Western European, Slavic, and Eastern influences. However, it does not mention anything about prohibited features with regards to these styles, or any information about authorized deviations. The answer is mostly correct, but lacks some detail found in the reference answer.   \n",
       "2                                                                                                                                                                                                                                                                                                                                                                                                                                                                                                                                                                                                                                                                                                                                                                                                                                                                                                                                                                                                                                                                                                                                                                                                                                                                                                                                                                                                                                                                                                                                                                                                                    The generated answer is not relevant to the user query as it does not provide any information about the role and responsibilities of Authenticity Officers in the context of the given document. Instead, it explains the lack of available information and the focus of the provided document excerpts.   \n",
       "3                                                                                                                                                                                                                                                                                                                                                                                                                                                                                                                                                                                                                                                                                                                                                                                                                                                                                                                                                                                                                                                                                                                                                                                                                                                          The generated answer is relevant and fully correct. It accurately identifies the prohibited features for armors as including modern materials or manufacturing techniques, and provides an example of a modern manufacturing technique (welded seams) that would not be allowed in historical reenactment events. The answer is clear, concise, and directly addresses the user's query.\\n\\nThe reason for not giving a full score of 5 is that the reference answer provides a slightly more detailed explanation of the concept and includes additional examples of prohibited features. However, the generated answer is still highly accurate and informative.   \n",
       "4                                                                                                                                                                                                                                                                                                                                                                                                                                                                                                                                                                                                                                                                                                                                                                                                                                                                                                                                                                                                                                                                                                                                                                                                                                                                                                                                          The generated answer is relevant and fully correct. It provides the exact same information as the reference answer, but it is more detailed and includes the specific section and title of the document where the information can be found. This makes the generated answer more informative and useful for the user. \\n\\nHowever, the generated answer is slightly longer and less concise than the reference answer. This is why I gave it a score of 4.5 instead of 5. \\n\\nOverall, the generated answer demonstrates a high level of accuracy and relevance to the user query.   \n",
       "5   The generated answer is highly relevant and provides more detailed information than the reference answer, including specific helmet requirements and neck protection. It also accurately describes the characteristics of locking systems if they are visible. However, it slightly exceeds the scope of the question by including details about the chinstrap and coif, which were not explicitly mentioned in the reference answer.\\n\\n<details>\\n  <summary>Reasoning</summary>\\n\\n  The generated answer is highly relevant and provides more detailed information than the reference answer, including specific helmet requirements and neck protection. It also accurately describes the characteristics of locking systems if they are visible. However, it slightly exceeds the scope of the question by including details about the chinstrap and coif, which were not explicitly mentioned in the reference answer.\\n\\n  The generated answer fully covers the protection requirements for a helmet, including the need to protect the entire head and neck, the prohibition of open-face helmets, and the requirement for removable or pivoting visors to be secured. It also adds valuable information about the quilted or padded coif, the recommended minimum thickness of 5mm, and the mandatory neck protection.\\n\\n  Furthermore, the generated answer accurately describes the characteristics of locking systems if they are visible, requiring them to be based on historical sources, use authentic materials, and be approved by the Authenticity Rules documents.\\n\\n  Although the generated answer is highly accurate and relevant, it slightly exceeds the scope of the question by including details about the chinstrap and coif, which were not explicitly mentioned in the reference answer. This minor deviation from the reference answer results in a slightly lower score.\\n</details>   \n",
       "6                                                                                                                                                                                                                                                                                                                                                                                                                                                                                                                                                                                                                                                                                                                                                                                                                                                                                                                                                                                                                                                                                                                                                                                                                                                                                                                                                                                                                                                                                                                                                                                                  The generated answer is highly relevant and almost entirely correct. It provides the exact details of the most recent update regarding the technical requirements for armors, weapons, and shields as stated in the changelog. The answer is only slightly less concise than the reference answer, hence the score of 4.5.   \n",
       "7                                                                                                                                                                                                                                                                                                                                                                                                                                                                                                                                                                                                                                                                                                                                                                                                                                                                                                                                                                                                                                                                                                                                                                                                                                                                                                                                                                                                                      The generated answer is relevant and mostly correct. It correctly identifies the concept of \"Prohibited features\" as elements that are not consistent with historical sources or time periods. The example provided, visible welded seams, is also accurate and directly taken from the document. The answer could have been improved by specifying the time period and type of weapon more clearly, as in the reference answer. However, the generated answer is still quite informative and precise.   \n",
       "8                                                                                                                                                                                                                                                                                                                                                                                                                                                                                                                                                                                                                                                                                                                                                                                                                                                                                                                                                                                                                                                                                                                                                                                                                                                                                                                                                                                                                                                                                                                                                                                                                                                The generated answer is not relevant to the user query as it does not provide any information about the role of Authenticity Officers in buhurt competitions. Instead, it explains the lack of specific information in the document about the role of Authenticity Officers.   \n",
       "9                                                                                                                                                                                                                                                                                                                                                                                                                                                                                                                                                                                                                                                                                                                                                                                                                                                                                                                                                                                                                                                                                                                                                                                                                                                                                                                                                                                                                                                                                                                                                                                                                                                                                                                                                                                                      The generated answer is identical to the reference answer, both in content and form. It is relevant and fully correct.   \n",
       "10                                                                                                                                                                                                                                                                                                                                                                                                                                                                                                                                                                                                                                                                                                                                                                                                                                                                                                                                                                                                                                                                                              The generated answer is highly relevant and mostly correct. It accurately describes the process for obtaining validation of armor for competitors who deviate from the specified styles. However, it does not explicitly mention the allowed styles (Chinese, Japanese samurai, and Middle-Eastern styles from the years 1300 to 1700) and the requirement to include supporting sources for equipment choices.\\n\\nThe generated answer is more concise and structured than the reference answer, which contributes to its higher score. However, the missing information about the allowed styles and supporting sources slightly lowers the score.\\n\\nDespite these minor shortcomings, the generated answer demonstrates a strong understanding of the validation process and provides clear instructions for competitors.   \n",
       "11                                                                                                                                                                                                                                                                                                                                                                                                                                                                                                                                                                                                                                                                                                                                                                                                                                                                                                                                                                                                                                                                                                                                                                                                                                                                                                                                                                                                                                                                                                                                                                                                         The generated answer is relevant and fully correct. It provides the two main types of weapons and gives an example for each type, which is exactly the same as the reference answer. The additional explanation about the characteristics of each type of weapon also adds to the comprehensiveness of the answer.   \n",
       "12                                                                                                                                                                                                                                                                                                                                                                                                                                                                                                                                                                                                                                                                                                                                                                                                                                                                                                                                                                                                                                                                                                                                                                                                                                                                                                                                                                                                                                                                                                                                                                  The generated answer is both relevant and fully correct. It not only provides the maximum allowable extension of the guard for bladed weapons in relation to the bearer's gauntlet, but also cites the exact location of the information in the given context. The answer is concise and accurate, making it indistinguishable from the reference answer.   \n",
       "13                                                                                                                                                                                                                                                                                                                                                                                                                                                                                                                                                                                                                                                                                                                                                                                                                                                                                                                                                                                                                                                                                                                                                                                                                                                                                  The generated answer is both relevant and fully correct. It provides the exact same information as the reference answer, including the minimum number of methods required and the allowed methods for securing the head of a hafted weapon to the haft. The answer is also concise and easy to understand.\\n\\nThe generated answer is also well-structured and easy to read, with the minimum number of methods listed first followed by the allowed methods. This makes it easy for the user to quickly find the information they are looking for.\\n\\nOverall, the generated answer is of high quality and fully meets the user's needs.   \n",
       "14                                                                                                                                                                                                                                                                                                                                                                                                                                                                                                                          The generated answer is relevant and provides a detailed explanation of the new weight limit for all weapons in the updated version of the document as of December 2024. The answer is correct and matches the reference answer. However, the generated answer could be more concise and directly provide the new weight limit without the detailed explanation.\\n\\n<details>\\n  <summary>Reasoning</summary>\\n\\n  The generated answer is relevant to the user query and provides a detailed explanation of the new weight limit for all weapons in the updated version of the document as of December 2024. The answer is correct and matches the reference answer. However, the generated answer could be more concise and directly provide the new weight limit without the detailed explanation.\\n\\n  The generated answer explains that the upwards weight error for all weapons has been limited to 100 grams as of December 2024. This is the new weight limit for all weapons, as stated in the reference answer. The generated answer also provides a quote from the changelog to support its answer.\\n\\n  Although the generated answer is correct and relevant, it could be more concise. The answer could directly provide the new weight limit without the detailed explanation of the upwards weight error. However, the answer is still clear and easy to understand.\\n</details>   \n",
       "\n",
       "    correctness_score  \n",
       "0                 2.0  \n",
       "1                 4.5  \n",
       "2                 1.0  \n",
       "3                 4.5  \n",
       "4                 4.5  \n",
       "5                 4.5  \n",
       "6                 4.5  \n",
       "7                 4.5  \n",
       "8                 1.0  \n",
       "9                 5.0  \n",
       "10                4.5  \n",
       "11                5.0  \n",
       "12                5.0  \n",
       "13                5.0  \n",
       "14                4.5  "
      ]
     },
     "execution_count": 95,
     "metadata": {},
     "output_type": "execute_result"
    }
   ],
   "source": [
    "%%time\n",
    "\n",
    "# KEY CELL: Running the configured evaluations with the generated test set\n",
    "\n",
    "# Run evaluations for the first n rows of the generated test set only\n",
    "n = 15\n",
    "evaluation_results_df, aggregate_results = run_evaluations(eval_questions_df.head(n), query_engine, evaluator_llm)\n",
    "evaluation_results_df"
   ]
  },
  {
   "cell_type": "code",
   "execution_count": 96,
   "id": "214e7ce7-7de4-4e38-ad69-95bf46d46353",
   "metadata": {
    "tags": []
   },
   "outputs": [
    {
     "data": {
      "text/plain": [
       "{'number_of_test_cases': 15,\n",
       " 'mean_faithfulness_score': 0.667,\n",
       " 'mean_relevancy_score': 0.733,\n",
       " 'mean_correctness_score': 4.0}"
      ]
     },
     "execution_count": 96,
     "metadata": {},
     "output_type": "execute_result"
    }
   ],
   "source": [
    "aggregate_results"
   ]
  },
  {
   "cell_type": "markdown",
   "id": "47985aec-3b81-4f66-8b95-f1752164133f",
   "metadata": {},
   "source": [
    "----\n",
    "## Pause\n",
    "\n",
    "----\n",
    "\n"
   ]
  },
  {
   "cell_type": "markdown",
   "id": "7a0c2343-eb25-451a-84ff-5775681469a5",
   "metadata": {},
   "source": [
    "# Assignment Task #1: Baseline: Using your configuration and documents\n",
    "\n",
    "Update the notebook to match your configuration for Capstone 2\n",
    "\n",
    "- Use your document set (rather than the canned/biographic dataset provided with this example)\n",
    "- Use the embeddings model that was best for your document set\n",
    "- Use the ingestion pipeline that was best for your document set\n",
    "\n",
    "If for some reason you did not complete Capstone 2, but you are completing Capstone 3, then note that use the content provided here.\n",
    "\n",
    "Once you have updated your configuration, rerun the notebook to this point.\n",
    "\n",
    "Answer the following questions in this cell:\n",
    "\n",
    "## 1. What are the aggregate evaluation scores for your configuration?\n",
    "\n",
    "| name | score |\n",
    "|----|----|\n",
    "| mean_faithfulness_score | 1.0 |\n",
    "| mean_relevancy_score | 0.95 |\n",
    "| mean_correctness_score | 3.75 |\n",
    "\n",
    "## 2. Of the three evaluation measures, which one needs to be improved the most, from your point of view, and why?\n",
    "\n",
    "As the answers are cropped, I updated the `run_evaluations` function to not truncate the displayed answers.\n",
    "\n",
    "Looking at the collected scores, `correctnessness` and `faithfulness` could be improved. Looking at some of the questions and evaluations, there are some false positive that could most probably be avoided. See below answer. I will focus on the `faithfulness` in the next steps of the exercise.\n",
    "\n",
    "## 3. Look at a couple of the failed test cases, using the evaluation functions that show the detail outputs, and see why the test case failed. For each of the two queries, note both the test case query, and your reasoning as to its failure.\n",
    "\n",
    "Some the failed test cases were quite interesting.\n",
    "\n",
    "Question:\n",
    "\n",
    "> According to the \"buhurt_armor_requirement.pdf\" document, what is the minimum thickness requirement for the chest protector in the buhurt armor setup?\n",
    "\n",
    "Generated Answer:\n",
    "\n",
    "> The minimum recommended thickness for the chest protector in the buhurt armor setup is 1.5mm for mild steel or 0.8mm for tempered steel, hardened steel, or stainless steel. This information can be found in section 5.2 of the document, which covers the armor requirements.\n",
    "\n",
    "Faithfulness:\n",
    "\n",
    "> The context provided is about the technical requirements for armors, weapons, and shields, and it does not contain any information about the taste of **apple pies**."
   ]
  },
  {
   "cell_type": "markdown",
   "id": "b9d2587f-4235-4cc7-b960-717489dd1d5b",
   "metadata": {},
   "source": [
    "----\n",
    "# Assignment Task #2: Experiment with the LLM for answer generation"
   ]
  },
  {
   "cell_type": "markdown",
   "id": "71ff8b66-e213-492b-b288-fa18babf3609",
   "metadata": {},
   "source": [
    "Change the LLM model configuration for the query engine in the next two notebook cells. \n",
    "\n",
    "Change the configuration of the query engine to use the **one** or **two** other models that have been configured for use already.\n",
    "\n",
    "Then rerun the evaluations with the set of generated test cases.\n",
    "For each model review the difference in the aggregate score and in the quality of the output text.\n",
    "\n",
    "Answer the following questions in this cell:\n",
    "\n",
    "## 1. Which model was best for your content and what were its scores?\n",
    "\n",
    "\n",
    "While running the tests I did some research about the models, it seems that Sonnet 3.5 will be providing the highest consistency and reliability in our scneario. The evaluation should be more consistent and reliable, better at providing detailed and strctured feedback.\n",
    "\n",
    "| name | llm_mixtral8x7b | llm_sonnet_35 | llm_haiku_3 |\n",
    "|----|----|----|----|\n",
    "| mean_faithfulness_score | 1.0 | 0.65 | 0.5 |\n",
    "| mean_relevancy_score | 0.95 | 0.65 | 0.8 |\n",
    "| mean_correctness_score | 3.75 | 3.575 | 3.625 |\n",
    "\n",
    "## 2. Which model was worst for your content and what were its scores?\n",
    "\n",
    "Using the evaluated question that was a false positive on the first task as a reference. We can see that the faithfulness of Sonnet 3.5 gives an accurate feedback, and does not talk about **apple pies** like the others.\n",
    "\n",
    "**Sonnet 3.5:**\n",
    "\n",
    "Even though the test fails for this question, the faithfulness is accurate and is relevant to the question/answer received. We can consider this evaluation valid.\n",
    "\n",
    "Question:\n",
    "\n",
    "> According to the \"buhurt_armor_requirement.pdf\" document, what is the minimum thickness requirement for the chest protector in the buhurt armor setup?\n",
    "\n",
    "Generated Answer:\n",
    "\n",
    "> According to the document, the minimum recommended thickness for steel plates of armor is 1.5mm for mild steel or 0.8mm for tempered steel, hardened steel, or stainless steel. For titanium plates, the minimum recommended thickness is 0.8mm. \\n\\nThe document specifies that the torso and back must be protected with metal plates. Additionally, an under-armor layer called a gambeson is mandatory for protecting the torso and back. This gambeson should consist of at least a layer of felted fabric quilted with fabric.\\n\\nIt's important to note that these are recommendations, and the document emphasizes the use of metal plates for chest protection without specifying a strict minimum thickness specifically for the chest area. The guidelines provided are general for all armor plates.\n",
    "\n",
    "Faithfulness:\n",
    "\n",
    "> NO, the given context does not support the statement \"According to the document, the minimum recommended thickness for steel plates of armor is 1.5mm for mild steel or 0.8mm for tempered steel, hardened steel, or stainless steel. For titanium plates, the minimum recommended thickness is 0.8mm.\" The context provided does not mention any specific minimum recommended thickness for steel or titanium plates of armor.\n",
    "\n",
    "**Haiku 3:**\n",
    "\n",
    "Question:\n",
    "\n",
    "> According to the \"buhurt_armor_requirement.pdf\" document, what is the minimum thickness requirement for the chest protector in the buhurt armor setup?\n",
    "\n",
    "Generated Answer:\n",
    "\n",
    "> The provided context information does not mention any specific minimum thickness requirements for lower leg protection armor. The document focuses on providing technical specifications for other armor components such as the helmet, coif, chinstrap, neck protection, chest, hips, groin, hands, and arms, but does not discuss requirements for lower leg protection.\n",
    "\n",
    "Faithfulness:\n",
    "\n",
    "> NO, the given context does not mention if apple pies taste bad or not. It only provides information about what an apple pie is and how it is typically prepared.\n",
    "\n",
    "## 3. Summarize the difference that in output quality that you observed between the best and the worst performing LLM\n",
    "\n",
    "Even if Sonnet 3.5 has lower results than the others, it provided the best accurate evaluations and feedback. No false positive were observed in its evaluation.\n"
   ]
  },
  {
   "cell_type": "code",
   "execution_count": 63,
   "id": "9fa037a3-f1e7-4322-87d0-8d857232076f",
   "metadata": {
    "tags": []
   },
   "outputs": [],
   "source": [
    "# KEY CELL\n",
    "\n",
    "# query_engine_llm = llm_mixtral8x7b        # The `default` model for this notebook - used until you change this setting\n",
    "# query_engine_llm = llm_mistral7b\n",
    "# query_engine_llm = llm_haiku_3\n",
    "query_engine_llm = llm_sonnet_35"
   ]
  },
  {
   "cell_type": "code",
   "execution_count": 64,
   "id": "fdc22d9c-5e89-4219-9bbe-2db98e442696",
   "metadata": {
    "tags": []
   },
   "outputs": [],
   "source": [
    "# KEY CELL\n",
    "\n",
    "# After you update the query_engine configuration, then go back and re-run the test cases\n",
    "\n",
    "query_engine = vector_index.as_query_engine(llm=query_engine_llm, similarity_top_k=3)"
   ]
  },
  {
   "cell_type": "markdown",
   "id": "484e1acb-00ff-419d-b697-c2c547994713",
   "metadata": {},
   "source": [
    "-----\n",
    "# Assignment Task #3: Experimenting with changing the prompt\n",
    "\n",
    "The default prompt provided by Llamaindex works quite well, but you can almost certainly do better. \n",
    "\n",
    "## 1. The cells below will change the default prompt to one that works better with the default content. Read that updated prompt and suggest two reasons why it might perform better the default prompt (refer back to the prompt engineering assignment).\n",
    "\n",
    "The updated prompt follows all the prompt engineering best practices:\n",
    "- Role and context setting\n",
    "- Structure and format answer\n",
    "- Error prevention and guideline\n",
    "\n",
    "## 2. Update the alternative prompt to better match the topic and goals of your RAG solution, and update the query_engine with the cells that follow. Then rerun the tests and experiment further to improve your prompt. It will help to look at the output for specific queries, to get a deeper sense of the changes driven by your prompt.\n",
    "\n",
    "Using `llm_sonnet_35`:\n",
    "\n",
    "| name | default prompt | custom prompt |\n",
    "|----|----|----|\n",
    "| mean_faithfulness_score | 0.65 | 0.7 |\n",
    "| mean_relevancy_score | 0.65 | 0.6 |\n",
    "| mean_correctness_score | 3.575 | 3.125 |\n",
    "\n",
    "## 3. What are the final test metrics that you are getting for you configuration?\n",
    "\n",
    "Results are quite similar to the default prompt, even though I think my custom prompt could help provide better answers. However, reviewing the generated questions, I realized that some questions does not provide anything meaningful to the evaluation:\n",
    "> For this quiz/examination, your task is to answer the following question based on the provided context information:\n",
    "\n",
    "To make things simple, I simply removed the irrelevant question from the `eval_questions_df` with the below script and re-run the 2 evaluations with `n = 15 questions`.\n",
    "\n",
    "With `15 clean questions` and `llm_sonnet_35`\n",
    "\n",
    "| name | default prompt | custom prompt |\n",
    "|----|----|----|\n",
    "| mean_faithfulness_score | 0.667 | 0.733 |\n",
    "| mean_relevancy_score | 0.733 | 0.8 |\n",
    "| mean_correctness_score | 4.0 | 3.9 |\n",
    "\n",
    "We can see that after removing the irrelevant questions, results improved for both prompts. Looking at the questions/answers, I can see a few more trick questions that could have been \"graded\" differently by the LLM. But I think, for the goal of this assignment, it is already a success."
   ]
  },
  {
   "cell_type": "code",
   "execution_count": 83,
   "id": "de020db4-d2a8-4f90-9287-835d27939bfa",
   "metadata": {
    "tags": []
   },
   "outputs": [
    {
     "data": {
      "text/html": [
       "<div>\n",
       "<style scoped>\n",
       "    .dataframe tbody tr th:only-of-type {\n",
       "        vertical-align: middle;\n",
       "    }\n",
       "\n",
       "    .dataframe tbody tr th {\n",
       "        vertical-align: top;\n",
       "    }\n",
       "\n",
       "    .dataframe thead th {\n",
       "        text-align: right;\n",
       "    }\n",
       "</style>\n",
       "<table border=\"1\" class=\"dataframe\">\n",
       "  <thead>\n",
       "    <tr style=\"text-align: right;\">\n",
       "      <th></th>\n",
       "      <th>query</th>\n",
       "      <th>reference_contexts</th>\n",
       "      <th>reference_answer</th>\n",
       "      <th>reference_answer_by</th>\n",
       "      <th>query_by</th>\n",
       "    </tr>\n",
       "  </thead>\n",
       "  <tbody>\n",
       "    <tr>\n",
       "      <th>0</th>\n",
       "      <td>Question: According to the \"buhurt_armor_requirement.pdf\" document, what is the minimum thickness requirement for the lower leg protection armor, as specified on page 1?</td>\n",
       "      <td>[]</td>\n",
       "      <td>To provide an accurate answer, I would need access to the specific contents of the \"buhurt\\_armor\\_requirement.pdf\" document located at /home/ec2-user/SageMaker/elvtr-ai-solution-architect/class-14/source\\_docs/. However, based on the provided context, I can tell you that the minimum thickness requirement for the lower leg protection armor is specified on page 1 of the document. To get the exact thickness requirement, please refer to the contents of the document itself.</td>\n",
       "      <td>ai (mistral.mixtral-8x7b-instruct-v0:1)</td>\n",
       "      <td>ai (mistral.mixtral-8x7b-instruct-v0:1)</td>\n",
       "    </tr>\n",
       "    <tr>\n",
       "      <th>1</th>\n",
       "      <td>Question: Based on the \"Technical Requirements for Armor\" document, explain the historical consistency requirements for armor, including the considerations for equipment from historical sources, dates of sources, prohibited features, and consistency in equipment with regards to Western European style, Slavic influence, Eastern influence, and authorized deviations.</td>\n",
       "      <td>[Technical RequirementsforArmor\\nTableofContents\\nTechnicalRequirementsforArmor 11.IntroductionandDefinitions 21.1.Equipment 21.2.List 21.3.Categories 21.4.Historicalsources 22.HistoricalConsistencyRequirements 32.1.Equipmentfromhistoricalsources 32.2.Datesofsources 32.3.Prohibitedfeatures 32.4.ConsistencyinEquipment 32.4.1.WesternEuropestyle 32.4.2.SlavicInfluence 32.4.3.Easterninfluence 32.4.4.Authorizeddeviations 43.GeneralRequirements 53.1.Competitorresponsibility 53.2.Qualityequipment 53.3.Safeequipment 53.4.Accesstothelist 54.Helmetsrequirements 64.1.Protection 64.2.Thicknessandcomposition 74.3.Coif 74.4.Chinstrap 74.5.Neckprotection 75.Armorrequirements 85.1.Metalthicknessrecommendations 85.2.Chest 85.3.Groin 85.4.Hands 85.5.Arms 85.6.Joints 95.7.Legs 95.8.Feet 95.9.Shoes 96.Changelog 10\\nTechnicalRequirementsforarmors,weaponsandshields 1]</td>\n",
       "      <td>The \"Technical Requirements for Armor\" document outlines the historical consistency requirements for armor under section 2.2. These requirements ensure that the armor used in competitions is consistent with historical sources and practices.\\n\\nFirstly, the equipment must come from historical sources. This means that the design, construction, and materials of the armor should be based on existing examples from historical records, artifacts, or reputable reconstructions.\\n\\nSecondly, the dates of the sources must be considered. The armor should be consistent with the time period it represents, and should not mix elements from different epochs. This helps maintain the authenticity and immersion of the historical reenactment or competition.\\n\\nThirdly, there are prohibited features. These are elements of armor that were not used in the specified historical period or culture, or that are considered anachronistic. For example, the use of rivets in certain periods or regions where they were not historically employed would be a prohibited feature.\\n\\nFourthly, consistency in equipment is emphasized. This includes consistency in equipment with regards to Western European style, Slavic influence, Eastern influence, and authorized deviations. \\n\\n- Western European style: The armor should reflect the typical design, construction, and materials used in Western Europe during the specified historical period. This includes considerations for the type of armor, the materials used, and the methods of construction.\\n\\n- Slavic influence: The armor should reflect the influence of Slavic cultures, if applicable. This could include specific design elements, materials, or construction techniques that are characteristic of Slavic armor.\\n\\n- Eastern influence: The armor should reflect the influence of Eastern cultures, if applicable. This could include specific design elements, materials, or construction techniques that are characteristic of Eastern armor.\\n\\n- Authorized deviations: There may be certain deviations from historical practices that are allowed, provided they do not violate the other historical consistency requirements. These deviations should be authorized and documented, and should not detract from the historical authenticity of the armor.</td>\n",
       "      <td>ai (mistral.mixtral-8x7b-instruct-v0:1)</td>\n",
       "      <td>ai (mistral.mixtral-8x7b-instruct-v0:1)</td>\n",
       "    </tr>\n",
       "    <tr>\n",
       "      <th>2</th>\n",
       "      <td>\"Can you explain the role and responsibility of Authenticity Officers as mentioned in the introduction of the document related to buhurt armor requirements?\"</td>\n",
       "      <td>[1. IntroductionandDefinitions\\nThisdocument will displayall requirementsforarmors, shields, andweaponsusedinanycategory. Everycompetitorissolelyresponsibleforthequalityof his/herequipment. MarshalsandAuthenticityOfficersareresponsibleforthecorrect applicationof thisdocument.\\n1.1.Equipment● Armors, clothes, shieldsandweaponsusedbyacompetitor.\\n1.2.List● Placewherethefightsoccur.\\n1.3.Categories● Duel: 1v1swordandshield, swordandbuckler, longsword, polearm.● Buhurt: Groupfight, 5v5, 12v12, 30v30.● Outrance\\n1.4.Historicalsources● It is theresult of researchtoconcludetheplausibilityof theitemhadexisted. Historicalsources can be primary (artifacts, museum originals…) or secondary (images,paintings, statues, description, writings…). Any historical source must be analyzedthroughcriticismandlogic.\\nTechnicalRequirementsforarmors,weaponsandshields 2]</td>\n",
       "      <td>Based on the introduction of the document related to buhurt armor requirements, Authenticity Officers are responsible for the correct application of the document. Their role is to ensure that all equipment, including armors, clothes, shields, and weapons used by competitors, meet the historical source requirements outlined in the document. Authenticity Officers analyze historical sources, which can be primary (such as artifacts and museum originals) or secondary (such as images, paintings, statues, descriptions, and writings), using criticism and logic to determine the plausibility of an item's existence. They play a crucial role in maintaining the historical accuracy and authenticity of the competition.</td>\n",
       "      <td>ai (mistral.mixtral-8x7b-instruct-v0:1)</td>\n",
       "      <td>ai (mistral.mixtral-8x7b-instruct-v0:1)</td>\n",
       "    </tr>\n",
       "    <tr>\n",
       "      <th>3</th>\n",
       "      <td>\"Explain the prohibited features for armors and give an example of a modern material or manufacturing technique that would be not allowed in historical reenactment events, according to the given document.\"</td>\n",
       "      <td>[2. Historical ConsistencyRequirements\\n2.1.Equipmentfromhistoricalsources● Onlyarmorsderivedfromhistorical sourcesarepermittedforuse.● Armorsmust alignwithAuthenticityRulesdocuments.\\n2.2.Datesofsources● Armorsmust alignwithsourcesdatingbetweenthe14th(1300)and17th(1600)centuries.● For safety considerations, reproductions of armors predating the 13th century areprohibited.\\n2.3.Prohibitedfeatures● Prohibited features encompass evident indications of modern materials or manufacturingtechniques including: neoncolors, obvious nyloncords, plastic ties, visibleweldedseams,heat-induceddiscoloration, modernfootwearandothervisiblemodernequipment.\\n2.4.ConsistencyinEquipmentArmors, shields and weapons must consist of pieces fromthesamestyle. Distinct styles aredefinedinmodern-daytermsas:\\n2.4.1.WesternEuropestyle● 14thcentury:from1300to1380● Transitional:from1380to1420● 15th century: from1420 to 1500. XVth stylearmor must beapprovedby theAuthenticity Committee. We recommended seeking approval before buyingsucharmor.● Western Europe includes the following modern countries: Great Britain,Ireland, France, Portugal, Spain, Germany, Italy, Norway, Denmark, Sweden,Finland, Austria, Switzerland, Belgium, andtheNetherlands2.4.2.SlavicInfluence● Central Europe14th:from1300to1400● Russianlatearmors:from1500to1700● SlavicInfluenceincludesthefollowingmoderncountries:CzechRepublic,Romania, Hungary, Poland, Slovakia, Slovenia, Croatia, Latvia, Estonia,Moldova, Serbia, Ukraine, Russia, andBelarus.2.4.3.Easterninfluence● Chinesestyle: from1300to1600● Japanesesamurai style: from1400to1700● Middle-East style: from1300to1700● Easterninfluenceincludes thefollowingmoderncountries: China, Japan, India,Korea, Iran, Iraq, Turkey, Egypt\\nTechnicalRequirementsforarmors,weaponsandshields 3]</td>\n",
       "      <td>According to the given document, prohibited features for armors include any evident indications of modern materials or manufacturing techniques. Specifically, the use of neon colors, obvious nylon cords, plastic ties, visible welded seams, heat-induced discoloration, modern footwear, and other visible modern equipment are not permitted. \\n\\nAn example of a modern material or manufacturing technique that would not be allowed in historical reenactment events, according to the given document, is the use of heat-induced discoloration. This technique is often used in modern manufacturing processes to create a specific color or finish on a material, but it is not consistent with the historical methods of creating armor. Therefore, any armor with heat-induced discoloration would be considered a prohibited feature and not allowed in historical reenactment events.</td>\n",
       "      <td>ai (mistral.mixtral-8x7b-instruct-v0:1)</td>\n",
       "      <td>ai (mistral.mixtral-8x7b-instruct-v0:1)</td>\n",
       "    </tr>\n",
       "    <tr>\n",
       "      <th>4</th>\n",
       "      <td>\"What is the process for competitors to deviate from the specified styles of armor, weapons, and shields, and who do they need to notify in order to obtain validation of their equipment choices?\"</td>\n",
       "      <td>[2.4.4.Authorizeddeviations● Competitors may deviate from these specified styles if they provide sourcessupportingtheirequipment choices.● Competitors who deviate from these specified styles must send an email toAC@buhurtinternational.comtoobtainvalidationof theirarmor.\\nTechnicalRequirementsforarmors,weaponsandshields 4]</td>\n",
       "      <td>Competitors can deviate from the specified styles of armor, weapons, and shields by providing sources that support their equipment choices. Once they have done this, they must send an email to AC@buhurtinternational.com to obtain validation of their armor. This information is based on the provided context, and no prior knowledge was used in formulating the answer.</td>\n",
       "      <td>ai (mistral.mixtral-8x7b-instruct-v0:1)</td>\n",
       "      <td>ai (mistral.mixtral-8x7b-instruct-v0:1)</td>\n",
       "    </tr>\n",
       "    <tr>\n",
       "      <th>6</th>\n",
       "      <td>Question: According to the \"BuHurt Armor Requirement\" document, what are the specific protection requirements for a helmet, and what should be the characteristics of locking systems if they are visible?</td>\n",
       "      <td>[4. Helmetsrequirements\\n4.1.Protection● Ahelmet istheheadprotection. It must protect theentireheadandneckfromall sides.Ahelmetiscomposedbythefollowingparts\\n● A helmet must protect the whole head. Open-face helmets are not allowed in anycategory.● Helmet must conformtotheAuthenticityRulesdocuments.● If thehelmet includesaremovableorpivotingvisor, it shouldbesecuredtoprevent anyopeningduringafight.● Locking systems, if visible, must be based on historical sources and use authenticmaterials(leather, rope, etc.).● ApprovedlockingsystemsaredisplayedinAuthenticityRulesdocuments.\\nTechnicalRequirementsforarmors,weaponsandshields 6]</td>\n",
       "      <td>According to the \"BuHurt Armor Requirement\" document, the specific protection requirements for a helmet include protecting the entire head and neck from all sides. Open-face helmets are not allowed in any category. Additionally, the helmet must conform to the Authenticity Rules documents. If the helmet includes a removable or pivoting visor, it should be secured to prevent any opening during a fight.\\n\\nRegarding locking systems, if they are visible, they must be based on historical sources and use authentic materials such as leather or rope. Approved locking systems are displayed in the Authenticity Rules documents.</td>\n",
       "      <td>ai (mistral.mixtral-8x7b-instruct-v0:1)</td>\n",
       "      <td>ai (mistral.mixtral-8x7b-instruct-v0:1)</td>\n",
       "    </tr>\n",
       "    <tr>\n",
       "      <th>10</th>\n",
       "      <td>Question: Based on the provided document changelog, what is the most recent update as of December 2024 regarding the technical requirements for armors, weapons, and shields?</td>\n",
       "      <td>[6. Changelog\\nThiswill bethechangelogof thisdocument. It will beupdatedregularlyandwewilldisplaywhat hasbeenremoved/added/reworded/formatted. Thiswaywekeeptransparent communicationandclarityabout therules\\nDateupdate:December2024-add: Document created\\nTechnicalRequirementsforarmors,weaponsandshields 10]</td>\n",
       "      <td>Based on the provided document changelog, the most recent update as of December 2024 regarding the technical requirements for armors, weapons, and shields is the creation of the document.</td>\n",
       "      <td>ai (mistral.mixtral-8x7b-instruct-v0:1)</td>\n",
       "      <td>ai (mistral.mixtral-8x7b-instruct-v0:1)</td>\n",
       "    </tr>\n",
       "    <tr>\n",
       "      <th>12</th>\n",
       "      <td>Question: Based on the \"Historical Consistency Requirements\" section of the document, explain what is meant by \"Prohibited features\" and provide an example of such a feature as it relates to weapon equipment.</td>\n",
       "      <td>[Technical RequirementsforWeaponsTableofContents1. IntroductionandDefinitions............................................................................................................................11.1. Equipment...........................................................................................................................................21.2. List.......................................................................................................................................................21.3. Categories...........................................................................................................................................21.4. StrikingEdge/ Non-strikingEdge(of theWeapon).............................................................................21.5. Historical sources................................................................................................................................22. Historical ConsistencyRequirements............................................................................................................32.1. Equipment fromhistorical sources......................................................................................................32.2. Datesof sources.................................................................................................................................32.3. Prohibitedfeatures..............................................................................................................................32.4. ConsistencyinEquipment...................................................................................................................32.4.1. WesternEuropestyle.......................................................................................................................32.4.2. SlavicInfluence................................................................................................................................32.4.3. Easterninfluence............................................................................................................................. 32.4.4. Authorizeddeviations.......................................................................................................................43. General Requirements......................................................................................................................................53.1. Competitorresponsibility.....................................................................................................................53.2. Qualityequipment...............................................................................................................................53.3. Accesstothelist.................................................................................................................................54. Weaponsrequirements.....................................................................................................................................64.1. Typesof weapons...............................................................................................................................64.1.1. Bladedweapons...............................................................................................................................64.1.2. Haftedweapons...............................................................................................................................65. General requirements.......................................................................................................................................75.1. Safetyrequirements............................................................................................................................75.2. Authenticityrequirements....................................................................................................................75.3. Specificrequirementsforbladedweapons.........................................................................................75.4. Specificrequirementsforhaftedweapons..........................................................................................85.4.1. Components.....................................................................................................................................85.4.2. Haft Requirements...........................................................................................................................96. Outranceweapons..........................................................................................................................................106.1. Point of balance................................................................................................................................ 107. DuelsWeapons................................................................................................................................................117.1. Type1Bladed....................................................................................................................................117.2. type2bladed.....................................................................................................................................118. Buhurt/GroupWeapons..................................................................................................................................128.1. Type2&amp;3Bladed..............................................................................................................128.2. Type1&amp;2Hafted.............................................................................................................. 129. Changelog.......................................................................................................................................................13]</td>\n",
       "      <td>Based on the \"Historical Consistency Requirements\" section of the document, \"Prohibited features\" refer to elements in weapon equipment that do not align with historical sources or are not consistent with the time period or region being represented. An example of a prohibited feature could be the presence of synthetic materials in a weapon that is supposed to be made entirely of historical materials, such as wood, iron, or steel. Another example could be the use of modern mechanical components in a weapon that would not have been present in the historical equivalent. These prohibited features are not in line with the historical authenticity requirements set forth in the document.</td>\n",
       "      <td>ai (mistral.mixtral-8x7b-instruct-v0:1)</td>\n",
       "      <td>ai (mistral.mixtral-8x7b-instruct-v0:1)</td>\n",
       "    </tr>\n",
       "    <tr>\n",
       "      <th>13</th>\n",
       "      <td>Question: Based on the document, what is the role of Authenticity Officers in buhurt competitions? Authenticity Officers are responsible for the correct application of the document in buhurt competitions, which includes group fights in various formats such as 5v5, 12v12, and 30v30. Additionally, they are responsible for ensuring that all equipment, including armors, clothes, shields, and weapons, meet the requirements set forth in the document.</td>\n",
       "      <td>[IntroductionandDefinitions\\nThisdocument will displayall requirementsforarmors, shields, andweaponsusedinanycategory.Everycompetitorissolelyresponsibleforthequalityof his/herequipment. MarshalsandAuthenticityOfficersareresponsibleforthecorrect applicationof thisdocument.\\n1.1.Equipment● Armors, clothes, shieldsandweaponsusedbyacompetitor.\\n1.2.List● Placewherethefightsoccur.\\n1.3.Categories● Duel: 1v1swordandshield, swordandbuckler, longsword, polearm.\\n● Buhurt: Groupfight, 5v5, 12v12, 30v30.\\n● Outrance\\n1.4.StrikingEdge/ Non-strikingEdge(oftheWeapon)● StrikingEdgeisapart of theweapondesignedtohit anopponent.\\n● Non-strikingedgeisapart of theweaponnot designedtohit anopponent.\\nHerearesomeexampleswiththestrikingedgebeingred\\n1.5.Historical sourcesIt istheresult of researchtoconcludetheplausibilityof theitemhadexisted. Historical sourcescanbe primary (artifacts, museumoriginals…) or secondary (images, paintings, statues, description,writings…). Anyhistorical sourcemust beanalyzedthroughcriticismandlogic.]</td>\n",
       "      <td>Authenticity Officers are responsible for ensuring that all equipment used in buhurt competitions, which include group fights in various formats such as 5v5, 12v12, and 30v30, adhere to the requirements set forth in the document. This includes armors, clothes, shields, and weapons. They are also responsible for the correct application of the document in buhurt competitions.</td>\n",
       "      <td>ai (mistral.mixtral-8x7b-instruct-v0:1)</td>\n",
       "      <td>ai (mistral.mixtral-8x7b-instruct-v0:1)</td>\n",
       "    </tr>\n",
       "    <tr>\n",
       "      <th>14</th>\n",
       "      <td>What modern countries are included in the Western Europe style definition for armors, shields, and weapons that must be consistent in equipment style, according to the Authenticity Rules documents?</td>\n",
       "      <td>[2.Historical ConsistencyRequirements\\n2.1.Equipmentfromhistorical sources● Onlyweaponsderivedfromhistorical sourcesarepermittedforuse.\\n● Weaponsmust alignwithAuthenticityRulesdocuments.\\n2.2.Datesofsources● Weapons must align with sources dating between the 14th (1300) and 17th (1600)centuries.\\n● For safety considerations, reproductions of armors predating the 13th century areprohibited, asareweaponsof thesameperiod.\\n2.3.Prohibitedfeatures● Prohibited features encompass evident indications of modern materials or manufacturingtechniques including: neoncolors, obvious nyloncords, plastic ties, visibleweldedseams,heat-induceddiscolorationandothervisiblemodernequipment.\\n2.4.ConsistencyinEquipmentArmors, shields and weapons must consist of pieces from the same style. Distinct styles aredefinedinmodern-daytermsas:\\n2.4.1. WesternEuropestyle● 14thcentury: from1300to1380\\n● Transitional: from1380to1420\\n● 15th century: from1420 to 1500. XVth style armor must be approvedby theAuthenticityCommittee. Werecommendedseekingapproval beforebuyingsucharmor.\\n● Western Europe includes the following modern countries: Great Britain, Ireland, France,Portugal, Spain, Germany, Italy, Norway, Denmark, Sweden, Finland, Austria, Switzerland,Belgium, andtheNetherlands\\n2.4.2. SlavicInfluence● Central Europe14th: from1300to1400\\n● Russianlatearmors: from1500to1700\\n● Slavic Influence includes the following modern countries: Czech Republic, Romania,Hungary, Poland, Slovakia, Slovenia, Croatia, Latvia, Estonia, Moldova, Serbia, Ukraine,Russia, andBelarus.]</td>\n",
       "      <td>The Western Europe style definition for armors, shields, and weapons that must be consistent in equipment style, according to the Authenticity Rules documents, includes the following modern countries: Great Britain, Ireland, France, Portugal, Spain, Germany, Italy, Norway, Denmark, Sweden, Finland, Austria, Switzerland, Belgium, and the Netherlands.</td>\n",
       "      <td>ai (mistral.mixtral-8x7b-instruct-v0:1)</td>\n",
       "      <td>ai (mistral.mixtral-8x7b-instruct-v0:1)</td>\n",
       "    </tr>\n",
       "    <tr>\n",
       "      <th>15</th>\n",
       "      <td>\"Describe the authorized deviations for competitors in the Buhurt weapon requirement, according to the given document, and explain the process for obtaining validation of their armor.\"</td>\n",
       "      <td>[2.4.3. Easterninfluence● Chinesestyle: from1300to1600\\n● Japanesesamurai style: from1400to1700\\n● Middle-East style: from1300to1700\\n● Easterninfluenceincludesthefollowingmoderncountries: China, Japan, India, Korea, Iran,Iraq, Turkey, Egypt\\n2.4.4. Authorizeddeviations● Competitorsmaydeviatefromthesespecifiedstylesif theyprovidesourcessupportingtheirequipment choices.\\n● Competitors who deviate from these specified styles must send an email toAC@buhurtinternational.comtoobtainvalidationof theirarmor.]</td>\n",
       "      <td>According to the given document, competitors in the Buhurt weapon requirement are allowed to deviate from the specified styles, which include Chinese, Japanese samurai, and Middle-Eastern styles from the years 1300 to 1700. However, if a competitor chooses to deviate from these styles, they must provide sources to support their equipment choices.\\n\\nTo obtain validation of their armor, competitors who deviate from the specified styles must send an email to AC@buhurtinternational.com. The document does not provide further details on the validation process, such as what information or evidence needs to be included in the email or how long the validation process takes. Therefore, it is recommended to contact Buhurt International directly for more information on their armor validation process.</td>\n",
       "      <td>ai (mistral.mixtral-8x7b-instruct-v0:1)</td>\n",
       "      <td>ai (mistral.mixtral-8x7b-instruct-v0:1)</td>\n",
       "    </tr>\n",
       "    <tr>\n",
       "      <th>17</th>\n",
       "      <td>What are the two main types of weapons, and provide an example of a weapon from each type?</td>\n",
       "      <td>[4. Weaponsrequirements\\n4.1.TypesofweaponsThereare2typesof weapons\\n4.1.1. BladedweaponsWeaponwithalongmetal bladeandahilt withahandguard.Examplesof bladedweapons:● Swords● Falchions● Longswords\\n4.1.2. HaftedweaponsWeaponwhichthemainfightingpart of theweaponisfittedtotheendof alongshaftExamplesof haftedweapons● Axe● Polearm● Glaive● Maces\\n4.2.Subgenresofweapons\\n4.2.1. Duels● DuelsSword● DuelsLongsword● DuelsPolearm\\n4.2.2. Group(3v3,5v5etc…)● Type1bladed● Type2bladed● Type3bladed● Type1hafted(mace)● Type2hafted(axe)● Type3hafted● Type4hafted]</td>\n",
       "      <td>The two main types of weapons are bladed weapons and hafted weapons. An example of a bladed weapon is a sword, and an example of a hafted weapon is an axe.</td>\n",
       "      <td>ai (mistral.mixtral-8x7b-instruct-v0:1)</td>\n",
       "      <td>ai (mistral.mixtral-8x7b-instruct-v0:1)</td>\n",
       "    </tr>\n",
       "    <tr>\n",
       "      <th>18</th>\n",
       "      <td>\"What is the maximum allowable extension of the guard for bladed weapons in relation to the bearer's gauntlet, as stated in the given context?\"</td>\n",
       "      <td>[5. General requirements\\n5.1.Safetyrequirements● All weaponsmust beabletoendurefull contact fights.● All edgesof all weaponsmust berebatedincompliancewiththisdocument.● Theedgeof bothstrikingandnon-strikingedgesmust berebatedandhaveathicknessof 2mmormore.● TheRadiusof strikingandnon-strikingedgesmust bemorethan10mm.● Weaponsconstructedsolelyforstabbingareprohibited(spearsforexample)● Weight permissibleupwarderrorforweaponsis100grams● Anyheavierweapon, includingpermissibleupwarderror, isprohibited.● It is allowed to use leather thread to secure the weapon in hand. Such leather thread mustconformtotheAuthenticitydocument “TextilesandLeather”.● Every weapon to be used at a tournament must be first approved for safety by therepresentativesof theMarshalsduringweaponscheck.\\n5.2.Authenticityrequirements● All weapons must bebasedonhistorical sourcesandrepeat theformof theoriginal inall threedimensions.● All weaponsmust matchthestyleof thearmorkit of thecompetitor.● All decorationonweapons must bestylizedinaccordancewiththestyleof thearmor kit of thecompetitor.● It isprohibitedtodecorateweaponswithimagesthat areclearlymodernand/oroffensive.● All decorations must conform to the Authenticity document “Armors and weapons aestheticsanddecorations”.● Weaponsmust conformtoAuthenticityRulesdocuments\\n5.3.SpecificrequirementsforbladedweaponsThe bladed weapon must be made of the followingelements.● Blade: it isthemainstrikingedgeof theweapon● Hilt: it iscomposedby:● Pommel: it isastrikingedge● Handle: only place where you're allowedtoholdtheweapon● Guard: it isastrikingedge● When holdingthebladedweaponfirmly, theguardisnot allowed to extend the gauntlet of the bearer formorethan3.5cm.]</td>\n",
       "      <td>The maximum allowable extension of the guard for bladed weapons in relation to the bearer's gauntlet, as stated in the given context, is 3.5 centimeters.</td>\n",
       "      <td>ai (mistral.mixtral-8x7b-instruct-v0:1)</td>\n",
       "      <td>ai (mistral.mixtral-8x7b-instruct-v0:1)</td>\n",
       "    </tr>\n",
       "    <tr>\n",
       "      <th>19</th>\n",
       "      <td>What is the minimum number of methods required to secure the head of a hafted weapon to the haft, and what are the allowed methods according to the specific requirements for hafted weapons?</td>\n",
       "      <td>[5.4.Specificrequirementsforhaftedweapons\\n5.4.1. ComponentsHaftedweaponmust bemadeof thefollowingparts.● Head: it iscomposedby:○ Blade: it isthemainstrikingedgeof theweapon○ Backof thehead: it isastrikingedgebut hittinganopponent withthispart isprohibited● Haft: themainhandle● Bottom: thelowerpart of thehaft. It isastrikingedge.Note: amacedoesnothaveabackofthehead.Eachbladeofaflangedmaceisconsideredasastrikingedge.\\n● The headof any haftedweaponmust besecuredtothehaft by at least 2differentmethods. Allowedmethodsare:○ Wedges○ Straps○ Glue○ Rivetsornails○ Langets● Weapons with sharp corners (Less than 90 degrees) and corners that can beconsidereddangerousareprohibited.● Any point on the Striking Edge of the weapon must have an angle more than90degrees.● A hafted weapon may have a rebated hook or hammerhead on the non-strikingpart. Anystrikeswiththeseelementsarestrictlyprohibited.● Anyrebatedhookorhammerheadmust not present anysharporpointededge.]</td>\n",
       "      <td>According to the specific requirements for hafted weapons, the head of a hafted weapon must be secured to the haft by at least 2 different methods. The allowed methods are: wedges, straps, glue, rivets or nails, and langets.</td>\n",
       "      <td>ai (mistral.mixtral-8x7b-instruct-v0:1)</td>\n",
       "      <td>ai (mistral.mixtral-8x7b-instruct-v0:1)</td>\n",
       "    </tr>\n",
       "    <tr>\n",
       "      <th>24</th>\n",
       "      <td>\"Based on the changelog provided, what is the new weight limit for all weapons in the updated version of the document as of December 2024?\"</td>\n",
       "      <td>[9. ChangelogThiswill bethechangelogof thisdocument. It will beupdatedregularlyandwewilldisplaywhat hasbeenremoved/added/reworded/formatted. Thiswaywekeeptransparent communicationandclarityabout therules\\n(Versionupdatefrom2024.03to2024.12.13)Updatedate:December-2024-changed: Upwardsweight errorfrom100,200,300hasbeenlimitedto100gramsforall weaponsAdded:Thesubgenresof weapons,Duels,DuelsSword,DuelsLongsword,DuelsPolearm,Group: Type1bladed, Type2bladed, Type3bladed, Type1hafted(axe), Type1hafted(mace), Type2hafted, Type3hafte,Removed: (Hasbeenmovedtodocument: (Weapon/Shieldrequirementsexcel)4.4.1SpecificrequirementsRemoved(Hasbeenmovedtodocument: (Weapon/Shieldrequirementsexcel)4.4.2Weightsandmeasurements\\nUpdatedate:March-2024-format: newdesignformat, document will beusedfromnowon.-Updatedocument basedonmydocument (16/05/2024)-Updatedocument (format)]</td>\n",
       "      <td>Based on the changelog provided, the new weight limit for all weapons in the updated version of the document as of December 2024 is 100 grams.</td>\n",
       "      <td>ai (mistral.mixtral-8x7b-instruct-v0:1)</td>\n",
       "      <td>ai (mistral.mixtral-8x7b-instruct-v0:1)</td>\n",
       "    </tr>\n",
       "  </tbody>\n",
       "</table>\n",
       "</div>"
      ],
      "text/plain": [
       "                                                                                                                                                                                                                                                                                                                                                                                                                                                               query  \\\n",
       "0                                                                                                                                                                                                                                                                                          Question: According to the \"buhurt_armor_requirement.pdf\" document, what is the minimum thickness requirement for the lower leg protection armor, as specified on page 1?   \n",
       "1                                                                                     Question: Based on the \"Technical Requirements for Armor\" document, explain the historical consistency requirements for armor, including the considerations for equipment from historical sources, dates of sources, prohibited features, and consistency in equipment with regards to Western European style, Slavic influence, Eastern influence, and authorized deviations.   \n",
       "2                                                                                                                                                                                                                                                                                                      \"Can you explain the role and responsibility of Authenticity Officers as mentioned in the introduction of the document related to buhurt armor requirements?\"   \n",
       "3                                                                                                                                                                                                                                                      \"Explain the prohibited features for armors and give an example of a modern material or manufacturing technique that would be not allowed in historical reenactment events, according to the given document.\"   \n",
       "4                                                                                                                                                                                                                                                                \"What is the process for competitors to deviate from the specified styles of armor, weapons, and shields, and who do they need to notify in order to obtain validation of their equipment choices?\"   \n",
       "6                                                                                                                                                                                                                                                         Question: According to the \"BuHurt Armor Requirement\" document, what are the specific protection requirements for a helmet, and what should be the characteristics of locking systems if they are visible?   \n",
       "10                                                                                                                                                                                                                                                                                     Question: Based on the provided document changelog, what is the most recent update as of December 2024 regarding the technical requirements for armors, weapons, and shields?   \n",
       "12                                                                                                                                                                                                                                                  Question: Based on the \"Historical Consistency Requirements\" section of the document, explain what is meant by \"Prohibited features\" and provide an example of such a feature as it relates to weapon equipment.   \n",
       "13  Question: Based on the document, what is the role of Authenticity Officers in buhurt competitions? Authenticity Officers are responsible for the correct application of the document in buhurt competitions, which includes group fights in various formats such as 5v5, 12v12, and 30v30. Additionally, they are responsible for ensuring that all equipment, including armors, clothes, shields, and weapons, meet the requirements set forth in the document.   \n",
       "14                                                                                                                                                                                                                                                             What modern countries are included in the Western Europe style definition for armors, shields, and weapons that must be consistent in equipment style, according to the Authenticity Rules documents?   \n",
       "15                                                                                                                                                                                                                                                                          \"Describe the authorized deviations for competitors in the Buhurt weapon requirement, according to the given document, and explain the process for obtaining validation of their armor.\"   \n",
       "17                                                                                                                                                                                                                                                                                                                                                                        What are the two main types of weapons, and provide an example of a weapon from each type?   \n",
       "18                                                                                                                                                                                                                                                                                                                   \"What is the maximum allowable extension of the guard for bladed weapons in relation to the bearer's gauntlet, as stated in the given context?\"   \n",
       "19                                                                                                                                                                                                                                                                     What is the minimum number of methods required to secure the head of a hafted weapon to the haft, and what are the allowed methods according to the specific requirements for hafted weapons?   \n",
       "24                                                                                                                                                                                                                                                                                                                       \"Based on the changelog provided, what is the new weight limit for all weapons in the updated version of the document as of December 2024?\"   \n",
       "\n",
       "                                                                                                                                                                                                                                                                                                                                                                                                                                                                                                                                                                                                                                                                                                                                                                                                                                                                                                                                                                                                                                                                                                                                                                                                                                                                                                                                                                                                                                                                                                                                                                                                                                                                                                                                                                                                                                                                                                                                                                                                                                                                                                                                                                                                                                                                                                                                                                                                                                                                                                                                                                                                                                                                                                                                                                                                                                                                                                                                                                                                                                                                                                                                                                                                                                                                                                                                                                                                                                                                                                                                                                                                                                                                                                                                                                                                                                                                                                                                                                                                                                                                                                                                                                                                                                                                                                                                                                                                                                                                                                                                                                                                                                                                                                                                                                                                                                                                                                                                                                                                                                                                                                                                                                                                                                                                                                                                                                                                                                                                                                                                                                                                                                                                                                                                                                                                                                                                                                                                                                                                                                                                       reference_contexts  \\\n",
       "0                                                                                                                                                                                                                                                                                                                                                                                                                                                                                                                                                                                                                                                                                                                                                                                                                                                                                                                                                                                                                                                                                                                                                                                                                                                                                                                                                                                                                                                                                                                                                                                                                                                                                                                                                                                                                                                                                                                                                                                                                                                                                                                                                                                                                                                                                                                                                                                                                                                                                                                                                                                                                                                                                                                                                                                                                                                                                                                                                                                                                                                                                                                                                                                                                                                                                                                                                                                                                                                                                                                                                                                                                                                                                                                                                                                                                                                                                                                                                                                                                                                                                                                                                                                                                                                                                                                                                                                                                                                                                                                                                                                                                                                                                                                                                                                                                                                                                                                                                                                                                                                                                                                                                                                                                                                                                                                                                                                                                                                                                                                                                                                                                                                                                                                                                                                                                                                                                                                                                                                                                                                                                      []   \n",
       "1                                                                                                                                                                                                                                                                                                                                                                                                                                                                                                                                                                                                                                                                                                                                                                                                                                                                                                                                                                                                                                                                                                                                                                                                                                                                                                                                                                                                                                                                                                                                                                                                                                                                                                                                                                                                                                                                                                                                                                                                                                                                                                                                                                                                                                                                                                                                                                                                                                                                                                                                                                                                                                                                                                                                                                                                                                                                                                                                                                                                                                                                                                                                                                                                                                                                                                                                                                                                                                                                                                                                                                                                                                                                                                                                                                                                                                                                                                                                                                                                                                                                                                                                                                                                                                                                                                                                                                                                                                                                                                                                                                                                                                                                                                                                                                                                                                                                                                                                                                                                                                                                                                                                                                                              [Technical RequirementsforArmor\\nTableofContents\\nTechnicalRequirementsforArmor 11.IntroductionandDefinitions 21.1.Equipment 21.2.List 21.3.Categories 21.4.Historicalsources 22.HistoricalConsistencyRequirements 32.1.Equipmentfromhistoricalsources 32.2.Datesofsources 32.3.Prohibitedfeatures 32.4.ConsistencyinEquipment 32.4.1.WesternEuropestyle 32.4.2.SlavicInfluence 32.4.3.Easterninfluence 32.4.4.Authorizeddeviations 43.GeneralRequirements 53.1.Competitorresponsibility 53.2.Qualityequipment 53.3.Safeequipment 53.4.Accesstothelist 54.Helmetsrequirements 64.1.Protection 64.2.Thicknessandcomposition 74.3.Coif 74.4.Chinstrap 74.5.Neckprotection 75.Armorrequirements 85.1.Metalthicknessrecommendations 85.2.Chest 85.3.Groin 85.4.Hands 85.5.Arms 85.6.Joints 95.7.Legs 95.8.Feet 95.9.Shoes 96.Changelog 10\\nTechnicalRequirementsforarmors,weaponsandshields 1]   \n",
       "2                                                                                                                                                                                                                                                                                                                                                                                                                                                                                                                                                                                                                                                                                                                                                                                                                                                                                                                                                                                                                                                                                                                                                                                                                                                                                                                                                                                                                                                                                                                                                                                                                                                                                                                                                                                                                                                                                                                                                                                                                                                                                                                                                                                                                                                                                                                                                                                                                                                                                                                                                                                                                                                                                                                                                                                                                                                                                                                                                                                                                                                                                                                                                                                                                                                                                                                                                                                                                                                                                                                                                                                                                                                                                                                                                                                                                                                                                                                                                                                                                                                                                                                                                                                                                                                                                                                                                                                                                                                                                                                                                                                                                                                                                                                                                                                                                                                                                                                                                                                                                                                                                                                                                                                                [1. IntroductionandDefinitions\\nThisdocument will displayall requirementsforarmors, shields, andweaponsusedinanycategory. Everycompetitorissolelyresponsibleforthequalityof his/herequipment. MarshalsandAuthenticityOfficersareresponsibleforthecorrect applicationof thisdocument.\\n1.1.Equipment● Armors, clothes, shieldsandweaponsusedbyacompetitor.\\n1.2.List● Placewherethefightsoccur.\\n1.3.Categories● Duel: 1v1swordandshield, swordandbuckler, longsword, polearm.● Buhurt: Groupfight, 5v5, 12v12, 30v30.● Outrance\\n1.4.Historicalsources● It is theresult of researchtoconcludetheplausibilityof theitemhadexisted. Historicalsources can be primary (artifacts, museum originals…) or secondary (images,paintings, statues, description, writings…). Any historical source must be analyzedthroughcriticismandlogic.\\nTechnicalRequirementsforarmors,weaponsandshields 2]   \n",
       "3                                                                                                                                                                                                                                                                                                                                                                                                                                                                                                                                                                                                                                                                                                                                                                                                                                                                                                                                                                                                                                                                                                                                                                                                                                                                                                                                                                                                                                                                                                                                                                                                                                                                                                                                                                                                                                                                                                                                                                                                                                                                                                                                                                                                                                                                                                                                                                                                                                                                                                                                                                                                                                                                                                                                                                                                                                                                                                                                                                                                                                                                                                                                                                                                                                                                                                                                                                                                                                                                                                                                                                                                                                                                                                                                                                                                                                                                                                                                                                                                                                                                                                                                                                                                                               [2. Historical ConsistencyRequirements\\n2.1.Equipmentfromhistoricalsources● Onlyarmorsderivedfromhistorical sourcesarepermittedforuse.● Armorsmust alignwithAuthenticityRulesdocuments.\\n2.2.Datesofsources● Armorsmust alignwithsourcesdatingbetweenthe14th(1300)and17th(1600)centuries.● For safety considerations, reproductions of armors predating the 13th century areprohibited.\\n2.3.Prohibitedfeatures● Prohibited features encompass evident indications of modern materials or manufacturingtechniques including: neoncolors, obvious nyloncords, plastic ties, visibleweldedseams,heat-induceddiscoloration, modernfootwearandothervisiblemodernequipment.\\n2.4.ConsistencyinEquipmentArmors, shields and weapons must consist of pieces fromthesamestyle. Distinct styles aredefinedinmodern-daytermsas:\\n2.4.1.WesternEuropestyle● 14thcentury:from1300to1380● Transitional:from1380to1420● 15th century: from1420 to 1500. XVth stylearmor must beapprovedby theAuthenticity Committee. We recommended seeking approval before buyingsucharmor.● Western Europe includes the following modern countries: Great Britain,Ireland, France, Portugal, Spain, Germany, Italy, Norway, Denmark, Sweden,Finland, Austria, Switzerland, Belgium, andtheNetherlands2.4.2.SlavicInfluence● Central Europe14th:from1300to1400● Russianlatearmors:from1500to1700● SlavicInfluenceincludesthefollowingmoderncountries:CzechRepublic,Romania, Hungary, Poland, Slovakia, Slovenia, Croatia, Latvia, Estonia,Moldova, Serbia, Ukraine, Russia, andBelarus.2.4.3.Easterninfluence● Chinesestyle: from1300to1600● Japanesesamurai style: from1400to1700● Middle-East style: from1300to1700● Easterninfluenceincludes thefollowingmoderncountries: China, Japan, India,Korea, Iran, Iraq, Turkey, Egypt\\nTechnicalRequirementsforarmors,weaponsandshields 3]   \n",
       "4                                                                                                                                                                                                                                                                                                                                                                                                                                                                                                                                                                                                                                                                                                                                                                                                                                                                                                                                                                                                                                                                                                                                                                                                                                                                                                                                                                                                                                                                                                                                                                                                                                                                                                                                                                                                                                                                                                                                                                                                                                                                                                                                                                                                                                                                                                                                                                                                                                                                                                                                                                                                                                                                                                                                                                                                                                                                                                                                                                                                                                                                                                                                                                                                                                                                                                                                                                                                                                                                                                                                                                                                                                                                                                                                                                                                                                                                                                                                                                                                                                                                                                                                                                                                                                                                                                                                                                                                                                                                                                                                                                                                                                                                                                                                                                                                                                                                                                                                                                                                                                                                                                                                                                                                                                                                                                                                                                                                                                                                                                                                                                                                                                                                                                                                                     [2.4.4.Authorizeddeviations● Competitors may deviate from these specified styles if they provide sourcessupportingtheirequipment choices.● Competitors who deviate from these specified styles must send an email toAC@buhurtinternational.comtoobtainvalidationof theirarmor.\\nTechnicalRequirementsforarmors,weaponsandshields 4]   \n",
       "6                                                                                                                                                                                                                                                                                                                                                                                                                                                                                                                                                                                                                                                                                                                                                                                                                                                                                                                                                                                                                                                                                                                                                                                                                                                                                                                                                                                                                                                                                                                                                                                                                                                                                                                                                                                                                                                                                                                                                                                                                                                                                                                                                                                                                                                                                                                                                                                                                                                                                                                                                                                                                                                                                                                                                                                                                                                                                                                                                                                                                                                                                                                                                                                                                                                                                                                                                                                                                                                                                                                                                                                                                                                                                                                                                                                                                                                                                                                                                                                                                                                                                                                                                                                                                                                                                                                                                                                                                                                                                                                                                                                                                                                                                                                                                                                                                                                                                                                                                                                                                                                                                                                                                                                                                                                                                                                                                                                                                              [4. Helmetsrequirements\\n4.1.Protection● Ahelmet istheheadprotection. It must protect theentireheadandneckfromall sides.Ahelmetiscomposedbythefollowingparts\\n● A helmet must protect the whole head. Open-face helmets are not allowed in anycategory.● Helmet must conformtotheAuthenticityRulesdocuments.● If thehelmet includesaremovableorpivotingvisor, it shouldbesecuredtoprevent anyopeningduringafight.● Locking systems, if visible, must be based on historical sources and use authenticmaterials(leather, rope, etc.).● ApprovedlockingsystemsaredisplayedinAuthenticityRulesdocuments.\\nTechnicalRequirementsforarmors,weaponsandshields 6]   \n",
       "10                                                                                                                                                                                                                                                                                                                                                                                                                                                                                                                                                                                                                                                                                                                                                                                                                                                                                                                                                                                                                                                                                                                                                                                                                                                                                                                                                                                                                                                                                                                                                                                                                                                                                                                                                                                                                                                                                                                                                                                                                                                                                                                                                                                                                                                                                                                                                                                                                                                                                                                                                                                                                                                                                                                                                                                                                                                                                                                                                                                                                                                                                                                                                                                                                                                                                                                                                                                                                                                                                                                                                                                                                                                                                                                                                                                                                                                                                                                                                                                                                                                                                                                                                                                                                                                                                                                                                                                                                                                                                                                                                                                                                                                                                                                                                                                                                                                                                                                                                                                                                                                                                                                                                                                                                                                                                                                                                                                                                                                                                                                                                                                                                                                                                                                                                                     [6. Changelog\\nThiswill bethechangelogof thisdocument. It will beupdatedregularlyandwewilldisplaywhat hasbeenremoved/added/reworded/formatted. Thiswaywekeeptransparent communicationandclarityabout therules\\nDateupdate:December2024-add: Document created\\nTechnicalRequirementsforarmors,weaponsandshields 10]   \n",
       "12  [Technical RequirementsforWeaponsTableofContents1. IntroductionandDefinitions............................................................................................................................11.1. Equipment...........................................................................................................................................21.2. List.......................................................................................................................................................21.3. Categories...........................................................................................................................................21.4. StrikingEdge/ Non-strikingEdge(of theWeapon).............................................................................21.5. Historical sources................................................................................................................................22. Historical ConsistencyRequirements............................................................................................................32.1. Equipment fromhistorical sources......................................................................................................32.2. Datesof sources.................................................................................................................................32.3. Prohibitedfeatures..............................................................................................................................32.4. ConsistencyinEquipment...................................................................................................................32.4.1. WesternEuropestyle.......................................................................................................................32.4.2. SlavicInfluence................................................................................................................................32.4.3. Easterninfluence............................................................................................................................. 32.4.4. Authorizeddeviations.......................................................................................................................43. General Requirements......................................................................................................................................53.1. Competitorresponsibility.....................................................................................................................53.2. Qualityequipment...............................................................................................................................53.3. Accesstothelist.................................................................................................................................54. Weaponsrequirements.....................................................................................................................................64.1. Typesof weapons...............................................................................................................................64.1.1. Bladedweapons...............................................................................................................................64.1.2. Haftedweapons...............................................................................................................................65. General requirements.......................................................................................................................................75.1. Safetyrequirements............................................................................................................................75.2. Authenticityrequirements....................................................................................................................75.3. Specificrequirementsforbladedweapons.........................................................................................75.4. Specificrequirementsforhaftedweapons..........................................................................................85.4.1. Components.....................................................................................................................................85.4.2. Haft Requirements...........................................................................................................................96. Outranceweapons..........................................................................................................................................106.1. Point of balance................................................................................................................................ 107. DuelsWeapons................................................................................................................................................117.1. Type1Bladed....................................................................................................................................117.2. type2bladed.....................................................................................................................................118. Buhurt/GroupWeapons..................................................................................................................................128.1. Type2&3Bladed..............................................................................................................128.2. Type1&2Hafted.............................................................................................................. 129. Changelog.......................................................................................................................................................13]   \n",
       "13                                                                                                                                                                                                                                                                                                                                                                                                                                                                                                                                                                                                                                                                                                                                                                                                                                                                                                                                                                                                                                                                                                                                                                                                                                                                                                                                                                                                                                                                                                                                                                                                                                                                                                                                                                                                                                                                                                                                                                                                                                                                                                                                                                                                                                                                                                                                                                                                                                                                                                                                                                                                                                                                                                                                                                                                                                                                                                                                                                                                                                                                                                                                                                                                                                                                                                                                                                                                                                                                                                                                                                                                                                                                                                                                                                                                                                                                                                                                                                                                                                                                                                                                                                                                                                                                                                                                                                                                                                                                                                                                                                                                                                                                                                                                                                                                                                                                                                                                                                                                                         [IntroductionandDefinitions\\nThisdocument will displayall requirementsforarmors, shields, andweaponsusedinanycategory.Everycompetitorissolelyresponsibleforthequalityof his/herequipment. MarshalsandAuthenticityOfficersareresponsibleforthecorrect applicationof thisdocument.\\n1.1.Equipment● Armors, clothes, shieldsandweaponsusedbyacompetitor.\\n1.2.List● Placewherethefightsoccur.\\n1.3.Categories● Duel: 1v1swordandshield, swordandbuckler, longsword, polearm.\\n● Buhurt: Groupfight, 5v5, 12v12, 30v30.\\n● Outrance\\n1.4.StrikingEdge/ Non-strikingEdge(oftheWeapon)● StrikingEdgeisapart of theweapondesignedtohit anopponent.\\n● Non-strikingedgeisapart of theweaponnot designedtohit anopponent.\\nHerearesomeexampleswiththestrikingedgebeingred\\n1.5.Historical sourcesIt istheresult of researchtoconcludetheplausibilityof theitemhadexisted. Historical sourcescanbe primary (artifacts, museumoriginals…) or secondary (images, paintings, statues, description,writings…). Anyhistorical sourcemust beanalyzedthroughcriticismandlogic.]   \n",
       "14                                                                                                                                                                                                                                                                                                                                                                                                                                                                                                                                                                                                                                                                                                                                                                                                                                                                                                                                                                                                                                                                                                                                                                                                                                                                                                                                                                                                                                                                                                                                                                                                                                                                                                                                                                                                                                                                                                                                                                                                                                                                                                                                                                                                                                                                                                                                                                                                                                                                                                                                                                                                                                                                                                                                                                                                                                                                                                                                                                                                                                                                                                                                                                                                                                                                                                                                                                                                                                                                                                                                                                                                                                                                                                                                                                                                                                                                                                                                                                                                                                                                                                                                                                                                                                                                                                                                                                                                                                                                  [2.Historical ConsistencyRequirements\\n2.1.Equipmentfromhistorical sources● Onlyweaponsderivedfromhistorical sourcesarepermittedforuse.\\n● Weaponsmust alignwithAuthenticityRulesdocuments.\\n2.2.Datesofsources● Weapons must align with sources dating between the 14th (1300) and 17th (1600)centuries.\\n● For safety considerations, reproductions of armors predating the 13th century areprohibited, asareweaponsof thesameperiod.\\n2.3.Prohibitedfeatures● Prohibited features encompass evident indications of modern materials or manufacturingtechniques including: neoncolors, obvious nyloncords, plastic ties, visibleweldedseams,heat-induceddiscolorationandothervisiblemodernequipment.\\n2.4.ConsistencyinEquipmentArmors, shields and weapons must consist of pieces from the same style. Distinct styles aredefinedinmodern-daytermsas:\\n2.4.1. WesternEuropestyle● 14thcentury: from1300to1380\\n● Transitional: from1380to1420\\n● 15th century: from1420 to 1500. XVth style armor must be approvedby theAuthenticityCommittee. Werecommendedseekingapproval beforebuyingsucharmor.\\n● Western Europe includes the following modern countries: Great Britain, Ireland, France,Portugal, Spain, Germany, Italy, Norway, Denmark, Sweden, Finland, Austria, Switzerland,Belgium, andtheNetherlands\\n2.4.2. SlavicInfluence● Central Europe14th: from1300to1400\\n● Russianlatearmors: from1500to1700\\n● Slavic Influence includes the following modern countries: Czech Republic, Romania,Hungary, Poland, Slovakia, Slovenia, Croatia, Latvia, Estonia, Moldova, Serbia, Ukraine,Russia, andBelarus.]   \n",
       "15                                                                                                                                                                                                                                                                                                                                                                                                                                                                                                                                                                                                                                                                                                                                                                                                                                                                                                                                                                                                                                                                                                                                                                                                                                                                                                                                                                                                                                                                                                                                                                                                                                                                                                                                                                                                                                                                                                                                                                                                                                                                                                                                                                                                                                                                                                                                                                                                                                                                                                                                                                                                                                                                                                                                                                                                                                                                                                                                                                                                                                                                                                                                                                                                                                                                                                                                                                                                                                                                                                                                                                                                                                                                                                                                                                                                                                                                                                                                                                                                                                                                                                                                                                                                                                                                                                                                                                                                                                                                                                                                                                                                                                                                                                                                                                                                                                                                                                                                                                                                                                                                                                                                                                                                                                                                                                                                                                                                                                                                                                                                                            [2.4.3. Easterninfluence● Chinesestyle: from1300to1600\\n● Japanesesamurai style: from1400to1700\\n● Middle-East style: from1300to1700\\n● Easterninfluenceincludesthefollowingmoderncountries: China, Japan, India, Korea, Iran,Iraq, Turkey, Egypt\\n2.4.4. Authorizeddeviations● Competitorsmaydeviatefromthesespecifiedstylesif theyprovidesourcessupportingtheirequipment choices.\\n● Competitors who deviate from these specified styles must send an email toAC@buhurtinternational.comtoobtainvalidationof theirarmor.]   \n",
       "17                                                                                                                                                                                                                                                                                                                                                                                                                                                                                                                                                                                                                                                                                                                                                                                                                                                                                                                                                                                                                                                                                                                                                                                                                                                                                                                                                                                                                                                                                                                                                                                                                                                                                                                                                                                                                                                                                                                                                                                                                                                                                                                                                                                                                                                                                                                                                                                                                                                                                                                                                                                                                                                                                                                                                                                                                                                                                                                                                                                                                                                                                                                                                                                                                                                                                                                                                                                                                                                                                                                                                                                                                                                                                                                                                                                                                                                                                                                                                                                                                                                                                                                                                                                                                                                                                                                                                                                                                                                                                                                                                                                                                                                                                                                                                                                                                                                                                                                                                                                                                                                                                                                                                                                                                                                                                                                                                                                                                                                                                                               [4. Weaponsrequirements\\n4.1.TypesofweaponsThereare2typesof weapons\\n4.1.1. BladedweaponsWeaponwithalongmetal bladeandahilt withahandguard.Examplesof bladedweapons:● Swords● Falchions● Longswords\\n4.1.2. HaftedweaponsWeaponwhichthemainfightingpart of theweaponisfittedtotheendof alongshaftExamplesof haftedweapons● Axe● Polearm● Glaive● Maces\\n4.2.Subgenresofweapons\\n4.2.1. Duels● DuelsSword● DuelsLongsword● DuelsPolearm\\n4.2.2. Group(3v3,5v5etc…)● Type1bladed● Type2bladed● Type3bladed● Type1hafted(mace)● Type2hafted(axe)● Type3hafted● Type4hafted]   \n",
       "18                                                                                                                                                                                                                                                                                                                                                                                                                                                                                                                                                                                                                                                                                                                                                                                                                                                                                                                                                                                                                                                                                                                                                                                                                                                                                                                                                                                                                                                                                                                                                                                                                                                                                                                                                                                                                                                                                                                                                                                                                                                                                                                                                                                                                                                                                                                                                                                                                                                                                                                                                                                                                                                                                                                                                                                                                                                                                                                                                                                                                                                                                                                                                                                                                                                                                                                                                                                                                                                                                                                                                                                                                                                                                                                                                                                                                                                                                                                                                                                                                                                                                                                                                                                                                                                                                                                     [5. General requirements\\n5.1.Safetyrequirements● All weaponsmust beabletoendurefull contact fights.● All edgesof all weaponsmust berebatedincompliancewiththisdocument.● Theedgeof bothstrikingandnon-strikingedgesmust berebatedandhaveathicknessof 2mmormore.● TheRadiusof strikingandnon-strikingedgesmust bemorethan10mm.● Weaponsconstructedsolelyforstabbingareprohibited(spearsforexample)● Weight permissibleupwarderrorforweaponsis100grams● Anyheavierweapon, includingpermissibleupwarderror, isprohibited.● It is allowed to use leather thread to secure the weapon in hand. Such leather thread mustconformtotheAuthenticitydocument “TextilesandLeather”.● Every weapon to be used at a tournament must be first approved for safety by therepresentativesof theMarshalsduringweaponscheck.\\n5.2.Authenticityrequirements● All weapons must bebasedonhistorical sourcesandrepeat theformof theoriginal inall threedimensions.● All weaponsmust matchthestyleof thearmorkit of thecompetitor.● All decorationonweapons must bestylizedinaccordancewiththestyleof thearmor kit of thecompetitor.● It isprohibitedtodecorateweaponswithimagesthat areclearlymodernand/oroffensive.● All decorations must conform to the Authenticity document “Armors and weapons aestheticsanddecorations”.● Weaponsmust conformtoAuthenticityRulesdocuments\\n5.3.SpecificrequirementsforbladedweaponsThe bladed weapon must be made of the followingelements.● Blade: it isthemainstrikingedgeof theweapon● Hilt: it iscomposedby:● Pommel: it isastrikingedge● Handle: only place where you're allowedtoholdtheweapon● Guard: it isastrikingedge● When holdingthebladedweaponfirmly, theguardisnot allowed to extend the gauntlet of the bearer formorethan3.5cm.]   \n",
       "19                                                                                                                                                                                                                                                                                                                                                                                                                                                                                                                                                                                                                                                                                                                                                                                                                                                                                                                                                                                                                                                                                                                                                                                                                                                                                                                                                                                                                                                                                                                                                                                                                                                                                                                                                                                                                                                                                                                                                                                                                                                                                                                                                                                                                                                                                                                                                                                                                                                                                                                                                                                                                                                                                                                                                                                                                                                                                                                                                                                                                                                                                                                                                                                                                                                                                                                                                                                                                                                                                                                                                                                                                                                                                                                                                                                                                                                                                                                                                                                                                                                                                                                                                                                                                                                                                                                                                                                                                                                                                                                                                                                                                                                                                                                                                                                                                                                                                                                                                                                                                                                                                       [5.4.Specificrequirementsforhaftedweapons\\n5.4.1. ComponentsHaftedweaponmust bemadeof thefollowingparts.● Head: it iscomposedby:○ Blade: it isthemainstrikingedgeof theweapon○ Backof thehead: it isastrikingedgebut hittinganopponent withthispart isprohibited● Haft: themainhandle● Bottom: thelowerpart of thehaft. It isastrikingedge.Note: amacedoesnothaveabackofthehead.Eachbladeofaflangedmaceisconsideredasastrikingedge.\\n● The headof any haftedweaponmust besecuredtothehaft by at least 2differentmethods. Allowedmethodsare:○ Wedges○ Straps○ Glue○ Rivetsornails○ Langets● Weapons with sharp corners (Less than 90 degrees) and corners that can beconsidereddangerousareprohibited.● Any point on the Striking Edge of the weapon must have an angle more than90degrees.● A hafted weapon may have a rebated hook or hammerhead on the non-strikingpart. Anystrikeswiththeseelementsarestrictlyprohibited.● Anyrebatedhookorhammerheadmust not present anysharporpointededge.]   \n",
       "24                                                                                                                                                                                                                                                                                                                                                                                                                                                                                                                                                                                                                                                                                                                                                                                                                                                                                                                                                                                                                                                                                                                                                                                                                                                                                                                                                                                                                                                                                                                                                                                                                                                                                                                                                                                                                                                                                                                                                                                                                                                                                                                                                                                                                                                                                                                                                                                                                                                                                                                                                                                                                                                                                                                                                                                                                                                                                                                                                                                                                                                                                                                                                                                                                                                                                                                                                                                                                                                                                                                                                                                                                                                                                                                                                                                                                                                                                                                                                                                                                                                                                                                                                                                                                                                                                                                                                                                                                                                                                                                                                                                                                                                                                                                                                                                                                                                                                                                                                                                                                                                                                                                                                                                         [9. ChangelogThiswill bethechangelogof thisdocument. It will beupdatedregularlyandwewilldisplaywhat hasbeenremoved/added/reworded/formatted. Thiswaywekeeptransparent communicationandclarityabout therules\\n(Versionupdatefrom2024.03to2024.12.13)Updatedate:December-2024-changed: Upwardsweight errorfrom100,200,300hasbeenlimitedto100gramsforall weaponsAdded:Thesubgenresof weapons,Duels,DuelsSword,DuelsLongsword,DuelsPolearm,Group: Type1bladed, Type2bladed, Type3bladed, Type1hafted(axe), Type1hafted(mace), Type2hafted, Type3hafte,Removed: (Hasbeenmovedtodocument: (Weapon/Shieldrequirementsexcel)4.4.1SpecificrequirementsRemoved(Hasbeenmovedtodocument: (Weapon/Shieldrequirementsexcel)4.4.2Weightsandmeasurements\\nUpdatedate:March-2024-format: newdesignformat, document will beusedfromnowon.-Updatedocument basedonmydocument (16/05/2024)-Updatedocument (format)]   \n",
       "\n",
       "                                                                                                                                                                                                                                                                                                                                                                                                                                                                                                                                                                                                                                                                                                                                                                                                                                                                                                                                                                                                                                                                                                                                                                                                                                                                                                                                                                                                                                                                                                                                                                                                                                                                                                                                                                                                                                                                                                                                                                                                                                                                                                                                                                                                                                                                                                                                                    reference_answer  \\\n",
       "0                                                                                                                                                                                                                                                                                                                                                                                                                                                                                                                                                                                                                                                                                                                                                                                                                                                                                                                                                                                                                                                                                                                                                                                                                                                                                                                                                                                                                                                                                                                                                                                                                                                                                                                                                                                                                                                                         To provide an accurate answer, I would need access to the specific contents of the \"buhurt\\_armor\\_requirement.pdf\" document located at /home/ec2-user/SageMaker/elvtr-ai-solution-architect/class-14/source\\_docs/. However, based on the provided context, I can tell you that the minimum thickness requirement for the lower leg protection armor is specified on page 1 of the document. To get the exact thickness requirement, please refer to the contents of the document itself.   \n",
       "1    The \"Technical Requirements for Armor\" document outlines the historical consistency requirements for armor under section 2.2. These requirements ensure that the armor used in competitions is consistent with historical sources and practices.\\n\\nFirstly, the equipment must come from historical sources. This means that the design, construction, and materials of the armor should be based on existing examples from historical records, artifacts, or reputable reconstructions.\\n\\nSecondly, the dates of the sources must be considered. The armor should be consistent with the time period it represents, and should not mix elements from different epochs. This helps maintain the authenticity and immersion of the historical reenactment or competition.\\n\\nThirdly, there are prohibited features. These are elements of armor that were not used in the specified historical period or culture, or that are considered anachronistic. For example, the use of rivets in certain periods or regions where they were not historically employed would be a prohibited feature.\\n\\nFourthly, consistency in equipment is emphasized. This includes consistency in equipment with regards to Western European style, Slavic influence, Eastern influence, and authorized deviations. \\n\\n- Western European style: The armor should reflect the typical design, construction, and materials used in Western Europe during the specified historical period. This includes considerations for the type of armor, the materials used, and the methods of construction.\\n\\n- Slavic influence: The armor should reflect the influence of Slavic cultures, if applicable. This could include specific design elements, materials, or construction techniques that are characteristic of Slavic armor.\\n\\n- Eastern influence: The armor should reflect the influence of Eastern cultures, if applicable. This could include specific design elements, materials, or construction techniques that are characteristic of Eastern armor.\\n\\n- Authorized deviations: There may be certain deviations from historical practices that are allowed, provided they do not violate the other historical consistency requirements. These deviations should be authorized and documented, and should not detract from the historical authenticity of the armor.   \n",
       "2                                                                                                                                                                                                                                                                                                                                                                                                                                                                                                                                                                                                                                                                                                                                                                                                                                                                                                                                                                                                                                                                                                                                                                                                                                                                                                                                                                                                                                                                                                                                                                                                                          Based on the introduction of the document related to buhurt armor requirements, Authenticity Officers are responsible for the correct application of the document. Their role is to ensure that all equipment, including armors, clothes, shields, and weapons used by competitors, meet the historical source requirements outlined in the document. Authenticity Officers analyze historical sources, which can be primary (such as artifacts and museum originals) or secondary (such as images, paintings, statues, descriptions, and writings), using criticism and logic to determine the plausibility of an item's existence. They play a crucial role in maintaining the historical accuracy and authenticity of the competition.   \n",
       "3                                                                                                                                                                                                                                                                                                                                                                                                                                                                                                                                                                                                                                                                                                                                                                                                                                                                                                                                                                                                                                                                                                                                                                                                                                                                                                                                                                                                                                                                According to the given document, prohibited features for armors include any evident indications of modern materials or manufacturing techniques. Specifically, the use of neon colors, obvious nylon cords, plastic ties, visible welded seams, heat-induced discoloration, modern footwear, and other visible modern equipment are not permitted. \\n\\nAn example of a modern material or manufacturing technique that would not be allowed in historical reenactment events, according to the given document, is the use of heat-induced discoloration. This technique is often used in modern manufacturing processes to create a specific color or finish on a material, but it is not consistent with the historical methods of creating armor. Therefore, any armor with heat-induced discoloration would be considered a prohibited feature and not allowed in historical reenactment events.   \n",
       "4                                                                                                                                                                                                                                                                                                                                                                                                                                                                                                                                                                                                                                                                                                                                                                                                                                                                                                                                                                                                                                                                                                                                                                                                                                                                                                                                                                                                                                                                                                                                                                                                                                                                                                                                                                                                                                                                                                                                                                                     Competitors can deviate from the specified styles of armor, weapons, and shields by providing sources that support their equipment choices. Once they have done this, they must send an email to AC@buhurtinternational.com to obtain validation of their armor. This information is based on the provided context, and no prior knowledge was used in formulating the answer.   \n",
       "6                                                                                                                                                                                                                                                                                                                                                                                                                                                                                                                                                                                                                                                                                                                                                                                                                                                                                                                                                                                                                                                                                                                                                                                                                                                                                                                                                                                                                                                                                                                                                                                                                                                                                                                   According to the \"BuHurt Armor Requirement\" document, the specific protection requirements for a helmet include protecting the entire head and neck from all sides. Open-face helmets are not allowed in any category. Additionally, the helmet must conform to the Authenticity Rules documents. If the helmet includes a removable or pivoting visor, it should be secured to prevent any opening during a fight.\\n\\nRegarding locking systems, if they are visible, they must be based on historical sources and use authentic materials such as leather or rope. Approved locking systems are displayed in the Authenticity Rules documents.   \n",
       "10                                                                                                                                                                                                                                                                                                                                                                                                                                                                                                                                                                                                                                                                                                                                                                                                                                                                                                                                                                                                                                                                                                                                                                                                                                                                                                                                                                                                                                                                                                                                                                                                                                                                                                                                                                                                                                                                                                                                                                                                                                                                                                                                                                       Based on the provided document changelog, the most recent update as of December 2024 regarding the technical requirements for armors, weapons, and shields is the creation of the document.   \n",
       "12                                                                                                                                                                                                                                                                                                                                                                                                                                                                                                                                                                                                                                                                                                                                                                                                                                                                                                                                                                                                                                                                                                                                                                                                                                                                                                                                                                                                                                                                                                                                                                                                                                                  Based on the \"Historical Consistency Requirements\" section of the document, \"Prohibited features\" refer to elements in weapon equipment that do not align with historical sources or are not consistent with the time period or region being represented. An example of a prohibited feature could be the presence of synthetic materials in a weapon that is supposed to be made entirely of historical materials, such as wood, iron, or steel. Another example could be the use of modern mechanical components in a weapon that would not have been present in the historical equivalent. These prohibited features are not in line with the historical authenticity requirements set forth in the document.   \n",
       "13                                                                                                                                                                                                                                                                                                                                                                                                                                                                                                                                                                                                                                                                                                                                                                                                                                                                                                                                                                                                                                                                                                                                                                                                                                                                                                                                                                                                                                                                                                                                                                                                                                                                                                                                                                                                                                                                                                                                                                          Authenticity Officers are responsible for ensuring that all equipment used in buhurt competitions, which include group fights in various formats such as 5v5, 12v12, and 30v30, adhere to the requirements set forth in the document. This includes armors, clothes, shields, and weapons. They are also responsible for the correct application of the document in buhurt competitions.   \n",
       "14                                                                                                                                                                                                                                                                                                                                                                                                                                                                                                                                                                                                                                                                                                                                                                                                                                                                                                                                                                                                                                                                                                                                                                                                                                                                                                                                                                                                                                                                                                                                                                                                                                                                                                                                                                                                                                                                                                                                                                                                   The Western Europe style definition for armors, shields, and weapons that must be consistent in equipment style, according to the Authenticity Rules documents, includes the following modern countries: Great Britain, Ireland, France, Portugal, Spain, Germany, Italy, Norway, Denmark, Sweden, Finland, Austria, Switzerland, Belgium, and the Netherlands.   \n",
       "15                                                                                                                                                                                                                                                                                                                                                                                                                                                                                                                                                                                                                                                                                                                                                                                                                                                                                                                                                                                                                                                                                                                                                                                                                                                                                                                                                                                                                                                                                                                                  According to the given document, competitors in the Buhurt weapon requirement are allowed to deviate from the specified styles, which include Chinese, Japanese samurai, and Middle-Eastern styles from the years 1300 to 1700. However, if a competitor chooses to deviate from these styles, they must provide sources to support their equipment choices.\\n\\nTo obtain validation of their armor, competitors who deviate from the specified styles must send an email to AC@buhurtinternational.com. The document does not provide further details on the validation process, such as what information or evidence needs to be included in the email or how long the validation process takes. Therefore, it is recommended to contact Buhurt International directly for more information on their armor validation process.   \n",
       "17                                                                                                                                                                                                                                                                                                                                                                                                                                                                                                                                                                                                                                                                                                                                                                                                                                                                                                                                                                                                                                                                                                                                                                                                                                                                                                                                                                                                                                                                                                                                                                                                                                                                                                                                                                                                                                                                                                                                                                                                                                                                                                                                                                                                       The two main types of weapons are bladed weapons and hafted weapons. An example of a bladed weapon is a sword, and an example of a hafted weapon is an axe.   \n",
       "18                                                                                                                                                                                                                                                                                                                                                                                                                                                                                                                                                                                                                                                                                                                                                                                                                                                                                                                                                                                                                                                                                                                                                                                                                                                                                                                                                                                                                                                                                                                                                                                                                                                                                                                                                                                                                                                                                                                                                                                                                                                                                                                                                                                                         The maximum allowable extension of the guard for bladed weapons in relation to the bearer's gauntlet, as stated in the given context, is 3.5 centimeters.   \n",
       "19                                                                                                                                                                                                                                                                                                                                                                                                                                                                                                                                                                                                                                                                                                                                                                                                                                                                                                                                                                                                                                                                                                                                                                                                                                                                                                                                                                                                                                                                                                                                                                                                                                                                                                                                                                                                                                                                                                                                                                                                                                                                                                                                  According to the specific requirements for hafted weapons, the head of a hafted weapon must be secured to the haft by at least 2 different methods. The allowed methods are: wedges, straps, glue, rivets or nails, and langets.   \n",
       "24                                                                                                                                                                                                                                                                                                                                                                                                                                                                                                                                                                                                                                                                                                                                                                                                                                                                                                                                                                                                                                                                                                                                                                                                                                                                                                                                                                                                                                                                                                                                                                                                                                                                                                                                                                                                                                                                                                                                                                                                                                                                                                                                                                                                                    Based on the changelog provided, the new weight limit for all weapons in the updated version of the document as of December 2024 is 100 grams.   \n",
       "\n",
       "                        reference_answer_by  \\\n",
       "0   ai (mistral.mixtral-8x7b-instruct-v0:1)   \n",
       "1   ai (mistral.mixtral-8x7b-instruct-v0:1)   \n",
       "2   ai (mistral.mixtral-8x7b-instruct-v0:1)   \n",
       "3   ai (mistral.mixtral-8x7b-instruct-v0:1)   \n",
       "4   ai (mistral.mixtral-8x7b-instruct-v0:1)   \n",
       "6   ai (mistral.mixtral-8x7b-instruct-v0:1)   \n",
       "10  ai (mistral.mixtral-8x7b-instruct-v0:1)   \n",
       "12  ai (mistral.mixtral-8x7b-instruct-v0:1)   \n",
       "13  ai (mistral.mixtral-8x7b-instruct-v0:1)   \n",
       "14  ai (mistral.mixtral-8x7b-instruct-v0:1)   \n",
       "15  ai (mistral.mixtral-8x7b-instruct-v0:1)   \n",
       "17  ai (mistral.mixtral-8x7b-instruct-v0:1)   \n",
       "18  ai (mistral.mixtral-8x7b-instruct-v0:1)   \n",
       "19  ai (mistral.mixtral-8x7b-instruct-v0:1)   \n",
       "24  ai (mistral.mixtral-8x7b-instruct-v0:1)   \n",
       "\n",
       "                                   query_by  \n",
       "0   ai (mistral.mixtral-8x7b-instruct-v0:1)  \n",
       "1   ai (mistral.mixtral-8x7b-instruct-v0:1)  \n",
       "2   ai (mistral.mixtral-8x7b-instruct-v0:1)  \n",
       "3   ai (mistral.mixtral-8x7b-instruct-v0:1)  \n",
       "4   ai (mistral.mixtral-8x7b-instruct-v0:1)  \n",
       "6   ai (mistral.mixtral-8x7b-instruct-v0:1)  \n",
       "10  ai (mistral.mixtral-8x7b-instruct-v0:1)  \n",
       "12  ai (mistral.mixtral-8x7b-instruct-v0:1)  \n",
       "13  ai (mistral.mixtral-8x7b-instruct-v0:1)  \n",
       "14  ai (mistral.mixtral-8x7b-instruct-v0:1)  \n",
       "15  ai (mistral.mixtral-8x7b-instruct-v0:1)  \n",
       "17  ai (mistral.mixtral-8x7b-instruct-v0:1)  \n",
       "18  ai (mistral.mixtral-8x7b-instruct-v0:1)  \n",
       "19  ai (mistral.mixtral-8x7b-instruct-v0:1)  \n",
       "24  ai (mistral.mixtral-8x7b-instruct-v0:1)  "
      ]
     },
     "execution_count": 83,
     "metadata": {},
     "output_type": "execute_result"
    }
   ],
   "source": [
    "eval_questions_df"
   ]
  },
  {
   "cell_type": "code",
   "execution_count": 84,
   "id": "20408719-7b13-453c-a708-ab5995a34858",
   "metadata": {
    "tags": []
   },
   "outputs": [
    {
     "data": {
      "text/html": [
       "<div>\n",
       "<style scoped>\n",
       "    .dataframe tbody tr th:only-of-type {\n",
       "        vertical-align: middle;\n",
       "    }\n",
       "\n",
       "    .dataframe tbody tr th {\n",
       "        vertical-align: top;\n",
       "    }\n",
       "\n",
       "    .dataframe thead th {\n",
       "        text-align: right;\n",
       "    }\n",
       "</style>\n",
       "<table border=\"1\" class=\"dataframe\">\n",
       "  <thead>\n",
       "    <tr style=\"text-align: right;\">\n",
       "      <th></th>\n",
       "      <th>query</th>\n",
       "      <th>reference_contexts</th>\n",
       "      <th>reference_answer</th>\n",
       "      <th>reference_answer_by</th>\n",
       "      <th>query_by</th>\n",
       "    </tr>\n",
       "  </thead>\n",
       "  <tbody>\n",
       "    <tr>\n",
       "      <th>0</th>\n",
       "      <td>Question: According to the \"buhurt_armor_requirement.pdf\" document, what is the minimum thickness requirement for the lower leg protection armor, as specified on page 1?</td>\n",
       "      <td>[]</td>\n",
       "      <td>To provide an accurate answer, I would need access to the specific contents of the \"buhurt\\_armor\\_requirement.pdf\" document located at /home/ec2-user/SageMaker/elvtr-ai-solution-architect/class-14/source\\_docs/. However, based on the provided context, I can tell you that the minimum thickness requirement for the lower leg protection armor is specified on page 1 of the document. To get the exact thickness requirement, please refer to the contents of the document itself.</td>\n",
       "      <td>ai (mistral.mixtral-8x7b-instruct-v0:1)</td>\n",
       "      <td>ai (mistral.mixtral-8x7b-instruct-v0:1)</td>\n",
       "    </tr>\n",
       "    <tr>\n",
       "      <th>1</th>\n",
       "      <td>Question: Based on the \"Technical Requirements for Armor\" document, explain the historical consistency requirements for armor, including the considerations for equipment from historical sources, dates of sources, prohibited features, and consistency in equipment with regards to Western European style, Slavic influence, Eastern influence, and authorized deviations.</td>\n",
       "      <td>[Technical RequirementsforArmor\\nTableofContents\\nTechnicalRequirementsforArmor 11.IntroductionandDefinitions 21.1.Equipment 21.2.List 21.3.Categories 21.4.Historicalsources 22.HistoricalConsistencyRequirements 32.1.Equipmentfromhistoricalsources 32.2.Datesofsources 32.3.Prohibitedfeatures 32.4.ConsistencyinEquipment 32.4.1.WesternEuropestyle 32.4.2.SlavicInfluence 32.4.3.Easterninfluence 32.4.4.Authorizeddeviations 43.GeneralRequirements 53.1.Competitorresponsibility 53.2.Qualityequipment 53.3.Safeequipment 53.4.Accesstothelist 54.Helmetsrequirements 64.1.Protection 64.2.Thicknessandcomposition 74.3.Coif 74.4.Chinstrap 74.5.Neckprotection 75.Armorrequirements 85.1.Metalthicknessrecommendations 85.2.Chest 85.3.Groin 85.4.Hands 85.5.Arms 85.6.Joints 95.7.Legs 95.8.Feet 95.9.Shoes 96.Changelog 10\\nTechnicalRequirementsforarmors,weaponsandshields 1]</td>\n",
       "      <td>The \"Technical Requirements for Armor\" document outlines the historical consistency requirements for armor under section 2.2. These requirements ensure that the armor used in competitions is consistent with historical sources and practices.\\n\\nFirstly, the equipment must come from historical sources. This means that the design, construction, and materials of the armor should be based on existing examples from historical records, artifacts, or reputable reconstructions.\\n\\nSecondly, the dates of the sources must be considered. The armor should be consistent with the time period it represents, and should not mix elements from different epochs. This helps maintain the authenticity and immersion of the historical reenactment or competition.\\n\\nThirdly, there are prohibited features. These are elements of armor that were not used in the specified historical period or culture, or that are considered anachronistic. For example, the use of rivets in certain periods or regions where they were not historically employed would be a prohibited feature.\\n\\nFourthly, consistency in equipment is emphasized. This includes consistency in equipment with regards to Western European style, Slavic influence, Eastern influence, and authorized deviations. \\n\\n- Western European style: The armor should reflect the typical design, construction, and materials used in Western Europe during the specified historical period. This includes considerations for the type of armor, the materials used, and the methods of construction.\\n\\n- Slavic influence: The armor should reflect the influence of Slavic cultures, if applicable. This could include specific design elements, materials, or construction techniques that are characteristic of Slavic armor.\\n\\n- Eastern influence: The armor should reflect the influence of Eastern cultures, if applicable. This could include specific design elements, materials, or construction techniques that are characteristic of Eastern armor.\\n\\n- Authorized deviations: There may be certain deviations from historical practices that are allowed, provided they do not violate the other historical consistency requirements. These deviations should be authorized and documented, and should not detract from the historical authenticity of the armor.</td>\n",
       "      <td>ai (mistral.mixtral-8x7b-instruct-v0:1)</td>\n",
       "      <td>ai (mistral.mixtral-8x7b-instruct-v0:1)</td>\n",
       "    </tr>\n",
       "    <tr>\n",
       "      <th>2</th>\n",
       "      <td>\"Can you explain the role and responsibility of Authenticity Officers as mentioned in the introduction of the document related to buhurt armor requirements?\"</td>\n",
       "      <td>[1. IntroductionandDefinitions\\nThisdocument will displayall requirementsforarmors, shields, andweaponsusedinanycategory. Everycompetitorissolelyresponsibleforthequalityof his/herequipment. MarshalsandAuthenticityOfficersareresponsibleforthecorrect applicationof thisdocument.\\n1.1.Equipment● Armors, clothes, shieldsandweaponsusedbyacompetitor.\\n1.2.List● Placewherethefightsoccur.\\n1.3.Categories● Duel: 1v1swordandshield, swordandbuckler, longsword, polearm.● Buhurt: Groupfight, 5v5, 12v12, 30v30.● Outrance\\n1.4.Historicalsources● It is theresult of researchtoconcludetheplausibilityof theitemhadexisted. Historicalsources can be primary (artifacts, museum originals…) or secondary (images,paintings, statues, description, writings…). Any historical source must be analyzedthroughcriticismandlogic.\\nTechnicalRequirementsforarmors,weaponsandshields 2]</td>\n",
       "      <td>Based on the introduction of the document related to buhurt armor requirements, Authenticity Officers are responsible for the correct application of the document. Their role is to ensure that all equipment, including armors, clothes, shields, and weapons used by competitors, meet the historical source requirements outlined in the document. Authenticity Officers analyze historical sources, which can be primary (such as artifacts and museum originals) or secondary (such as images, paintings, statues, descriptions, and writings), using criticism and logic to determine the plausibility of an item's existence. They play a crucial role in maintaining the historical accuracy and authenticity of the competition.</td>\n",
       "      <td>ai (mistral.mixtral-8x7b-instruct-v0:1)</td>\n",
       "      <td>ai (mistral.mixtral-8x7b-instruct-v0:1)</td>\n",
       "    </tr>\n",
       "    <tr>\n",
       "      <th>3</th>\n",
       "      <td>\"Explain the prohibited features for armors and give an example of a modern material or manufacturing technique that would be not allowed in historical reenactment events, according to the given document.\"</td>\n",
       "      <td>[2. Historical ConsistencyRequirements\\n2.1.Equipmentfromhistoricalsources● Onlyarmorsderivedfromhistorical sourcesarepermittedforuse.● Armorsmust alignwithAuthenticityRulesdocuments.\\n2.2.Datesofsources● Armorsmust alignwithsourcesdatingbetweenthe14th(1300)and17th(1600)centuries.● For safety considerations, reproductions of armors predating the 13th century areprohibited.\\n2.3.Prohibitedfeatures● Prohibited features encompass evident indications of modern materials or manufacturingtechniques including: neoncolors, obvious nyloncords, plastic ties, visibleweldedseams,heat-induceddiscoloration, modernfootwearandothervisiblemodernequipment.\\n2.4.ConsistencyinEquipmentArmors, shields and weapons must consist of pieces fromthesamestyle. Distinct styles aredefinedinmodern-daytermsas:\\n2.4.1.WesternEuropestyle● 14thcentury:from1300to1380● Transitional:from1380to1420● 15th century: from1420 to 1500. XVth stylearmor must beapprovedby theAuthenticity Committee. We recommended seeking approval before buyingsucharmor.● Western Europe includes the following modern countries: Great Britain,Ireland, France, Portugal, Spain, Germany, Italy, Norway, Denmark, Sweden,Finland, Austria, Switzerland, Belgium, andtheNetherlands2.4.2.SlavicInfluence● Central Europe14th:from1300to1400● Russianlatearmors:from1500to1700● SlavicInfluenceincludesthefollowingmoderncountries:CzechRepublic,Romania, Hungary, Poland, Slovakia, Slovenia, Croatia, Latvia, Estonia,Moldova, Serbia, Ukraine, Russia, andBelarus.2.4.3.Easterninfluence● Chinesestyle: from1300to1600● Japanesesamurai style: from1400to1700● Middle-East style: from1300to1700● Easterninfluenceincludes thefollowingmoderncountries: China, Japan, India,Korea, Iran, Iraq, Turkey, Egypt\\nTechnicalRequirementsforarmors,weaponsandshields 3]</td>\n",
       "      <td>According to the given document, prohibited features for armors include any evident indications of modern materials or manufacturing techniques. Specifically, the use of neon colors, obvious nylon cords, plastic ties, visible welded seams, heat-induced discoloration, modern footwear, and other visible modern equipment are not permitted. \\n\\nAn example of a modern material or manufacturing technique that would not be allowed in historical reenactment events, according to the given document, is the use of heat-induced discoloration. This technique is often used in modern manufacturing processes to create a specific color or finish on a material, but it is not consistent with the historical methods of creating armor. Therefore, any armor with heat-induced discoloration would be considered a prohibited feature and not allowed in historical reenactment events.</td>\n",
       "      <td>ai (mistral.mixtral-8x7b-instruct-v0:1)</td>\n",
       "      <td>ai (mistral.mixtral-8x7b-instruct-v0:1)</td>\n",
       "    </tr>\n",
       "    <tr>\n",
       "      <th>4</th>\n",
       "      <td>\"What is the process for competitors to deviate from the specified styles of armor, weapons, and shields, and who do they need to notify in order to obtain validation of their equipment choices?\"</td>\n",
       "      <td>[2.4.4.Authorizeddeviations● Competitors may deviate from these specified styles if they provide sourcessupportingtheirequipment choices.● Competitors who deviate from these specified styles must send an email toAC@buhurtinternational.comtoobtainvalidationof theirarmor.\\nTechnicalRequirementsforarmors,weaponsandshields 4]</td>\n",
       "      <td>Competitors can deviate from the specified styles of armor, weapons, and shields by providing sources that support their equipment choices. Once they have done this, they must send an email to AC@buhurtinternational.com to obtain validation of their armor. This information is based on the provided context, and no prior knowledge was used in formulating the answer.</td>\n",
       "      <td>ai (mistral.mixtral-8x7b-instruct-v0:1)</td>\n",
       "      <td>ai (mistral.mixtral-8x7b-instruct-v0:1)</td>\n",
       "    </tr>\n",
       "    <tr>\n",
       "      <th>6</th>\n",
       "      <td>Question: According to the \"BuHurt Armor Requirement\" document, what are the specific protection requirements for a helmet, and what should be the characteristics of locking systems if they are visible?</td>\n",
       "      <td>[4. Helmetsrequirements\\n4.1.Protection● Ahelmet istheheadprotection. It must protect theentireheadandneckfromall sides.Ahelmetiscomposedbythefollowingparts\\n● A helmet must protect the whole head. Open-face helmets are not allowed in anycategory.● Helmet must conformtotheAuthenticityRulesdocuments.● If thehelmet includesaremovableorpivotingvisor, it shouldbesecuredtoprevent anyopeningduringafight.● Locking systems, if visible, must be based on historical sources and use authenticmaterials(leather, rope, etc.).● ApprovedlockingsystemsaredisplayedinAuthenticityRulesdocuments.\\nTechnicalRequirementsforarmors,weaponsandshields 6]</td>\n",
       "      <td>According to the \"BuHurt Armor Requirement\" document, the specific protection requirements for a helmet include protecting the entire head and neck from all sides. Open-face helmets are not allowed in any category. Additionally, the helmet must conform to the Authenticity Rules documents. If the helmet includes a removable or pivoting visor, it should be secured to prevent any opening during a fight.\\n\\nRegarding locking systems, if they are visible, they must be based on historical sources and use authentic materials such as leather or rope. Approved locking systems are displayed in the Authenticity Rules documents.</td>\n",
       "      <td>ai (mistral.mixtral-8x7b-instruct-v0:1)</td>\n",
       "      <td>ai (mistral.mixtral-8x7b-instruct-v0:1)</td>\n",
       "    </tr>\n",
       "    <tr>\n",
       "      <th>10</th>\n",
       "      <td>Question: Based on the provided document changelog, what is the most recent update as of December 2024 regarding the technical requirements for armors, weapons, and shields?</td>\n",
       "      <td>[6. Changelog\\nThiswill bethechangelogof thisdocument. It will beupdatedregularlyandwewilldisplaywhat hasbeenremoved/added/reworded/formatted. Thiswaywekeeptransparent communicationandclarityabout therules\\nDateupdate:December2024-add: Document created\\nTechnicalRequirementsforarmors,weaponsandshields 10]</td>\n",
       "      <td>Based on the provided document changelog, the most recent update as of December 2024 regarding the technical requirements for armors, weapons, and shields is the creation of the document.</td>\n",
       "      <td>ai (mistral.mixtral-8x7b-instruct-v0:1)</td>\n",
       "      <td>ai (mistral.mixtral-8x7b-instruct-v0:1)</td>\n",
       "    </tr>\n",
       "    <tr>\n",
       "      <th>12</th>\n",
       "      <td>Question: Based on the \"Historical Consistency Requirements\" section of the document, explain what is meant by \"Prohibited features\" and provide an example of such a feature as it relates to weapon equipment.</td>\n",
       "      <td>[Technical RequirementsforWeaponsTableofContents1. IntroductionandDefinitions............................................................................................................................11.1. Equipment...........................................................................................................................................21.2. List.......................................................................................................................................................21.3. Categories...........................................................................................................................................21.4. StrikingEdge/ Non-strikingEdge(of theWeapon).............................................................................21.5. Historical sources................................................................................................................................22. Historical ConsistencyRequirements............................................................................................................32.1. Equipment fromhistorical sources......................................................................................................32.2. Datesof sources.................................................................................................................................32.3. Prohibitedfeatures..............................................................................................................................32.4. ConsistencyinEquipment...................................................................................................................32.4.1. WesternEuropestyle.......................................................................................................................32.4.2. SlavicInfluence................................................................................................................................32.4.3. Easterninfluence............................................................................................................................. 32.4.4. Authorizeddeviations.......................................................................................................................43. General Requirements......................................................................................................................................53.1. Competitorresponsibility.....................................................................................................................53.2. Qualityequipment...............................................................................................................................53.3. Accesstothelist.................................................................................................................................54. Weaponsrequirements.....................................................................................................................................64.1. Typesof weapons...............................................................................................................................64.1.1. Bladedweapons...............................................................................................................................64.1.2. Haftedweapons...............................................................................................................................65. General requirements.......................................................................................................................................75.1. Safetyrequirements............................................................................................................................75.2. Authenticityrequirements....................................................................................................................75.3. Specificrequirementsforbladedweapons.........................................................................................75.4. Specificrequirementsforhaftedweapons..........................................................................................85.4.1. Components.....................................................................................................................................85.4.2. Haft Requirements...........................................................................................................................96. Outranceweapons..........................................................................................................................................106.1. Point of balance................................................................................................................................ 107. DuelsWeapons................................................................................................................................................117.1. Type1Bladed....................................................................................................................................117.2. type2bladed.....................................................................................................................................118. Buhurt/GroupWeapons..................................................................................................................................128.1. Type2&amp;3Bladed..............................................................................................................128.2. Type1&amp;2Hafted.............................................................................................................. 129. Changelog.......................................................................................................................................................13]</td>\n",
       "      <td>Based on the \"Historical Consistency Requirements\" section of the document, \"Prohibited features\" refer to elements in weapon equipment that do not align with historical sources or are not consistent with the time period or region being represented. An example of a prohibited feature could be the presence of synthetic materials in a weapon that is supposed to be made entirely of historical materials, such as wood, iron, or steel. Another example could be the use of modern mechanical components in a weapon that would not have been present in the historical equivalent. These prohibited features are not in line with the historical authenticity requirements set forth in the document.</td>\n",
       "      <td>ai (mistral.mixtral-8x7b-instruct-v0:1)</td>\n",
       "      <td>ai (mistral.mixtral-8x7b-instruct-v0:1)</td>\n",
       "    </tr>\n",
       "    <tr>\n",
       "      <th>13</th>\n",
       "      <td>Question: Based on the document, what is the role of Authenticity Officers in buhurt competitions? Authenticity Officers are responsible for the correct application of the document in buhurt competitions, which includes group fights in various formats such as 5v5, 12v12, and 30v30. Additionally, they are responsible for ensuring that all equipment, including armors, clothes, shields, and weapons, meet the requirements set forth in the document.</td>\n",
       "      <td>[IntroductionandDefinitions\\nThisdocument will displayall requirementsforarmors, shields, andweaponsusedinanycategory.Everycompetitorissolelyresponsibleforthequalityof his/herequipment. MarshalsandAuthenticityOfficersareresponsibleforthecorrect applicationof thisdocument.\\n1.1.Equipment● Armors, clothes, shieldsandweaponsusedbyacompetitor.\\n1.2.List● Placewherethefightsoccur.\\n1.3.Categories● Duel: 1v1swordandshield, swordandbuckler, longsword, polearm.\\n● Buhurt: Groupfight, 5v5, 12v12, 30v30.\\n● Outrance\\n1.4.StrikingEdge/ Non-strikingEdge(oftheWeapon)● StrikingEdgeisapart of theweapondesignedtohit anopponent.\\n● Non-strikingedgeisapart of theweaponnot designedtohit anopponent.\\nHerearesomeexampleswiththestrikingedgebeingred\\n1.5.Historical sourcesIt istheresult of researchtoconcludetheplausibilityof theitemhadexisted. Historical sourcescanbe primary (artifacts, museumoriginals…) or secondary (images, paintings, statues, description,writings…). Anyhistorical sourcemust beanalyzedthroughcriticismandlogic.]</td>\n",
       "      <td>Authenticity Officers are responsible for ensuring that all equipment used in buhurt competitions, which include group fights in various formats such as 5v5, 12v12, and 30v30, adhere to the requirements set forth in the document. This includes armors, clothes, shields, and weapons. They are also responsible for the correct application of the document in buhurt competitions.</td>\n",
       "      <td>ai (mistral.mixtral-8x7b-instruct-v0:1)</td>\n",
       "      <td>ai (mistral.mixtral-8x7b-instruct-v0:1)</td>\n",
       "    </tr>\n",
       "    <tr>\n",
       "      <th>14</th>\n",
       "      <td>What modern countries are included in the Western Europe style definition for armors, shields, and weapons that must be consistent in equipment style, according to the Authenticity Rules documents?</td>\n",
       "      <td>[2.Historical ConsistencyRequirements\\n2.1.Equipmentfromhistorical sources● Onlyweaponsderivedfromhistorical sourcesarepermittedforuse.\\n● Weaponsmust alignwithAuthenticityRulesdocuments.\\n2.2.Datesofsources● Weapons must align with sources dating between the 14th (1300) and 17th (1600)centuries.\\n● For safety considerations, reproductions of armors predating the 13th century areprohibited, asareweaponsof thesameperiod.\\n2.3.Prohibitedfeatures● Prohibited features encompass evident indications of modern materials or manufacturingtechniques including: neoncolors, obvious nyloncords, plastic ties, visibleweldedseams,heat-induceddiscolorationandothervisiblemodernequipment.\\n2.4.ConsistencyinEquipmentArmors, shields and weapons must consist of pieces from the same style. Distinct styles aredefinedinmodern-daytermsas:\\n2.4.1. WesternEuropestyle● 14thcentury: from1300to1380\\n● Transitional: from1380to1420\\n● 15th century: from1420 to 1500. XVth style armor must be approvedby theAuthenticityCommittee. Werecommendedseekingapproval beforebuyingsucharmor.\\n● Western Europe includes the following modern countries: Great Britain, Ireland, France,Portugal, Spain, Germany, Italy, Norway, Denmark, Sweden, Finland, Austria, Switzerland,Belgium, andtheNetherlands\\n2.4.2. SlavicInfluence● Central Europe14th: from1300to1400\\n● Russianlatearmors: from1500to1700\\n● Slavic Influence includes the following modern countries: Czech Republic, Romania,Hungary, Poland, Slovakia, Slovenia, Croatia, Latvia, Estonia, Moldova, Serbia, Ukraine,Russia, andBelarus.]</td>\n",
       "      <td>The Western Europe style definition for armors, shields, and weapons that must be consistent in equipment style, according to the Authenticity Rules documents, includes the following modern countries: Great Britain, Ireland, France, Portugal, Spain, Germany, Italy, Norway, Denmark, Sweden, Finland, Austria, Switzerland, Belgium, and the Netherlands.</td>\n",
       "      <td>ai (mistral.mixtral-8x7b-instruct-v0:1)</td>\n",
       "      <td>ai (mistral.mixtral-8x7b-instruct-v0:1)</td>\n",
       "    </tr>\n",
       "    <tr>\n",
       "      <th>15</th>\n",
       "      <td>\"Describe the authorized deviations for competitors in the Buhurt weapon requirement, according to the given document, and explain the process for obtaining validation of their armor.\"</td>\n",
       "      <td>[2.4.3. Easterninfluence● Chinesestyle: from1300to1600\\n● Japanesesamurai style: from1400to1700\\n● Middle-East style: from1300to1700\\n● Easterninfluenceincludesthefollowingmoderncountries: China, Japan, India, Korea, Iran,Iraq, Turkey, Egypt\\n2.4.4. Authorizeddeviations● Competitorsmaydeviatefromthesespecifiedstylesif theyprovidesourcessupportingtheirequipment choices.\\n● Competitors who deviate from these specified styles must send an email toAC@buhurtinternational.comtoobtainvalidationof theirarmor.]</td>\n",
       "      <td>According to the given document, competitors in the Buhurt weapon requirement are allowed to deviate from the specified styles, which include Chinese, Japanese samurai, and Middle-Eastern styles from the years 1300 to 1700. However, if a competitor chooses to deviate from these styles, they must provide sources to support their equipment choices.\\n\\nTo obtain validation of their armor, competitors who deviate from the specified styles must send an email to AC@buhurtinternational.com. The document does not provide further details on the validation process, such as what information or evidence needs to be included in the email or how long the validation process takes. Therefore, it is recommended to contact Buhurt International directly for more information on their armor validation process.</td>\n",
       "      <td>ai (mistral.mixtral-8x7b-instruct-v0:1)</td>\n",
       "      <td>ai (mistral.mixtral-8x7b-instruct-v0:1)</td>\n",
       "    </tr>\n",
       "    <tr>\n",
       "      <th>17</th>\n",
       "      <td>What are the two main types of weapons, and provide an example of a weapon from each type?</td>\n",
       "      <td>[4. Weaponsrequirements\\n4.1.TypesofweaponsThereare2typesof weapons\\n4.1.1. BladedweaponsWeaponwithalongmetal bladeandahilt withahandguard.Examplesof bladedweapons:● Swords● Falchions● Longswords\\n4.1.2. HaftedweaponsWeaponwhichthemainfightingpart of theweaponisfittedtotheendof alongshaftExamplesof haftedweapons● Axe● Polearm● Glaive● Maces\\n4.2.Subgenresofweapons\\n4.2.1. Duels● DuelsSword● DuelsLongsword● DuelsPolearm\\n4.2.2. Group(3v3,5v5etc…)● Type1bladed● Type2bladed● Type3bladed● Type1hafted(mace)● Type2hafted(axe)● Type3hafted● Type4hafted]</td>\n",
       "      <td>The two main types of weapons are bladed weapons and hafted weapons. An example of a bladed weapon is a sword, and an example of a hafted weapon is an axe.</td>\n",
       "      <td>ai (mistral.mixtral-8x7b-instruct-v0:1)</td>\n",
       "      <td>ai (mistral.mixtral-8x7b-instruct-v0:1)</td>\n",
       "    </tr>\n",
       "    <tr>\n",
       "      <th>18</th>\n",
       "      <td>\"What is the maximum allowable extension of the guard for bladed weapons in relation to the bearer's gauntlet, as stated in the given context?\"</td>\n",
       "      <td>[5. General requirements\\n5.1.Safetyrequirements● All weaponsmust beabletoendurefull contact fights.● All edgesof all weaponsmust berebatedincompliancewiththisdocument.● Theedgeof bothstrikingandnon-strikingedgesmust berebatedandhaveathicknessof 2mmormore.● TheRadiusof strikingandnon-strikingedgesmust bemorethan10mm.● Weaponsconstructedsolelyforstabbingareprohibited(spearsforexample)● Weight permissibleupwarderrorforweaponsis100grams● Anyheavierweapon, includingpermissibleupwarderror, isprohibited.● It is allowed to use leather thread to secure the weapon in hand. Such leather thread mustconformtotheAuthenticitydocument “TextilesandLeather”.● Every weapon to be used at a tournament must be first approved for safety by therepresentativesof theMarshalsduringweaponscheck.\\n5.2.Authenticityrequirements● All weapons must bebasedonhistorical sourcesandrepeat theformof theoriginal inall threedimensions.● All weaponsmust matchthestyleof thearmorkit of thecompetitor.● All decorationonweapons must bestylizedinaccordancewiththestyleof thearmor kit of thecompetitor.● It isprohibitedtodecorateweaponswithimagesthat areclearlymodernand/oroffensive.● All decorations must conform to the Authenticity document “Armors and weapons aestheticsanddecorations”.● Weaponsmust conformtoAuthenticityRulesdocuments\\n5.3.SpecificrequirementsforbladedweaponsThe bladed weapon must be made of the followingelements.● Blade: it isthemainstrikingedgeof theweapon● Hilt: it iscomposedby:● Pommel: it isastrikingedge● Handle: only place where you're allowedtoholdtheweapon● Guard: it isastrikingedge● When holdingthebladedweaponfirmly, theguardisnot allowed to extend the gauntlet of the bearer formorethan3.5cm.]</td>\n",
       "      <td>The maximum allowable extension of the guard for bladed weapons in relation to the bearer's gauntlet, as stated in the given context, is 3.5 centimeters.</td>\n",
       "      <td>ai (mistral.mixtral-8x7b-instruct-v0:1)</td>\n",
       "      <td>ai (mistral.mixtral-8x7b-instruct-v0:1)</td>\n",
       "    </tr>\n",
       "    <tr>\n",
       "      <th>19</th>\n",
       "      <td>What is the minimum number of methods required to secure the head of a hafted weapon to the haft, and what are the allowed methods according to the specific requirements for hafted weapons?</td>\n",
       "      <td>[5.4.Specificrequirementsforhaftedweapons\\n5.4.1. ComponentsHaftedweaponmust bemadeof thefollowingparts.● Head: it iscomposedby:○ Blade: it isthemainstrikingedgeof theweapon○ Backof thehead: it isastrikingedgebut hittinganopponent withthispart isprohibited● Haft: themainhandle● Bottom: thelowerpart of thehaft. It isastrikingedge.Note: amacedoesnothaveabackofthehead.Eachbladeofaflangedmaceisconsideredasastrikingedge.\\n● The headof any haftedweaponmust besecuredtothehaft by at least 2differentmethods. Allowedmethodsare:○ Wedges○ Straps○ Glue○ Rivetsornails○ Langets● Weapons with sharp corners (Less than 90 degrees) and corners that can beconsidereddangerousareprohibited.● Any point on the Striking Edge of the weapon must have an angle more than90degrees.● A hafted weapon may have a rebated hook or hammerhead on the non-strikingpart. Anystrikeswiththeseelementsarestrictlyprohibited.● Anyrebatedhookorhammerheadmust not present anysharporpointededge.]</td>\n",
       "      <td>According to the specific requirements for hafted weapons, the head of a hafted weapon must be secured to the haft by at least 2 different methods. The allowed methods are: wedges, straps, glue, rivets or nails, and langets.</td>\n",
       "      <td>ai (mistral.mixtral-8x7b-instruct-v0:1)</td>\n",
       "      <td>ai (mistral.mixtral-8x7b-instruct-v0:1)</td>\n",
       "    </tr>\n",
       "    <tr>\n",
       "      <th>24</th>\n",
       "      <td>\"Based on the changelog provided, what is the new weight limit for all weapons in the updated version of the document as of December 2024?\"</td>\n",
       "      <td>[9. ChangelogThiswill bethechangelogof thisdocument. It will beupdatedregularlyandwewilldisplaywhat hasbeenremoved/added/reworded/formatted. Thiswaywekeeptransparent communicationandclarityabout therules\\n(Versionupdatefrom2024.03to2024.12.13)Updatedate:December-2024-changed: Upwardsweight errorfrom100,200,300hasbeenlimitedto100gramsforall weaponsAdded:Thesubgenresof weapons,Duels,DuelsSword,DuelsLongsword,DuelsPolearm,Group: Type1bladed, Type2bladed, Type3bladed, Type1hafted(axe), Type1hafted(mace), Type2hafted, Type3hafte,Removed: (Hasbeenmovedtodocument: (Weapon/Shieldrequirementsexcel)4.4.1SpecificrequirementsRemoved(Hasbeenmovedtodocument: (Weapon/Shieldrequirementsexcel)4.4.2Weightsandmeasurements\\nUpdatedate:March-2024-format: newdesignformat, document will beusedfromnowon.-Updatedocument basedonmydocument (16/05/2024)-Updatedocument (format)]</td>\n",
       "      <td>Based on the changelog provided, the new weight limit for all weapons in the updated version of the document as of December 2024 is 100 grams.</td>\n",
       "      <td>ai (mistral.mixtral-8x7b-instruct-v0:1)</td>\n",
       "      <td>ai (mistral.mixtral-8x7b-instruct-v0:1)</td>\n",
       "    </tr>\n",
       "  </tbody>\n",
       "</table>\n",
       "</div>"
      ],
      "text/plain": [
       "                                                                                                                                                                                                                                                                                                                                                                                                                                                               query  \\\n",
       "0                                                                                                                                                                                                                                                                                          Question: According to the \"buhurt_armor_requirement.pdf\" document, what is the minimum thickness requirement for the lower leg protection armor, as specified on page 1?   \n",
       "1                                                                                     Question: Based on the \"Technical Requirements for Armor\" document, explain the historical consistency requirements for armor, including the considerations for equipment from historical sources, dates of sources, prohibited features, and consistency in equipment with regards to Western European style, Slavic influence, Eastern influence, and authorized deviations.   \n",
       "2                                                                                                                                                                                                                                                                                                      \"Can you explain the role and responsibility of Authenticity Officers as mentioned in the introduction of the document related to buhurt armor requirements?\"   \n",
       "3                                                                                                                                                                                                                                                      \"Explain the prohibited features for armors and give an example of a modern material or manufacturing technique that would be not allowed in historical reenactment events, according to the given document.\"   \n",
       "4                                                                                                                                                                                                                                                                \"What is the process for competitors to deviate from the specified styles of armor, weapons, and shields, and who do they need to notify in order to obtain validation of their equipment choices?\"   \n",
       "6                                                                                                                                                                                                                                                         Question: According to the \"BuHurt Armor Requirement\" document, what are the specific protection requirements for a helmet, and what should be the characteristics of locking systems if they are visible?   \n",
       "10                                                                                                                                                                                                                                                                                     Question: Based on the provided document changelog, what is the most recent update as of December 2024 regarding the technical requirements for armors, weapons, and shields?   \n",
       "12                                                                                                                                                                                                                                                  Question: Based on the \"Historical Consistency Requirements\" section of the document, explain what is meant by \"Prohibited features\" and provide an example of such a feature as it relates to weapon equipment.   \n",
       "13  Question: Based on the document, what is the role of Authenticity Officers in buhurt competitions? Authenticity Officers are responsible for the correct application of the document in buhurt competitions, which includes group fights in various formats such as 5v5, 12v12, and 30v30. Additionally, they are responsible for ensuring that all equipment, including armors, clothes, shields, and weapons, meet the requirements set forth in the document.   \n",
       "14                                                                                                                                                                                                                                                             What modern countries are included in the Western Europe style definition for armors, shields, and weapons that must be consistent in equipment style, according to the Authenticity Rules documents?   \n",
       "15                                                                                                                                                                                                                                                                          \"Describe the authorized deviations for competitors in the Buhurt weapon requirement, according to the given document, and explain the process for obtaining validation of their armor.\"   \n",
       "17                                                                                                                                                                                                                                                                                                                                                                        What are the two main types of weapons, and provide an example of a weapon from each type?   \n",
       "18                                                                                                                                                                                                                                                                                                                   \"What is the maximum allowable extension of the guard for bladed weapons in relation to the bearer's gauntlet, as stated in the given context?\"   \n",
       "19                                                                                                                                                                                                                                                                     What is the minimum number of methods required to secure the head of a hafted weapon to the haft, and what are the allowed methods according to the specific requirements for hafted weapons?   \n",
       "24                                                                                                                                                                                                                                                                                                                       \"Based on the changelog provided, what is the new weight limit for all weapons in the updated version of the document as of December 2024?\"   \n",
       "\n",
       "                                                                                                                                                                                                                                                                                                                                                                                                                                                                                                                                                                                                                                                                                                                                                                                                                                                                                                                                                                                                                                                                                                                                                                                                                                                                                                                                                                                                                                                                                                                                                                                                                                                                                                                                                                                                                                                                                                                                                                                                                                                                                                                                                                                                                                                                                                                                                                                                                                                                                                                                                                                                                                                                                                                                                                                                                                                                                                                                                                                                                                                                                                                                                                                                                                                                                                                                                                                                                                                                                                                                                                                                                                                                                                                                                                                                                                                                                                                                                                                                                                                                                                                                                                                                                                                                                                                                                                                                                                                                                                                                                                                                                                                                                                                                                                                                                                                                                                                                                                                                                                                                                                                                                                                                                                                                                                                                                                                                                                                                                                                                                                                                                                                                                                                                                                                                                                                                                                                                                                                                                                                                       reference_contexts  \\\n",
       "0                                                                                                                                                                                                                                                                                                                                                                                                                                                                                                                                                                                                                                                                                                                                                                                                                                                                                                                                                                                                                                                                                                                                                                                                                                                                                                                                                                                                                                                                                                                                                                                                                                                                                                                                                                                                                                                                                                                                                                                                                                                                                                                                                                                                                                                                                                                                                                                                                                                                                                                                                                                                                                                                                                                                                                                                                                                                                                                                                                                                                                                                                                                                                                                                                                                                                                                                                                                                                                                                                                                                                                                                                                                                                                                                                                                                                                                                                                                                                                                                                                                                                                                                                                                                                                                                                                                                                                                                                                                                                                                                                                                                                                                                                                                                                                                                                                                                                                                                                                                                                                                                                                                                                                                                                                                                                                                                                                                                                                                                                                                                                                                                                                                                                                                                                                                                                                                                                                                                                                                                                                                                                      []   \n",
       "1                                                                                                                                                                                                                                                                                                                                                                                                                                                                                                                                                                                                                                                                                                                                                                                                                                                                                                                                                                                                                                                                                                                                                                                                                                                                                                                                                                                                                                                                                                                                                                                                                                                                                                                                                                                                                                                                                                                                                                                                                                                                                                                                                                                                                                                                                                                                                                                                                                                                                                                                                                                                                                                                                                                                                                                                                                                                                                                                                                                                                                                                                                                                                                                                                                                                                                                                                                                                                                                                                                                                                                                                                                                                                                                                                                                                                                                                                                                                                                                                                                                                                                                                                                                                                                                                                                                                                                                                                                                                                                                                                                                                                                                                                                                                                                                                                                                                                                                                                                                                                                                                                                                                                                                              [Technical RequirementsforArmor\\nTableofContents\\nTechnicalRequirementsforArmor 11.IntroductionandDefinitions 21.1.Equipment 21.2.List 21.3.Categories 21.4.Historicalsources 22.HistoricalConsistencyRequirements 32.1.Equipmentfromhistoricalsources 32.2.Datesofsources 32.3.Prohibitedfeatures 32.4.ConsistencyinEquipment 32.4.1.WesternEuropestyle 32.4.2.SlavicInfluence 32.4.3.Easterninfluence 32.4.4.Authorizeddeviations 43.GeneralRequirements 53.1.Competitorresponsibility 53.2.Qualityequipment 53.3.Safeequipment 53.4.Accesstothelist 54.Helmetsrequirements 64.1.Protection 64.2.Thicknessandcomposition 74.3.Coif 74.4.Chinstrap 74.5.Neckprotection 75.Armorrequirements 85.1.Metalthicknessrecommendations 85.2.Chest 85.3.Groin 85.4.Hands 85.5.Arms 85.6.Joints 95.7.Legs 95.8.Feet 95.9.Shoes 96.Changelog 10\\nTechnicalRequirementsforarmors,weaponsandshields 1]   \n",
       "2                                                                                                                                                                                                                                                                                                                                                                                                                                                                                                                                                                                                                                                                                                                                                                                                                                                                                                                                                                                                                                                                                                                                                                                                                                                                                                                                                                                                                                                                                                                                                                                                                                                                                                                                                                                                                                                                                                                                                                                                                                                                                                                                                                                                                                                                                                                                                                                                                                                                                                                                                                                                                                                                                                                                                                                                                                                                                                                                                                                                                                                                                                                                                                                                                                                                                                                                                                                                                                                                                                                                                                                                                                                                                                                                                                                                                                                                                                                                                                                                                                                                                                                                                                                                                                                                                                                                                                                                                                                                                                                                                                                                                                                                                                                                                                                                                                                                                                                                                                                                                                                                                                                                                                                                [1. IntroductionandDefinitions\\nThisdocument will displayall requirementsforarmors, shields, andweaponsusedinanycategory. Everycompetitorissolelyresponsibleforthequalityof his/herequipment. MarshalsandAuthenticityOfficersareresponsibleforthecorrect applicationof thisdocument.\\n1.1.Equipment● Armors, clothes, shieldsandweaponsusedbyacompetitor.\\n1.2.List● Placewherethefightsoccur.\\n1.3.Categories● Duel: 1v1swordandshield, swordandbuckler, longsword, polearm.● Buhurt: Groupfight, 5v5, 12v12, 30v30.● Outrance\\n1.4.Historicalsources● It is theresult of researchtoconcludetheplausibilityof theitemhadexisted. Historicalsources can be primary (artifacts, museum originals…) or secondary (images,paintings, statues, description, writings…). Any historical source must be analyzedthroughcriticismandlogic.\\nTechnicalRequirementsforarmors,weaponsandshields 2]   \n",
       "3                                                                                                                                                                                                                                                                                                                                                                                                                                                                                                                                                                                                                                                                                                                                                                                                                                                                                                                                                                                                                                                                                                                                                                                                                                                                                                                                                                                                                                                                                                                                                                                                                                                                                                                                                                                                                                                                                                                                                                                                                                                                                                                                                                                                                                                                                                                                                                                                                                                                                                                                                                                                                                                                                                                                                                                                                                                                                                                                                                                                                                                                                                                                                                                                                                                                                                                                                                                                                                                                                                                                                                                                                                                                                                                                                                                                                                                                                                                                                                                                                                                                                                                                                                                                                               [2. Historical ConsistencyRequirements\\n2.1.Equipmentfromhistoricalsources● Onlyarmorsderivedfromhistorical sourcesarepermittedforuse.● Armorsmust alignwithAuthenticityRulesdocuments.\\n2.2.Datesofsources● Armorsmust alignwithsourcesdatingbetweenthe14th(1300)and17th(1600)centuries.● For safety considerations, reproductions of armors predating the 13th century areprohibited.\\n2.3.Prohibitedfeatures● Prohibited features encompass evident indications of modern materials or manufacturingtechniques including: neoncolors, obvious nyloncords, plastic ties, visibleweldedseams,heat-induceddiscoloration, modernfootwearandothervisiblemodernequipment.\\n2.4.ConsistencyinEquipmentArmors, shields and weapons must consist of pieces fromthesamestyle. Distinct styles aredefinedinmodern-daytermsas:\\n2.4.1.WesternEuropestyle● 14thcentury:from1300to1380● Transitional:from1380to1420● 15th century: from1420 to 1500. XVth stylearmor must beapprovedby theAuthenticity Committee. We recommended seeking approval before buyingsucharmor.● Western Europe includes the following modern countries: Great Britain,Ireland, France, Portugal, Spain, Germany, Italy, Norway, Denmark, Sweden,Finland, Austria, Switzerland, Belgium, andtheNetherlands2.4.2.SlavicInfluence● Central Europe14th:from1300to1400● Russianlatearmors:from1500to1700● SlavicInfluenceincludesthefollowingmoderncountries:CzechRepublic,Romania, Hungary, Poland, Slovakia, Slovenia, Croatia, Latvia, Estonia,Moldova, Serbia, Ukraine, Russia, andBelarus.2.4.3.Easterninfluence● Chinesestyle: from1300to1600● Japanesesamurai style: from1400to1700● Middle-East style: from1300to1700● Easterninfluenceincludes thefollowingmoderncountries: China, Japan, India,Korea, Iran, Iraq, Turkey, Egypt\\nTechnicalRequirementsforarmors,weaponsandshields 3]   \n",
       "4                                                                                                                                                                                                                                                                                                                                                                                                                                                                                                                                                                                                                                                                                                                                                                                                                                                                                                                                                                                                                                                                                                                                                                                                                                                                                                                                                                                                                                                                                                                                                                                                                                                                                                                                                                                                                                                                                                                                                                                                                                                                                                                                                                                                                                                                                                                                                                                                                                                                                                                                                                                                                                                                                                                                                                                                                                                                                                                                                                                                                                                                                                                                                                                                                                                                                                                                                                                                                                                                                                                                                                                                                                                                                                                                                                                                                                                                                                                                                                                                                                                                                                                                                                                                                                                                                                                                                                                                                                                                                                                                                                                                                                                                                                                                                                                                                                                                                                                                                                                                                                                                                                                                                                                                                                                                                                                                                                                                                                                                                                                                                                                                                                                                                                                                                     [2.4.4.Authorizeddeviations● Competitors may deviate from these specified styles if they provide sourcessupportingtheirequipment choices.● Competitors who deviate from these specified styles must send an email toAC@buhurtinternational.comtoobtainvalidationof theirarmor.\\nTechnicalRequirementsforarmors,weaponsandshields 4]   \n",
       "6                                                                                                                                                                                                                                                                                                                                                                                                                                                                                                                                                                                                                                                                                                                                                                                                                                                                                                                                                                                                                                                                                                                                                                                                                                                                                                                                                                                                                                                                                                                                                                                                                                                                                                                                                                                                                                                                                                                                                                                                                                                                                                                                                                                                                                                                                                                                                                                                                                                                                                                                                                                                                                                                                                                                                                                                                                                                                                                                                                                                                                                                                                                                                                                                                                                                                                                                                                                                                                                                                                                                                                                                                                                                                                                                                                                                                                                                                                                                                                                                                                                                                                                                                                                                                                                                                                                                                                                                                                                                                                                                                                                                                                                                                                                                                                                                                                                                                                                                                                                                                                                                                                                                                                                                                                                                                                                                                                                                                              [4. Helmetsrequirements\\n4.1.Protection● Ahelmet istheheadprotection. It must protect theentireheadandneckfromall sides.Ahelmetiscomposedbythefollowingparts\\n● A helmet must protect the whole head. Open-face helmets are not allowed in anycategory.● Helmet must conformtotheAuthenticityRulesdocuments.● If thehelmet includesaremovableorpivotingvisor, it shouldbesecuredtoprevent anyopeningduringafight.● Locking systems, if visible, must be based on historical sources and use authenticmaterials(leather, rope, etc.).● ApprovedlockingsystemsaredisplayedinAuthenticityRulesdocuments.\\nTechnicalRequirementsforarmors,weaponsandshields 6]   \n",
       "10                                                                                                                                                                                                                                                                                                                                                                                                                                                                                                                                                                                                                                                                                                                                                                                                                                                                                                                                                                                                                                                                                                                                                                                                                                                                                                                                                                                                                                                                                                                                                                                                                                                                                                                                                                                                                                                                                                                                                                                                                                                                                                                                                                                                                                                                                                                                                                                                                                                                                                                                                                                                                                                                                                                                                                                                                                                                                                                                                                                                                                                                                                                                                                                                                                                                                                                                                                                                                                                                                                                                                                                                                                                                                                                                                                                                                                                                                                                                                                                                                                                                                                                                                                                                                                                                                                                                                                                                                                                                                                                                                                                                                                                                                                                                                                                                                                                                                                                                                                                                                                                                                                                                                                                                                                                                                                                                                                                                                                                                                                                                                                                                                                                                                                                                                                     [6. Changelog\\nThiswill bethechangelogof thisdocument. It will beupdatedregularlyandwewilldisplaywhat hasbeenremoved/added/reworded/formatted. Thiswaywekeeptransparent communicationandclarityabout therules\\nDateupdate:December2024-add: Document created\\nTechnicalRequirementsforarmors,weaponsandshields 10]   \n",
       "12  [Technical RequirementsforWeaponsTableofContents1. IntroductionandDefinitions............................................................................................................................11.1. Equipment...........................................................................................................................................21.2. List.......................................................................................................................................................21.3. Categories...........................................................................................................................................21.4. StrikingEdge/ Non-strikingEdge(of theWeapon).............................................................................21.5. Historical sources................................................................................................................................22. Historical ConsistencyRequirements............................................................................................................32.1. Equipment fromhistorical sources......................................................................................................32.2. Datesof sources.................................................................................................................................32.3. Prohibitedfeatures..............................................................................................................................32.4. ConsistencyinEquipment...................................................................................................................32.4.1. WesternEuropestyle.......................................................................................................................32.4.2. SlavicInfluence................................................................................................................................32.4.3. Easterninfluence............................................................................................................................. 32.4.4. Authorizeddeviations.......................................................................................................................43. General Requirements......................................................................................................................................53.1. Competitorresponsibility.....................................................................................................................53.2. Qualityequipment...............................................................................................................................53.3. Accesstothelist.................................................................................................................................54. Weaponsrequirements.....................................................................................................................................64.1. Typesof weapons...............................................................................................................................64.1.1. Bladedweapons...............................................................................................................................64.1.2. Haftedweapons...............................................................................................................................65. General requirements.......................................................................................................................................75.1. Safetyrequirements............................................................................................................................75.2. Authenticityrequirements....................................................................................................................75.3. Specificrequirementsforbladedweapons.........................................................................................75.4. Specificrequirementsforhaftedweapons..........................................................................................85.4.1. Components.....................................................................................................................................85.4.2. Haft Requirements...........................................................................................................................96. Outranceweapons..........................................................................................................................................106.1. Point of balance................................................................................................................................ 107. DuelsWeapons................................................................................................................................................117.1. Type1Bladed....................................................................................................................................117.2. type2bladed.....................................................................................................................................118. Buhurt/GroupWeapons..................................................................................................................................128.1. Type2&3Bladed..............................................................................................................128.2. Type1&2Hafted.............................................................................................................. 129. Changelog.......................................................................................................................................................13]   \n",
       "13                                                                                                                                                                                                                                                                                                                                                                                                                                                                                                                                                                                                                                                                                                                                                                                                                                                                                                                                                                                                                                                                                                                                                                                                                                                                                                                                                                                                                                                                                                                                                                                                                                                                                                                                                                                                                                                                                                                                                                                                                                                                                                                                                                                                                                                                                                                                                                                                                                                                                                                                                                                                                                                                                                                                                                                                                                                                                                                                                                                                                                                                                                                                                                                                                                                                                                                                                                                                                                                                                                                                                                                                                                                                                                                                                                                                                                                                                                                                                                                                                                                                                                                                                                                                                                                                                                                                                                                                                                                                                                                                                                                                                                                                                                                                                                                                                                                                                                                                                                                                                         [IntroductionandDefinitions\\nThisdocument will displayall requirementsforarmors, shields, andweaponsusedinanycategory.Everycompetitorissolelyresponsibleforthequalityof his/herequipment. MarshalsandAuthenticityOfficersareresponsibleforthecorrect applicationof thisdocument.\\n1.1.Equipment● Armors, clothes, shieldsandweaponsusedbyacompetitor.\\n1.2.List● Placewherethefightsoccur.\\n1.3.Categories● Duel: 1v1swordandshield, swordandbuckler, longsword, polearm.\\n● Buhurt: Groupfight, 5v5, 12v12, 30v30.\\n● Outrance\\n1.4.StrikingEdge/ Non-strikingEdge(oftheWeapon)● StrikingEdgeisapart of theweapondesignedtohit anopponent.\\n● Non-strikingedgeisapart of theweaponnot designedtohit anopponent.\\nHerearesomeexampleswiththestrikingedgebeingred\\n1.5.Historical sourcesIt istheresult of researchtoconcludetheplausibilityof theitemhadexisted. Historical sourcescanbe primary (artifacts, museumoriginals…) or secondary (images, paintings, statues, description,writings…). Anyhistorical sourcemust beanalyzedthroughcriticismandlogic.]   \n",
       "14                                                                                                                                                                                                                                                                                                                                                                                                                                                                                                                                                                                                                                                                                                                                                                                                                                                                                                                                                                                                                                                                                                                                                                                                                                                                                                                                                                                                                                                                                                                                                                                                                                                                                                                                                                                                                                                                                                                                                                                                                                                                                                                                                                                                                                                                                                                                                                                                                                                                                                                                                                                                                                                                                                                                                                                                                                                                                                                                                                                                                                                                                                                                                                                                                                                                                                                                                                                                                                                                                                                                                                                                                                                                                                                                                                                                                                                                                                                                                                                                                                                                                                                                                                                                                                                                                                                                                                                                                                                                  [2.Historical ConsistencyRequirements\\n2.1.Equipmentfromhistorical sources● Onlyweaponsderivedfromhistorical sourcesarepermittedforuse.\\n● Weaponsmust alignwithAuthenticityRulesdocuments.\\n2.2.Datesofsources● Weapons must align with sources dating between the 14th (1300) and 17th (1600)centuries.\\n● For safety considerations, reproductions of armors predating the 13th century areprohibited, asareweaponsof thesameperiod.\\n2.3.Prohibitedfeatures● Prohibited features encompass evident indications of modern materials or manufacturingtechniques including: neoncolors, obvious nyloncords, plastic ties, visibleweldedseams,heat-induceddiscolorationandothervisiblemodernequipment.\\n2.4.ConsistencyinEquipmentArmors, shields and weapons must consist of pieces from the same style. Distinct styles aredefinedinmodern-daytermsas:\\n2.4.1. WesternEuropestyle● 14thcentury: from1300to1380\\n● Transitional: from1380to1420\\n● 15th century: from1420 to 1500. XVth style armor must be approvedby theAuthenticityCommittee. Werecommendedseekingapproval beforebuyingsucharmor.\\n● Western Europe includes the following modern countries: Great Britain, Ireland, France,Portugal, Spain, Germany, Italy, Norway, Denmark, Sweden, Finland, Austria, Switzerland,Belgium, andtheNetherlands\\n2.4.2. SlavicInfluence● Central Europe14th: from1300to1400\\n● Russianlatearmors: from1500to1700\\n● Slavic Influence includes the following modern countries: Czech Republic, Romania,Hungary, Poland, Slovakia, Slovenia, Croatia, Latvia, Estonia, Moldova, Serbia, Ukraine,Russia, andBelarus.]   \n",
       "15                                                                                                                                                                                                                                                                                                                                                                                                                                                                                                                                                                                                                                                                                                                                                                                                                                                                                                                                                                                                                                                                                                                                                                                                                                                                                                                                                                                                                                                                                                                                                                                                                                                                                                                                                                                                                                                                                                                                                                                                                                                                                                                                                                                                                                                                                                                                                                                                                                                                                                                                                                                                                                                                                                                                                                                                                                                                                                                                                                                                                                                                                                                                                                                                                                                                                                                                                                                                                                                                                                                                                                                                                                                                                                                                                                                                                                                                                                                                                                                                                                                                                                                                                                                                                                                                                                                                                                                                                                                                                                                                                                                                                                                                                                                                                                                                                                                                                                                                                                                                                                                                                                                                                                                                                                                                                                                                                                                                                                                                                                                                                            [2.4.3. Easterninfluence● Chinesestyle: from1300to1600\\n● Japanesesamurai style: from1400to1700\\n● Middle-East style: from1300to1700\\n● Easterninfluenceincludesthefollowingmoderncountries: China, Japan, India, Korea, Iran,Iraq, Turkey, Egypt\\n2.4.4. Authorizeddeviations● Competitorsmaydeviatefromthesespecifiedstylesif theyprovidesourcessupportingtheirequipment choices.\\n● Competitors who deviate from these specified styles must send an email toAC@buhurtinternational.comtoobtainvalidationof theirarmor.]   \n",
       "17                                                                                                                                                                                                                                                                                                                                                                                                                                                                                                                                                                                                                                                                                                                                                                                                                                                                                                                                                                                                                                                                                                                                                                                                                                                                                                                                                                                                                                                                                                                                                                                                                                                                                                                                                                                                                                                                                                                                                                                                                                                                                                                                                                                                                                                                                                                                                                                                                                                                                                                                                                                                                                                                                                                                                                                                                                                                                                                                                                                                                                                                                                                                                                                                                                                                                                                                                                                                                                                                                                                                                                                                                                                                                                                                                                                                                                                                                                                                                                                                                                                                                                                                                                                                                                                                                                                                                                                                                                                                                                                                                                                                                                                                                                                                                                                                                                                                                                                                                                                                                                                                                                                                                                                                                                                                                                                                                                                                                                                                                                               [4. Weaponsrequirements\\n4.1.TypesofweaponsThereare2typesof weapons\\n4.1.1. BladedweaponsWeaponwithalongmetal bladeandahilt withahandguard.Examplesof bladedweapons:● Swords● Falchions● Longswords\\n4.1.2. HaftedweaponsWeaponwhichthemainfightingpart of theweaponisfittedtotheendof alongshaftExamplesof haftedweapons● Axe● Polearm● Glaive● Maces\\n4.2.Subgenresofweapons\\n4.2.1. Duels● DuelsSword● DuelsLongsword● DuelsPolearm\\n4.2.2. Group(3v3,5v5etc…)● Type1bladed● Type2bladed● Type3bladed● Type1hafted(mace)● Type2hafted(axe)● Type3hafted● Type4hafted]   \n",
       "18                                                                                                                                                                                                                                                                                                                                                                                                                                                                                                                                                                                                                                                                                                                                                                                                                                                                                                                                                                                                                                                                                                                                                                                                                                                                                                                                                                                                                                                                                                                                                                                                                                                                                                                                                                                                                                                                                                                                                                                                                                                                                                                                                                                                                                                                                                                                                                                                                                                                                                                                                                                                                                                                                                                                                                                                                                                                                                                                                                                                                                                                                                                                                                                                                                                                                                                                                                                                                                                                                                                                                                                                                                                                                                                                                                                                                                                                                                                                                                                                                                                                                                                                                                                                                                                                                                                     [5. General requirements\\n5.1.Safetyrequirements● All weaponsmust beabletoendurefull contact fights.● All edgesof all weaponsmust berebatedincompliancewiththisdocument.● Theedgeof bothstrikingandnon-strikingedgesmust berebatedandhaveathicknessof 2mmormore.● TheRadiusof strikingandnon-strikingedgesmust bemorethan10mm.● Weaponsconstructedsolelyforstabbingareprohibited(spearsforexample)● Weight permissibleupwarderrorforweaponsis100grams● Anyheavierweapon, includingpermissibleupwarderror, isprohibited.● It is allowed to use leather thread to secure the weapon in hand. Such leather thread mustconformtotheAuthenticitydocument “TextilesandLeather”.● Every weapon to be used at a tournament must be first approved for safety by therepresentativesof theMarshalsduringweaponscheck.\\n5.2.Authenticityrequirements● All weapons must bebasedonhistorical sourcesandrepeat theformof theoriginal inall threedimensions.● All weaponsmust matchthestyleof thearmorkit of thecompetitor.● All decorationonweapons must bestylizedinaccordancewiththestyleof thearmor kit of thecompetitor.● It isprohibitedtodecorateweaponswithimagesthat areclearlymodernand/oroffensive.● All decorations must conform to the Authenticity document “Armors and weapons aestheticsanddecorations”.● Weaponsmust conformtoAuthenticityRulesdocuments\\n5.3.SpecificrequirementsforbladedweaponsThe bladed weapon must be made of the followingelements.● Blade: it isthemainstrikingedgeof theweapon● Hilt: it iscomposedby:● Pommel: it isastrikingedge● Handle: only place where you're allowedtoholdtheweapon● Guard: it isastrikingedge● When holdingthebladedweaponfirmly, theguardisnot allowed to extend the gauntlet of the bearer formorethan3.5cm.]   \n",
       "19                                                                                                                                                                                                                                                                                                                                                                                                                                                                                                                                                                                                                                                                                                                                                                                                                                                                                                                                                                                                                                                                                                                                                                                                                                                                                                                                                                                                                                                                                                                                                                                                                                                                                                                                                                                                                                                                                                                                                                                                                                                                                                                                                                                                                                                                                                                                                                                                                                                                                                                                                                                                                                                                                                                                                                                                                                                                                                                                                                                                                                                                                                                                                                                                                                                                                                                                                                                                                                                                                                                                                                                                                                                                                                                                                                                                                                                                                                                                                                                                                                                                                                                                                                                                                                                                                                                                                                                                                                                                                                                                                                                                                                                                                                                                                                                                                                                                                                                                                                                                                                                                                       [5.4.Specificrequirementsforhaftedweapons\\n5.4.1. ComponentsHaftedweaponmust bemadeof thefollowingparts.● Head: it iscomposedby:○ Blade: it isthemainstrikingedgeof theweapon○ Backof thehead: it isastrikingedgebut hittinganopponent withthispart isprohibited● Haft: themainhandle● Bottom: thelowerpart of thehaft. It isastrikingedge.Note: amacedoesnothaveabackofthehead.Eachbladeofaflangedmaceisconsideredasastrikingedge.\\n● The headof any haftedweaponmust besecuredtothehaft by at least 2differentmethods. Allowedmethodsare:○ Wedges○ Straps○ Glue○ Rivetsornails○ Langets● Weapons with sharp corners (Less than 90 degrees) and corners that can beconsidereddangerousareprohibited.● Any point on the Striking Edge of the weapon must have an angle more than90degrees.● A hafted weapon may have a rebated hook or hammerhead on the non-strikingpart. Anystrikeswiththeseelementsarestrictlyprohibited.● Anyrebatedhookorhammerheadmust not present anysharporpointededge.]   \n",
       "24                                                                                                                                                                                                                                                                                                                                                                                                                                                                                                                                                                                                                                                                                                                                                                                                                                                                                                                                                                                                                                                                                                                                                                                                                                                                                                                                                                                                                                                                                                                                                                                                                                                                                                                                                                                                                                                                                                                                                                                                                                                                                                                                                                                                                                                                                                                                                                                                                                                                                                                                                                                                                                                                                                                                                                                                                                                                                                                                                                                                                                                                                                                                                                                                                                                                                                                                                                                                                                                                                                                                                                                                                                                                                                                                                                                                                                                                                                                                                                                                                                                                                                                                                                                                                                                                                                                                                                                                                                                                                                                                                                                                                                                                                                                                                                                                                                                                                                                                                                                                                                                                                                                                                                                         [9. ChangelogThiswill bethechangelogof thisdocument. It will beupdatedregularlyandwewilldisplaywhat hasbeenremoved/added/reworded/formatted. Thiswaywekeeptransparent communicationandclarityabout therules\\n(Versionupdatefrom2024.03to2024.12.13)Updatedate:December-2024-changed: Upwardsweight errorfrom100,200,300hasbeenlimitedto100gramsforall weaponsAdded:Thesubgenresof weapons,Duels,DuelsSword,DuelsLongsword,DuelsPolearm,Group: Type1bladed, Type2bladed, Type3bladed, Type1hafted(axe), Type1hafted(mace), Type2hafted, Type3hafte,Removed: (Hasbeenmovedtodocument: (Weapon/Shieldrequirementsexcel)4.4.1SpecificrequirementsRemoved(Hasbeenmovedtodocument: (Weapon/Shieldrequirementsexcel)4.4.2Weightsandmeasurements\\nUpdatedate:March-2024-format: newdesignformat, document will beusedfromnowon.-Updatedocument basedonmydocument (16/05/2024)-Updatedocument (format)]   \n",
       "\n",
       "                                                                                                                                                                                                                                                                                                                                                                                                                                                                                                                                                                                                                                                                                                                                                                                                                                                                                                                                                                                                                                                                                                                                                                                                                                                                                                                                                                                                                                                                                                                                                                                                                                                                                                                                                                                                                                                                                                                                                                                                                                                                                                                                                                                                                                                                                                                                                    reference_answer  \\\n",
       "0                                                                                                                                                                                                                                                                                                                                                                                                                                                                                                                                                                                                                                                                                                                                                                                                                                                                                                                                                                                                                                                                                                                                                                                                                                                                                                                                                                                                                                                                                                                                                                                                                                                                                                                                                                                                                                                                         To provide an accurate answer, I would need access to the specific contents of the \"buhurt\\_armor\\_requirement.pdf\" document located at /home/ec2-user/SageMaker/elvtr-ai-solution-architect/class-14/source\\_docs/. However, based on the provided context, I can tell you that the minimum thickness requirement for the lower leg protection armor is specified on page 1 of the document. To get the exact thickness requirement, please refer to the contents of the document itself.   \n",
       "1    The \"Technical Requirements for Armor\" document outlines the historical consistency requirements for armor under section 2.2. These requirements ensure that the armor used in competitions is consistent with historical sources and practices.\\n\\nFirstly, the equipment must come from historical sources. This means that the design, construction, and materials of the armor should be based on existing examples from historical records, artifacts, or reputable reconstructions.\\n\\nSecondly, the dates of the sources must be considered. The armor should be consistent with the time period it represents, and should not mix elements from different epochs. This helps maintain the authenticity and immersion of the historical reenactment or competition.\\n\\nThirdly, there are prohibited features. These are elements of armor that were not used in the specified historical period or culture, or that are considered anachronistic. For example, the use of rivets in certain periods or regions where they were not historically employed would be a prohibited feature.\\n\\nFourthly, consistency in equipment is emphasized. This includes consistency in equipment with regards to Western European style, Slavic influence, Eastern influence, and authorized deviations. \\n\\n- Western European style: The armor should reflect the typical design, construction, and materials used in Western Europe during the specified historical period. This includes considerations for the type of armor, the materials used, and the methods of construction.\\n\\n- Slavic influence: The armor should reflect the influence of Slavic cultures, if applicable. This could include specific design elements, materials, or construction techniques that are characteristic of Slavic armor.\\n\\n- Eastern influence: The armor should reflect the influence of Eastern cultures, if applicable. This could include specific design elements, materials, or construction techniques that are characteristic of Eastern armor.\\n\\n- Authorized deviations: There may be certain deviations from historical practices that are allowed, provided they do not violate the other historical consistency requirements. These deviations should be authorized and documented, and should not detract from the historical authenticity of the armor.   \n",
       "2                                                                                                                                                                                                                                                                                                                                                                                                                                                                                                                                                                                                                                                                                                                                                                                                                                                                                                                                                                                                                                                                                                                                                                                                                                                                                                                                                                                                                                                                                                                                                                                                                          Based on the introduction of the document related to buhurt armor requirements, Authenticity Officers are responsible for the correct application of the document. Their role is to ensure that all equipment, including armors, clothes, shields, and weapons used by competitors, meet the historical source requirements outlined in the document. Authenticity Officers analyze historical sources, which can be primary (such as artifacts and museum originals) or secondary (such as images, paintings, statues, descriptions, and writings), using criticism and logic to determine the plausibility of an item's existence. They play a crucial role in maintaining the historical accuracy and authenticity of the competition.   \n",
       "3                                                                                                                                                                                                                                                                                                                                                                                                                                                                                                                                                                                                                                                                                                                                                                                                                                                                                                                                                                                                                                                                                                                                                                                                                                                                                                                                                                                                                                                                According to the given document, prohibited features for armors include any evident indications of modern materials or manufacturing techniques. Specifically, the use of neon colors, obvious nylon cords, plastic ties, visible welded seams, heat-induced discoloration, modern footwear, and other visible modern equipment are not permitted. \\n\\nAn example of a modern material or manufacturing technique that would not be allowed in historical reenactment events, according to the given document, is the use of heat-induced discoloration. This technique is often used in modern manufacturing processes to create a specific color or finish on a material, but it is not consistent with the historical methods of creating armor. Therefore, any armor with heat-induced discoloration would be considered a prohibited feature and not allowed in historical reenactment events.   \n",
       "4                                                                                                                                                                                                                                                                                                                                                                                                                                                                                                                                                                                                                                                                                                                                                                                                                                                                                                                                                                                                                                                                                                                                                                                                                                                                                                                                                                                                                                                                                                                                                                                                                                                                                                                                                                                                                                                                                                                                                                                     Competitors can deviate from the specified styles of armor, weapons, and shields by providing sources that support their equipment choices. Once they have done this, they must send an email to AC@buhurtinternational.com to obtain validation of their armor. This information is based on the provided context, and no prior knowledge was used in formulating the answer.   \n",
       "6                                                                                                                                                                                                                                                                                                                                                                                                                                                                                                                                                                                                                                                                                                                                                                                                                                                                                                                                                                                                                                                                                                                                                                                                                                                                                                                                                                                                                                                                                                                                                                                                                                                                                                                   According to the \"BuHurt Armor Requirement\" document, the specific protection requirements for a helmet include protecting the entire head and neck from all sides. Open-face helmets are not allowed in any category. Additionally, the helmet must conform to the Authenticity Rules documents. If the helmet includes a removable or pivoting visor, it should be secured to prevent any opening during a fight.\\n\\nRegarding locking systems, if they are visible, they must be based on historical sources and use authentic materials such as leather or rope. Approved locking systems are displayed in the Authenticity Rules documents.   \n",
       "10                                                                                                                                                                                                                                                                                                                                                                                                                                                                                                                                                                                                                                                                                                                                                                                                                                                                                                                                                                                                                                                                                                                                                                                                                                                                                                                                                                                                                                                                                                                                                                                                                                                                                                                                                                                                                                                                                                                                                                                                                                                                                                                                                                       Based on the provided document changelog, the most recent update as of December 2024 regarding the technical requirements for armors, weapons, and shields is the creation of the document.   \n",
       "12                                                                                                                                                                                                                                                                                                                                                                                                                                                                                                                                                                                                                                                                                                                                                                                                                                                                                                                                                                                                                                                                                                                                                                                                                                                                                                                                                                                                                                                                                                                                                                                                                                                  Based on the \"Historical Consistency Requirements\" section of the document, \"Prohibited features\" refer to elements in weapon equipment that do not align with historical sources or are not consistent with the time period or region being represented. An example of a prohibited feature could be the presence of synthetic materials in a weapon that is supposed to be made entirely of historical materials, such as wood, iron, or steel. Another example could be the use of modern mechanical components in a weapon that would not have been present in the historical equivalent. These prohibited features are not in line with the historical authenticity requirements set forth in the document.   \n",
       "13                                                                                                                                                                                                                                                                                                                                                                                                                                                                                                                                                                                                                                                                                                                                                                                                                                                                                                                                                                                                                                                                                                                                                                                                                                                                                                                                                                                                                                                                                                                                                                                                                                                                                                                                                                                                                                                                                                                                                                          Authenticity Officers are responsible for ensuring that all equipment used in buhurt competitions, which include group fights in various formats such as 5v5, 12v12, and 30v30, adhere to the requirements set forth in the document. This includes armors, clothes, shields, and weapons. They are also responsible for the correct application of the document in buhurt competitions.   \n",
       "14                                                                                                                                                                                                                                                                                                                                                                                                                                                                                                                                                                                                                                                                                                                                                                                                                                                                                                                                                                                                                                                                                                                                                                                                                                                                                                                                                                                                                                                                                                                                                                                                                                                                                                                                                                                                                                                                                                                                                                                                   The Western Europe style definition for armors, shields, and weapons that must be consistent in equipment style, according to the Authenticity Rules documents, includes the following modern countries: Great Britain, Ireland, France, Portugal, Spain, Germany, Italy, Norway, Denmark, Sweden, Finland, Austria, Switzerland, Belgium, and the Netherlands.   \n",
       "15                                                                                                                                                                                                                                                                                                                                                                                                                                                                                                                                                                                                                                                                                                                                                                                                                                                                                                                                                                                                                                                                                                                                                                                                                                                                                                                                                                                                                                                                                                                                  According to the given document, competitors in the Buhurt weapon requirement are allowed to deviate from the specified styles, which include Chinese, Japanese samurai, and Middle-Eastern styles from the years 1300 to 1700. However, if a competitor chooses to deviate from these styles, they must provide sources to support their equipment choices.\\n\\nTo obtain validation of their armor, competitors who deviate from the specified styles must send an email to AC@buhurtinternational.com. The document does not provide further details on the validation process, such as what information or evidence needs to be included in the email or how long the validation process takes. Therefore, it is recommended to contact Buhurt International directly for more information on their armor validation process.   \n",
       "17                                                                                                                                                                                                                                                                                                                                                                                                                                                                                                                                                                                                                                                                                                                                                                                                                                                                                                                                                                                                                                                                                                                                                                                                                                                                                                                                                                                                                                                                                                                                                                                                                                                                                                                                                                                                                                                                                                                                                                                                                                                                                                                                                                                                       The two main types of weapons are bladed weapons and hafted weapons. An example of a bladed weapon is a sword, and an example of a hafted weapon is an axe.   \n",
       "18                                                                                                                                                                                                                                                                                                                                                                                                                                                                                                                                                                                                                                                                                                                                                                                                                                                                                                                                                                                                                                                                                                                                                                                                                                                                                                                                                                                                                                                                                                                                                                                                                                                                                                                                                                                                                                                                                                                                                                                                                                                                                                                                                                                                         The maximum allowable extension of the guard for bladed weapons in relation to the bearer's gauntlet, as stated in the given context, is 3.5 centimeters.   \n",
       "19                                                                                                                                                                                                                                                                                                                                                                                                                                                                                                                                                                                                                                                                                                                                                                                                                                                                                                                                                                                                                                                                                                                                                                                                                                                                                                                                                                                                                                                                                                                                                                                                                                                                                                                                                                                                                                                                                                                                                                                                                                                                                                                                  According to the specific requirements for hafted weapons, the head of a hafted weapon must be secured to the haft by at least 2 different methods. The allowed methods are: wedges, straps, glue, rivets or nails, and langets.   \n",
       "24                                                                                                                                                                                                                                                                                                                                                                                                                                                                                                                                                                                                                                                                                                                                                                                                                                                                                                                                                                                                                                                                                                                                                                                                                                                                                                                                                                                                                                                                                                                                                                                                                                                                                                                                                                                                                                                                                                                                                                                                                                                                                                                                                                                                                    Based on the changelog provided, the new weight limit for all weapons in the updated version of the document as of December 2024 is 100 grams.   \n",
       "\n",
       "                        reference_answer_by  \\\n",
       "0   ai (mistral.mixtral-8x7b-instruct-v0:1)   \n",
       "1   ai (mistral.mixtral-8x7b-instruct-v0:1)   \n",
       "2   ai (mistral.mixtral-8x7b-instruct-v0:1)   \n",
       "3   ai (mistral.mixtral-8x7b-instruct-v0:1)   \n",
       "4   ai (mistral.mixtral-8x7b-instruct-v0:1)   \n",
       "6   ai (mistral.mixtral-8x7b-instruct-v0:1)   \n",
       "10  ai (mistral.mixtral-8x7b-instruct-v0:1)   \n",
       "12  ai (mistral.mixtral-8x7b-instruct-v0:1)   \n",
       "13  ai (mistral.mixtral-8x7b-instruct-v0:1)   \n",
       "14  ai (mistral.mixtral-8x7b-instruct-v0:1)   \n",
       "15  ai (mistral.mixtral-8x7b-instruct-v0:1)   \n",
       "17  ai (mistral.mixtral-8x7b-instruct-v0:1)   \n",
       "18  ai (mistral.mixtral-8x7b-instruct-v0:1)   \n",
       "19  ai (mistral.mixtral-8x7b-instruct-v0:1)   \n",
       "24  ai (mistral.mixtral-8x7b-instruct-v0:1)   \n",
       "\n",
       "                                   query_by  \n",
       "0   ai (mistral.mixtral-8x7b-instruct-v0:1)  \n",
       "1   ai (mistral.mixtral-8x7b-instruct-v0:1)  \n",
       "2   ai (mistral.mixtral-8x7b-instruct-v0:1)  \n",
       "3   ai (mistral.mixtral-8x7b-instruct-v0:1)  \n",
       "4   ai (mistral.mixtral-8x7b-instruct-v0:1)  \n",
       "6   ai (mistral.mixtral-8x7b-instruct-v0:1)  \n",
       "10  ai (mistral.mixtral-8x7b-instruct-v0:1)  \n",
       "12  ai (mistral.mixtral-8x7b-instruct-v0:1)  \n",
       "13  ai (mistral.mixtral-8x7b-instruct-v0:1)  \n",
       "14  ai (mistral.mixtral-8x7b-instruct-v0:1)  \n",
       "15  ai (mistral.mixtral-8x7b-instruct-v0:1)  \n",
       "17  ai (mistral.mixtral-8x7b-instruct-v0:1)  \n",
       "18  ai (mistral.mixtral-8x7b-instruct-v0:1)  \n",
       "19  ai (mistral.mixtral-8x7b-instruct-v0:1)  \n",
       "24  ai (mistral.mixtral-8x7b-instruct-v0:1)  "
      ]
     },
     "execution_count": 84,
     "metadata": {},
     "output_type": "execute_result"
    }
   ],
   "source": [
    "# eval_questions_df = eval_questions_df.drop(index=[5, 7, 8, 9, 11, 16, 20, 21, 22, 23])\n",
    "eval_questions_df"
   ]
  },
  {
   "cell_type": "markdown",
   "id": "a9886358-983b-4f0e-8814-f36931fd4696",
   "metadata": {
    "tags": []
   },
   "source": [
    "### Take a look at the default prompt"
   ]
  },
  {
   "cell_type": "code",
   "execution_count": 65,
   "id": "0f3e1d82-95d3-40b8-94fe-c7acdd1fbf3b",
   "metadata": {
    "tags": []
   },
   "outputs": [],
   "source": [
    "from llama_index.core import PromptTemplate"
   ]
  },
  {
   "cell_type": "code",
   "execution_count": 66,
   "id": "2812ced9-a7a9-4e2e-b9a4-df25292566b9",
   "metadata": {
    "tags": []
   },
   "outputs": [],
   "source": [
    "# define prompt viewing function for the prompt we care about\n",
    "prompt_template_key = \"response_synthesizer:text_qa_template\"\n",
    "\n",
    "def get_response_synthesizer_text_qa_prompt(prompts_dict):\n",
    "    for k, p in prompts_dict.items():\n",
    "        if k == \"response_synthesizer:text_qa_template\":\n",
    "            return p.get_template()"
   ]
  },
  {
   "cell_type": "code",
   "execution_count": 67,
   "id": "6d01a815-4318-49d8-8fe5-257950937449",
   "metadata": {
    "tags": []
   },
   "outputs": [
    {
     "name": "stdout",
     "output_type": "stream",
     "text": [
      "Context information is below.\n",
      "---------------------\n",
      "{context_str}\n",
      "---------------------\n",
      "Given the context information and not prior knowledge, answer the query.\n",
      "Query: {query_str}\n",
      "Answer: \n"
     ]
    }
   ],
   "source": [
    "default_prompt = get_response_synthesizer_text_qa_prompt(query_engine.get_prompts())\n",
    "print(default_prompt)"
   ]
  },
  {
   "cell_type": "code",
   "execution_count": 73,
   "id": "874cd833-b4fe-4dd2-8615-f29af42f9415",
   "metadata": {
    "tags": []
   },
   "outputs": [
    {
     "name": "stdout",
     "output_type": "stream",
     "text": [
      "Armors must be derived from historical sources dating between the 14th (1300) and 17th (1600) centuries and align with Authenticity Rules documents. They must consist of pieces from the same style (Western Europe, Slavic Influence, or Eastern influence) and cannot have evident indications of modern materials or manufacturing techniques. Reproductions of armors predating the 13th century are prohibited for safety reasons.\n"
     ]
    }
   ],
   "source": [
    "response = query_engine.query(example_query)\n",
    "print(response)"
   ]
  },
  {
   "cell_type": "code",
   "execution_count": 88,
   "id": "a687d8ca-b296-464b-b830-88db63d0e29b",
   "metadata": {
    "tags": []
   },
   "outputs": [],
   "source": [
    "# Example alternate prompt\n",
    "\n",
    "# The objective being, for this example, to get a more concise and clear answer\n",
    "new_text_qa_prompt_str = (\n",
    "    \"You are an expert in medieval history, and more specifically in armoury.\\n\"\n",
    "    \"You are part of the Buhurt International committee, an organization running medieval fights events.\\n\"\n",
    "    \"Your role in the committee is to review armour authenticity based on certain outlined criterias.\\n\"\n",
    "    \"Your task is to answer readers questions on the given information context,\"\n",
    "    \"in a clear, consise and friendly, manner, in two or three sentences.\\n\"\n",
    "    \"If the answer of their question is not outlined in the documents (e.g. minimum thickness requirements),\"\n",
    "    \"reply that Buhurt International does not provide any guideline for this matter.\\n\"\n",
    "    \"If the answer to their question is not available from the context,\"\n",
    "    \"reply that the question cannot be answered given the information that you have.\"\n",
    "    \"Output the answer directly without a preamble,\"\n",
    "    \"(e.g. without saying `Based on the context,` or similar).\"\n",
    "    \"<context>\\n\"\n",
    "    \"{context_str}\\n\"\n",
    "    \"</context>\\n\"\n",
    "    \"Given the context and not prior knowledge, \"\n",
    "    \"Query: {query_str}\\n\"\n",
    "    \"Answer: \"\n",
    ")\n"
   ]
  },
  {
   "cell_type": "code",
   "execution_count": 89,
   "id": "168c84b3-bcd8-4886-ba54-664a419418af",
   "metadata": {
    "tags": []
   },
   "outputs": [],
   "source": [
    "# update the qa_prompt to the new prompt\n",
    "\n",
    "query_engine.update_prompts(\n",
    "    {prompt_template_key: PromptTemplate(new_text_qa_prompt_str)}\n",
    ")"
   ]
  },
  {
   "cell_type": "code",
   "execution_count": 90,
   "id": "f2101271-b641-43b5-a8ee-36c39f0251ad",
   "metadata": {
    "tags": []
   },
   "outputs": [
    {
     "name": "stdout",
     "output_type": "stream",
     "text": [
      "Armor must be derived from historical sources dating between the 14th (1300) and 17th (1600) centuries. It must align with Authenticity Rules documents and consist of pieces from the same style (Western Europe, Slavic Influence, or Eastern influence). Prohibited features include evident indications of modern materials or manufacturing techniques such as neon colors, obvious nylon cords, plastic ties, visible welded seams, and heat-induced discoloration.\n"
     ]
    }
   ],
   "source": [
    "response = query_engine.query(example_query)\n",
    "print(response)"
   ]
  },
  {
   "cell_type": "markdown",
   "id": "e5a7c045-7674-4c16-92dd-e7da43ebebe4",
   "metadata": {
    "tags": []
   },
   "source": [
    "**Note** Once you have updated the query_engine with your prompt then re-run the tests"
   ]
  },
  {
   "cell_type": "code",
   "execution_count": 94,
   "id": "4276cad3-de1d-4248-b2d6-5bc8a4e59715",
   "metadata": {
    "tags": []
   },
   "outputs": [],
   "source": [
    "# reset to the default prompt (if desired) to see the difference once more\n",
    "\n",
    "query_engine.update_prompts(\n",
    "    {prompt_template_key: PromptTemplate(default_prompt)}\n",
    ")"
   ]
  },
  {
   "cell_type": "markdown",
   "id": "b24d393f-7b77-4de0-86a1-569fb4d6de5c",
   "metadata": {},
   "source": [
    "----"
   ]
  },
  {
   "cell_type": "markdown",
   "id": "87e6ea1c",
   "metadata": {},
   "source": [
    "-----\n",
    "# Assignment Task #4: Wrapping Up\n",
    "\n",
    "## 1. Do you think your customer would be satisified with the results? If there were not, what would you offer to do?\n",
    "\n",
    "The results of assignment 3 are quite good. I was expecting to reach some better results, but it seems that some questions are still a bit tricky, strangely formulated.\n",
    "\n",
    "I think for my use case and data, we would need to elaborate our our grading questions, or fine-tune the LLM generating them.\n",
    "\n",
    "## 2. You have been testing using 3 of the available end to end RAG evaluation methods supported by Llamaindex. Breifly review the other evaluation methods on Llamaindex website. Which one or two might you also include for you customer, and why?\n",
    "\n",
    "Even though it was a little more complicated than using the retrieval evaluation, the question generation came up with tricky questions that really help build a robust solution and review some questions that some domain expert wouldn't think of.\n",
    "\n",
    "In my context, as this RAG would be used to outline regulations, it is very important to check for hallucination. We wouldn't want our solution to give answers that were not part of the RAG documents.\n",
    "\n",
    "I could not find hallucination evaluation out of the box (I might not have dig enough in the documation), but I can see some great integration like **deepeval**, **uptrain**, **RAGChecker** that would provide this kind of metric and nice looking dashboard to talk through with the customer.\n",
    "\n",
    "The Guideline evaluator would be a good tool to add in the evaluation too as we need quite strict answers in this medieval fight regulations topic.\n",
    "\n",
    "## 3. In two or three sentences, note how you might further experiment and improve your RAG pipeline, if your customer gave you more money to make it better.\n",
    "\n",
    "- Clean up the PDFs before using them in the RAG: build a sanitation step in this notebook or in a lambda that will convert the PDF in text and remove some the unecessary data that could be confusing for the LLM (e.g. header, images, etc...)\n",
    "- Import more relevant data into RAG\n",
    "- Find a model that would be a bit more optimized on medieval topics\n",
    "- Improve the prompt by review answers, false positive and evaluation results\n",
    "- Implement a monitor workflow, where we collect data from user requests, review the answers and notify developers to improve prompt/model/flag bugs."
   ]
  },
  {
   "cell_type": "markdown",
   "id": "6ace4c60",
   "metadata": {},
   "source": [
    "## The following assignment tasks are completely optional \n",
    "The follow tasks are intended for students who want to dive deeper. They are more open ended and require changing and augmenting the code share above."
   ]
  },
  {
   "cell_type": "markdown",
   "id": "fcd8a7f5",
   "metadata": {},
   "source": [
    "**Optional Task 1** Configure the query_engine to use an LLM from another LLM service provider and re-run the tests.\n",
    "\n",
    "You may be able to reduce the sleep_number for throttling to speed up your testing, depending on the LLM service\n"
   ]
  },
  {
   "cell_type": "markdown",
   "id": "9bb2610f",
   "metadata": {},
   "source": [
    "**Optional Task 2** Add a reranking capability to the query engine\n",
    "\n",
    "Adding an Reranker to the query engine pipeline only requires a few lines of code and will increase you solution accuracy. If you use a light-model, specialized reranking model, you can typically reduce overall inference costs. \n",
    "\n",
    "For this exercise, using an LLM Reranker is fine. You should see an improvement in the output quality.\n",
    "\n",
    "Overall, if you use a reranker, consider increasing the value of k (number of chunks) from the retriever and into the reranker, and have a smaller number of chunks (e.g. 2 or 3) selected after reranking for the LLM synthesis."
   ]
  },
  {
   "cell_type": "markdown",
   "id": "f18bb764",
   "metadata": {},
   "source": []
  }
 ],
 "metadata": {
  "kernelspec": {
   "display_name": "conda_python3",
   "language": "python",
   "name": "conda_python3"
  },
  "language_info": {
   "codemirror_mode": {
    "name": "ipython",
    "version": 3
   },
   "file_extension": ".py",
   "mimetype": "text/x-python",
   "name": "python",
   "nbconvert_exporter": "python",
   "pygments_lexer": "ipython3",
   "version": "3.10.16"
  }
 },
 "nbformat": 4,
 "nbformat_minor": 5
}
